{
 "nbformat": 4,
 "nbformat_minor": 0,
 "metadata": {
  "colab": {
   "provenance": []
  },
  "kernelspec": {
   "name": "python3",
   "display_name": "Python 3 (ipykernel)",
   "language": "python"
  }
 },
 "cells": [
  {
   "cell_type": "markdown",
   "metadata": {
    "id": "3cbb7fRy-eyr"
   },
   "source": [
    "# Artificial Neural Network"
   ]
  },
  {
   "metadata": {},
   "cell_type": "markdown",
   "source": [
    "# Dataset\n",
    "\n",
    "### Layout\n",
    "\n",
    "* Columns: 5\n",
    "\t* Engine temperature\n",
    "\t* Exhaust vacuum\n",
    "\t* Ambient pressure\n",
    "\t* Relative humidity\n",
    "\t* Energy output\n",
    "* Rows: 1000s of observations\n",
    "\t* Each row represents observation of captured metrics at a power plant\n",
    "\t\t* Features:\n",
    "\t\t\t* Engine temperature\n",
    "\t\t\t* Exhaust vacuum\n",
    "\t\t\t* Ambient pressure\n",
    "\t\t\t* Relative humidity\n",
    "\t\t* Dependent variable:\n",
    "\t\t\t* Energy output\n",
    "\n",
    "### Background\n",
    "\n",
    "* Real world dataset from UCI ML repository\n",
    "\t* Website that contains many real-world datasets in which to practice ML\n",
    "* Combined cycle power plant dataset\n",
    "* A combined-cycle power plant (CCCP) is an electrical power plant in which a Gas Turbine (GT) and a Steam Turbine (ST) are used in combination to produce more electrical energy from the same fuel than would be possible from a single cycle power plant\n",
    "* The gas turbine compresses air and mixes it with a fuel heated to a very high temperature\n",
    "* The hot air-fuel mixture moves through the blades, making them spin\n",
    "* The fast-spinning gas turbine drives a generator to generate electricity\n",
    "* The exhaust (waste) heat escaped through the exhaust stack of the gas turbine is used by a Heat Recovery Steam Generator (HSRG) system to produce steam that spins a steam turbine\n",
    "* This steam turbine drives a generator to produce additional electricity\n",
    "* CCCP is assumed to produce 50% more energy than a single power plant\n",
    "\n",
    "### Goals\n",
    "\n",
    "* Build a regression model from an ANN using stochastic gradient descent to predict the energy output"
   ]
  },
  {
   "metadata": {},
   "cell_type": "markdown",
   "source": "---"
  },
  {
   "cell_type": "markdown",
   "metadata": {
    "id": "8sNDnxE2-pwE"
   },
   "source": "## Import Libraries"
  },
  {
   "cell_type": "code",
   "metadata": {
    "id": "lxChR1Rk-umf",
    "ExecuteTime": {
     "end_time": "2025-08-20T23:08:29.718886Z",
     "start_time": "2025-08-20T23:08:29.715161Z"
    }
   },
   "source": [
    "import numpy as np\n",
    "import openpyxl\n",
    "import pandas as pd\n",
    "import tensorflow as tf"
   ],
   "outputs": [],
   "execution_count": 75
  },
  {
   "cell_type": "code",
   "metadata": {
    "id": "uBTqR3nacj0e",
    "colab": {
     "base_uri": "https://localhost:8080/",
     "height": 34
    },
    "outputId": "4c0bd183-e424-429a-9fba-ceb841c06888",
    "ExecuteTime": {
     "end_time": "2025-08-20T23:08:29.726455Z",
     "start_time": "2025-08-20T23:08:29.724195Z"
    }
   },
   "source": [
    "tf.__version__"
   ],
   "outputs": [
    {
     "data": {
      "text/plain": [
       "'2.19.0'"
      ]
     },
     "execution_count": 76,
     "metadata": {},
     "output_type": "execute_result"
    }
   ],
   "execution_count": 76
  },
  {
   "metadata": {},
   "cell_type": "markdown",
   "source": "---"
  },
  {
   "cell_type": "markdown",
   "metadata": {
    "id": "AG3FQEch-yuA"
   },
   "source": "## Part 1 - Data Preprocessing"
  },
  {
   "cell_type": "markdown",
   "metadata": {
    "id": "-4zq8Mza_D9O"
   },
   "source": "### Import Dataset"
  },
  {
   "cell_type": "code",
   "metadata": {
    "id": "B9CV13Co_HHM",
    "ExecuteTime": {
     "end_time": "2025-08-20T23:08:30.056059Z",
     "start_time": "2025-08-20T23:08:29.736241Z"
    }
   },
   "source": [
    "dataset = pd.read_excel('Folds5x2_pp.xlsx')\n",
    "X = dataset.iloc[:, :-1].values\n",
    "y = dataset.iloc[:, -1].values"
   ],
   "outputs": [],
   "execution_count": 77
  },
  {
   "metadata": {
    "ExecuteTime": {
     "end_time": "2025-08-20T23:08:30.063592Z",
     "start_time": "2025-08-20T23:08:30.061021Z"
    }
   },
   "cell_type": "code",
   "source": "print(*X[:25], sep='\\n')",
   "outputs": [
    {
     "name": "stdout",
     "output_type": "stream",
     "text": [
      "[  14.96   41.76 1024.07   73.17]\n",
      "[  25.18   62.96 1020.04   59.08]\n",
      "[   5.11   39.4  1012.16   92.14]\n",
      "[  20.86   57.32 1010.24   76.64]\n",
      "[  10.82   37.5  1009.23   96.62]\n",
      "[  26.27   59.44 1012.23   58.77]\n",
      "[  15.89   43.96 1014.02   75.24]\n",
      "[   9.48   44.71 1019.12   66.43]\n",
      "[  14.64   45.   1021.78   41.25]\n",
      "[  11.74   43.56 1015.14   70.72]\n",
      "[  17.99   43.72 1008.64   75.04]\n",
      "[  20.14   46.93 1014.66   64.22]\n",
      "[  24.34   73.5  1011.31   84.15]\n",
      "[  25.71   58.59 1012.77   61.83]\n",
      "[  26.19   69.34 1009.48   87.59]\n",
      "[  21.42   43.79 1015.76   43.08]\n",
      "[  18.21   45.   1022.86   48.84]\n",
      "[  11.04   41.74 1022.6    77.51]\n",
      "[  14.45   52.75 1023.97   63.59]\n",
      "[  13.97   38.47 1015.15   55.28]\n",
      "[  17.76   42.42 1009.09   66.26]\n",
      "[   5.41   40.07 1019.16   64.77]\n",
      "[   7.76   42.28 1008.52   83.31]\n",
      "[  27.23   63.9  1014.3    47.19]\n",
      "[  27.36   48.6  1003.18   54.93]\n"
     ]
    }
   ],
   "execution_count": 78
  },
  {
   "metadata": {
    "ExecuteTime": {
     "end_time": "2025-08-20T23:08:30.076176Z",
     "start_time": "2025-08-20T23:08:30.074044Z"
    }
   },
   "cell_type": "code",
   "source": "print(*y[:25], sep='\\n')",
   "outputs": [
    {
     "name": "stdout",
     "output_type": "stream",
     "text": [
      "463.26\n",
      "444.37\n",
      "488.56\n",
      "446.48\n",
      "473.9\n",
      "443.67\n",
      "467.35\n",
      "478.42\n",
      "475.98\n",
      "477.5\n",
      "453.02\n",
      "453.99\n",
      "440.29\n",
      "451.28\n",
      "433.99\n",
      "462.19\n",
      "467.54\n",
      "477.2\n",
      "459.85\n",
      "464.3\n",
      "468.27\n",
      "495.24\n",
      "483.8\n",
      "443.61\n",
      "436.06\n"
     ]
    }
   ],
   "execution_count": 79
  },
  {
   "cell_type": "markdown",
   "metadata": {
    "id": "VC6omXel_Up0"
   },
   "source": "### Split Dataset into Training Set and Test Set"
  },
  {
   "cell_type": "code",
   "metadata": {
    "id": "L5edeb2r_agx",
    "ExecuteTime": {
     "end_time": "2025-08-20T23:08:30.088220Z",
     "start_time": "2025-08-20T23:08:30.085685Z"
    }
   },
   "source": [
    "from sklearn.model_selection import train_test_split\n",
    "\n",
    "X_train, X_test, y_train, y_test = train_test_split(X, y, test_size=0.2, random_state=0)"
   ],
   "outputs": [],
   "execution_count": 80
  },
  {
   "metadata": {},
   "cell_type": "markdown",
   "source": "---"
  },
  {
   "cell_type": "markdown",
   "metadata": {
    "id": "_mSLlAT9_eyI"
   },
   "source": "## Part 2 - Build ANN"
  },
  {
   "cell_type": "markdown",
   "metadata": {
    "id": "CsBULd_f_wLY"
   },
   "source": "### Initialize ANN"
  },
  {
   "cell_type": "code",
   "metadata": {
    "id": "J6Hd97Ls__Nz",
    "ExecuteTime": {
     "end_time": "2025-08-20T23:08:30.114912Z",
     "start_time": "2025-08-20T23:08:30.112578Z"
    }
   },
   "source": "ann = tf.keras.models.Sequential()",
   "outputs": [],
   "execution_count": 81
  },
  {
   "cell_type": "markdown",
   "metadata": {
    "id": "iitAFJS_ABUn"
   },
   "source": "### Add Input layer and First Hidden Layer"
  },
  {
   "cell_type": "code",
   "metadata": {
    "id": "ksO_Vv40AHix",
    "ExecuteTime": {
     "end_time": "2025-08-20T23:08:30.125851Z",
     "start_time": "2025-08-20T23:08:30.123396Z"
    }
   },
   "source": "ann.add(tf.keras.layers.Dense(units=6, activation='relu'))",
   "outputs": [],
   "execution_count": 82
  },
  {
   "cell_type": "markdown",
   "metadata": {
    "id": "-lb4kK_wAKbs"
   },
   "source": "### Add Second Hidden Layer"
  },
  {
   "cell_type": "code",
   "metadata": {
    "id": "c2357OqEAQOQ",
    "ExecuteTime": {
     "end_time": "2025-08-20T23:08:30.132253Z",
     "start_time": "2025-08-20T23:08:30.130105Z"
    }
   },
   "source": "ann.add(tf.keras.layers.Dense(units=6, activation='relu'))",
   "outputs": [],
   "execution_count": 83
  },
  {
   "cell_type": "markdown",
   "metadata": {
    "id": "jwMOmKb3AdBY"
   },
   "source": "### Add Output Layer"
  },
  {
   "cell_type": "code",
   "metadata": {
    "id": "YFATpzsUAkLL",
    "ExecuteTime": {
     "end_time": "2025-08-20T23:08:30.139184Z",
     "start_time": "2025-08-20T23:08:30.137079Z"
    }
   },
   "source": "ann.add(tf.keras.layers.Dense(units=1))",
   "outputs": [],
   "execution_count": 84
  },
  {
   "metadata": {},
   "cell_type": "markdown",
   "source": "---"
  },
  {
   "cell_type": "markdown",
   "metadata": {
    "id": "fq7e4fF6A1yy"
   },
   "source": "## Part 3 - Train ANN"
  },
  {
   "cell_type": "markdown",
   "metadata": {
    "id": "qDeylAs2An25"
   },
   "source": "### Compile ANN"
  },
  {
   "cell_type": "code",
   "metadata": {
    "id": "pesgbWlCAtB4",
    "ExecuteTime": {
     "end_time": "2025-08-20T23:08:30.146453Z",
     "start_time": "2025-08-20T23:08:30.142457Z"
    }
   },
   "source": "ann.compile(optimizer='adam', loss='mean_squared_error', metrics=['accuracy'])",
   "outputs": [],
   "execution_count": 85
  },
  {
   "cell_type": "markdown",
   "metadata": {
    "id": "YjVuiybYOo7r"
   },
   "source": "### Train ANN on Training Set"
  },
  {
   "cell_type": "code",
   "metadata": {
    "id": "c_vV-tiiA5zn",
    "colab": {
     "base_uri": "https://localhost:8080/",
     "height": 1000
    },
    "outputId": "4a2b6ee6-ed75-4698-9069-b250e613803f",
    "ExecuteTime": {
     "end_time": "2025-08-20T23:08:43.013448Z",
     "start_time": "2025-08-20T23:08:30.152254Z"
    }
   },
   "source": "ann.fit(X_train, y_train, batch_size=32, epochs=100)",
   "outputs": [
    {
     "name": "stdout",
     "output_type": "stream",
     "text": [
      "Epoch 1/100\n",
      "\u001B[1m240/240\u001B[0m \u001B[32m━━━━━━━━━━━━━━━━━━━━\u001B[0m\u001B[37m\u001B[0m \u001B[1m1s\u001B[0m 614us/step - accuracy: 0.0000e+00 - loss: 128053.4609\n",
      "Epoch 2/100\n",
      "\u001B[1m240/240\u001B[0m \u001B[32m━━━━━━━━━━━━━━━━━━━━\u001B[0m\u001B[37m\u001B[0m \u001B[1m0s\u001B[0m 505us/step - accuracy: 0.0000e+00 - loss: 409.7357\n",
      "Epoch 3/100\n",
      "\u001B[1m240/240\u001B[0m \u001B[32m━━━━━━━━━━━━━━━━━━━━\u001B[0m\u001B[37m\u001B[0m \u001B[1m0s\u001B[0m 513us/step - accuracy: 0.0000e+00 - loss: 393.3746\n",
      "Epoch 4/100\n",
      "\u001B[1m240/240\u001B[0m \u001B[32m━━━━━━━━━━━━━━━━━━━━\u001B[0m\u001B[37m\u001B[0m \u001B[1m0s\u001B[0m 523us/step - accuracy: 0.0000e+00 - loss: 381.5034\n",
      "Epoch 5/100\n",
      "\u001B[1m240/240\u001B[0m \u001B[32m━━━━━━━━━━━━━━━━━━━━\u001B[0m\u001B[37m\u001B[0m \u001B[1m0s\u001B[0m 558us/step - accuracy: 0.0000e+00 - loss: 360.4089\n",
      "Epoch 6/100\n",
      "\u001B[1m240/240\u001B[0m \u001B[32m━━━━━━━━━━━━━━━━━━━━\u001B[0m\u001B[37m\u001B[0m \u001B[1m0s\u001B[0m 533us/step - accuracy: 0.0000e+00 - loss: 348.2657\n",
      "Epoch 7/100\n",
      "\u001B[1m240/240\u001B[0m \u001B[32m━━━━━━━━━━━━━━━━━━━━\u001B[0m\u001B[37m\u001B[0m \u001B[1m0s\u001B[0m 522us/step - accuracy: 0.0000e+00 - loss: 318.2599\n",
      "Epoch 8/100\n",
      "\u001B[1m240/240\u001B[0m \u001B[32m━━━━━━━━━━━━━━━━━━━━\u001B[0m\u001B[37m\u001B[0m \u001B[1m0s\u001B[0m 488us/step - accuracy: 0.0000e+00 - loss: 292.4984\n",
      "Epoch 9/100\n",
      "\u001B[1m240/240\u001B[0m \u001B[32m━━━━━━━━━━━━━━━━━━━━\u001B[0m\u001B[37m\u001B[0m \u001B[1m0s\u001B[0m 483us/step - accuracy: 0.0000e+00 - loss: 277.0300\n",
      "Epoch 10/100\n",
      "\u001B[1m240/240\u001B[0m \u001B[32m━━━━━━━━━━━━━━━━━━━━\u001B[0m\u001B[37m\u001B[0m \u001B[1m0s\u001B[0m 521us/step - accuracy: 0.0000e+00 - loss: 252.6193\n",
      "Epoch 11/100\n",
      "\u001B[1m240/240\u001B[0m \u001B[32m━━━━━━━━━━━━━━━━━━━━\u001B[0m\u001B[37m\u001B[0m \u001B[1m0s\u001B[0m 494us/step - accuracy: 0.0000e+00 - loss: 225.0952\n",
      "Epoch 12/100\n",
      "\u001B[1m240/240\u001B[0m \u001B[32m━━━━━━━━━━━━━━━━━━━━\u001B[0m\u001B[37m\u001B[0m \u001B[1m0s\u001B[0m 525us/step - accuracy: 0.0000e+00 - loss: 193.5227\n",
      "Epoch 13/100\n",
      "\u001B[1m240/240\u001B[0m \u001B[32m━━━━━━━━━━━━━━━━━━━━\u001B[0m\u001B[37m\u001B[0m \u001B[1m0s\u001B[0m 560us/step - accuracy: 0.0000e+00 - loss: 172.9832\n",
      "Epoch 14/100\n",
      "\u001B[1m240/240\u001B[0m \u001B[32m━━━━━━━━━━━━━━━━━━━━\u001B[0m\u001B[37m\u001B[0m \u001B[1m0s\u001B[0m 613us/step - accuracy: 0.0000e+00 - loss: 151.3686\n",
      "Epoch 15/100\n",
      "\u001B[1m240/240\u001B[0m \u001B[32m━━━━━━━━━━━━━━━━━━━━\u001B[0m\u001B[37m\u001B[0m \u001B[1m0s\u001B[0m 541us/step - accuracy: 0.0000e+00 - loss: 126.9274\n",
      "Epoch 16/100\n",
      "\u001B[1m240/240\u001B[0m \u001B[32m━━━━━━━━━━━━━━━━━━━━\u001B[0m\u001B[37m\u001B[0m \u001B[1m0s\u001B[0m 530us/step - accuracy: 0.0000e+00 - loss: 110.9692\n",
      "Epoch 17/100\n",
      "\u001B[1m240/240\u001B[0m \u001B[32m━━━━━━━━━━━━━━━━━━━━\u001B[0m\u001B[37m\u001B[0m \u001B[1m0s\u001B[0m 506us/step - accuracy: 0.0000e+00 - loss: 94.1056\n",
      "Epoch 18/100\n",
      "\u001B[1m240/240\u001B[0m \u001B[32m━━━━━━━━━━━━━━━━━━━━\u001B[0m\u001B[37m\u001B[0m \u001B[1m0s\u001B[0m 544us/step - accuracy: 0.0000e+00 - loss: 77.8828\n",
      "Epoch 19/100\n",
      "\u001B[1m240/240\u001B[0m \u001B[32m━━━━━━━━━━━━━━━━━━━━\u001B[0m\u001B[37m\u001B[0m \u001B[1m0s\u001B[0m 488us/step - accuracy: 0.0000e+00 - loss: 64.3228\n",
      "Epoch 20/100\n",
      "\u001B[1m240/240\u001B[0m \u001B[32m━━━━━━━━━━━━━━━━━━━━\u001B[0m\u001B[37m\u001B[0m \u001B[1m0s\u001B[0m 477us/step - accuracy: 0.0000e+00 - loss: 56.2384\n",
      "Epoch 21/100\n",
      "\u001B[1m240/240\u001B[0m \u001B[32m━━━━━━━━━━━━━━━━━━━━\u001B[0m\u001B[37m\u001B[0m \u001B[1m0s\u001B[0m 519us/step - accuracy: 0.0000e+00 - loss: 50.1106\n",
      "Epoch 22/100\n",
      "\u001B[1m240/240\u001B[0m \u001B[32m━━━━━━━━━━━━━━━━━━━━\u001B[0m\u001B[37m\u001B[0m \u001B[1m0s\u001B[0m 480us/step - accuracy: 0.0000e+00 - loss: 43.3136\n",
      "Epoch 23/100\n",
      "\u001B[1m240/240\u001B[0m \u001B[32m━━━━━━━━━━━━━━━━━━━━\u001B[0m\u001B[37m\u001B[0m \u001B[1m0s\u001B[0m 488us/step - accuracy: 0.0000e+00 - loss: 40.1574\n",
      "Epoch 24/100\n",
      "\u001B[1m240/240\u001B[0m \u001B[32m━━━━━━━━━━━━━━━━━━━━\u001B[0m\u001B[37m\u001B[0m \u001B[1m0s\u001B[0m 492us/step - accuracy: 0.0000e+00 - loss: 37.4241\n",
      "Epoch 25/100\n",
      "\u001B[1m240/240\u001B[0m \u001B[32m━━━━━━━━━━━━━━━━━━━━\u001B[0m\u001B[37m\u001B[0m \u001B[1m0s\u001B[0m 492us/step - accuracy: 0.0000e+00 - loss: 36.0521\n",
      "Epoch 26/100\n",
      "\u001B[1m240/240\u001B[0m \u001B[32m━━━━━━━━━━━━━━━━━━━━\u001B[0m\u001B[37m\u001B[0m \u001B[1m0s\u001B[0m 487us/step - accuracy: 0.0000e+00 - loss: 34.9342\n",
      "Epoch 27/100\n",
      "\u001B[1m240/240\u001B[0m \u001B[32m━━━━━━━━━━━━━━━━━━━━\u001B[0m\u001B[37m\u001B[0m \u001B[1m0s\u001B[0m 490us/step - accuracy: 0.0000e+00 - loss: 33.5561\n",
      "Epoch 28/100\n",
      "\u001B[1m240/240\u001B[0m \u001B[32m━━━━━━━━━━━━━━━━━━━━\u001B[0m\u001B[37m\u001B[0m \u001B[1m0s\u001B[0m 494us/step - accuracy: 0.0000e+00 - loss: 31.7853\n",
      "Epoch 29/100\n",
      "\u001B[1m240/240\u001B[0m \u001B[32m━━━━━━━━━━━━━━━━━━━━\u001B[0m\u001B[37m\u001B[0m \u001B[1m0s\u001B[0m 498us/step - accuracy: 0.0000e+00 - loss: 32.6706\n",
      "Epoch 30/100\n",
      "\u001B[1m240/240\u001B[0m \u001B[32m━━━━━━━━━━━━━━━━━━━━\u001B[0m\u001B[37m\u001B[0m \u001B[1m0s\u001B[0m 491us/step - accuracy: 0.0000e+00 - loss: 30.9884\n",
      "Epoch 31/100\n",
      "\u001B[1m240/240\u001B[0m \u001B[32m━━━━━━━━━━━━━━━━━━━━\u001B[0m\u001B[37m\u001B[0m \u001B[1m0s\u001B[0m 587us/step - accuracy: 0.0000e+00 - loss: 31.3145\n",
      "Epoch 32/100\n",
      "\u001B[1m240/240\u001B[0m \u001B[32m━━━━━━━━━━━━━━━━━━━━\u001B[0m\u001B[37m\u001B[0m \u001B[1m0s\u001B[0m 478us/step - accuracy: 0.0000e+00 - loss: 30.4190\n",
      "Epoch 33/100\n",
      "\u001B[1m240/240\u001B[0m \u001B[32m━━━━━━━━━━━━━━━━━━━━\u001B[0m\u001B[37m\u001B[0m \u001B[1m0s\u001B[0m 473us/step - accuracy: 0.0000e+00 - loss: 30.8994\n",
      "Epoch 34/100\n",
      "\u001B[1m240/240\u001B[0m \u001B[32m━━━━━━━━━━━━━━━━━━━━\u001B[0m\u001B[37m\u001B[0m \u001B[1m0s\u001B[0m 471us/step - accuracy: 0.0000e+00 - loss: 29.7342\n",
      "Epoch 35/100\n",
      "\u001B[1m240/240\u001B[0m \u001B[32m━━━━━━━━━━━━━━━━━━━━\u001B[0m\u001B[37m\u001B[0m \u001B[1m0s\u001B[0m 478us/step - accuracy: 0.0000e+00 - loss: 30.6102\n",
      "Epoch 36/100\n",
      "\u001B[1m240/240\u001B[0m \u001B[32m━━━━━━━━━━━━━━━━━━━━\u001B[0m\u001B[37m\u001B[0m \u001B[1m0s\u001B[0m 476us/step - accuracy: 0.0000e+00 - loss: 30.2754\n",
      "Epoch 37/100\n",
      "\u001B[1m240/240\u001B[0m \u001B[32m━━━━━━━━━━━━━━━━━━━━\u001B[0m\u001B[37m\u001B[0m \u001B[1m0s\u001B[0m 456us/step - accuracy: 0.0000e+00 - loss: 28.2911\n",
      "Epoch 38/100\n",
      "\u001B[1m240/240\u001B[0m \u001B[32m━━━━━━━━━━━━━━━━━━━━\u001B[0m\u001B[37m\u001B[0m \u001B[1m0s\u001B[0m 455us/step - accuracy: 0.0000e+00 - loss: 29.4692\n",
      "Epoch 39/100\n",
      "\u001B[1m240/240\u001B[0m \u001B[32m━━━━━━━━━━━━━━━━━━━━\u001B[0m\u001B[37m\u001B[0m \u001B[1m0s\u001B[0m 470us/step - accuracy: 0.0000e+00 - loss: 30.0220\n",
      "Epoch 40/100\n",
      "\u001B[1m240/240\u001B[0m \u001B[32m━━━━━━━━━━━━━━━━━━━━\u001B[0m\u001B[37m\u001B[0m \u001B[1m0s\u001B[0m 465us/step - accuracy: 0.0000e+00 - loss: 29.4688\n",
      "Epoch 41/100\n",
      "\u001B[1m240/240\u001B[0m \u001B[32m━━━━━━━━━━━━━━━━━━━━\u001B[0m\u001B[37m\u001B[0m \u001B[1m0s\u001B[0m 459us/step - accuracy: 0.0000e+00 - loss: 30.2337\n",
      "Epoch 42/100\n",
      "\u001B[1m240/240\u001B[0m \u001B[32m━━━━━━━━━━━━━━━━━━━━\u001B[0m\u001B[37m\u001B[0m \u001B[1m0s\u001B[0m 461us/step - accuracy: 0.0000e+00 - loss: 29.2160\n",
      "Epoch 43/100\n",
      "\u001B[1m240/240\u001B[0m \u001B[32m━━━━━━━━━━━━━━━━━━━━\u001B[0m\u001B[37m\u001B[0m \u001B[1m0s\u001B[0m 461us/step - accuracy: 0.0000e+00 - loss: 29.3196\n",
      "Epoch 44/100\n",
      "\u001B[1m240/240\u001B[0m \u001B[32m━━━━━━━━━━━━━━━━━━━━\u001B[0m\u001B[37m\u001B[0m \u001B[1m0s\u001B[0m 457us/step - accuracy: 0.0000e+00 - loss: 28.1143\n",
      "Epoch 45/100\n",
      "\u001B[1m240/240\u001B[0m \u001B[32m━━━━━━━━━━━━━━━━━━━━\u001B[0m\u001B[37m\u001B[0m \u001B[1m0s\u001B[0m 459us/step - accuracy: 0.0000e+00 - loss: 27.1728\n",
      "Epoch 46/100\n",
      "\u001B[1m240/240\u001B[0m \u001B[32m━━━━━━━━━━━━━━━━━━━━\u001B[0m\u001B[37m\u001B[0m \u001B[1m0s\u001B[0m 443us/step - accuracy: 0.0000e+00 - loss: 28.2131\n",
      "Epoch 47/100\n",
      "\u001B[1m240/240\u001B[0m \u001B[32m━━━━━━━━━━━━━━━━━━━━\u001B[0m\u001B[37m\u001B[0m \u001B[1m0s\u001B[0m 450us/step - accuracy: 0.0000e+00 - loss: 27.6630\n",
      "Epoch 48/100\n",
      "\u001B[1m240/240\u001B[0m \u001B[32m━━━━━━━━━━━━━━━━━━━━\u001B[0m\u001B[37m\u001B[0m \u001B[1m0s\u001B[0m 455us/step - accuracy: 0.0000e+00 - loss: 27.3607\n",
      "Epoch 49/100\n",
      "\u001B[1m240/240\u001B[0m \u001B[32m━━━━━━━━━━━━━━━━━━━━\u001B[0m\u001B[37m\u001B[0m \u001B[1m0s\u001B[0m 466us/step - accuracy: 0.0000e+00 - loss: 26.9764\n",
      "Epoch 50/100\n",
      "\u001B[1m240/240\u001B[0m \u001B[32m━━━━━━━━━━━━━━━━━━━━\u001B[0m\u001B[37m\u001B[0m \u001B[1m0s\u001B[0m 451us/step - accuracy: 0.0000e+00 - loss: 28.2489\n",
      "Epoch 51/100\n",
      "\u001B[1m240/240\u001B[0m \u001B[32m━━━━━━━━━━━━━━━━━━━━\u001B[0m\u001B[37m\u001B[0m \u001B[1m0s\u001B[0m 442us/step - accuracy: 0.0000e+00 - loss: 26.8519\n",
      "Epoch 52/100\n",
      "\u001B[1m240/240\u001B[0m \u001B[32m━━━━━━━━━━━━━━━━━━━━\u001B[0m\u001B[37m\u001B[0m \u001B[1m0s\u001B[0m 466us/step - accuracy: 0.0000e+00 - loss: 28.0395\n",
      "Epoch 53/100\n",
      "\u001B[1m240/240\u001B[0m \u001B[32m━━━━━━━━━━━━━━━━━━━━\u001B[0m\u001B[37m\u001B[0m \u001B[1m0s\u001B[0m 443us/step - accuracy: 0.0000e+00 - loss: 27.7943\n",
      "Epoch 54/100\n",
      "\u001B[1m240/240\u001B[0m \u001B[32m━━━━━━━━━━━━━━━━━━━━\u001B[0m\u001B[37m\u001B[0m \u001B[1m0s\u001B[0m 820us/step - accuracy: 0.0000e+00 - loss: 27.1904\n",
      "Epoch 55/100\n",
      "\u001B[1m240/240\u001B[0m \u001B[32m━━━━━━━━━━━━━━━━━━━━\u001B[0m\u001B[37m\u001B[0m \u001B[1m0s\u001B[0m 695us/step - accuracy: 0.0000e+00 - loss: 27.3598\n",
      "Epoch 56/100\n",
      "\u001B[1m240/240\u001B[0m \u001B[32m━━━━━━━━━━━━━━━━━━━━\u001B[0m\u001B[37m\u001B[0m \u001B[1m0s\u001B[0m 456us/step - accuracy: 0.0000e+00 - loss: 28.7697\n",
      "Epoch 57/100\n",
      "\u001B[1m240/240\u001B[0m \u001B[32m━━━━━━━━━━━━━━━━━━━━\u001B[0m\u001B[37m\u001B[0m \u001B[1m0s\u001B[0m 442us/step - accuracy: 0.0000e+00 - loss: 27.5924\n",
      "Epoch 58/100\n",
      "\u001B[1m240/240\u001B[0m \u001B[32m━━━━━━━━━━━━━━━━━━━━\u001B[0m\u001B[37m\u001B[0m \u001B[1m0s\u001B[0m 455us/step - accuracy: 0.0000e+00 - loss: 27.3485\n",
      "Epoch 59/100\n",
      "\u001B[1m240/240\u001B[0m \u001B[32m━━━━━━━━━━━━━━━━━━━━\u001B[0m\u001B[37m\u001B[0m \u001B[1m0s\u001B[0m 444us/step - accuracy: 0.0000e+00 - loss: 27.4112\n",
      "Epoch 60/100\n",
      "\u001B[1m240/240\u001B[0m \u001B[32m━━━━━━━━━━━━━━━━━━━━\u001B[0m\u001B[37m\u001B[0m \u001B[1m0s\u001B[0m 462us/step - accuracy: 0.0000e+00 - loss: 27.3225\n",
      "Epoch 61/100\n",
      "\u001B[1m240/240\u001B[0m \u001B[32m━━━━━━━━━━━━━━━━━━━━\u001B[0m\u001B[37m\u001B[0m \u001B[1m0s\u001B[0m 446us/step - accuracy: 0.0000e+00 - loss: 27.8958\n",
      "Epoch 62/100\n",
      "\u001B[1m240/240\u001B[0m \u001B[32m━━━━━━━━━━━━━━━━━━━━\u001B[0m\u001B[37m\u001B[0m \u001B[1m0s\u001B[0m 438us/step - accuracy: 0.0000e+00 - loss: 27.0818\n",
      "Epoch 63/100\n",
      "\u001B[1m240/240\u001B[0m \u001B[32m━━━━━━━━━━━━━━━━━━━━\u001B[0m\u001B[37m\u001B[0m \u001B[1m0s\u001B[0m 439us/step - accuracy: 0.0000e+00 - loss: 27.9883\n",
      "Epoch 64/100\n",
      "\u001B[1m240/240\u001B[0m \u001B[32m━━━━━━━━━━━━━━━━━━━━\u001B[0m\u001B[37m\u001B[0m \u001B[1m0s\u001B[0m 447us/step - accuracy: 0.0000e+00 - loss: 28.4062\n",
      "Epoch 65/100\n",
      "\u001B[1m240/240\u001B[0m \u001B[32m━━━━━━━━━━━━━━━━━━━━\u001B[0m\u001B[37m\u001B[0m \u001B[1m0s\u001B[0m 440us/step - accuracy: 0.0000e+00 - loss: 27.2687\n",
      "Epoch 66/100\n",
      "\u001B[1m240/240\u001B[0m \u001B[32m━━━━━━━━━━━━━━━━━━━━\u001B[0m\u001B[37m\u001B[0m \u001B[1m0s\u001B[0m 443us/step - accuracy: 0.0000e+00 - loss: 26.7120\n",
      "Epoch 67/100\n",
      "\u001B[1m240/240\u001B[0m \u001B[32m━━━━━━━━━━━━━━━━━━━━\u001B[0m\u001B[37m\u001B[0m \u001B[1m0s\u001B[0m 454us/step - accuracy: 0.0000e+00 - loss: 26.6372\n",
      "Epoch 68/100\n",
      "\u001B[1m240/240\u001B[0m \u001B[32m━━━━━━━━━━━━━━━━━━━━\u001B[0m\u001B[37m\u001B[0m \u001B[1m0s\u001B[0m 441us/step - accuracy: 0.0000e+00 - loss: 28.4919\n",
      "Epoch 69/100\n",
      "\u001B[1m240/240\u001B[0m \u001B[32m━━━━━━━━━━━━━━━━━━━━\u001B[0m\u001B[37m\u001B[0m \u001B[1m0s\u001B[0m 448us/step - accuracy: 0.0000e+00 - loss: 26.8213\n",
      "Epoch 70/100\n",
      "\u001B[1m240/240\u001B[0m \u001B[32m━━━━━━━━━━━━━━━━━━━━\u001B[0m\u001B[37m\u001B[0m \u001B[1m0s\u001B[0m 447us/step - accuracy: 0.0000e+00 - loss: 26.7541\n",
      "Epoch 71/100\n",
      "\u001B[1m240/240\u001B[0m \u001B[32m━━━━━━━━━━━━━━━━━━━━\u001B[0m\u001B[37m\u001B[0m \u001B[1m0s\u001B[0m 466us/step - accuracy: 0.0000e+00 - loss: 27.5359\n",
      "Epoch 72/100\n",
      "\u001B[1m240/240\u001B[0m \u001B[32m━━━━━━━━━━━━━━━━━━━━\u001B[0m\u001B[37m\u001B[0m \u001B[1m0s\u001B[0m 443us/step - accuracy: 0.0000e+00 - loss: 27.7365\n",
      "Epoch 73/100\n",
      "\u001B[1m240/240\u001B[0m \u001B[32m━━━━━━━━━━━━━━━━━━━━\u001B[0m\u001B[37m\u001B[0m \u001B[1m0s\u001B[0m 456us/step - accuracy: 0.0000e+00 - loss: 26.2421\n",
      "Epoch 74/100\n",
      "\u001B[1m240/240\u001B[0m \u001B[32m━━━━━━━━━━━━━━━━━━━━\u001B[0m\u001B[37m\u001B[0m \u001B[1m0s\u001B[0m 458us/step - accuracy: 0.0000e+00 - loss: 25.9223\n",
      "Epoch 75/100\n",
      "\u001B[1m240/240\u001B[0m \u001B[32m━━━━━━━━━━━━━━━━━━━━\u001B[0m\u001B[37m\u001B[0m \u001B[1m0s\u001B[0m 448us/step - accuracy: 0.0000e+00 - loss: 27.7536\n",
      "Epoch 76/100\n",
      "\u001B[1m240/240\u001B[0m \u001B[32m━━━━━━━━━━━━━━━━━━━━\u001B[0m\u001B[37m\u001B[0m \u001B[1m0s\u001B[0m 466us/step - accuracy: 0.0000e+00 - loss: 27.5748\n",
      "Epoch 77/100\n",
      "\u001B[1m240/240\u001B[0m \u001B[32m━━━━━━━━━━━━━━━━━━━━\u001B[0m\u001B[37m\u001B[0m \u001B[1m0s\u001B[0m 444us/step - accuracy: 0.0000e+00 - loss: 28.6301\n",
      "Epoch 78/100\n",
      "\u001B[1m240/240\u001B[0m \u001B[32m━━━━━━━━━━━━━━━━━━━━\u001B[0m\u001B[37m\u001B[0m \u001B[1m0s\u001B[0m 454us/step - accuracy: 0.0000e+00 - loss: 27.1922\n",
      "Epoch 79/100\n",
      "\u001B[1m240/240\u001B[0m \u001B[32m━━━━━━━━━━━━━━━━━━━━\u001B[0m\u001B[37m\u001B[0m \u001B[1m0s\u001B[0m 455us/step - accuracy: 0.0000e+00 - loss: 26.6287\n",
      "Epoch 80/100\n",
      "\u001B[1m240/240\u001B[0m \u001B[32m━━━━━━━━━━━━━━━━━━━━\u001B[0m\u001B[37m\u001B[0m \u001B[1m0s\u001B[0m 441us/step - accuracy: 0.0000e+00 - loss: 27.2126\n",
      "Epoch 81/100\n",
      "\u001B[1m240/240\u001B[0m \u001B[32m━━━━━━━━━━━━━━━━━━━━\u001B[0m\u001B[37m\u001B[0m \u001B[1m0s\u001B[0m 451us/step - accuracy: 0.0000e+00 - loss: 27.9543\n",
      "Epoch 82/100\n",
      "\u001B[1m240/240\u001B[0m \u001B[32m━━━━━━━━━━━━━━━━━━━━\u001B[0m\u001B[37m\u001B[0m \u001B[1m0s\u001B[0m 453us/step - accuracy: 0.0000e+00 - loss: 26.8697\n",
      "Epoch 83/100\n",
      "\u001B[1m240/240\u001B[0m \u001B[32m━━━━━━━━━━━━━━━━━━━━\u001B[0m\u001B[37m\u001B[0m \u001B[1m0s\u001B[0m 429us/step - accuracy: 0.0000e+00 - loss: 27.1695\n",
      "Epoch 84/100\n",
      "\u001B[1m240/240\u001B[0m \u001B[32m━━━━━━━━━━━━━━━━━━━━\u001B[0m\u001B[37m\u001B[0m \u001B[1m0s\u001B[0m 435us/step - accuracy: 0.0000e+00 - loss: 28.1556\n",
      "Epoch 85/100\n",
      "\u001B[1m240/240\u001B[0m \u001B[32m━━━━━━━━━━━━━━━━━━━━\u001B[0m\u001B[37m\u001B[0m \u001B[1m0s\u001B[0m 458us/step - accuracy: 0.0000e+00 - loss: 27.1085\n",
      "Epoch 86/100\n",
      "\u001B[1m240/240\u001B[0m \u001B[32m━━━━━━━━━━━━━━━━━━━━\u001B[0m\u001B[37m\u001B[0m \u001B[1m0s\u001B[0m 432us/step - accuracy: 0.0000e+00 - loss: 27.0977\n",
      "Epoch 87/100\n",
      "\u001B[1m240/240\u001B[0m \u001B[32m━━━━━━━━━━━━━━━━━━━━\u001B[0m\u001B[37m\u001B[0m \u001B[1m0s\u001B[0m 459us/step - accuracy: 0.0000e+00 - loss: 26.4498\n",
      "Epoch 88/100\n",
      "\u001B[1m240/240\u001B[0m \u001B[32m━━━━━━━━━━━━━━━━━━━━\u001B[0m\u001B[37m\u001B[0m \u001B[1m0s\u001B[0m 444us/step - accuracy: 0.0000e+00 - loss: 27.6284\n",
      "Epoch 89/100\n",
      "\u001B[1m240/240\u001B[0m \u001B[32m━━━━━━━━━━━━━━━━━━━━\u001B[0m\u001B[37m\u001B[0m \u001B[1m0s\u001B[0m 450us/step - accuracy: 0.0000e+00 - loss: 27.1382\n",
      "Epoch 90/100\n",
      "\u001B[1m240/240\u001B[0m \u001B[32m━━━━━━━━━━━━━━━━━━━━\u001B[0m\u001B[37m\u001B[0m \u001B[1m0s\u001B[0m 452us/step - accuracy: 0.0000e+00 - loss: 26.8033\n",
      "Epoch 91/100\n",
      "\u001B[1m240/240\u001B[0m \u001B[32m━━━━━━━━━━━━━━━━━━━━\u001B[0m\u001B[37m\u001B[0m \u001B[1m0s\u001B[0m 449us/step - accuracy: 0.0000e+00 - loss: 26.4999\n",
      "Epoch 92/100\n",
      "\u001B[1m240/240\u001B[0m \u001B[32m━━━━━━━━━━━━━━━━━━━━\u001B[0m\u001B[37m\u001B[0m \u001B[1m0s\u001B[0m 442us/step - accuracy: 0.0000e+00 - loss: 26.6180\n",
      "Epoch 93/100\n",
      "\u001B[1m240/240\u001B[0m \u001B[32m━━━━━━━━━━━━━━━━━━━━\u001B[0m\u001B[37m\u001B[0m \u001B[1m0s\u001B[0m 434us/step - accuracy: 0.0000e+00 - loss: 29.9606\n",
      "Epoch 94/100\n",
      "\u001B[1m240/240\u001B[0m \u001B[32m━━━━━━━━━━━━━━━━━━━━\u001B[0m\u001B[37m\u001B[0m \u001B[1m0s\u001B[0m 440us/step - accuracy: 0.0000e+00 - loss: 28.5853\n",
      "Epoch 95/100\n",
      "\u001B[1m240/240\u001B[0m \u001B[32m━━━━━━━━━━━━━━━━━━━━\u001B[0m\u001B[37m\u001B[0m \u001B[1m0s\u001B[0m 460us/step - accuracy: 0.0000e+00 - loss: 28.1141\n",
      "Epoch 96/100\n",
      "\u001B[1m240/240\u001B[0m \u001B[32m━━━━━━━━━━━━━━━━━━━━\u001B[0m\u001B[37m\u001B[0m \u001B[1m0s\u001B[0m 468us/step - accuracy: 0.0000e+00 - loss: 26.9300\n",
      "Epoch 97/100\n",
      "\u001B[1m240/240\u001B[0m \u001B[32m━━━━━━━━━━━━━━━━━━━━\u001B[0m\u001B[37m\u001B[0m \u001B[1m0s\u001B[0m 459us/step - accuracy: 0.0000e+00 - loss: 26.3993\n",
      "Epoch 98/100\n",
      "\u001B[1m240/240\u001B[0m \u001B[32m━━━━━━━━━━━━━━━━━━━━\u001B[0m\u001B[37m\u001B[0m \u001B[1m0s\u001B[0m 475us/step - accuracy: 0.0000e+00 - loss: 26.7780\n",
      "Epoch 99/100\n",
      "\u001B[1m240/240\u001B[0m \u001B[32m━━━━━━━━━━━━━━━━━━━━\u001B[0m\u001B[37m\u001B[0m \u001B[1m0s\u001B[0m 473us/step - accuracy: 0.0000e+00 - loss: 27.5976\n",
      "Epoch 100/100\n",
      "\u001B[1m240/240\u001B[0m \u001B[32m━━━━━━━━━━━━━━━━━━━━\u001B[0m\u001B[37m\u001B[0m \u001B[1m0s\u001B[0m 504us/step - accuracy: 0.0000e+00 - loss: 27.1875\n"
     ]
    },
    {
     "data": {
      "text/plain": [
       "<keras.src.callbacks.history.History at 0x120ea2db0>"
      ]
     },
     "execution_count": 86,
     "metadata": {},
     "output_type": "execute_result"
    }
   ],
   "execution_count": 86
  },
  {
   "metadata": {},
   "cell_type": "markdown",
   "source": "---"
  },
  {
   "cell_type": "markdown",
   "metadata": {
    "id": "0H0zKKNEBLD5"
   },
   "source": "## Make Predictions and Evaluate Model"
  },
  {
   "metadata": {},
   "cell_type": "markdown",
   "source": "### Predict Test Set Results"
  },
  {
   "metadata": {
    "ExecuteTime": {
     "end_time": "2025-08-20T23:08:55.884061Z",
     "start_time": "2025-08-20T23:08:55.801960Z"
    }
   },
   "cell_type": "code",
   "source": "y_pred = ann.predict(X_test)",
   "outputs": [
    {
     "name": "stdout",
     "output_type": "stream",
     "text": [
      "\u001B[1m60/60\u001B[0m \u001B[32m━━━━━━━━━━━━━━━━━━━━\u001B[0m\u001B[37m\u001B[0m \u001B[1m0s\u001B[0m 594us/step\n"
     ]
    }
   ],
   "execution_count": 87
  },
  {
   "cell_type": "code",
   "metadata": {
    "id": "IA0yApEmBG1X",
    "colab": {
     "base_uri": "https://localhost:8080/",
     "height": 134
    },
    "outputId": "cb981e1f-9204-4a2a-fece-9d66a6919189",
    "ExecuteTime": {
     "end_time": "2025-08-20T23:12:40.215343Z",
     "start_time": "2025-08-20T23:12:40.212573Z"
    }
   },
   "source": [
    "np.set_printoptions(precision=2)\n",
    "print(np.concatenate((y_pred.reshape(len(y_pred), 1), y_test.reshape(len(y_test), 1)), 1))"
   ],
   "outputs": [
    {
     "name": "stdout",
     "output_type": "stream",
     "text": [
      "[[429.2  431.23]\n",
      " [460.2  460.01]\n",
      " [463.71 461.14]\n",
      " ...\n",
      " [470.89 473.26]\n",
      " [437.84 438.  ]\n",
      " [456.98 463.28]]\n"
     ]
    }
   ],
   "execution_count": 92
  }
 ]
}
