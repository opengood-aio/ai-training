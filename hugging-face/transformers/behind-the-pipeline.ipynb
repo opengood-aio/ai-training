{
 "nbformat": 4,
 "nbformat_minor": 0,
 "metadata": {
  "colab": {
   "provenance": [],
   "machine_shape": "hm"
  },
  "kernelspec": {
   "name": "python3",
   "display_name": "Python 3 (ipykernel)",
   "language": "python"
  }
 },
 "cells": [
  {
   "cell_type": "markdown",
   "metadata": {
    "id": "0MRC0e0KhQ0S"
   },
   "source": "# Behind the Pipeline"
  },
  {
   "metadata": {},
   "cell_type": "markdown",
   "source": [
    "* Outlines what the `pipeline` function from the Hugging Face `Transformers` library does behind the scenes\n",
    "* Uses a sentiment analysis example\n",
    "* Uses the `distilbert/distilbert-base-uncased-finetuned-sst-2-english` model\n",
    "* All classes and functions are imported from the `Transformers` library"
   ]
  },
  {
   "metadata": {},
   "cell_type": "markdown",
   "source": "## Setup"
  },
  {
   "metadata": {
    "ExecuteTime": {
     "end_time": "2025-10-23T00:28:21.349061Z",
     "start_time": "2025-10-23T00:28:21.347085Z"
    }
   },
   "cell_type": "code",
   "source": [
    "model_provider = \"distilbert\"\n",
    "model_name = \"distilbert-base-uncased-finetuned-sst-2-english\"\n",
    "model = f\"{model_provider}/{model_name}\"\n",
    "task_name = \"sentiment-analysis\""
   ],
   "outputs": [],
   "execution_count": 27
  },
  {
   "metadata": {},
   "cell_type": "markdown",
   "source": "## Sentiment Analysis Pipeline"
  },
  {
   "metadata": {
    "ExecuteTime": {
     "end_time": "2025-10-23T00:28:21.792093Z",
     "start_time": "2025-10-23T00:28:21.378801Z"
    }
   },
   "cell_type": "code",
   "source": [
    "from transformers import pipeline\n",
    "\n",
    "classifier = pipeline(task=task_name, model=model)\n",
    "classifier(\n",
    "    [\n",
    "        \"I've been waiting for a HuggingFace course my whole life.\",\n",
    "        \"I hate this so much!\",\n",
    "    ]\n",
    ")"
   ],
   "outputs": [
    {
     "name": "stderr",
     "output_type": "stream",
     "text": [
      "Device set to use mps:0\n"
     ]
    },
    {
     "data": {
      "text/plain": [
       "[{'label': 'POSITIVE', 'score': 0.9598049521446228},\n",
       " {'label': 'NEGATIVE', 'score': 0.9994558691978455}]"
      ]
     },
     "execution_count": 28,
     "metadata": {},
     "output_type": "execute_result"
    }
   ],
   "execution_count": 28
  },
  {
   "metadata": {},
   "cell_type": "markdown",
   "source": "## Preprocessing with Tokenizer"
  },
  {
   "metadata": {},
   "cell_type": "markdown",
   "source": [
    "* Raw text needs to be tokenized and converted into integers for input into the model\n",
    "* This preprocessing must be done the same way as when the model was pretrained\n",
    "* Use the `AutoTokenizer` class via its `from_pretraining` method with the model's checkpoint name to:\n",
    "    * Automatically fetch the data associated with the model's tokenizer\n",
    "    * Cache the data so it can be reused as needed\n",
    "* Once the `tokenizer` object is set, text sentences can be passed to it\n",
    "* The `raw_inputs` variable defines an array of the text sentences to pass to the tokenizer\n",
    "* Transformer models only accept *tensors* as input\n",
    "* The `return_tensors` argument of the tokenizer specifies the type of tensors to return\n",
    "    * `pt` returns PyTorch tensors\n",
    "* The `inputs` variable is the output of the tokenizer to be used as input to the model\n",
    "    * It contains a dictionary of 2 keys:\n",
    "        * `input_ids`: Contains 2 rows of integers (one for each sentence) that are unique identifiers of the tokens in each sentence\n",
    "        * `attention_masks`"
   ]
  },
  {
   "metadata": {
    "ExecuteTime": {
     "end_time": "2025-10-23T00:28:21.798500Z",
     "start_time": "2025-10-23T00:28:21.796672Z"
    }
   },
   "cell_type": "code",
   "source": "checkpoint = \"distilbert-base-uncased-finetuned-sst-2-english\"",
   "outputs": [],
   "execution_count": 29
  },
  {
   "metadata": {
    "ExecuteTime": {
     "end_time": "2025-10-23T00:28:21.998446Z",
     "start_time": "2025-10-23T00:28:21.814897Z"
    }
   },
   "cell_type": "code",
   "source": [
    "from transformers import AutoTokenizer\n",
    "\n",
    "tokenizer = AutoTokenizer.from_pretrained(checkpoint)"
   ],
   "outputs": [],
   "execution_count": 30
  },
  {
   "metadata": {
    "ExecuteTime": {
     "end_time": "2025-10-23T00:28:22.004552Z",
     "start_time": "2025-10-23T00:28:22.003146Z"
    }
   },
   "cell_type": "code",
   "source": [
    "raw_inputs = [\n",
    "    \"I've been waiting for a HuggingFace course my whole life.\",\n",
    "    \"I hate this so much!\",\n",
    "]"
   ],
   "outputs": [],
   "execution_count": 31
  },
  {
   "metadata": {
    "ExecuteTime": {
     "end_time": "2025-10-23T00:28:22.009583Z",
     "start_time": "2025-10-23T00:28:22.007676Z"
    }
   },
   "cell_type": "code",
   "source": "inputs = tokenizer(raw_inputs, padding=True, truncation=True, return_tensors=\"pt\")",
   "outputs": [],
   "execution_count": 32
  },
  {
   "metadata": {
    "ExecuteTime": {
     "end_time": "2025-10-23T00:28:22.017916Z",
     "start_time": "2025-10-23T00:28:22.014789Z"
    }
   },
   "cell_type": "code",
   "source": "print(inputs)",
   "outputs": [
    {
     "name": "stdout",
     "output_type": "stream",
     "text": [
      "{'input_ids': tensor([[  101,  1045,  1005,  2310,  2042,  3403,  2005,  1037, 17662, 12172,\n",
      "          2607,  2026,  2878,  2166,  1012,   102],\n",
      "        [  101,  1045,  5223,  2023,  2061,  2172,   999,   102,     0,     0,\n",
      "             0,     0,     0,     0,     0,     0]]), 'attention_mask': tensor([[1, 1, 1, 1, 1, 1, 1, 1, 1, 1, 1, 1, 1, 1, 1, 1],\n",
      "        [1, 1, 1, 1, 1, 1, 1, 1, 0, 0, 0, 0, 0, 0, 0, 0]])}\n"
     ]
    }
   ],
   "execution_count": 33
  }
 ]
}
