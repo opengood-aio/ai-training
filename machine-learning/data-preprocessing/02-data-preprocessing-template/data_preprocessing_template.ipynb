{
 "cells": [
  {
   "cell_type": "markdown",
   "source": [
    "# Data Preprocessing Template"
   ],
   "metadata": {
    "datalore": {
     "node_id": "kghNX7deqma5JdN2qPm3ha",
     "type": "MD",
     "hide_input_from_viewers": false,
     "hide_output_from_viewers": false,
     "report_properties": {
      "rowId": "8wG8g0Pql0rRlDbLPHZssn"
     }
    },
    "id": "ruKjYuJvSDNP"
   }
  },
  {
   "cell_type": "markdown",
   "source": "## Import Libraries",
   "metadata": {
    "datalore": {
     "node_id": "kVshoxMcltSPa5B8gLqUFV",
     "type": "MD",
     "hide_input_from_viewers": false,
     "hide_output_from_viewers": false,
     "report_properties": {
      "rowId": "gnm0YVVFpgi3VqMl8F5VFl"
     }
    },
    "id": "6vO2RDgOSDNT"
   }
  },
  {
   "cell_type": "code",
   "source": [
    "import numpy as np\n",
    "import matplotlib.pyplot as plt\n",
    "import pandas as pd"
   ],
   "metadata": {
    "datalore": {
     "node_id": "tIu7PapQJ2FBcu2gwlUil0",
     "type": "CODE",
     "hide_input_from_viewers": false,
     "hide_output_from_viewers": false,
     "report_properties": {
      "rowId": "w8vBNfKAueysQ09zcbYC0Y"
     }
    },
    "id": "43Czo8n8SDNT",
    "ExecuteTime": {
     "end_time": "2025-03-17T23:33:48.733483Z",
     "start_time": "2025-03-17T23:33:48.115140Z"
    }
   },
   "outputs": [],
   "execution_count": 1
  },
  {
   "cell_type": "markdown",
   "source": "## Import Dataset",
   "metadata": {
    "datalore": {
     "node_id": "Hl5U3gJDSw75vYpQox8Tro",
     "type": "MD",
     "hide_input_from_viewers": false,
     "hide_output_from_viewers": false,
     "report_properties": {
      "rowId": "eonfgAdHUA3tRJxA9SoO4L"
     }
    },
    "id": "lNHKyHgKSDNU"
   }
  },
  {
   "cell_type": "code",
   "source": [
    "dataset = pd.read_csv('Data.csv')\n",
    "X = dataset.iloc[:, :-1].values\n",
    "y = dataset.iloc[:, -1].values"
   ],
   "execution_count": null,
   "outputs": [],
   "metadata": {
    "datalore": {
     "node_id": "rUUZrW95GT09t2zP6NBLSM",
     "type": "CODE",
     "hide_input_from_viewers": false,
     "hide_output_from_viewers": false,
     "report_properties": {
      "rowId": "AQQTktAg39fUvUv5NgK77r"
     }
    },
    "id": "7G5jNqoESDNV"
   }
  },
  {
   "cell_type": "markdown",
   "source": "## Split Dataset into Training Set and Test Set",
   "metadata": {
    "datalore": {
     "node_id": "5A9WH7PERqavk33jjLbFST",
     "type": "MD",
     "hide_input_from_viewers": false,
     "hide_output_from_viewers": false,
     "report_properties": {
      "rowId": "Xyuls9eqoo0VSX6gsTSY7Q"
     }
    },
    "id": "7suGURpvSDNV"
   }
  },
  {
   "cell_type": "code",
   "source": [
    "from sklearn.model_selection import train_test_split\n",
    "X_train, X_test, y_train, y_test = train_test_split(X, y, test_size = 0.2, random_state = 0)"
   ],
   "execution_count": null,
   "outputs": [],
   "metadata": {
    "datalore": {
     "node_id": "nKQShqKVkFWmzl6oklhJOV",
     "type": "CODE",
     "hide_input_from_viewers": false,
     "hide_output_from_viewers": false,
     "report_properties": {
      "rowId": "QxaAJ5H6uU5XtYGzf9gZ81"
     }
    },
    "id": "-JkUebGhSDNV"
   }
  }
 ],
 "metadata": {
  "kernelspec": {
   "display_name": "Python 3 (ipykernel)",
   "language": "python",
   "name": "python3"
  },
  "datalore": {
   "computation_mode": "JUPYTER",
   "package_manager": "pip",
   "base_environment": "default",
   "packages": [],
   "report_row_ids": [
    "8wG8g0Pql0rRlDbLPHZssn",
    "gnm0YVVFpgi3VqMl8F5VFl",
    "w8vBNfKAueysQ09zcbYC0Y",
    "eonfgAdHUA3tRJxA9SoO4L",
    "AQQTktAg39fUvUv5NgK77r",
    "Xyuls9eqoo0VSX6gsTSY7Q",
    "QxaAJ5H6uU5XtYGzf9gZ81"
   ],
   "version": 3
  },
  "colab": {
   "provenance": []
  }
 },
 "nbformat": 4,
 "nbformat_minor": 0
}
