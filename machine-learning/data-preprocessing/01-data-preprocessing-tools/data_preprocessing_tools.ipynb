{
 "cells": [
  {
   "cell_type": "markdown",
   "source": [
    "# Data Preprocessing Tools"
   ],
   "metadata": {
    "datalore": {
     "node_id": "hkKoAWzG23zr7ZwYy14lDr",
     "type": "MD",
     "hide_input_from_viewers": false,
     "hide_output_from_viewers": false,
     "report_properties": {
      "rowId": "Ucm3rBhTEFGhEF3wlcoh2p"
     }
    },
    "id": "XmAInVxyNWCW"
   }
  },
  {
   "metadata": {},
   "cell_type": "markdown",
   "source": [
    "## Dataset\n",
    "\n",
    "### Layout\n",
    "\n",
    "* Columns: 4\n",
    "\t* Country\n",
    "    * Age\n",
    "    * Salary\n",
    "    * Purchased\n",
    "* Rows: 10 observations\n",
    "\t* Each row represents one purchase\n",
    "\t\t* Features:\n",
    "\t\t\t* Age\n",
    "            * Salary\n",
    "            * Purchased\n",
    "        * Categories:\n",
    "            * Country\n",
    "\n",
    "### Background\n",
    "\n",
    "* Company gathered data on their customer's purchases\n",
    "\n",
    "### Goals\n",
    "\n",
    "* Demonstrate data preprocessing techniques on the dataset"
   ]
  },
  {
   "cell_type": "markdown",
   "source": "## Import Libraries",
   "metadata": {
    "datalore": {
     "node_id": "eN5VXPnNuvrrnfSdM61nPU",
     "type": "MD",
     "hide_input_from_viewers": false,
     "hide_output_from_viewers": false,
     "report_properties": {
      "rowId": "Ob6CqDUo0Q9fPSXU5SW98S"
     }
    },
    "id": "4HJDZdodNWCX"
   }
  },
  {
   "cell_type": "code",
   "source": [
    "import numpy as np\n",
    "import matplotlib.pyplot as plt\n",
    "import pandas as pd"
   ],
   "metadata": {
    "datalore": {
     "node_id": "VUzxjLiNeAKuTxENkk15UB",
     "type": "CODE",
     "hide_input_from_viewers": false,
     "hide_output_from_viewers": false,
     "report_properties": {
      "rowId": "OIGmRN1tbwc4RufCZEx57W"
     }
    },
    "id": "BQ476PEVNWCY",
    "ExecuteTime": {
     "end_time": "2025-03-17T22:30:34.896084Z",
     "start_time": "2025-03-17T22:30:33.890904Z"
    }
   },
   "outputs": [],
   "execution_count": 1
  },
  {
   "cell_type": "markdown",
   "source": "## Import Dataset",
   "metadata": {
    "datalore": {
     "node_id": "R5LRBaXQZ50QKo6b358fXF",
     "type": "MD",
     "hide_input_from_viewers": false,
     "hide_output_from_viewers": false,
     "report_properties": {
      "rowId": "MU4N5qrfr59PtZv1ZOWgFw"
     }
    },
    "id": "A8_w8oJfNWCY"
   }
  },
  {
   "cell_type": "code",
   "source": [
    "dataset = pd.read_csv('Data.csv')\n",
    "X = dataset.iloc[:, :-1].values\n",
    "y = dataset.iloc[:, -1].values"
   ],
   "metadata": {
    "datalore": {
     "node_id": "hTvHbZmqGtzIlcabelZrkO",
     "type": "CODE",
     "hide_input_from_viewers": false,
     "hide_output_from_viewers": false,
     "report_properties": {
      "rowId": "ueB6m0qYtRPSBzapjqciJZ"
     }
    },
    "id": "CJ6x0RYDNWCY",
    "executionInfo": {
     "status": "ok",
     "timestamp": 1724200197554,
     "user_tz": 240,
     "elapsed": 147,
     "user": {
      "displayName": "Chris Jaehnen",
      "userId": "09906998703988827501"
     }
    },
    "ExecuteTime": {
     "end_time": "2025-03-17T22:30:52.815022Z",
     "start_time": "2025-03-17T22:30:52.804640Z"
    }
   },
   "outputs": [],
   "execution_count": 2
  },
  {
   "cell_type": "code",
   "source": [
    "print(X)"
   ],
   "metadata": {
    "datalore": {
     "node_id": "lOZKxzmgKaA8vMtdMqqNvd",
     "type": "CODE",
     "hide_input_from_viewers": false,
     "hide_output_from_viewers": false,
     "report_properties": {
      "rowId": "sjOuMLBFg6NJgv7DiefuOl"
     }
    },
    "id": "BiPpbengNWCZ",
    "outputId": "235565a5-3228-42fc-89b4-885b1a06ecdd",
    "colab": {
     "base_uri": "https://localhost:8080/"
    },
    "executionInfo": {
     "status": "ok",
     "timestamp": 1724199071870,
     "user_tz": 240,
     "elapsed": 175,
     "user": {
      "displayName": "Chris Jaehnen",
      "userId": "09906998703988827501"
     }
    },
    "ExecuteTime": {
     "end_time": "2025-03-17T22:30:54.330135Z",
     "start_time": "2025-03-17T22:30:54.326406Z"
    }
   },
   "outputs": [
    {
     "name": "stdout",
     "output_type": "stream",
     "text": [
      "[['France' 44.0 72000.0]\n",
      " ['Spain' 27.0 48000.0]\n",
      " ['Germany' 30.0 54000.0]\n",
      " ['Spain' 38.0 61000.0]\n",
      " ['Germany' 40.0 nan]\n",
      " ['France' 35.0 58000.0]\n",
      " ['Spain' nan 52000.0]\n",
      " ['France' 48.0 79000.0]\n",
      " ['Germany' 50.0 83000.0]\n",
      " ['France' 37.0 67000.0]]\n"
     ]
    }
   ],
   "execution_count": 3
  },
  {
   "cell_type": "code",
   "source": [
    "print(y)"
   ],
   "metadata": {
    "datalore": {
     "node_id": "hUcu86Fs325UApenS0ccwo",
     "type": "CODE",
     "hide_input_from_viewers": false,
     "hide_output_from_viewers": false,
     "report_properties": {
      "rowId": "7l29W01cF8y3qOB91Nyu1A"
     }
    },
    "id": "tlxeu7waNWCZ",
    "outputId": "7f28110f-1193-4b7e-d3c4-a6052c08a4c0",
    "colab": {
     "base_uri": "https://localhost:8080/"
    },
    "executionInfo": {
     "status": "ok",
     "timestamp": 1724199073341,
     "user_tz": 240,
     "elapsed": 180,
     "user": {
      "displayName": "Chris Jaehnen",
      "userId": "09906998703988827501"
     }
    },
    "ExecuteTime": {
     "end_time": "2025-03-17T22:30:56.392211Z",
     "start_time": "2025-03-17T22:30:56.388527Z"
    }
   },
   "outputs": [
    {
     "name": "stdout",
     "output_type": "stream",
     "text": [
      "['No' 'Yes' 'No' 'No' 'Yes' 'Yes' 'No' 'Yes' 'No' 'Yes']\n"
     ]
    }
   ],
   "execution_count": 4
  },
  {
   "cell_type": "markdown",
   "source": "## Taking Care of Missing Data",
   "metadata": {
    "datalore": {
     "node_id": "whmhOGmAZClBiopO351vCY",
     "type": "MD",
     "hide_input_from_viewers": false,
     "hide_output_from_viewers": false,
     "report_properties": {
      "rowId": "UHmAdYQkWBPwnQVBBLbadd"
     }
    },
    "id": "tfPkOLp_NWCZ"
   }
  },
  {
   "metadata": {},
   "cell_type": "markdown",
   "source": [
    "* `SimpleImputer` class is used for taking care of missing data\n",
    "* `np.nan` (i.e. `NaN`) represents replacing any missing values in a dataset\n",
    "* `strategy = 'mean'` instructs an object to replace missing values with the mean value\n",
    "* `transform` method applies transformation by adding missing values with column mean value\n"
   ]
  },
  {
   "cell_type": "code",
   "source": [
    "from sklearn.impute import SimpleImputer\n",
    "imputer = SimpleImputer(missing_values = np.nan, strategy = 'mean')\n",
    "imputer.fit(X[:, 1:3])\n",
    "X[:, 1:3] = imputer.transform(X[:, 1:3])"
   ],
   "metadata": {
    "datalore": {
     "node_id": "RquupNZC0w76Aeh4M5fzwI",
     "type": "CODE",
     "hide_input_from_viewers": false,
     "hide_output_from_viewers": false,
     "report_properties": {
      "rowId": "Yu3TccbztyiW7dbWg6lZmU"
     }
    },
    "id": "x5266jG9NWCZ",
    "ExecuteTime": {
     "end_time": "2025-03-17T22:31:31.655179Z",
     "start_time": "2025-03-17T22:31:27.461535Z"
    }
   },
   "outputs": [],
   "execution_count": 5
  },
  {
   "cell_type": "code",
   "source": [
    "print(X)"
   ],
   "metadata": {
    "datalore": {
     "node_id": "0TcizWdmHuaQfxeMomI18g",
     "type": "CODE",
     "hide_input_from_viewers": false,
     "hide_output_from_viewers": false,
     "report_properties": {
      "rowId": "31YR2OkUXofuBpYPBB9ohf"
     }
    },
    "id": "8Fl1v47ANWCZ",
    "outputId": "0fd20c57-eca0-4e55-c7e9-2713d56eac3a",
    "colab": {
     "base_uri": "https://localhost:8080/"
    },
    "executionInfo": {
     "status": "ok",
     "timestamp": 1724199080792,
     "user_tz": 240,
     "elapsed": 135,
     "user": {
      "displayName": "Chris Jaehnen",
      "userId": "09906998703988827501"
     }
    },
    "ExecuteTime": {
     "end_time": "2025-03-17T22:31:33.979770Z",
     "start_time": "2025-03-17T22:31:33.976560Z"
    }
   },
   "outputs": [
    {
     "name": "stdout",
     "output_type": "stream",
     "text": [
      "[['France' 44.0 72000.0]\n",
      " ['Spain' 27.0 48000.0]\n",
      " ['Germany' 30.0 54000.0]\n",
      " ['Spain' 38.0 61000.0]\n",
      " ['Germany' 40.0 63777.77777777778]\n",
      " ['France' 35.0 58000.0]\n",
      " ['Spain' 38.77777777777778 52000.0]\n",
      " ['France' 48.0 79000.0]\n",
      " ['Germany' 50.0 83000.0]\n",
      " ['France' 37.0 67000.0]]\n"
     ]
    }
   ],
   "execution_count": 6
  },
  {
   "metadata": {},
   "cell_type": "markdown",
   "source": "## Identify Missing Numbers in Dataset"
  },
  {
   "metadata": {
    "ExecuteTime": {
     "end_time": "2025-03-17T22:32:43.855330Z",
     "start_time": "2025-03-17T22:32:43.852482Z"
    }
   },
   "cell_type": "code",
   "source": "missing_data = dataset.isnull().sum()",
   "outputs": [],
   "execution_count": 7
  },
  {
   "metadata": {
    "ExecuteTime": {
     "end_time": "2025-03-17T23:04:02.237186Z",
     "start_time": "2025-03-17T23:04:02.233743Z"
    }
   },
   "cell_type": "code",
   "source": "print(missing_data)",
   "outputs": [
    {
     "name": "stdout",
     "output_type": "stream",
     "text": [
      "Country      0\n",
      "Age          1\n",
      "Salary       1\n",
      "Purchased    0\n",
      "dtype: int64\n"
     ]
    }
   ],
   "execution_count": 22
  },
  {
   "cell_type": "markdown",
   "source": "## Encode Categorical Data",
   "metadata": {
    "datalore": {
     "node_id": "cHA5IxVfx9is0Lq8ATzH9T",
     "type": "MD",
     "hide_input_from_viewers": false,
     "hide_output_from_viewers": false,
     "report_properties": {
      "rowId": "MHbCfzv8XCgJZfcEHl1rmt"
     }
    },
    "id": "3aoFeuwqNWCa"
   }
  },
  {
   "cell_type": "markdown",
   "source": "### Encode Independent Variable(s)",
   "metadata": {
    "datalore": {
     "node_id": "30XZhA4CAOuDa2fOBjfIbN",
     "type": "MD",
     "hide_input_from_viewers": false,
     "hide_output_from_viewers": false,
     "report_properties": {
      "rowId": "8T2dBiZOT7Fok6e10NjGHa"
     }
    },
    "id": "Cm8DQBLMNWCa"
   }
  },
  {
   "metadata": {},
   "cell_type": "markdown",
   "source": [
    "* `ColumnTransformer` and `OneHotEncoder` classes are used to transform non-numerical columns into binary vectors of multiple transformed columns\n",
    "* `transformers` object parameters:\n",
    "  * Kind of transformation (i.e. `encoding`)\n",
    "  * Type of encoding (i.e. `OneHotEncoder`)\n",
    "  * Indexes of columns to encode\n",
    "* `remainder` parameters:\n",
    "  * `passthrough` means to keep other feature columns the same values\n",
    "* `fit_transform` method connects an object to a matrix of features and performs transformation in one method call\n",
    "  * It returns a transformed matrix of features with column one-hot encoded\n",
    "  * It does not return a matrix of features as numpy array\n",
    "  * One needs to call numpy `array` method to transform output into numpy array"
   ]
  },
  {
   "cell_type": "code",
   "source": [
    "from sklearn.compose import ColumnTransformer\n",
    "from sklearn.preprocessing import OneHotEncoder\n",
    "ct = ColumnTransformer(transformers = [('encoder', OneHotEncoder(), [0])], remainder = 'passthrough')\n",
    "X = np.array(ct.fit_transform(X))"
   ],
   "metadata": {
    "datalore": {
     "node_id": "85g8ZxHdz8FVkT0qvD7LxL",
     "type": "CODE",
     "hide_input_from_viewers": false,
     "hide_output_from_viewers": false,
     "report_properties": {
      "rowId": "fLz930WjNKM15QHm6iummb"
     }
    },
    "id": "YXqqnCJhNWCa",
    "ExecuteTime": {
     "end_time": "2025-03-17T22:37:15.901455Z",
     "start_time": "2025-03-17T22:37:15.882961Z"
    }
   },
   "outputs": [],
   "execution_count": 8
  },
  {
   "cell_type": "code",
   "source": [
    "print(X)"
   ],
   "metadata": {
    "datalore": {
     "node_id": "AP7rrn4F21R1wBFzfDaarJ",
     "type": "CODE",
     "hide_input_from_viewers": false,
     "hide_output_from_viewers": false,
     "report_properties": {
      "rowId": "uHd4TjySM79hBx4Xaslgwn"
     }
    },
    "id": "bkw2skghNWCa",
    "outputId": "d8bd0a2c-fd62-4f99-bdb1-cbcc9d58a983",
    "colab": {
     "base_uri": "https://localhost:8080/"
    },
    "executionInfo": {
     "status": "ok",
     "timestamp": 1724199084837,
     "user_tz": 240,
     "elapsed": 146,
     "user": {
      "displayName": "Chris Jaehnen",
      "userId": "09906998703988827501"
     }
    },
    "ExecuteTime": {
     "end_time": "2025-03-17T22:37:17.693088Z",
     "start_time": "2025-03-17T22:37:17.689486Z"
    }
   },
   "outputs": [
    {
     "name": "stdout",
     "output_type": "stream",
     "text": [
      "[[1.0 0.0 0.0 44.0 72000.0]\n",
      " [0.0 0.0 1.0 27.0 48000.0]\n",
      " [0.0 1.0 0.0 30.0 54000.0]\n",
      " [0.0 0.0 1.0 38.0 61000.0]\n",
      " [0.0 1.0 0.0 40.0 63777.77777777778]\n",
      " [1.0 0.0 0.0 35.0 58000.0]\n",
      " [0.0 0.0 1.0 38.77777777777778 52000.0]\n",
      " [1.0 0.0 0.0 48.0 79000.0]\n",
      " [0.0 1.0 0.0 50.0 83000.0]\n",
      " [1.0 0.0 0.0 37.0 67000.0]]\n"
     ]
    }
   ],
   "execution_count": 9
  },
  {
   "cell_type": "markdown",
   "source": "### Encode Dependent Variable",
   "metadata": {
    "datalore": {
     "node_id": "efBij7GRKWwTdZJeUIkokQ",
     "type": "MD",
     "hide_input_from_viewers": false,
     "hide_output_from_viewers": false,
     "report_properties": {
      "rowId": "MoFjcHany6XfIEcL43XfhW"
     }
    },
    "id": "Vg0LOGbyNWCa"
   }
  },
  {
   "metadata": {},
   "cell_type": "markdown",
   "source": [
    "* For `LabelEncoder` class, there are no parameters since one is encoding a single vector\n",
    "* `fit_transform` method connects an object to the dependent variable vector and performs transformation in one method call\n",
    "* Returns transformed dependent variable vector with column label encoded (i.e. transforming `Yes` and `No` to binary vectors of `0` and `1`)\n",
    "* No numpy array is needed since it is a single column"
   ]
  },
  {
   "cell_type": "code",
   "source": [
    "from sklearn.preprocessing import LabelEncoder\n",
    "le = LabelEncoder()\n",
    "y = le.fit_transform(y)"
   ],
   "metadata": {
    "datalore": {
     "node_id": "FRnjya6VhzhyU4mnLsFmXq",
     "type": "CODE",
     "hide_input_from_viewers": false,
     "hide_output_from_viewers": false,
     "report_properties": {
      "rowId": "Qjqp1EaYkH6QE5FhICrKjB"
     }
    },
    "id": "om8_vK5INWCa",
    "ExecuteTime": {
     "end_time": "2025-03-17T22:41:52.870056Z",
     "start_time": "2025-03-17T22:41:52.867171Z"
    }
   },
   "outputs": [],
   "execution_count": 10
  },
  {
   "cell_type": "code",
   "source": "print(y)",
   "metadata": {
    "datalore": {
     "node_id": "VIPCfeccid9OQgAp5oE4w5",
     "type": "CODE",
     "hide_input_from_viewers": false,
     "hide_output_from_viewers": false,
     "report_properties": {
      "rowId": "3At7hNY7z0uD1F7oPU60bk"
     }
    },
    "id": "GuSPh1gWNWCa",
    "outputId": "47fa8c1f-36a9-4818-95fa-d54e4395009f",
    "colab": {
     "base_uri": "https://localhost:8080/"
    },
    "executionInfo": {
     "status": "ok",
     "timestamp": 1724199088839,
     "user_tz": 240,
     "elapsed": 150,
     "user": {
      "displayName": "Chris Jaehnen",
      "userId": "09906998703988827501"
     }
    },
    "ExecuteTime": {
     "end_time": "2025-03-17T22:43:39.318996Z",
     "start_time": "2025-03-17T22:43:39.316244Z"
    }
   },
   "outputs": [
    {
     "name": "stdout",
     "output_type": "stream",
     "text": [
      "[0 1 0 0 1 1 0 1 0 1]\n"
     ]
    }
   ],
   "execution_count": 13
  },
  {
   "metadata": {
    "datalore": {
     "node_id": "qXt3fcXvrqnpNbUHkutLog",
     "type": "MD",
     "hide_input_from_viewers": false,
     "hide_output_from_viewers": false,
     "report_properties": {
      "rowId": "rK33RH63Lee2KK6jVgJYc3"
     }
    },
    "id": "yMibIgVdNWCa"
   },
   "cell_type": "markdown",
   "source": "## Split Dataset into Training Set and Test Set"
  },
  {
   "metadata": {},
   "cell_type": "markdown",
   "source": [
    "* `train_test_split` function is used to split a dataset into 4 sets for training and test by matrix of features/independent variables and dependent variable vectors\n",
    "* Function parameters:\n",
    "    * 1: `X` matrix of features/independent variables\n",
    "    * 2: `y` dependent variable vector\n",
    "    * 3: `test_size` indicates split size for testing (80% training, 20% test)\n",
    "    * 4: `random_state` indicates a split factor to ensure values are evenly taken into each set"
   ]
  },
  {
   "cell_type": "code",
   "source": [
    "from sklearn.model_selection import train_test_split\n",
    "X_train, X_test, y_train, y_test = train_test_split(X, y, test_size = 0.2, random_state = 1)"
   ],
   "metadata": {
    "datalore": {
     "node_id": "Asx5MZRyMqALUqreB2eaYz",
     "type": "CODE",
     "hide_input_from_viewers": false,
     "hide_output_from_viewers": false,
     "report_properties": {
      "rowId": "r2g9lCjQJAmXMwFIZ8KVwP"
     }
    },
    "id": "734kDahRNWCb",
    "ExecuteTime": {
     "end_time": "2025-03-17T22:48:57.030139Z",
     "start_time": "2025-03-17T22:48:57.025228Z"
    }
   },
   "outputs": [],
   "execution_count": 14
  },
  {
   "cell_type": "code",
   "source": [
    "print(X_train)"
   ],
   "metadata": {
    "datalore": {
     "node_id": "P3w6ToGXvoQ0z9Gju9ZUwn",
     "type": "CODE",
     "hide_input_from_viewers": false,
     "hide_output_from_viewers": false,
     "report_properties": {
      "rowId": "rB7tlzQ2CANIRerovofKMv"
     }
    },
    "id": "M9PT_LYONWCb",
    "outputId": "a2b7dd89-a95f-4c5d-82cb-3f5da9d1dd41",
    "colab": {
     "base_uri": "https://localhost:8080/"
    },
    "executionInfo": {
     "status": "ok",
     "timestamp": 1724199096552,
     "user_tz": 240,
     "elapsed": 139,
     "user": {
      "displayName": "Chris Jaehnen",
      "userId": "09906998703988827501"
     }
    },
    "ExecuteTime": {
     "end_time": "2025-03-17T22:48:59.880291Z",
     "start_time": "2025-03-17T22:48:59.877383Z"
    }
   },
   "outputs": [
    {
     "name": "stdout",
     "output_type": "stream",
     "text": [
      "[[0.0 0.0 1.0 38.77777777777778 52000.0]\n",
      " [0.0 1.0 0.0 40.0 63777.77777777778]\n",
      " [1.0 0.0 0.0 44.0 72000.0]\n",
      " [0.0 0.0 1.0 38.0 61000.0]\n",
      " [0.0 0.0 1.0 27.0 48000.0]\n",
      " [1.0 0.0 0.0 48.0 79000.0]\n",
      " [0.0 1.0 0.0 50.0 83000.0]\n",
      " [1.0 0.0 0.0 35.0 58000.0]]\n"
     ]
    }
   ],
   "execution_count": 15
  },
  {
   "cell_type": "code",
   "source": [
    "print(X_test)"
   ],
   "metadata": {
    "datalore": {
     "node_id": "VveG4fL3ZJTsNUuoV5pg6y",
     "type": "CODE",
     "hide_input_from_viewers": false,
     "hide_output_from_viewers": false,
     "report_properties": {
      "rowId": "PxE3swtUzLsyDk8eZNya7Z"
     }
    },
    "id": "9Nq_aSHHNWCb",
    "outputId": "af24a456-61de-42f6-8eab-e18dd0c35929",
    "colab": {
     "base_uri": "https://localhost:8080/"
    },
    "executionInfo": {
     "status": "ok",
     "timestamp": 1724199098314,
     "user_tz": 240,
     "elapsed": 120,
     "user": {
      "displayName": "Chris Jaehnen",
      "userId": "09906998703988827501"
     }
    },
    "ExecuteTime": {
     "end_time": "2025-03-17T22:49:02.246225Z",
     "start_time": "2025-03-17T22:49:02.244017Z"
    }
   },
   "outputs": [
    {
     "name": "stdout",
     "output_type": "stream",
     "text": [
      "[[0.0 1.0 0.0 30.0 54000.0]\n",
      " [1.0 0.0 0.0 37.0 67000.0]]\n"
     ]
    }
   ],
   "execution_count": 16
  },
  {
   "cell_type": "code",
   "source": [
    "print(y_train)"
   ],
   "metadata": {
    "datalore": {
     "node_id": "eEitG0EutkX2EzDEkzWsNi",
     "type": "CODE",
     "hide_input_from_viewers": false,
     "hide_output_from_viewers": false,
     "report_properties": {
      "rowId": "juszopARA5LIAEP9uCRbYy"
     }
    },
    "id": "8EgOYrCcNWCb",
    "outputId": "638d6e3b-74cd-4226-daf6-f3e6ecd9ccdd",
    "colab": {
     "base_uri": "https://localhost:8080/"
    },
    "executionInfo": {
     "status": "ok",
     "timestamp": 1724199099483,
     "user_tz": 240,
     "elapsed": 185,
     "user": {
      "displayName": "Chris Jaehnen",
      "userId": "09906998703988827501"
     }
    },
    "ExecuteTime": {
     "end_time": "2025-03-17T22:49:04.077850Z",
     "start_time": "2025-03-17T22:49:04.074722Z"
    }
   },
   "outputs": [
    {
     "name": "stdout",
     "output_type": "stream",
     "text": [
      "[0 1 0 0 1 1 0 1]\n"
     ]
    }
   ],
   "execution_count": 17
  },
  {
   "cell_type": "code",
   "source": [
    "print(y_test)"
   ],
   "metadata": {
    "datalore": {
     "node_id": "6AZJTvGO0WCXUyA5pk5aTG",
     "type": "CODE",
     "hide_input_from_viewers": false,
     "hide_output_from_viewers": false,
     "report_properties": {
      "rowId": "QLuRaXQ6C3dgQiFp8JnTsl"
     }
    },
    "id": "C5QCnSxmNWCb",
    "outputId": "c945717e-ea76-4e7c-91d0-00a8dfecaded",
    "colab": {
     "base_uri": "https://localhost:8080/"
    },
    "executionInfo": {
     "status": "ok",
     "timestamp": 1724199100627,
     "user_tz": 240,
     "elapsed": 2,
     "user": {
      "displayName": "Chris Jaehnen",
      "userId": "09906998703988827501"
     }
    },
    "ExecuteTime": {
     "end_time": "2025-03-17T22:49:04.973133Z",
     "start_time": "2025-03-17T22:49:04.971084Z"
    }
   },
   "outputs": [
    {
     "name": "stdout",
     "output_type": "stream",
     "text": [
      "[0 1]\n"
     ]
    }
   ],
   "execution_count": 18
  },
  {
   "cell_type": "markdown",
   "source": [
    "## Feature Scaling"
   ],
   "metadata": {
    "datalore": {
     "node_id": "trLhhBnsRD2GreL2jx0OKP",
     "type": "MD",
     "hide_input_from_viewers": false,
     "hide_output_from_viewers": false,
     "report_properties": {
      "rowId": "0rCiNhjhw6913eLFqs9J8T"
     }
    },
    "id": "LuO5oIFoNWCb"
   }
  },
  {
   "metadata": {},
   "cell_type": "markdown",
   "source": [
    "* Feature scale all rows and columns, but not the encoded categorical columns\n",
    "* Features to scale are indexes 3 and 4\n",
    "* Index 4 is not specified so the code is scalable to take all columns after index 3\n",
    "* `fit` method computes the mean and standard deviation of the values\n",
    "* `transform` method applies the numerator and denominator of the feature scaling formula\n",
    "* `fit_transform` method performs both operations"
   ]
  },
  {
   "cell_type": "code",
   "source": [
    "from sklearn.preprocessing import StandardScaler\n",
    "sc = StandardScaler()\n",
    "X_train[:, 3:] = sc.fit_transform(X_train[:, 3:])\n",
    "X_test[:, 3:] = sc.transform(X_test[:, 3:])"
   ],
   "metadata": {
    "datalore": {
     "node_id": "KMelIe27bp6hxEtOvWwMlZ",
     "type": "CODE",
     "hide_input_from_viewers": false,
     "hide_output_from_viewers": false,
     "report_properties": {
      "rowId": "DuhgRKfCXOD704yUkkypGn"
     }
    },
    "id": "QmRlpWyjNWCb",
    "ExecuteTime": {
     "end_time": "2025-03-17T23:02:49.939429Z",
     "start_time": "2025-03-17T23:02:49.936325Z"
    }
   },
   "outputs": [],
   "execution_count": 19
  },
  {
   "cell_type": "code",
   "source": [
    "print(X_train)"
   ],
   "metadata": {
    "datalore": {
     "node_id": "iy4ftWOyBpMo5AjLrS6ly3",
     "type": "CODE",
     "hide_input_from_viewers": false,
     "hide_output_from_viewers": false,
     "report_properties": {
      "rowId": "kXrSHhHOUnW0KlCNObgxO0"
     }
    },
    "id": "52DmA3rxNWCb",
    "outputId": "0deaf75c-c1b5-4936-a978-f5c5eaa64b86",
    "ExecuteTime": {
     "end_time": "2025-03-17T23:02:51.319865Z",
     "start_time": "2025-03-17T23:02:51.317170Z"
    }
   },
   "outputs": [
    {
     "name": "stdout",
     "output_type": "stream",
     "text": [
      "[[0.0 0.0 1.0 -0.19159184384578545 -1.0781259408412425]\n",
      " [0.0 1.0 0.0 -0.014117293757057777 -0.07013167641635372]\n",
      " [1.0 0.0 0.0 0.566708506533324 0.633562432710455]\n",
      " [0.0 0.0 1.0 -0.30453019390224867 -0.30786617274297867]\n",
      " [0.0 0.0 1.0 -1.9018011447007988 -1.420463615551582]\n",
      " [1.0 0.0 0.0 1.1475343068237058 1.232653363453549]\n",
      " [0.0 1.0 0.0 1.4379472069688968 1.5749910381638885]\n",
      " [1.0 0.0 0.0 -0.7401495441200351 -0.5646194287757332]]\n"
     ]
    }
   ],
   "execution_count": 20
  },
  {
   "cell_type": "code",
   "source": [
    "print(X_test)"
   ],
   "metadata": {
    "datalore": {
     "node_id": "FT0ZMZnWeoTasaRrrsj1XR",
     "type": "CODE",
     "hide_input_from_viewers": false,
     "hide_output_from_viewers": false,
     "report_properties": {
      "rowId": "Mp8ZqVyHEw2dyNgKmFAZTG"
     }
    },
    "id": "D3_P7iMlNWCb",
    "outputId": "570a08d8-a59e-483b-e6ef-a5dbc8973f80",
    "ExecuteTime": {
     "end_time": "2025-03-17T23:02:52.928553Z",
     "start_time": "2025-03-17T23:02:52.926446Z"
    }
   },
   "outputs": [
    {
     "name": "stdout",
     "output_type": "stream",
     "text": [
      "[[0.0 1.0 0.0 -1.4661817944830124 -0.9069571034860727]\n",
      " [1.0 0.0 0.0 -0.44973664397484414 0.2056403393225306]]\n"
     ]
    }
   ],
   "execution_count": 21
  }
 ],
 "metadata": {
  "kernelspec": {
   "display_name": "Python 3 (ipykernel)",
   "language": "python",
   "name": "python3"
  },
  "datalore": {
   "computation_mode": "JUPYTER",
   "package_manager": "pip",
   "base_environment": "default",
   "packages": [],
   "report_row_ids": [
    "Ucm3rBhTEFGhEF3wlcoh2p",
    "Ob6CqDUo0Q9fPSXU5SW98S",
    "OIGmRN1tbwc4RufCZEx57W",
    "MU4N5qrfr59PtZv1ZOWgFw",
    "ueB6m0qYtRPSBzapjqciJZ",
    "sjOuMLBFg6NJgv7DiefuOl",
    "7l29W01cF8y3qOB91Nyu1A",
    "UHmAdYQkWBPwnQVBBLbadd",
    "Yu3TccbztyiW7dbWg6lZmU",
    "31YR2OkUXofuBpYPBB9ohf",
    "MHbCfzv8XCgJZfcEHl1rmt",
    "8T2dBiZOT7Fok6e10NjGHa",
    "fLz930WjNKM15QHm6iummb",
    "uHd4TjySM79hBx4Xaslgwn",
    "MoFjcHany6XfIEcL43XfhW",
    "Qjqp1EaYkH6QE5FhICrKjB",
    "3At7hNY7z0uD1F7oPU60bk",
    "rK33RH63Lee2KK6jVgJYc3",
    "r2g9lCjQJAmXMwFIZ8KVwP",
    "rB7tlzQ2CANIRerovofKMv",
    "PxE3swtUzLsyDk8eZNya7Z",
    "juszopARA5LIAEP9uCRbYy",
    "QLuRaXQ6C3dgQiFp8JnTsl",
    "0rCiNhjhw6913eLFqs9J8T",
    "DuhgRKfCXOD704yUkkypGn",
    "kXrSHhHOUnW0KlCNObgxO0",
    "Mp8ZqVyHEw2dyNgKmFAZTG"
   ],
   "version": 3
  },
  "colab": {
   "provenance": []
  }
 },
 "nbformat": 4,
 "nbformat_minor": 0
}
