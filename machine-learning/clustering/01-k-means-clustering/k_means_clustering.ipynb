{
 "nbformat": 4,
 "nbformat_minor": 0,
 "metadata": {
  "colab": {
   "provenance": []
  },
  "kernelspec": {
   "name": "python3",
   "display_name": "Python 3 (ipykernel)",
   "language": "python"
  }
 },
 "cells": [
  {
   "cell_type": "markdown",
   "metadata": {
    "id": "i_paGd_yLbgH"
   },
   "source": [
    "# K-Means Clustering"
   ]
  },
  {
   "metadata": {},
   "cell_type": "markdown",
   "source": [
    "## Dataset\n",
    "\n",
    "### Layout\n",
    "\n",
    "* Columns:\n",
    "\t* Customer ID\n",
    "\t* Genre\n",
    "\t* Age\n",
    "\t* Annual Income\n",
    "\t* Spending Score\n",
    "* Rows: 100s of observations\n",
    "\t* Each row represents a customer from the mall\n",
    "\t\t* Features:\n",
    "\t\t\t* Genre\n",
    "\t\t\t* Age\n",
    "\t\t\t* Annual Income\n",
    "\t\t\t* Spending Score\n",
    "\t\t* Dependent variable:\n",
    "\t\t\t* Unknown\n",
    "\n",
    "### Background\n",
    "\n",
    "* Mall company data analysts collected data about their customers\n",
    "* Mall company strategy team created customer spending score (1-100), which is based on how much a customer spends at the mall\n",
    "\t* Lower score = customer spends less\n",
    "\t* Higher score = customer spends more\n",
    "* Data is based on customer spending over the last 1 year\n",
    "\n",
    "### Goals\n",
    "\n",
    "* Data analysts want to identify patterns within their customers\n",
    "* Data analysts do not know what patterns to predict\n",
    "* Build K-Means model to identify clusters of customer patterns\n",
    "\t* Create dependent variable\n",
    "\t\t* Take a finite number of values (4-5)\n",
    "\t\t* Each of the values will be a class of a dependent variable\n",
    "\t\t* Values will be the clusters"
   ]
  },
  {
   "cell_type": "markdown",
   "metadata": {
    "id": "nAuqPwTnLipr"
   },
   "source": "## Import Libraries"
  },
  {
   "cell_type": "code",
   "metadata": {
    "id": "yUXGcC4KLmcL",
    "executionInfo": {
     "status": "ok",
     "timestamp": 1730243520788,
     "user_tz": 240,
     "elapsed": 677,
     "user": {
      "displayName": "Chris Jaehnen",
      "userId": "09906998703988827501"
     }
    },
    "ExecuteTime": {
     "end_time": "2025-06-10T00:27:20.372075Z",
     "start_time": "2025-06-10T00:27:20.003800Z"
    }
   },
   "source": [
    "import numpy as np\n",
    "import matplotlib.pyplot as plt\n",
    "import pandas as pd"
   ],
   "outputs": [],
   "execution_count": 1
  },
  {
   "cell_type": "markdown",
   "metadata": {
    "id": "5LciKOr8Lo5O"
   },
   "source": "## Import Dataset"
  },
  {
   "metadata": {},
   "cell_type": "markdown",
   "source": [
    "By default, since there are no dependent variables in the dataset, include all columns in the dataset.\n",
    "However, one should exclude features that do not help in identifying patterns.\n",
    "\n",
    "Only **Annual Income** and **Spending Score** columns are used as features:\n",
    "\n",
    "* They can help identify patterns\n",
    "* Are only used for learning purposes\n",
    "* Visualization requires a 2-D plot so only 2 features are used, 1 feature per axis\n",
    "\n",
    "Features excluded and why:\n",
    "\n",
    "* **Customer ID**\n",
    "    * Does not help identify patterns\n",
    "* **Genre**\n",
    "* **Age**\n",
    "    * Each excluded only for learning purposes\n",
    "\n",
    "The `y` dataset containing the dependent variables is not needed because the dataset contains no dependent variables."
   ]
  },
  {
   "metadata": {
    "id": "9RlmPzZGLtGi",
    "executionInfo": {
     "status": "ok",
     "timestamp": 1730244372003,
     "user_tz": 240,
     "elapsed": 2,
     "user": {
      "displayName": "Chris Jaehnen",
      "userId": "09906998703988827501"
     }
    },
    "ExecuteTime": {
     "end_time": "2025-06-10T00:27:20.428765Z",
     "start_time": "2025-06-10T00:27:20.423878Z"
    }
   },
   "cell_type": "code",
   "source": [
    "dataset = pd.read_csv('Mall_Customers.csv')\n",
    "X = dataset.iloc[:, [3, 4]].values"
   ],
   "outputs": [],
   "execution_count": 2
  },
  {
   "metadata": {
    "ExecuteTime": {
     "end_time": "2025-06-10T00:27:20.440585Z",
     "start_time": "2025-06-10T00:27:20.437881Z"
    }
   },
   "cell_type": "code",
   "source": "print(*X[:25], sep='\\n')",
   "outputs": [
    {
     "name": "stdout",
     "output_type": "stream",
     "text": [
      "[15 39]\n",
      "[15 81]\n",
      "[16  6]\n",
      "[16 77]\n",
      "[17 40]\n",
      "[17 76]\n",
      "[18  6]\n",
      "[18 94]\n",
      "[19  3]\n",
      "[19 72]\n",
      "[19 14]\n",
      "[19 99]\n",
      "[20 15]\n",
      "[20 77]\n",
      "[20 13]\n",
      "[20 79]\n",
      "[21 35]\n",
      "[21 66]\n",
      "[23 29]\n",
      "[23 98]\n",
      "[24 35]\n",
      "[24 73]\n",
      "[25  5]\n",
      "[25 73]\n",
      "[28 14]\n"
     ]
    }
   ],
   "execution_count": 3
  },
  {
   "cell_type": "markdown",
   "metadata": {
    "id": "nWC2EWp2Lx5G"
   },
   "source": "## Use Elbow Method to Find Optimal Number of Clusters"
  },
  {
   "metadata": {},
   "cell_type": "markdown",
   "source": [
    "Use a for loop to run the K-Means algorithm 10 times to determine the optimal number of clusters using the Elbow Method.\n",
    "\n",
    "Initialize each K-Means algorithm with K-Means++ algorithm to avoid Random Initialization Trap.\n",
    "\n",
    "The `interia_` attribte on the `kmeans` object instance provides the $WCSS$ value.\n",
    "\n",
    "Chart contains **cluster** on x-axis and $WCSS$ computed on y-axis."
   ]
  },
  {
   "cell_type": "code",
   "metadata": {
    "id": "zWs6ciOoL1b3",
    "outputId": "bd3740ef-650e-4ae3-da64-821d7df9c7d0",
    "executionInfo": {
     "status": "ok",
     "timestamp": 1588239707642,
     "user_tz": -240,
     "elapsed": 1431,
     "user": {
      "displayName": "Hadelin de Ponteves",
      "photoUrl": "https://lh3.googleusercontent.com/a-/AOh14GhEuXdT7eQweUmRPW8_laJuPggSK6hfvpl5a6WBaA=s64",
      "userId": "15047218817161520419"
     }
    },
    "colab": {
     "base_uri": "https://localhost:8080/",
     "height": 295
    },
    "jupyter": {
     "is_executing": true
    },
    "ExecuteTime": {
     "start_time": "2025-06-10T00:27:20.451202Z"
    }
   },
   "source": [
    "from sklearn.cluster import KMeans\n",
    "\n",
    "wcss = []\n",
    "for i in range(1, 11):\n",
    "    kmeans = KMeans(n_clusters=i, init='k-means++', random_state=42)\n",
    "    kmeans.fit(X)\n",
    "    wcss.append(kmeans.inertia_)\n",
    "\n",
    "plt.plot(range(1, 11), wcss)\n",
    "plt.title('The Elbow Method')\n",
    "plt.xlabel('Number of Clusters')\n",
    "plt.ylabel('WCSS')\n",
    "plt.show()"
   ],
   "outputs": [],
   "execution_count": null
  },
  {
   "metadata": {},
   "cell_type": "markdown",
   "source": [
    "To find the optimal number of clusters:\n",
    "\n",
    "* Look for the kink (elbow) in the chart\n",
    "* This is the optimal number of clusters to use\n",
    "* Occurs when $WCSS$ stops dropping rapidly\n",
    "\n",
    "Optimal number of clusters is **5**."
   ]
  },
  {
   "cell_type": "markdown",
   "metadata": {
    "id": "VgT0mANLL4Nz"
   },
   "source": "## Train K-Means Model on Dataset"
  },
  {
   "metadata": {},
   "cell_type": "markdown",
   "source": "The `fit_predict` method trains the model and predicts the `y_means` array of clusters, 1-5, using zero-based indexes."
  },
  {
   "cell_type": "code",
   "metadata": {
    "id": "cjEfU6ZSMAPl",
    "ExecuteTime": {
     "end_time": "2025-03-10T23:40:28.186134Z",
     "start_time": "2025-03-10T23:40:28.181834Z"
    }
   },
   "source": [
    "kmeans = KMeans(n_clusters=5, init='k-means++', random_state=42)\n",
    "y_kmeans = kmeans.fit_predict(X)"
   ],
   "outputs": [],
   "execution_count": 22
  },
  {
   "metadata": {
    "ExecuteTime": {
     "end_time": "2025-03-10T23:40:46.971817Z",
     "start_time": "2025-03-10T23:40:46.968920Z"
    }
   },
   "cell_type": "code",
   "source": "print(y_kmeans)",
   "outputs": [
    {
     "name": "stdout",
     "output_type": "stream",
     "text": [
      "[4 2 4 2 4 2 4 2 4 2 4 2 4 2 4 2 4 2 4 2 4 2 4 2 4 2 4 2 4 2 4 2 4 2 4 2 4\n",
      " 2 4 2 4 2 4 0 4 2 0 0 0 0 0 0 0 0 0 0 0 0 0 0 0 0 0 0 0 0 0 0 0 0 0 0 0 0\n",
      " 0 0 0 0 0 0 0 0 0 0 0 0 0 0 0 0 0 0 0 0 0 0 0 0 0 0 0 0 0 0 0 0 0 0 0 0 0\n",
      " 0 0 0 0 0 0 0 0 0 0 0 0 1 3 1 0 1 3 1 3 1 0 1 3 1 3 1 3 1 3 1 0 1 3 1 3 1\n",
      " 3 1 3 1 3 1 3 1 3 1 3 1 3 1 3 1 3 1 3 1 3 1 3 1 3 1 3 1 3 1 3 1 3 1 3 1 3\n",
      " 1 3 1 3 1 3 1 3 1 3 1 3 1 3 1]\n"
     ]
    }
   ],
   "execution_count": 25
  },
  {
   "metadata": {
    "id": "e7YrS1JAMFnm"
   },
   "cell_type": "markdown",
   "source": "## Visualize Clusters"
  },
  {
   "metadata": {},
   "cell_type": "markdown",
   "source": [
    "Create a scatter plot of each cluster and their centroids:\n",
    "\n",
    "* Row index must specify all the customers for current cluster number: `y_kmeans == <cluster no.>`\n",
    "* Index $0$ is the column index for **Annual Income** on x-axis\n",
    "* Index $1$ is the column index for **Spending Score** on y-axis\n",
    "\n",
    "`cluster_centers_` attribute of `kmeans` object returns a 2-D array containing the rows for the centroids and columns containing their coordinates."
   ]
  },
  {
   "metadata": {
    "id": "d0ZYecccMHNx",
    "outputId": "2db95eb9-0c99-4718-f28c-1d3155258041",
    "executionInfo": {
     "status": "ok",
     "timestamp": 1588239716139,
     "user_tz": -240,
     "elapsed": 1085,
     "user": {
      "displayName": "Hadelin de Ponteves",
      "photoUrl": "https://lh3.googleusercontent.com/a-/AOh14GhEuXdT7eQweUmRPW8_laJuPggSK6hfvpl5a6WBaA=s64",
      "userId": "15047218817161520419"
     }
    },
    "colab": {
     "base_uri": "https://localhost:8080/",
     "height": 295
    },
    "ExecuteTime": {
     "end_time": "2025-03-11T00:02:41.897726Z",
     "start_time": "2025-03-11T00:02:41.801548Z"
    }
   },
   "cell_type": "code",
   "source": [
    "plt.scatter(X[y_kmeans == 0, 0], X[y_kmeans == 0, 1], s=100, color='red', label='Cluster 1')\n",
    "plt.scatter(X[y_kmeans == 1, 0], X[y_kmeans == 1, 1], s=100, color='blue', label='Cluster 2')\n",
    "plt.scatter(X[y_kmeans == 2, 0], X[y_kmeans == 2, 1], s=100, color='green', label='Cluster 3')\n",
    "plt.scatter(X[y_kmeans == 3, 0], X[y_kmeans == 3, 1], s=100, color='cyan', label='Cluster 4')\n",
    "plt.scatter(X[y_kmeans == 4, 0], X[y_kmeans == 4, 1], s=100, color='magenta', label='Cluster 5')\n",
    "plt.scatter(kmeans.cluster_centers_[:, 0], kmeans.cluster_centers_[:, 1], s=300, color='yellow', label='Centroids')\n",
    "plt.title('Clusters of Customers')\n",
    "plt.xlabel('Annual Income ($)')\n",
    "plt.ylabel('Spending Score (1-100)')\n",
    "plt.legend()\n",
    "plt.show()"
   ],
   "outputs": [
    {
     "data": {
      "text/plain": [
       "<Figure size 640x480 with 1 Axes>"
      ],
      "image/png": "[encoded data removed]"
     },
     "metadata": {},
     "output_type": "display_data"
    }
   ],
   "execution_count": 36
  },
  {
   "metadata": {},
   "cell_type": "markdown",
   "source": [
    "## Analysis\n",
    "\n",
    "* **Cluster 5** = customers with low annual income and spending is low in the mall\n",
    "* **Cluster 4** = customers with high annual income and spending is low in the mall\n",
    "* **Cluster 3** = customers with low annual income and spending is high in the mall\n",
    "* **Cluster 2** = customers with high annual income and spending is high in the mall\n",
    "* **Cluster 1** = customers with average annual income and spending normally in the mall"
   ]
  }
 ]
}
