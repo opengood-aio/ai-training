{
 "nbformat": 4,
 "nbformat_minor": 0,
 "metadata": {
  "colab": {
   "name": "hierarchical_clustering.ipynb",
   "provenance": [],
   "collapsed_sections": [],
   "toc_visible": true,
   "authorship_tag": "ABX9TyOE/Ghkv22sqrXHjexUJwPA"
  },
  "kernelspec": {
   "name": "python3",
   "display_name": "Python 3 (ipykernel)",
   "language": "python"
  }
 },
 "cells": [
  {
   "cell_type": "markdown",
   "metadata": {
    "id": "JKkbeQi2Mzug",
    "colab_type": "text"
   },
   "source": [
    "# Hierarchical Clustering"
   ]
  },
  {
   "metadata": {},
   "cell_type": "markdown",
   "source": [
    "## Dataset\n",
    "\n",
    "### Layout\n",
    "\n",
    "* Columns:\n",
    "\t* Customer ID\n",
    "\t* Genre\n",
    "\t* Age\n",
    "\t* Annual Income\n",
    "\t* Spending Score\n",
    "* Rows: 100s of observations\n",
    "\t* Each row represents a customer from the mall\n",
    "\t\t* Features:\n",
    "\t\t\t* Genre\n",
    "\t\t\t* Age\n",
    "\t\t\t* Annual Income\n",
    "\t\t\t* Spending Score\n",
    "\t\t* Dependent variable:\n",
    "\t\t\t* Unknown\n",
    "\n",
    "### Background\n",
    "\n",
    "* Mall company data analysts collected data about their customers\n",
    "* Mall company strategy team created customer spending score (1-100), which is based on how much a customer spends at the mall\n",
    "\t* Lower score = customer spends less\n",
    "\t* Higher score = customer spends more\n",
    "* Data is based on customer spending over the last 1 year\n",
    "\n",
    "### Goals\n",
    "\n",
    "* Data analysts want to identify patterns within their customers\n",
    "* Data analysts do not know what patterns to predict\n",
    "* Build hierarchical clustering model to identify clusters of customer patterns"
   ]
  },
  {
   "cell_type": "markdown",
   "metadata": {
    "id": "TaQI437hM1Ho",
    "colab_type": "text"
   },
   "source": "## Import Libraries"
  },
  {
   "metadata": {
    "id": "2UW48DgcM4YS",
    "colab_type": "code",
    "colab": {},
    "ExecuteTime": {
     "end_time": "2025-03-31T23:32:10.105152Z",
     "start_time": "2025-03-31T23:32:08.069560Z"
    }
   },
   "cell_type": "code",
   "source": [
    "import numpy as np\n",
    "import matplotlib.pyplot as plt\n",
    "import pandas as pd"
   ],
   "outputs": [],
   "execution_count": 1
  },
  {
   "cell_type": "markdown",
   "metadata": {
    "id": "gFeTEtDxM7K4",
    "colab_type": "text"
   },
   "source": "## Import Dataset"
  },
  {
   "metadata": {},
   "cell_type": "markdown",
   "source": [
    "By default, since there are no dependent variables in the dataset, include all columns in the dataset.\n",
    "However, one should exclude features that do not help in identifying patterns.\n",
    "\n",
    "Only **Annual Income** and **Spending Score** columns are used as features:\n",
    "\n",
    "* They can help identify patterns\n",
    "* Are only used for learning purposes\n",
    "* Visualization requires a 2-D plot so only 2 features are used, 1 feature per axis\n",
    "\n",
    "Features excluded and why:\n",
    "\n",
    "* **Customer ID**\n",
    "    * Does not help identify patterns\n",
    "* **Genre**\n",
    "* **Age**\n",
    "    * Each excluded only for learning purposes\n",
    "\n",
    "The `y` dataset containing the dependent variables is not needed because the dataset contains no dependent variables."
   ]
  },
  {
   "cell_type": "code",
   "metadata": {
    "id": "4fS2J3HGM99q",
    "colab_type": "code",
    "colab": {},
    "ExecuteTime": {
     "end_time": "2025-03-31T23:33:12.715957Z",
     "start_time": "2025-03-31T23:33:12.706321Z"
    }
   },
   "source": [
    "dataset = pd.read_csv('Mall_Customers.csv')\n",
    "X = dataset.iloc[:, [3, 4]].values"
   ],
   "outputs": [],
   "execution_count": 2
  },
  {
   "metadata": {
    "ExecuteTime": {
     "end_time": "2025-03-31T23:36:35.084780Z",
     "start_time": "2025-03-31T23:36:35.081508Z"
    }
   },
   "cell_type": "code",
   "source": "print(X)",
   "outputs": [
    {
     "name": "stdout",
     "output_type": "stream",
     "text": [
      "[[ 15  39]\n",
      " [ 15  81]\n",
      " [ 16   6]\n",
      " [ 16  77]\n",
      " [ 17  40]\n",
      " [ 17  76]\n",
      " [ 18   6]\n",
      " [ 18  94]\n",
      " [ 19   3]\n",
      " [ 19  72]\n",
      " [ 19  14]\n",
      " [ 19  99]\n",
      " [ 20  15]\n",
      " [ 20  77]\n",
      " [ 20  13]\n",
      " [ 20  79]\n",
      " [ 21  35]\n",
      " [ 21  66]\n",
      " [ 23  29]\n",
      " [ 23  98]\n",
      " [ 24  35]\n",
      " [ 24  73]\n",
      " [ 25   5]\n",
      " [ 25  73]\n",
      " [ 28  14]\n",
      " [ 28  82]\n",
      " [ 28  32]\n",
      " [ 28  61]\n",
      " [ 29  31]\n",
      " [ 29  87]\n",
      " [ 30   4]\n",
      " [ 30  73]\n",
      " [ 33   4]\n",
      " [ 33  92]\n",
      " [ 33  14]\n",
      " [ 33  81]\n",
      " [ 34  17]\n",
      " [ 34  73]\n",
      " [ 37  26]\n",
      " [ 37  75]\n",
      " [ 38  35]\n",
      " [ 38  92]\n",
      " [ 39  36]\n",
      " [ 39  61]\n",
      " [ 39  28]\n",
      " [ 39  65]\n",
      " [ 40  55]\n",
      " [ 40  47]\n",
      " [ 40  42]\n",
      " [ 40  42]\n",
      " [ 42  52]\n",
      " [ 42  60]\n",
      " [ 43  54]\n",
      " [ 43  60]\n",
      " [ 43  45]\n",
      " [ 43  41]\n",
      " [ 44  50]\n",
      " [ 44  46]\n",
      " [ 46  51]\n",
      " [ 46  46]\n",
      " [ 46  56]\n",
      " [ 46  55]\n",
      " [ 47  52]\n",
      " [ 47  59]\n",
      " [ 48  51]\n",
      " [ 48  59]\n",
      " [ 48  50]\n",
      " [ 48  48]\n",
      " [ 48  59]\n",
      " [ 48  47]\n",
      " [ 49  55]\n",
      " [ 49  42]\n",
      " [ 50  49]\n",
      " [ 50  56]\n",
      " [ 54  47]\n",
      " [ 54  54]\n",
      " [ 54  53]\n",
      " [ 54  48]\n",
      " [ 54  52]\n",
      " [ 54  42]\n",
      " [ 54  51]\n",
      " [ 54  55]\n",
      " [ 54  41]\n",
      " [ 54  44]\n",
      " [ 54  57]\n",
      " [ 54  46]\n",
      " [ 57  58]\n",
      " [ 57  55]\n",
      " [ 58  60]\n",
      " [ 58  46]\n",
      " [ 59  55]\n",
      " [ 59  41]\n",
      " [ 60  49]\n",
      " [ 60  40]\n",
      " [ 60  42]\n",
      " [ 60  52]\n",
      " [ 60  47]\n",
      " [ 60  50]\n",
      " [ 61  42]\n",
      " [ 61  49]\n",
      " [ 62  41]\n",
      " [ 62  48]\n",
      " [ 62  59]\n",
      " [ 62  55]\n",
      " [ 62  56]\n",
      " [ 62  42]\n",
      " [ 63  50]\n",
      " [ 63  46]\n",
      " [ 63  43]\n",
      " [ 63  48]\n",
      " [ 63  52]\n",
      " [ 63  54]\n",
      " [ 64  42]\n",
      " [ 64  46]\n",
      " [ 65  48]\n",
      " [ 65  50]\n",
      " [ 65  43]\n",
      " [ 65  59]\n",
      " [ 67  43]\n",
      " [ 67  57]\n",
      " [ 67  56]\n",
      " [ 67  40]\n",
      " [ 69  58]\n",
      " [ 69  91]\n",
      " [ 70  29]\n",
      " [ 70  77]\n",
      " [ 71  35]\n",
      " [ 71  95]\n",
      " [ 71  11]\n",
      " [ 71  75]\n",
      " [ 71   9]\n",
      " [ 71  75]\n",
      " [ 72  34]\n",
      " [ 72  71]\n",
      " [ 73   5]\n",
      " [ 73  88]\n",
      " [ 73   7]\n",
      " [ 73  73]\n",
      " [ 74  10]\n",
      " [ 74  72]\n",
      " [ 75   5]\n",
      " [ 75  93]\n",
      " [ 76  40]\n",
      " [ 76  87]\n",
      " [ 77  12]\n",
      " [ 77  97]\n",
      " [ 77  36]\n",
      " [ 77  74]\n",
      " [ 78  22]\n",
      " [ 78  90]\n",
      " [ 78  17]\n",
      " [ 78  88]\n",
      " [ 78  20]\n",
      " [ 78  76]\n",
      " [ 78  16]\n",
      " [ 78  89]\n",
      " [ 78   1]\n",
      " [ 78  78]\n",
      " [ 78   1]\n",
      " [ 78  73]\n",
      " [ 79  35]\n",
      " [ 79  83]\n",
      " [ 81   5]\n",
      " [ 81  93]\n",
      " [ 85  26]\n",
      " [ 85  75]\n",
      " [ 86  20]\n",
      " [ 86  95]\n",
      " [ 87  27]\n",
      " [ 87  63]\n",
      " [ 87  13]\n",
      " [ 87  75]\n",
      " [ 87  10]\n",
      " [ 87  92]\n",
      " [ 88  13]\n",
      " [ 88  86]\n",
      " [ 88  15]\n",
      " [ 88  69]\n",
      " [ 93  14]\n",
      " [ 93  90]\n",
      " [ 97  32]\n",
      " [ 97  86]\n",
      " [ 98  15]\n",
      " [ 98  88]\n",
      " [ 99  39]\n",
      " [ 99  97]\n",
      " [101  24]\n",
      " [101  68]\n",
      " [103  17]\n",
      " [103  85]\n",
      " [103  23]\n",
      " [103  69]\n",
      " [113   8]\n",
      " [113  91]\n",
      " [120  16]\n",
      " [120  79]\n",
      " [126  28]\n",
      " [126  74]\n",
      " [137  18]\n",
      " [137  83]]\n"
     ]
    }
   ],
   "execution_count": 3
  },
  {
   "cell_type": "markdown",
   "metadata": {
    "id": "czYMlG7cNBsu",
    "colab_type": "text"
   },
   "source": "## Use Dendrogram to Find Optimal Number of Clusters"
  },
  {
   "metadata": {},
   "cell_type": "markdown",
   "source": [
    "The SciPy library is used to create a dendrogram to determine the optimal number of clusters. It provides a simple `dendrogram` function that renders a visual dendrogram.\n",
    "\n",
    "* `linkage` function performs hierarchical/agglomerative clustering\n",
    "    * Parameters:\n",
    "        * `features`: Matrix of features\n",
    "        * `method`: Clustering technique\n",
    "* In hierarchical clustering, the recommended method with the most relevant results and clusters, is the method of **Minimum Variance**\n",
    "    * It is a technique that will result in having clusters where inside data points do not vary too much\n",
    "    * Among all the clusters, the data points will have a low variance\n",
    "    * The method of minimum variance consists of minimizing the variants in each of the clusters resulting from hierarchical clustering\n",
    "    * The method argument for the `linkage` function to specify minimum variance is `ward`"
   ]
  },
  {
   "cell_type": "code",
   "metadata": {
    "id": "RDQODpAFNILO",
    "colab_type": "code",
    "colab": {
     "base_uri": "https://localhost:8080/",
     "height": 295
    },
    "outputId": "8743058d-09a8-43f5-892d-6b1c140792a0",
    "executionInfo": {
     "status": "ok",
     "timestamp": 1588363683148,
     "user_tz": -240,
     "elapsed": 4948,
     "user": {
      "displayName": "Hadelin de Ponteves",
      "photoUrl": "https://lh3.googleusercontent.com/a-/AOh14GhEuXdT7eQweUmRPW8_laJuPggSK6hfvpl5a6WBaA=s64",
      "userId": "15047218817161520419"
     }
    },
    "ExecuteTime": {
     "end_time": "2025-04-01T00:02:55.304685Z",
     "start_time": "2025-04-01T00:02:53.914715Z"
    }
   },
   "source": [
    "import scipy.cluster.hierarchy as sch\n",
    "dendrogram = sch.dendrogram(sch.linkage(X, method = 'ward'))\n",
    "plt.title('Dendrogram')\n",
    "plt.xlabel('Customers')\n",
    "plt.ylabel('Euclidean Distances')\n",
    "plt.show()"
   ],
   "outputs": [
    {
     "data": {
      "text/plain": [
       "<Figure size 640x480 with 1 Axes>"
      ],
      "image/png": "[encoded data removed]"
     },
     "metadata": {},
     "output_type": "display_data"
    }
   ],
   "execution_count": 4
  },
  {
   "metadata": {},
   "cell_type": "markdown",
   "source": [
    "The optimal number of clusters is **5**.\n",
    "\n",
    "* The **longest line is the orange line** 3rd from the left in the middle of the dendrogram plot\n",
    "* The 3 long blue lines cross the blue horizontal line for the green and red grouped clusters so the optimal number of clusters cannot be 3"
   ]
  },
  {
   "cell_type": "markdown",
   "metadata": {
    "id": "KDbXbo9INLF6",
    "colab_type": "text"
   },
   "source": "## Train Hierarchical Clustering Model on Dataset"
  },
  {
   "metadata": {},
   "cell_type": "markdown",
   "source": [
    "* `AgglomerativeClustering` class from the Scikit Learn library implements the bottom up clustering approach for the agglomerative clustering type in hierarchical clustering\n",
    "    * Parameters:\n",
    "        * `n_clusters`: Optimal number of clusters\n",
    "        * `metric`: Type of distance computed to measure variance within clusters. Use `euclidean` for calculating Euclidean distance.\n",
    "        * `linkage`: Clustering type. Use `ward` for method of minimum variance."
   ]
  },
  {
   "cell_type": "code",
   "metadata": {
    "id": "IoH3zs2KNSw6",
    "colab_type": "code",
    "colab": {},
    "ExecuteTime": {
     "end_time": "2025-04-01T00:41:34.372267Z",
     "start_time": "2025-04-01T00:41:34.369145Z"
    }
   },
   "source": [
    "from sklearn.cluster import AgglomerativeClustering\n",
    "hc = AgglomerativeClustering(n_clusters = 5, metric = 'euclidean', linkage = 'ward')\n",
    "y_hc = hc.fit_predict(X)"
   ],
   "outputs": [],
   "execution_count": 9
  },
  {
   "metadata": {
    "ExecuteTime": {
     "end_time": "2025-04-01T00:41:36.896195Z",
     "start_time": "2025-04-01T00:41:36.893578Z"
    }
   },
   "cell_type": "code",
   "source": "print(y_hc)",
   "outputs": [
    {
     "name": "stdout",
     "output_type": "stream",
     "text": [
      "[4 3 4 3 4 3 4 3 4 3 4 3 4 3 4 3 4 3 4 3 4 3 4 3 4 3 4 3 4 3 4 3 4 3 4 3 4\n",
      " 3 4 3 4 3 4 1 4 1 1 1 1 1 1 1 1 1 1 1 1 1 1 1 1 1 1 1 1 1 1 1 1 1 1 1 1 1\n",
      " 1 1 1 1 1 1 1 1 1 1 1 1 1 1 1 1 1 1 1 1 1 1 1 1 1 1 1 1 1 1 1 1 1 1 1 1 1\n",
      " 1 1 1 1 1 1 1 1 1 1 1 1 2 1 2 1 2 0 2 0 2 1 2 0 2 0 2 0 2 0 2 1 2 0 2 1 2\n",
      " 0 2 0 2 0 2 0 2 0 2 0 2 1 2 0 2 0 2 0 2 0 2 0 2 0 2 0 2 0 2 0 2 0 2 0 2 0\n",
      " 2 0 2 0 2 0 2 0 2 0 2 0 2 0 2]\n"
     ]
    }
   ],
   "execution_count": 10
  },
  {
   "cell_type": "markdown",
   "metadata": {
    "id": "X-SYG7l9NVmU",
    "colab_type": "text"
   },
   "source": "## Visualize Clusters"
  },
  {
   "metadata": {},
   "cell_type": "markdown",
   "source": [
    "Create a scatter plot of each cluster:\n",
    "\n",
    "* Row index must specify all the customers for current cluster number: `y_hc == <cluster no.>`\n",
    "* Index $0$ is the column index for **Annual Income** on x-axis\n",
    "* Index $1$ is the column index for **Spending Score** on y-axis"
   ]
  },
  {
   "cell_type": "code",
   "metadata": {
    "id": "-91tDJrnNY2p",
    "colab_type": "code",
    "colab": {
     "base_uri": "https://localhost:8080/",
     "height": 295
    },
    "outputId": "fc9652fa-6e3f-4b68-c4ff-e6fd6b4bce7d",
    "executionInfo": {
     "status": "ok",
     "timestamp": 1588363703003,
     "user_tz": -240,
     "elapsed": 1290,
     "user": {
      "displayName": "Hadelin de Ponteves",
      "photoUrl": "https://lh3.googleusercontent.com/a-/AOh14GhEuXdT7eQweUmRPW8_laJuPggSK6hfvpl5a6WBaA=s64",
      "userId": "15047218817161520419"
     }
    },
    "ExecuteTime": {
     "end_time": "2025-04-01T00:42:16.691462Z",
     "start_time": "2025-04-01T00:42:16.587402Z"
    }
   },
   "source": [
    "plt.scatter(X[y_hc == 0, 0], X[y_hc == 0, 1], s = 100, color = 'red', label = 'Cluster 1')\n",
    "plt.scatter(X[y_hc == 1, 0], X[y_hc == 1, 1], s = 100, color = 'blue', label = 'Cluster 2')\n",
    "plt.scatter(X[y_hc == 2, 0], X[y_hc == 2, 1], s = 100, color = 'green', label = 'Cluster 3')\n",
    "plt.scatter(X[y_hc == 3, 0], X[y_hc == 3, 1], s = 100, color = 'cyan', label = 'Cluster 4')\n",
    "plt.scatter(X[y_hc == 4, 0], X[y_hc == 4, 1], s = 100, color = 'magenta', label = 'Cluster 5')\n",
    "plt.title('Clusters of Customers')\n",
    "plt.xlabel('Annual Income ($)')\n",
    "plt.ylabel('Spending Score (1-100)')\n",
    "plt.legend()\n",
    "plt.show()"
   ],
   "outputs": [
    {
     "data": {
      "text/plain": [
       "<Figure size 640x480 with 1 Axes>"
      ],
      "image/png": "[encoded data removed]"
     },
     "metadata": {},
     "output_type": "display_data"
    }
   ],
   "execution_count": 11
  },
  {
   "metadata": {},
   "cell_type": "markdown",
   "source": [
    "## Analysis\n",
    "\n",
    "* **Cluster 5** = customers with low annual income and spending is low in the mall\n",
    "* **Cluster 4** = customers with low annual income and spending is high in the mall\n",
    "* **Cluster 3** = customers with high annual income and spending is high in the mall\n",
    "* **Cluster 2** = customers with average annual income and spending is average in the mall\n",
    "* **Cluster 1** = customers with high annual income and spending is low in the mall"
   ]
  }
 ]
}
