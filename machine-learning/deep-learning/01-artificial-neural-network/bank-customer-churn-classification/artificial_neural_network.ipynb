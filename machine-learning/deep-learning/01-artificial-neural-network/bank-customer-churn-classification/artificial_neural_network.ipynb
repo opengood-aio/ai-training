{
 "nbformat": 4,
 "nbformat_minor": 0,
 "metadata": {
  "colab": {
   "name": "artificial_neural_network.ipynb",
   "provenance": [],
   "collapsed_sections": [],
   "toc_visible": true,
   "authorship_tag": "ABX9TyMeRFWFoGrdaL5S3dx5MWmb"
  },
  "kernelspec": {
   "name": "python3",
   "display_name": "Python 3 (ipykernel)",
   "language": "python"
  }
 },
 "cells": [
  {
   "cell_type": "markdown",
   "metadata": {
    "id": "lP6JLo1tGNBg",
    "colab_type": "text"
   },
   "source": "# Artificial Neural Network (ANN)"
  },
  {
   "metadata": {},
   "cell_type": "markdown",
   "source": [
    "## Dataset\n",
    "\n",
    "### Layout\n",
    "\n",
    "* Columns:\n",
    "\t* Row Number\n",
    "    * Customer ID\n",
    "    * Surname\n",
    "    * Credit Score\n",
    "    * Geography\n",
    "    * Gender\n",
    "    * Age\n",
    "    * Tenure\n",
    "    * Balance\n",
    "    * Number of Products\n",
    "    * Has Credit Card\n",
    "    * Is Active Member\n",
    "    * Estimated Salary\n",
    "    * Exited\n",
    "* Rows: 1000s of observations\n",
    "\t* Each row represents a customer with:\n",
    "\t    * Identification data\n",
    "\t    * Demographic data\n",
    "        * Bank account data\n",
    "* Dataset of fictional but realistic bank customers\n",
    "\n",
    "### Background\n",
    "\n",
    "* One is a data scientist working for a bank\n",
    "* The bank has seen unusually high churn rates, where customers are leaving the bank\n",
    "* The bank wants to assess what the problem is and address it\n",
    "* Six months ago, the bank first identified the problem\n",
    "* The bank captured a dataset from a sample of 10,000 customers\n",
    "    * This is a small fraction of their overall customer base, which numbers in the millions\n",
    "    * The dataset includes everything they know about their customers\n",
    "    * Based on the information captured, the bank created an estimated salary of each customer\n",
    "* The bank defined a strategy where they waited six months and tracked which customers left the bank\n",
    "    * The Exited column identifies whether a customer left the bank\n",
    "        * 1 = Yes\n",
    "        * 0 = No\n",
    "\n",
    "### Goals\n",
    "\n",
    "* Build a geodemographic segmentation model from an ANN using stochastic gradient descent identifying which customers are at the highest risk of leaving the bank"
   ]
  },
  {
   "metadata": {},
   "cell_type": "markdown",
   "source": "![Stochastic Gradient Descent](Stochastic_Gradient_Descent.png)"
  },
  {
   "metadata": {},
   "cell_type": "markdown",
   "source": "---"
  },
  {
   "cell_type": "markdown",
   "metadata": {
    "id": "gWZyYmS_UE_L",
    "colab_type": "text"
   },
   "source": "## Import Libraries"
  },
  {
   "cell_type": "code",
   "metadata": {
    "id": "MxkJoQBkUIHC",
    "colab_type": "code",
    "colab": {},
    "ExecuteTime": {
     "end_time": "2025-08-20T11:51:35.233332Z",
     "start_time": "2025-08-20T11:51:29.604651Z"
    }
   },
   "source": [
    "import numpy as np\n",
    "import pandas as pd\n",
    "import tensorflow as tf"
   ],
   "outputs": [],
   "execution_count": 1
  },
  {
   "cell_type": "code",
   "metadata": {
    "id": "ZaTwK7ojXr2F",
    "colab_type": "code",
    "outputId": "0b27a96d-d11a-43e8-ab4b-87c1f01896fe",
    "executionInfo": {
     "status": "ok",
     "timestamp": 1590257449959,
     "user_tz": -240,
     "elapsed": 2400,
     "user": {
      "displayName": "Hadelin de Ponteves",
      "photoUrl": "https://lh3.googleusercontent.com/a-/AOh14GhEuXdT7eQweUmRPW8_laJuPggSK6hfvpl5a6WBaA=s64",
      "userId": "15047218817161520419"
     }
    },
    "colab": {
     "base_uri": "https://localhost:8080/",
     "height": 34
    },
    "ExecuteTime": {
     "end_time": "2025-08-20T11:51:35.249442Z",
     "start_time": "2025-08-20T11:51:35.246019Z"
    }
   },
   "source": [
    "tf.__version__"
   ],
   "outputs": [
    {
     "data": {
      "text/plain": [
       "'2.19.0'"
      ]
     },
     "execution_count": 2,
     "metadata": {},
     "output_type": "execute_result"
    }
   ],
   "execution_count": 2
  },
  {
   "metadata": {},
   "cell_type": "markdown",
   "source": "---"
  },
  {
   "cell_type": "markdown",
   "metadata": {
    "id": "1E0Q3aoKUCRX",
    "colab_type": "text"
   },
   "source": "## Data Preprocessing"
  },
  {
   "cell_type": "markdown",
   "metadata": {
    "id": "cKWAkFVGUU0Z",
    "colab_type": "text"
   },
   "source": "### Import Dataset"
  },
  {
   "cell_type": "code",
   "metadata": {
    "id": "MXUkhkMfU4wq",
    "colab_type": "code",
    "colab": {},
    "ExecuteTime": {
     "end_time": "2025-08-20T11:51:35.286735Z",
     "start_time": "2025-08-20T11:51:35.271016Z"
    }
   },
   "source": [
    "dataset = pd.read_csv('Churn_Modelling.csv')\n",
    "X = dataset.iloc[:, 3:-1].values\n",
    "y = dataset.iloc[:, -1].values"
   ],
   "outputs": [],
   "execution_count": 3
  },
  {
   "cell_type": "code",
   "metadata": {
    "id": "VYP9cQTWbzuI",
    "colab_type": "code",
    "outputId": "797e7a64-9bac-436a-8c9c-94437e5e7587",
    "executionInfo": {
     "status": "ok",
     "timestamp": 1590257449961,
     "user_tz": -240,
     "elapsed": 2396,
     "user": {
      "displayName": "Hadelin de Ponteves",
      "photoUrl": "https://lh3.googleusercontent.com/a-/AOh14GhEuXdT7eQweUmRPW8_laJuPggSK6hfvpl5a6WBaA=s64",
      "userId": "15047218817161520419"
     }
    },
    "colab": {
     "base_uri": "https://localhost:8080/",
     "height": 137
    },
    "ExecuteTime": {
     "end_time": "2025-08-20T11:51:35.320509Z",
     "start_time": "2025-08-20T11:51:35.317763Z"
    }
   },
   "source": "print(*X[:25], sep='\\n')",
   "outputs": [
    {
     "name": "stdout",
     "output_type": "stream",
     "text": [
      "[619 'France' 'Female' 42 2 0.0 1 1 1 101348.88]\n",
      "[608 'Spain' 'Female' 41 1 83807.86 1 0 1 112542.58]\n",
      "[502 'France' 'Female' 42 8 159660.8 3 1 0 113931.57]\n",
      "[699 'France' 'Female' 39 1 0.0 2 0 0 93826.63]\n",
      "[850 'Spain' 'Female' 43 2 125510.82 1 1 1 79084.1]\n",
      "[645 'Spain' 'Male' 44 8 113755.78 2 1 0 149756.71]\n",
      "[822 'France' 'Male' 50 7 0.0 2 1 1 10062.8]\n",
      "[376 'Germany' 'Female' 29 4 115046.74 4 1 0 119346.88]\n",
      "[501 'France' 'Male' 44 4 142051.07 2 0 1 74940.5]\n",
      "[684 'France' 'Male' 27 2 134603.88 1 1 1 71725.73]\n",
      "[528 'France' 'Male' 31 6 102016.72 2 0 0 80181.12]\n",
      "[497 'Spain' 'Male' 24 3 0.0 2 1 0 76390.01]\n",
      "[476 'France' 'Female' 34 10 0.0 2 1 0 26260.98]\n",
      "[549 'France' 'Female' 25 5 0.0 2 0 0 190857.79]\n",
      "[635 'Spain' 'Female' 35 7 0.0 2 1 1 65951.65]\n",
      "[616 'Germany' 'Male' 45 3 143129.41 2 0 1 64327.26]\n",
      "[653 'Germany' 'Male' 58 1 132602.88 1 1 0 5097.67]\n",
      "[549 'Spain' 'Female' 24 9 0.0 2 1 1 14406.41]\n",
      "[587 'Spain' 'Male' 45 6 0.0 1 0 0 158684.81]\n",
      "[726 'France' 'Female' 24 6 0.0 2 1 1 54724.03]\n",
      "[732 'France' 'Male' 41 8 0.0 2 1 1 170886.17]\n",
      "[636 'Spain' 'Female' 32 8 0.0 2 1 0 138555.46]\n",
      "[510 'Spain' 'Female' 38 4 0.0 1 1 0 118913.53]\n",
      "[669 'France' 'Male' 46 3 0.0 2 0 1 8487.75]\n",
      "[846 'France' 'Female' 38 5 0.0 1 1 1 187616.16]\n"
     ]
    }
   ],
   "execution_count": 4
  },
  {
   "cell_type": "code",
   "metadata": {
    "id": "38vKGE6Nb2RR",
    "colab_type": "code",
    "outputId": "a815e42a-e0dd-4cb5-ab97-b17ead98fbc3",
    "executionInfo": {
     "status": "ok",
     "timestamp": 1590257449961,
     "user_tz": -240,
     "elapsed": 2391,
     "user": {
      "displayName": "Hadelin de Ponteves",
      "photoUrl": "https://lh3.googleusercontent.com/a-/AOh14GhEuXdT7eQweUmRPW8_laJuPggSK6hfvpl5a6WBaA=s64",
      "userId": "15047218817161520419"
     }
    },
    "colab": {
     "base_uri": "https://localhost:8080/",
     "height": 34
    },
    "ExecuteTime": {
     "end_time": "2025-08-20T11:51:35.362614Z",
     "start_time": "2025-08-20T11:51:35.360137Z"
    }
   },
   "source": "print(*y[:25], sep='\\n')",
   "outputs": [
    {
     "name": "stdout",
     "output_type": "stream",
     "text": [
      "1\n",
      "0\n",
      "1\n",
      "0\n",
      "0\n",
      "1\n",
      "0\n",
      "1\n",
      "0\n",
      "0\n",
      "0\n",
      "0\n",
      "0\n",
      "0\n",
      "0\n",
      "0\n",
      "1\n",
      "0\n",
      "0\n",
      "0\n",
      "0\n",
      "0\n",
      "1\n",
      "0\n",
      "0\n"
     ]
    }
   ],
   "execution_count": 5
  },
  {
   "cell_type": "markdown",
   "metadata": {
    "id": "N6bQ0UgSU-NJ",
    "colab_type": "text"
   },
   "source": "### Encode Categorical Data"
  },
  {
   "cell_type": "markdown",
   "metadata": {
    "id": "le5MJreAbW52",
    "colab_type": "text"
   },
   "source": "#### Label Encode Gender Column"
  },
  {
   "cell_type": "code",
   "metadata": {
    "id": "PxVKWXxLbczC",
    "colab_type": "code",
    "colab": {},
    "ExecuteTime": {
     "end_time": "2025-08-20T11:51:35.432542Z",
     "start_time": "2025-08-20T11:51:35.392110Z"
    }
   },
   "source": [
    "from sklearn.preprocessing import LabelEncoder\n",
    "\n",
    "le = LabelEncoder()\n",
    "X[:, 2] = le.fit_transform(X[:, 2])"
   ],
   "outputs": [],
   "execution_count": 6
  },
  {
   "cell_type": "code",
   "metadata": {
    "id": "-M1KboxFb6OO",
    "colab_type": "code",
    "outputId": "e2b8c7e8-0cbc-4cdf-f4eb-7f0853a00b88",
    "executionInfo": {
     "status": "ok",
     "timestamp": 1590257450295,
     "user_tz": -240,
     "elapsed": 2719,
     "user": {
      "displayName": "Hadelin de Ponteves",
      "photoUrl": "https://lh3.googleusercontent.com/a-/AOh14GhEuXdT7eQweUmRPW8_laJuPggSK6hfvpl5a6WBaA=s64",
      "userId": "15047218817161520419"
     }
    },
    "colab": {
     "base_uri": "https://localhost:8080/",
     "height": 137
    },
    "ExecuteTime": {
     "end_time": "2025-08-20T11:51:35.446855Z",
     "start_time": "2025-08-20T11:51:35.444479Z"
    }
   },
   "source": "print(*X[:25], sep='\\n')",
   "outputs": [
    {
     "name": "stdout",
     "output_type": "stream",
     "text": [
      "[619 'France' 0 42 2 0.0 1 1 1 101348.88]\n",
      "[608 'Spain' 0 41 1 83807.86 1 0 1 112542.58]\n",
      "[502 'France' 0 42 8 159660.8 3 1 0 113931.57]\n",
      "[699 'France' 0 39 1 0.0 2 0 0 93826.63]\n",
      "[850 'Spain' 0 43 2 125510.82 1 1 1 79084.1]\n",
      "[645 'Spain' 1 44 8 113755.78 2 1 0 149756.71]\n",
      "[822 'France' 1 50 7 0.0 2 1 1 10062.8]\n",
      "[376 'Germany' 0 29 4 115046.74 4 1 0 119346.88]\n",
      "[501 'France' 1 44 4 142051.07 2 0 1 74940.5]\n",
      "[684 'France' 1 27 2 134603.88 1 1 1 71725.73]\n",
      "[528 'France' 1 31 6 102016.72 2 0 0 80181.12]\n",
      "[497 'Spain' 1 24 3 0.0 2 1 0 76390.01]\n",
      "[476 'France' 0 34 10 0.0 2 1 0 26260.98]\n",
      "[549 'France' 0 25 5 0.0 2 0 0 190857.79]\n",
      "[635 'Spain' 0 35 7 0.0 2 1 1 65951.65]\n",
      "[616 'Germany' 1 45 3 143129.41 2 0 1 64327.26]\n",
      "[653 'Germany' 1 58 1 132602.88 1 1 0 5097.67]\n",
      "[549 'Spain' 0 24 9 0.0 2 1 1 14406.41]\n",
      "[587 'Spain' 1 45 6 0.0 1 0 0 158684.81]\n",
      "[726 'France' 0 24 6 0.0 2 1 1 54724.03]\n",
      "[732 'France' 1 41 8 0.0 2 1 1 170886.17]\n",
      "[636 'Spain' 0 32 8 0.0 2 1 0 138555.46]\n",
      "[510 'Spain' 0 38 4 0.0 1 1 0 118913.53]\n",
      "[669 'France' 1 46 3 0.0 2 0 1 8487.75]\n",
      "[846 'France' 0 38 5 0.0 1 1 1 187616.16]\n"
     ]
    }
   ],
   "execution_count": 7
  },
  {
   "cell_type": "markdown",
   "metadata": {
    "id": "CUxGZezpbMcb",
    "colab_type": "text"
   },
   "source": "#### One Hot Encode Geography Column"
  },
  {
   "cell_type": "code",
   "metadata": {
    "id": "AMXC8-KMVirw",
    "colab_type": "code",
    "colab": {},
    "ExecuteTime": {
     "end_time": "2025-08-20T11:51:35.862814Z",
     "start_time": "2025-08-20T11:51:35.469239Z"
    }
   },
   "source": [
    "from sklearn.compose import ColumnTransformer\n",
    "from sklearn.preprocessing import OneHotEncoder\n",
    "\n",
    "ct = ColumnTransformer(transformers=[('encoder', OneHotEncoder(), [1])], remainder='passthrough')\n",
    "X = np.array(ct.fit_transform(X))"
   ],
   "outputs": [],
   "execution_count": 8
  },
  {
   "cell_type": "code",
   "metadata": {
    "id": "ZcxwEon-b8nV",
    "colab_type": "code",
    "outputId": "23a98af4-5e33-4b26-c27b-f06e3c5d2baf",
    "executionInfo": {
     "status": "ok",
     "timestamp": 1590257450296,
     "user_tz": -240,
     "elapsed": 2713,
     "user": {
      "displayName": "Hadelin de Ponteves",
      "photoUrl": "https://lh3.googleusercontent.com/a-/AOh14GhEuXdT7eQweUmRPW8_laJuPggSK6hfvpl5a6WBaA=s64",
      "userId": "15047218817161520419"
     }
    },
    "colab": {
     "base_uri": "https://localhost:8080/",
     "height": 137
    },
    "ExecuteTime": {
     "end_time": "2025-08-20T11:51:35.878301Z",
     "start_time": "2025-08-20T11:51:35.875836Z"
    }
   },
   "source": "print(*X[:25], sep='\\n')",
   "outputs": [
    {
     "name": "stdout",
     "output_type": "stream",
     "text": [
      "[1.0 0.0 0.0 619 0 42 2 0.0 1 1 1 101348.88]\n",
      "[0.0 0.0 1.0 608 0 41 1 83807.86 1 0 1 112542.58]\n",
      "[1.0 0.0 0.0 502 0 42 8 159660.8 3 1 0 113931.57]\n",
      "[1.0 0.0 0.0 699 0 39 1 0.0 2 0 0 93826.63]\n",
      "[0.0 0.0 1.0 850 0 43 2 125510.82 1 1 1 79084.1]\n",
      "[0.0 0.0 1.0 645 1 44 8 113755.78 2 1 0 149756.71]\n",
      "[1.0 0.0 0.0 822 1 50 7 0.0 2 1 1 10062.8]\n",
      "[0.0 1.0 0.0 376 0 29 4 115046.74 4 1 0 119346.88]\n",
      "[1.0 0.0 0.0 501 1 44 4 142051.07 2 0 1 74940.5]\n",
      "[1.0 0.0 0.0 684 1 27 2 134603.88 1 1 1 71725.73]\n",
      "[1.0 0.0 0.0 528 1 31 6 102016.72 2 0 0 80181.12]\n",
      "[0.0 0.0 1.0 497 1 24 3 0.0 2 1 0 76390.01]\n",
      "[1.0 0.0 0.0 476 0 34 10 0.0 2 1 0 26260.98]\n",
      "[1.0 0.0 0.0 549 0 25 5 0.0 2 0 0 190857.79]\n",
      "[0.0 0.0 1.0 635 0 35 7 0.0 2 1 1 65951.65]\n",
      "[0.0 1.0 0.0 616 1 45 3 143129.41 2 0 1 64327.26]\n",
      "[0.0 1.0 0.0 653 1 58 1 132602.88 1 1 0 5097.67]\n",
      "[0.0 0.0 1.0 549 0 24 9 0.0 2 1 1 14406.41]\n",
      "[0.0 0.0 1.0 587 1 45 6 0.0 1 0 0 158684.81]\n",
      "[1.0 0.0 0.0 726 0 24 6 0.0 2 1 1 54724.03]\n",
      "[1.0 0.0 0.0 732 1 41 8 0.0 2 1 1 170886.17]\n",
      "[0.0 0.0 1.0 636 0 32 8 0.0 2 1 0 138555.46]\n",
      "[0.0 0.0 1.0 510 0 38 4 0.0 1 1 0 118913.53]\n",
      "[1.0 0.0 0.0 669 1 46 3 0.0 2 0 1 8487.75]\n",
      "[1.0 0.0 0.0 846 0 38 5 0.0 1 1 1 187616.16]\n"
     ]
    }
   ],
   "execution_count": 9
  },
  {
   "cell_type": "markdown",
   "metadata": {
    "id": "vHol938cW8zd",
    "colab_type": "text"
   },
   "source": "### Split Dataset into Training Set and Test Set"
  },
  {
   "cell_type": "code",
   "metadata": {
    "id": "Z-TDt0Y_XEfc",
    "colab_type": "code",
    "colab": {},
    "ExecuteTime": {
     "end_time": "2025-08-20T11:51:35.903796Z",
     "start_time": "2025-08-20T11:51:35.900157Z"
    }
   },
   "source": [
    "from sklearn.model_selection import train_test_split\n",
    "\n",
    "X_train, X_test, y_train, y_test = train_test_split(X, y, test_size=0.2, random_state=0)"
   ],
   "outputs": [],
   "execution_count": 10
  },
  {
   "cell_type": "markdown",
   "metadata": {
    "id": "RE_FcHyfV3TQ",
    "colab_type": "text"
   },
   "source": [
    "### Feature Scaling"
   ]
  },
  {
   "metadata": {},
   "cell_type": "markdown",
   "source": [
    "**IMPORTANT!**\n",
    "\n",
    "Feature scaling MUST be applied with deep learning when training neural networks:\n",
    "\n",
    "* Applied across all columns\n",
    "* As it is crucial that all values are normalized\n",
    "* This allows the ANN to learn effectively"
   ]
  },
  {
   "cell_type": "code",
   "metadata": {
    "id": "ViCrE00rV8Sk",
    "colab_type": "code",
    "colab": {},
    "ExecuteTime": {
     "end_time": "2025-08-20T11:51:35.931506Z",
     "start_time": "2025-08-20T11:51:35.921936Z"
    }
   },
   "source": [
    "from sklearn.preprocessing import StandardScaler\n",
    "\n",
    "sc = StandardScaler()\n",
    "X_train = sc.fit_transform(X_train)\n",
    "X_test = sc.transform(X_test)"
   ],
   "outputs": [],
   "execution_count": 11
  },
  {
   "metadata": {
    "ExecuteTime": {
     "end_time": "2025-08-20T11:51:35.948851Z",
     "start_time": "2025-08-20T11:51:35.945502Z"
    }
   },
   "cell_type": "code",
   "source": "print(*X_train[:25], sep='\\n')",
   "outputs": [
    {
     "name": "stdout",
     "output_type": "stream",
     "text": [
      "[-1.01460667 -0.5698444   1.74309049  0.16958176 -1.09168714 -0.46460796\n",
      "  0.00666099 -1.21571749  0.8095029   0.64259497 -1.03227043  1.10643166]\n",
      "[-1.01460667  1.75486502 -0.57369368 -2.30455945  0.91601335  0.30102557\n",
      " -1.37744033 -0.00631193 -0.92159124  0.64259497  0.9687384  -0.74866447]\n",
      "[ 0.98560362 -0.5698444  -0.57369368 -1.19119591 -1.09168714 -0.94312892\n",
      " -1.031415    0.57993469 -0.92159124  0.64259497 -1.03227043  1.48533467]\n",
      "[-1.01460667 -0.5698444   1.74309049  0.03556578  0.91601335  0.10961719\n",
      "  0.00666099  0.47312769 -0.92159124  0.64259497 -1.03227043  1.27652776]\n",
      "[-1.01460667 -0.5698444   1.74309049  2.05611444 -1.09168714  1.73658844\n",
      "  1.04473698  0.8101927   0.8095029   0.64259497  0.9687384   0.55837842]\n",
      "[-1.01460667  1.75486502 -0.57369368  1.29325423 -1.09168714 -0.17749539\n",
      " -1.031415    0.44253504  0.8095029   0.64259497 -1.03227043  1.63252134]\n",
      "[ 0.98560362 -0.5698444  -0.57369368  1.6128308   0.91601335  0.77954653\n",
      " -1.37744033  0.30432823 -0.92159124 -1.55619021 -1.03227043  0.48149647]\n",
      "[-1.01460667 -0.5698444   1.74309049 -0.54173384  0.91601335  0.20532138\n",
      "  1.04473698 -1.21571749  0.8095029   0.64259497  0.9687384   1.07382167]\n",
      "[-1.01460667 -0.5698444   1.74309049 -0.14999481  0.91601335  3.55496808\n",
      "  1.39076231  0.80633029 -0.92159124  0.64259497  0.9687384  -1.04949755]\n",
      "[ 0.98560362 -0.5698444  -0.57369368 -0.29431972 -1.09168714 -0.65601634\n",
      "  0.35268632  1.48636403  0.8095029   0.64259497 -1.03227043  0.01539358]\n",
      "[ 0.98560362 -0.5698444  -0.57369368  0.32421559 -1.09168714 -0.56031215\n",
      "  1.04473698 -0.01778603 -0.92159124  0.64259497  0.9687384  -1.17149426]\n",
      "[ 0.98560362 -0.5698444  -0.57369368  0.6128654   0.91601335  1.44947587\n",
      "  0.35268632  1.51909531 -0.92159124  0.64259497  0.9687384   1.16193387]\n",
      "[-1.01460667  1.75486502 -0.57369368 -0.58296952 -1.09168714 -0.94312892\n",
      " -0.68538967  0.87497514 -0.92159124  0.64259497 -1.03227043 -0.68000119]\n",
      "[-1.01460667 -0.5698444   1.74309049  1.49943266  0.91601335  0.20532138\n",
      "  1.04473698  0.50255426 -0.92159124  0.64259497 -1.03227043 -1.41934673]\n",
      "[-1.01460667  1.75486502 -0.57369368 -0.45926246  0.91601335 -0.08179119\n",
      " -0.68538967  0.38066467 -0.92159124 -1.55619021 -1.03227043 -1.09703345]\n",
      "[ 0.98560362 -0.5698444  -0.57369368 -0.22215726  0.91601335  0.49243395\n",
      "  0.00666099 -1.21571749  4.27169118 -1.55619021 -1.03227043  0.30243085]\n",
      "[ 0.98560362 -0.5698444  -0.57369368 -1.25304944  0.91601335  0.30102557\n",
      " -1.37744033  1.30114589 -0.92159124  0.64259497  0.9687384  -0.31104051]\n",
      "[ 0.98560362 -0.5698444  -0.57369368  1.68499326  0.91601335 -0.75172054\n",
      " -1.37744033  0.68386317 -0.92159124  0.64259497 -1.03227043  0.02662574]\n",
      "[ 0.98560362 -0.5698444  -0.57369368 -0.10875912 -1.09168714 -0.75172054\n",
      "  1.39076231  1.00325409 -0.92159124  0.64259497 -1.03227043 -0.89565769]\n",
      "[ 0.98560362 -0.5698444  -0.57369368  1.63344865  0.91601335  0.39672976\n",
      " -1.031415   -1.21571749  0.8095029   0.64259497  0.9687384   0.56897339]\n",
      "[ 0.98560362 -0.5698444  -0.57369368 -0.04690559 -1.09168714  0.30102557\n",
      " -0.68538967  1.58337214  0.8095029  -1.55619021 -1.03227043 -0.57439646]\n",
      "[ 0.98560362 -0.5698444  -0.57369368  1.01491334 -1.09168714 -1.23024149\n",
      "  0.35268632 -1.21571749  0.8095029  -1.55619021  0.9687384  -1.13363528]\n",
      "[ 0.98560362 -0.5698444  -0.57369368  0.34483343 -1.09168714  0.20532138\n",
      "  0.35268632  0.94486597  0.8095029   0.64259497  0.9687384   0.3788244 ]\n",
      "[ 0.98560362 -0.5698444  -0.57369368 -0.28401079  0.91601335 -1.03883311\n",
      "  0.69871165 -1.21571749 -0.92159124 -1.55619021 -1.03227043  0.5102003 ]\n",
      "[-1.01460667  1.75486502 -0.57369368  1.57159512 -1.09168714  1.0666591\n",
      "  1.04473698  0.35310666 -0.92159124 -1.55619021 -1.03227043 -1.35074759]\n"
     ]
    }
   ],
   "execution_count": 12
  },
  {
   "metadata": {
    "ExecuteTime": {
     "end_time": "2025-08-20T11:51:35.981713Z",
     "start_time": "2025-08-20T11:51:35.978484Z"
    }
   },
   "cell_type": "code",
   "source": "print(*X_test[:25], sep='\\n')",
   "outputs": [
    {
     "name": "stdout",
     "output_type": "stream",
     "text": [
      "[-1.01460667  1.75486502 -0.57369368 -0.55204276 -1.09168714 -0.36890377\n",
      "  1.04473698  0.8793029  -0.92159124  0.64259497  0.9687384   1.61085707]\n",
      "[ 0.98560362 -0.5698444  -0.57369368 -1.31490297 -1.09168714  0.10961719\n",
      " -1.031415    0.42972196 -0.92159124  0.64259497 -1.03227043  0.49587037]\n",
      "[-1.01460667 -0.5698444   1.74309049  0.57162971 -1.09168714  0.30102557\n",
      "  1.04473698  0.30858264 -0.92159124  0.64259497  0.9687384  -0.42478674]\n",
      "[ 0.98560362 -0.5698444  -0.57369368  1.41696129  0.91601335 -0.65601634\n",
      " -0.33936434  0.57533623 -0.92159124 -1.55619021 -1.03227043 -0.18777657]\n",
      "[-1.01460667  1.75486502 -0.57369368  0.57162971  0.91601335 -0.08179119\n",
      "  0.00666099  1.38961097  0.8095029   0.64259497  0.9687384   0.61684179]\n",
      "[-1.01460667 -0.5698444   1.74309049  0.20050853 -1.09168714  1.73658844\n",
      " -0.68538967  1.5900207   0.8095029   0.64259497 -1.03227043 -0.01930192]\n",
      "[-1.01460667 -0.5698444   1.74309049 -0.62420521  0.91601335 -0.46460796\n",
      " -1.72346566 -0.1640232   0.8095029  -1.55619021  0.9687384   1.04587113]\n",
      "[-1.01460667 -0.5698444   1.74309049 -0.14999481 -1.09168714 -0.94312892\n",
      "  0.35268632  1.30238547  0.8095029   0.64259497  0.9687384   0.01616599]\n",
      "[ 0.98560362 -0.5698444  -0.57369368 -0.54173384 -1.09168714  2.40651778\n",
      "  1.39076231 -1.21571749 -0.92159124 -1.55619021  0.9687384  -1.51196958]\n",
      "[ 0.98560362 -0.5698444  -0.57369368 -2.00560072 -1.09168714  2.31081359\n",
      " -1.37744033  1.42661775  0.8095029  -1.55619021 -1.03227043  0.70541249]\n",
      "[ 0.98560362 -0.5698444  -0.57369368 -1.57262601 -1.09168714 -0.75172054\n",
      "  1.73678764 -1.21571749  0.8095029   0.64259497 -1.03227043 -1.49960838]\n",
      "[-1.01460667 -0.5698444   1.74309049  0.65410108  0.91601335  0.58813815\n",
      "  1.04473698  1.1956988   0.8095029  -1.55619021  0.9687384   0.69030998]\n",
      "[-1.01460667  1.75486502 -0.57369368 -1.67571523 -1.09168714 -0.56031215\n",
      " -0.33936434  1.02154758 -0.92159124  0.64259497 -1.03227043  0.40743194]\n",
      "[-1.01460667  1.75486502 -0.57369368 -0.91285502 -1.09168714 -0.75172054\n",
      "  1.39076231  0.65641047 -0.92159124  0.64259497  0.9687384   0.147784  ]\n",
      "[-1.01460667  1.75486502 -0.57369368  1.25201854 -1.09168714  1.1623633\n",
      "  1.39076231  1.0843269  -0.92159124 -1.55619021  0.9687384  -0.92981543]\n",
      "[-1.01460667  1.75486502 -0.57369368  0.16958176  0.91601335  1.54518006\n",
      "  1.39076231  1.25151986 -0.92159124  0.64259497  0.9687384   0.65182564]\n",
      "[ 0.98560362 -0.5698444  -0.57369368 -1.41799218 -1.09168714  0.39672976\n",
      "  1.39076231 -1.21571749  0.8095029   0.64259497 -1.03227043  0.90949287]\n",
      "[-1.01460667 -0.5698444   1.74309049  0.25205314  0.91601335  2.59792617\n",
      "  0.00666099  0.63246367  0.8095029   0.64259497  0.9687384   0.55268395]\n",
      "[ 0.98560362 -0.5698444  -0.57369368 -0.29431972 -1.09168714 -0.84742473\n",
      " -0.33936434  0.50821077 -0.92159124 -1.55619021  0.9687384   1.6811093 ]\n",
      "[ 0.98560362 -0.5698444  -0.57369368 -1.02625316 -1.09168714  0.58813815\n",
      "  0.35268632 -1.21571749  0.8095029   0.64259497  0.9687384  -0.85215952]\n",
      "[-1.01460667  1.75486502 -0.57369368  0.12834608  0.91601335  0.30102557\n",
      "  0.69871165  0.6368806  -0.92159124  0.64259497 -1.03227043 -1.39584149]\n",
      "[ 0.98560362 -0.5698444  -0.57369368  2.05611444  0.91601335 -0.36890377\n",
      " -1.031415   -1.21571749  0.8095029   0.64259497  0.9687384  -0.75051274]\n",
      "[-1.01460667 -0.5698444   1.74309049 -1.01594424 -1.09168714 -0.46460796\n",
      " -0.33936434 -1.21571749  0.8095029   0.64259497 -1.03227043  0.69721953]\n",
      "[ 0.98560362 -0.5698444  -0.57369368 -2.12930778  0.91601335 -0.46460796\n",
      " -1.031415    1.09052801 -0.92159124  0.64259497 -1.03227043  0.21718631]\n",
      "[ 0.98560362 -0.5698444  -0.57369368  1.47881482  0.91601335 -0.36890377\n",
      "  0.35268632 -1.21571749  0.8095029   0.64259497  0.9687384  -0.54647546]\n"
     ]
    }
   ],
   "execution_count": 13
  },
  {
   "metadata": {},
   "cell_type": "markdown",
   "source": "---"
  },
  {
   "cell_type": "markdown",
   "metadata": {
    "id": "-zfEzkRVXIwF",
    "colab_type": "text"
   },
   "source": "## Build ANN"
  },
  {
   "cell_type": "markdown",
   "metadata": {
    "id": "KvdeScabXtlB",
    "colab_type": "text"
   },
   "source": "### Initialize ANN"
  },
  {
   "metadata": {},
   "cell_type": "markdown",
   "source": [
    "* The `Sequential` class is from the `models` module of the Keras library and allows one to construct a neural network made of a sequence of layers vs. a computational graph\n",
    "    * Keras is integrated into TensorFlow as of version `2.x`\n",
    "* Another type of neural network is a computation graph\n",
    "    * Neurons that are not connected in successive layers\n",
    "    * Boltzmann machines are a type of stochastic neural network with symmetrical connections between nodes, used for unsupervised learning and modeling probability distributions\n",
    "* The `ann` variable is an object instance of the `Sequential` class"
   ]
  },
  {
   "metadata": {
    "ExecuteTime": {
     "end_time": "2025-08-20T11:51:36.004480Z",
     "start_time": "2025-08-20T11:51:35.999504Z"
    }
   },
   "cell_type": "code",
   "source": "ann = tf.keras.models.Sequential()",
   "outputs": [],
   "execution_count": 14
  },
  {
   "cell_type": "markdown",
   "metadata": {
    "id": "rP6urV6SX7kS",
    "colab_type": "text"
   },
   "source": "### Add Input layer and First Hidden Layer"
  },
  {
   "metadata": {},
   "cell_type": "markdown",
   "source": [
    "* The `Dense` class is from the `layers` module of the Keras library and allows one to add a fully connected layer to an ANN\n",
    "    * An object instance of this class is used to construct a connected layer\n",
    "    * Parameters\n",
    "        * `units` defines the number of hidden neurons in a hidden layer\n",
    "        * `activation` defines the activation function\n",
    "            * Rectifier activation function (`relu`) will be used for hidden layers\n",
    "            * Sigmoid activation function (`sigmoid`) will be used for the output layer\n",
    "    * **One does not have to explicitly define the number of neurons in the input layer because TensorFlow will automatically infer the number of neurons from the number of features**\n",
    "* *How does one know how many neurons to create in hidden layer(s)?*\n",
    "    * There is no rule of thumb\n",
    "    * A satisfactory number is discovered through experimentation\n",
    "        * Experiment with hyperparameters\n",
    "            * These are parameters are not trained during model training\n",
    "* Layers:\n",
    "    * Input layer will contain `n` number of neurons, one representing each independent variable\n",
    "    * Hidden layers will contain $6$ neurons, as $6$ was determined to have the best accuracy from experimentation\n",
    "    * Output layer will contain $1$ neuron, representing the single dependent variable\n",
    "* Activation Functions:\n",
    "    * For single neuron output classification models, use `relu` activation function\n",
    "    * For multi-neuron output classification models, use `sigmoid` activation function\n",
    "    * For any neuron output regression models, use `none` activation function"
   ]
  },
  {
   "cell_type": "code",
   "metadata": {
    "id": "bppGycBXYCQr",
    "colab_type": "code",
    "colab": {},
    "ExecuteTime": {
     "end_time": "2025-08-20T11:51:36.018741Z",
     "start_time": "2025-08-20T11:51:36.016252Z"
    }
   },
   "source": "ann.add(tf.keras.layers.Dense(units=6, activation='relu'))",
   "outputs": [],
   "execution_count": 15
  },
  {
   "cell_type": "markdown",
   "metadata": {
    "id": "BELWAc_8YJze",
    "colab_type": "text"
   },
   "source": "### Add Second Hidden Layer"
  },
  {
   "metadata": {},
   "cell_type": "markdown",
   "source": "* The second hidden layer will simply use the same number of neurons and activation function as the first hidden layer"
  },
  {
   "metadata": {},
   "cell_type": "code",
   "outputs": [],
   "execution_count": null,
   "source": ""
  },
  {
   "cell_type": "code",
   "metadata": {
    "id": "JneR0u0sYRTd",
    "colab_type": "code",
    "colab": {},
    "ExecuteTime": {
     "end_time": "2025-08-20T11:51:36.025429Z",
     "start_time": "2025-08-20T11:51:36.023135Z"
    }
   },
   "source": "ann.add(tf.keras.layers.Dense(units=6, activation='relu'))",
   "outputs": [],
   "execution_count": 16
  },
  {
   "cell_type": "markdown",
   "metadata": {
    "id": "OyNEe6RXYcU4",
    "colab_type": "text"
   },
   "source": "### Add Output Layer"
  },
  {
   "metadata": {},
   "cell_type": "markdown",
   "source": [
    "* The same `add` method and `Dense` class is used to construct the output layer except it:\n",
    "    * Has only $1$ neuron\n",
    "        * Since there is only $1$ dependent variable\n",
    "    * Has Sigmoid activation function\n",
    "        * Since it gets the predictions and determines the probability of the binary outcome being $1$"
   ]
  },
  {
   "cell_type": "code",
   "metadata": {
    "id": "Cn3x41RBYfvY",
    "colab_type": "code",
    "colab": {},
    "ExecuteTime": {
     "end_time": "2025-08-20T11:51:36.031748Z",
     "start_time": "2025-08-20T11:51:36.029751Z"
    }
   },
   "source": "ann.add(tf.keras.layers.Dense(units=1, activation='sigmoid'))",
   "outputs": [],
   "execution_count": 17
  },
  {
   "metadata": {},
   "cell_type": "markdown",
   "source": [
    "* When making predictions for more than two categories for classification, use the `softmax` activation function\n",
    "* When making predictions for regression, use the regression activation functions"
   ]
  },
  {
   "metadata": {},
   "cell_type": "markdown",
   "source": "---"
  },
  {
   "cell_type": "markdown",
   "metadata": {
    "id": "JT4u2S1_Y4WG",
    "colab_type": "text"
   },
   "source": "## Train ANN"
  },
  {
   "cell_type": "markdown",
   "metadata": {
    "id": "8GWlJChhY_ZI",
    "colab_type": "text"
   },
   "source": "### Compile ANN"
  },
  {
   "metadata": {},
   "cell_type": "markdown",
   "source": [
    "* The `compile` method of `Sequential` class compiles the neural network\n",
    "    * Parameters\n",
    "        * `optimizer` defines the algorithm used to minimize loss\n",
    "            * Calculates the gradient of the cost function\n",
    "            * Updates the weights by moving in the direction of the negative gradient\n",
    "            * Optimizer will eventually converge on the global minimum, which is the acceptable level of error\n",
    "            * `adam` is a very performant optimizer that performs stochastic gradient descent (SGD)\n",
    "        * `loss` defines the algorithm to compute the cost function value, which is the difference between predictions and actual values\n",
    "            * When making binary predictions, for classification, use the `binary_crossentropy` loss function\n",
    "            * When making one or two categorical predictions, for classification, use the `categorical_crossentropy` loss function\n",
    "            * When making continuous number predictions, for regression, use the `mean_squared_error` loss function\n",
    "        * `metrics` defines the list of metrics to be evaluated by the model during training and testing"
   ]
  },
  {
   "cell_type": "code",
   "metadata": {
    "id": "fG3RrwDXZEaS",
    "colab_type": "code",
    "colab": {},
    "ExecuteTime": {
     "end_time": "2025-08-20T11:51:36.061914Z",
     "start_time": "2025-08-20T11:51:36.036725Z"
    }
   },
   "source": "ann.compile(optimizer='adam', loss='binary_crossentropy', metrics=['accuracy'])",
   "outputs": [],
   "execution_count": 18
  },
  {
   "cell_type": "markdown",
   "metadata": {
    "id": "0QR_G5u7ZLSM",
    "colab_type": "text"
   },
   "source": "### Train ANN on Training Set"
  },
  {
   "metadata": {},
   "cell_type": "markdown",
   "source": [
    "* The `fit` method of `Sequential` class trains the neural network on the training set\n",
    "    * Parameters\n",
    "        * `x` defines the matrix of features\n",
    "        * `y` defines the dependent variable vector\n",
    "        * `batch_size` defines the batch size of predictions per iteration to compare to the number of actual values\n",
    "            * This is a hyperparameter\n",
    "            * $32$ is a default batch size\n",
    "        * `epochs` defines the number of full iterations of a dataset\n",
    "            * A neural network must be trained over $n$ number of epochs to improve its accuracy over time\n",
    "            * This is a hyperparameter"
   ]
  },
  {
   "cell_type": "code",
   "metadata": {
    "id": "nHZ-LKv_ZRb3",
    "colab_type": "code",
    "outputId": "718cc4b0-b5aa-40f0-9b20-d3d31730a531",
    "executionInfo": {
     "status": "ok",
     "timestamp": 1590257481284,
     "user_tz": -240,
     "elapsed": 33685,
     "user": {
      "displayName": "Hadelin de Ponteves",
      "photoUrl": "https://lh3.googleusercontent.com/a-/AOh14GhEuXdT7eQweUmRPW8_laJuPggSK6hfvpl5a6WBaA=s64",
      "userId": "15047218817161520419"
     }
    },
    "colab": {
     "base_uri": "https://localhost:8080/",
     "height": 1000
    },
    "ExecuteTime": {
     "end_time": "2025-08-20T11:51:48.308679Z",
     "start_time": "2025-08-20T11:51:36.068156Z"
    }
   },
   "source": "ann.fit(X_train, y_train, batch_size=32, epochs=100)",
   "outputs": [
    {
     "name": "stdout",
     "output_type": "stream",
     "text": [
      "Epoch 1/100\n",
      "\u001B[1m250/250\u001B[0m \u001B[32m━━━━━━━━━━━━━━━━━━━━\u001B[0m\u001B[37m\u001B[0m \u001B[1m1s\u001B[0m 564us/step - accuracy: 0.5194 - loss: 0.6924\n",
      "Epoch 2/100\n",
      "\u001B[1m250/250\u001B[0m \u001B[32m━━━━━━━━━━━━━━━━━━━━\u001B[0m\u001B[37m\u001B[0m \u001B[1m0s\u001B[0m 511us/step - accuracy: 0.7974 - loss: 0.5061\n",
      "Epoch 3/100\n",
      "\u001B[1m250/250\u001B[0m \u001B[32m━━━━━━━━━━━━━━━━━━━━\u001B[0m\u001B[37m\u001B[0m \u001B[1m0s\u001B[0m 481us/step - accuracy: 0.8054 - loss: 0.4717\n",
      "Epoch 4/100\n",
      "\u001B[1m250/250\u001B[0m \u001B[32m━━━━━━━━━━━━━━━━━━━━\u001B[0m\u001B[37m\u001B[0m \u001B[1m0s\u001B[0m 497us/step - accuracy: 0.8151 - loss: 0.4406\n",
      "Epoch 5/100\n",
      "\u001B[1m250/250\u001B[0m \u001B[32m━━━━━━━━━━━━━━━━━━━━\u001B[0m\u001B[37m\u001B[0m \u001B[1m0s\u001B[0m 453us/step - accuracy: 0.8130 - loss: 0.4300\n",
      "Epoch 6/100\n",
      "\u001B[1m250/250\u001B[0m \u001B[32m━━━━━━━━━━━━━━━━━━━━\u001B[0m\u001B[37m\u001B[0m \u001B[1m0s\u001B[0m 422us/step - accuracy: 0.8274 - loss: 0.4077\n",
      "Epoch 7/100\n",
      "\u001B[1m250/250\u001B[0m \u001B[32m━━━━━━━━━━━━━━━━━━━━\u001B[0m\u001B[37m\u001B[0m \u001B[1m0s\u001B[0m 411us/step - accuracy: 0.8331 - loss: 0.3950\n",
      "Epoch 8/100\n",
      "\u001B[1m250/250\u001B[0m \u001B[32m━━━━━━━━━━━━━━━━━━━━\u001B[0m\u001B[37m\u001B[0m \u001B[1m0s\u001B[0m 415us/step - accuracy: 0.8469 - loss: 0.3761\n",
      "Epoch 9/100\n",
      "\u001B[1m250/250\u001B[0m \u001B[32m━━━━━━━━━━━━━━━━━━━━\u001B[0m\u001B[37m\u001B[0m \u001B[1m0s\u001B[0m 407us/step - accuracy: 0.8476 - loss: 0.3702\n",
      "Epoch 10/100\n",
      "\u001B[1m250/250\u001B[0m \u001B[32m━━━━━━━━━━━━━━━━━━━━\u001B[0m\u001B[37m\u001B[0m \u001B[1m0s\u001B[0m 426us/step - accuracy: 0.8510 - loss: 0.3603\n",
      "Epoch 11/100\n",
      "\u001B[1m250/250\u001B[0m \u001B[32m━━━━━━━━━━━━━━━━━━━━\u001B[0m\u001B[37m\u001B[0m \u001B[1m0s\u001B[0m 432us/step - accuracy: 0.8491 - loss: 0.3625\n",
      "Epoch 12/100\n",
      "\u001B[1m250/250\u001B[0m \u001B[32m━━━━━━━━━━━━━━━━━━━━\u001B[0m\u001B[37m\u001B[0m \u001B[1m0s\u001B[0m 416us/step - accuracy: 0.8558 - loss: 0.3492\n",
      "Epoch 13/100\n",
      "\u001B[1m250/250\u001B[0m \u001B[32m━━━━━━━━━━━━━━━━━━━━\u001B[0m\u001B[37m\u001B[0m \u001B[1m0s\u001B[0m 405us/step - accuracy: 0.8590 - loss: 0.3424\n",
      "Epoch 14/100\n",
      "\u001B[1m250/250\u001B[0m \u001B[32m━━━━━━━━━━━━━━━━━━━━\u001B[0m\u001B[37m\u001B[0m \u001B[1m0s\u001B[0m 404us/step - accuracy: 0.8565 - loss: 0.3479\n",
      "Epoch 15/100\n",
      "\u001B[1m250/250\u001B[0m \u001B[32m━━━━━━━━━━━━━━━━━━━━\u001B[0m\u001B[37m\u001B[0m \u001B[1m0s\u001B[0m 408us/step - accuracy: 0.8524 - loss: 0.3524\n",
      "Epoch 16/100\n",
      "\u001B[1m250/250\u001B[0m \u001B[32m━━━━━━━━━━━━━━━━━━━━\u001B[0m\u001B[37m\u001B[0m \u001B[1m0s\u001B[0m 414us/step - accuracy: 0.8569 - loss: 0.3467\n",
      "Epoch 17/100\n",
      "\u001B[1m250/250\u001B[0m \u001B[32m━━━━━━━━━━━━━━━━━━━━\u001B[0m\u001B[37m\u001B[0m \u001B[1m0s\u001B[0m 423us/step - accuracy: 0.8492 - loss: 0.3563\n",
      "Epoch 18/100\n",
      "\u001B[1m250/250\u001B[0m \u001B[32m━━━━━━━━━━━━━━━━━━━━\u001B[0m\u001B[37m\u001B[0m \u001B[1m0s\u001B[0m 421us/step - accuracy: 0.8554 - loss: 0.3500\n",
      "Epoch 19/100\n",
      "\u001B[1m250/250\u001B[0m \u001B[32m━━━━━━━━━━━━━━━━━━━━\u001B[0m\u001B[37m\u001B[0m \u001B[1m0s\u001B[0m 410us/step - accuracy: 0.8514 - loss: 0.3515\n",
      "Epoch 20/100\n",
      "\u001B[1m250/250\u001B[0m \u001B[32m━━━━━━━━━━━━━━━━━━━━\u001B[0m\u001B[37m\u001B[0m \u001B[1m0s\u001B[0m 411us/step - accuracy: 0.8507 - loss: 0.3534\n",
      "Epoch 21/100\n",
      "\u001B[1m250/250\u001B[0m \u001B[32m━━━━━━━━━━━━━━━━━━━━\u001B[0m\u001B[37m\u001B[0m \u001B[1m0s\u001B[0m 421us/step - accuracy: 0.8537 - loss: 0.3503\n",
      "Epoch 22/100\n",
      "\u001B[1m250/250\u001B[0m \u001B[32m━━━━━━━━━━━━━━━━━━━━\u001B[0m\u001B[37m\u001B[0m \u001B[1m0s\u001B[0m 408us/step - accuracy: 0.8570 - loss: 0.3491\n",
      "Epoch 23/100\n",
      "\u001B[1m250/250\u001B[0m \u001B[32m━━━━━━━━━━━━━━━━━━━━\u001B[0m\u001B[37m\u001B[0m \u001B[1m0s\u001B[0m 414us/step - accuracy: 0.8590 - loss: 0.3404\n",
      "Epoch 24/100\n",
      "\u001B[1m250/250\u001B[0m \u001B[32m━━━━━━━━━━━━━━━━━━━━\u001B[0m\u001B[37m\u001B[0m \u001B[1m0s\u001B[0m 418us/step - accuracy: 0.8556 - loss: 0.3469\n",
      "Epoch 25/100\n",
      "\u001B[1m250/250\u001B[0m \u001B[32m━━━━━━━━━━━━━━━━━━━━\u001B[0m\u001B[37m\u001B[0m \u001B[1m0s\u001B[0m 406us/step - accuracy: 0.8621 - loss: 0.3426\n",
      "Epoch 26/100\n",
      "\u001B[1m250/250\u001B[0m \u001B[32m━━━━━━━━━━━━━━━━━━━━\u001B[0m\u001B[37m\u001B[0m \u001B[1m0s\u001B[0m 445us/step - accuracy: 0.8622 - loss: 0.3353\n",
      "Epoch 27/100\n",
      "\u001B[1m250/250\u001B[0m \u001B[32m━━━━━━━━━━━━━━━━━━━━\u001B[0m\u001B[37m\u001B[0m \u001B[1m0s\u001B[0m 415us/step - accuracy: 0.8588 - loss: 0.3419\n",
      "Epoch 28/100\n",
      "\u001B[1m250/250\u001B[0m \u001B[32m━━━━━━━━━━━━━━━━━━━━\u001B[0m\u001B[37m\u001B[0m \u001B[1m0s\u001B[0m 410us/step - accuracy: 0.8619 - loss: 0.3382\n",
      "Epoch 29/100\n",
      "\u001B[1m250/250\u001B[0m \u001B[32m━━━━━━━━━━━━━━━━━━━━\u001B[0m\u001B[37m\u001B[0m \u001B[1m0s\u001B[0m 417us/step - accuracy: 0.8577 - loss: 0.3472\n",
      "Epoch 30/100\n",
      "\u001B[1m250/250\u001B[0m \u001B[32m━━━━━━━━━━━━━━━━━━━━\u001B[0m\u001B[37m\u001B[0m \u001B[1m0s\u001B[0m 417us/step - accuracy: 0.8575 - loss: 0.3452\n",
      "Epoch 31/100\n",
      "\u001B[1m250/250\u001B[0m \u001B[32m━━━━━━━━━━━━━━━━━━━━\u001B[0m\u001B[37m\u001B[0m \u001B[1m0s\u001B[0m 416us/step - accuracy: 0.8636 - loss: 0.3396\n",
      "Epoch 32/100\n",
      "\u001B[1m250/250\u001B[0m \u001B[32m━━━━━━━━━━━━━━━━━━━━\u001B[0m\u001B[37m\u001B[0m \u001B[1m0s\u001B[0m 408us/step - accuracy: 0.8597 - loss: 0.3445\n",
      "Epoch 33/100\n",
      "\u001B[1m250/250\u001B[0m \u001B[32m━━━━━━━━━━━━━━━━━━━━\u001B[0m\u001B[37m\u001B[0m \u001B[1m0s\u001B[0m 405us/step - accuracy: 0.8608 - loss: 0.3400\n",
      "Epoch 34/100\n",
      "\u001B[1m250/250\u001B[0m \u001B[32m━━━━━━━━━━━━━━━━━━━━\u001B[0m\u001B[37m\u001B[0m \u001B[1m0s\u001B[0m 412us/step - accuracy: 0.8589 - loss: 0.3363\n",
      "Epoch 35/100\n",
      "\u001B[1m250/250\u001B[0m \u001B[32m━━━━━━━━━━━━━━━━━━━━\u001B[0m\u001B[37m\u001B[0m \u001B[1m0s\u001B[0m 412us/step - accuracy: 0.8615 - loss: 0.3407\n",
      "Epoch 36/100\n",
      "\u001B[1m250/250\u001B[0m \u001B[32m━━━━━━━━━━━━━━━━━━━━\u001B[0m\u001B[37m\u001B[0m \u001B[1m0s\u001B[0m 412us/step - accuracy: 0.8627 - loss: 0.3378\n",
      "Epoch 37/100\n",
      "\u001B[1m250/250\u001B[0m \u001B[32m━━━━━━━━━━━━━━━━━━━━\u001B[0m\u001B[37m\u001B[0m \u001B[1m0s\u001B[0m 513us/step - accuracy: 0.8640 - loss: 0.3371\n",
      "Epoch 38/100\n",
      "\u001B[1m250/250\u001B[0m \u001B[32m━━━━━━━━━━━━━━━━━━━━\u001B[0m\u001B[37m\u001B[0m \u001B[1m0s\u001B[0m 419us/step - accuracy: 0.8594 - loss: 0.3375\n",
      "Epoch 39/100\n",
      "\u001B[1m250/250\u001B[0m \u001B[32m━━━━━━━━━━━━━━━━━━━━\u001B[0m\u001B[37m\u001B[0m \u001B[1m0s\u001B[0m 430us/step - accuracy: 0.8590 - loss: 0.3422\n",
      "Epoch 40/100\n",
      "\u001B[1m250/250\u001B[0m \u001B[32m━━━━━━━━━━━━━━━━━━━━\u001B[0m\u001B[37m\u001B[0m \u001B[1m0s\u001B[0m 454us/step - accuracy: 0.8623 - loss: 0.3331\n",
      "Epoch 41/100\n",
      "\u001B[1m250/250\u001B[0m \u001B[32m━━━━━━━━━━━━━━━━━━━━\u001B[0m\u001B[37m\u001B[0m \u001B[1m0s\u001B[0m 432us/step - accuracy: 0.8629 - loss: 0.3445\n",
      "Epoch 42/100\n",
      "\u001B[1m250/250\u001B[0m \u001B[32m━━━━━━━━━━━━━━━━━━━━\u001B[0m\u001B[37m\u001B[0m \u001B[1m0s\u001B[0m 433us/step - accuracy: 0.8568 - loss: 0.3525\n",
      "Epoch 43/100\n",
      "\u001B[1m250/250\u001B[0m \u001B[32m━━━━━━━━━━━━━━━━━━━━\u001B[0m\u001B[37m\u001B[0m \u001B[1m0s\u001B[0m 439us/step - accuracy: 0.8627 - loss: 0.3377\n",
      "Epoch 44/100\n",
      "\u001B[1m250/250\u001B[0m \u001B[32m━━━━━━━━━━━━━━━━━━━━\u001B[0m\u001B[37m\u001B[0m \u001B[1m0s\u001B[0m 422us/step - accuracy: 0.8618 - loss: 0.3398\n",
      "Epoch 45/100\n",
      "\u001B[1m250/250\u001B[0m \u001B[32m━━━━━━━━━━━━━━━━━━━━\u001B[0m\u001B[37m\u001B[0m \u001B[1m0s\u001B[0m 429us/step - accuracy: 0.8656 - loss: 0.3363\n",
      "Epoch 46/100\n",
      "\u001B[1m250/250\u001B[0m \u001B[32m━━━━━━━━━━━━━━━━━━━━\u001B[0m\u001B[37m\u001B[0m \u001B[1m0s\u001B[0m 447us/step - accuracy: 0.8672 - loss: 0.3353\n",
      "Epoch 47/100\n",
      "\u001B[1m250/250\u001B[0m \u001B[32m━━━━━━━━━━━━━━━━━━━━\u001B[0m\u001B[37m\u001B[0m \u001B[1m0s\u001B[0m 490us/step - accuracy: 0.8691 - loss: 0.3311\n",
      "Epoch 48/100\n",
      "\u001B[1m250/250\u001B[0m \u001B[32m━━━━━━━━━━━━━━━━━━━━\u001B[0m\u001B[37m\u001B[0m \u001B[1m0s\u001B[0m 444us/step - accuracy: 0.8610 - loss: 0.3424\n",
      "Epoch 49/100\n",
      "\u001B[1m250/250\u001B[0m \u001B[32m━━━━━━━━━━━━━━━━━━━━\u001B[0m\u001B[37m\u001B[0m \u001B[1m0s\u001B[0m 425us/step - accuracy: 0.8674 - loss: 0.3332\n",
      "Epoch 50/100\n",
      "\u001B[1m250/250\u001B[0m \u001B[32m━━━━━━━━━━━━━━━━━━━━\u001B[0m\u001B[37m\u001B[0m \u001B[1m0s\u001B[0m 434us/step - accuracy: 0.8681 - loss: 0.3304\n",
      "Epoch 51/100\n",
      "\u001B[1m250/250\u001B[0m \u001B[32m━━━━━━━━━━━━━━━━━━━━\u001B[0m\u001B[37m\u001B[0m \u001B[1m0s\u001B[0m 438us/step - accuracy: 0.8620 - loss: 0.3500\n",
      "Epoch 52/100\n",
      "\u001B[1m250/250\u001B[0m \u001B[32m━━━━━━━━━━━━━━━━━━━━\u001B[0m\u001B[37m\u001B[0m \u001B[1m0s\u001B[0m 440us/step - accuracy: 0.8618 - loss: 0.3487\n",
      "Epoch 53/100\n",
      "\u001B[1m250/250\u001B[0m \u001B[32m━━━━━━━━━━━━━━━━━━━━\u001B[0m\u001B[37m\u001B[0m \u001B[1m0s\u001B[0m 411us/step - accuracy: 0.8619 - loss: 0.3391\n",
      "Epoch 54/100\n",
      "\u001B[1m250/250\u001B[0m \u001B[32m━━━━━━━━━━━━━━━━━━━━\u001B[0m\u001B[37m\u001B[0m \u001B[1m0s\u001B[0m 433us/step - accuracy: 0.8598 - loss: 0.3459\n",
      "Epoch 55/100\n",
      "\u001B[1m250/250\u001B[0m \u001B[32m━━━━━━━━━━━━━━━━━━━━\u001B[0m\u001B[37m\u001B[0m \u001B[1m0s\u001B[0m 457us/step - accuracy: 0.8696 - loss: 0.3322\n",
      "Epoch 56/100\n",
      "\u001B[1m250/250\u001B[0m \u001B[32m━━━━━━━━━━━━━━━━━━━━\u001B[0m\u001B[37m\u001B[0m \u001B[1m0s\u001B[0m 431us/step - accuracy: 0.8678 - loss: 0.3380\n",
      "Epoch 57/100\n",
      "\u001B[1m250/250\u001B[0m \u001B[32m━━━━━━━━━━━━━━━━━━━━\u001B[0m\u001B[37m\u001B[0m \u001B[1m0s\u001B[0m 407us/step - accuracy: 0.8661 - loss: 0.3332\n",
      "Epoch 58/100\n",
      "\u001B[1m250/250\u001B[0m \u001B[32m━━━━━━━━━━━━━━━━━━━━\u001B[0m\u001B[37m\u001B[0m \u001B[1m0s\u001B[0m 419us/step - accuracy: 0.8612 - loss: 0.3417\n",
      "Epoch 59/100\n",
      "\u001B[1m250/250\u001B[0m \u001B[32m━━━━━━━━━━━━━━━━━━━━\u001B[0m\u001B[37m\u001B[0m \u001B[1m0s\u001B[0m 421us/step - accuracy: 0.8678 - loss: 0.3331\n",
      "Epoch 60/100\n",
      "\u001B[1m250/250\u001B[0m \u001B[32m━━━━━━━━━━━━━━━━━━━━\u001B[0m\u001B[37m\u001B[0m \u001B[1m0s\u001B[0m 438us/step - accuracy: 0.8631 - loss: 0.3403\n",
      "Epoch 61/100\n",
      "\u001B[1m250/250\u001B[0m \u001B[32m━━━━━━━━━━━━━━━━━━━━\u001B[0m\u001B[37m\u001B[0m \u001B[1m0s\u001B[0m 456us/step - accuracy: 0.8706 - loss: 0.3318\n",
      "Epoch 62/100\n",
      "\u001B[1m250/250\u001B[0m \u001B[32m━━━━━━━━━━━━━━━━━━━━\u001B[0m\u001B[37m\u001B[0m \u001B[1m0s\u001B[0m 421us/step - accuracy: 0.8701 - loss: 0.3307\n",
      "Epoch 63/100\n",
      "\u001B[1m250/250\u001B[0m \u001B[32m━━━━━━━━━━━━━━━━━━━━\u001B[0m\u001B[37m\u001B[0m \u001B[1m0s\u001B[0m 416us/step - accuracy: 0.8614 - loss: 0.3399\n",
      "Epoch 64/100\n",
      "\u001B[1m250/250\u001B[0m \u001B[32m━━━━━━━━━━━━━━━━━━━━\u001B[0m\u001B[37m\u001B[0m \u001B[1m0s\u001B[0m 421us/step - accuracy: 0.8605 - loss: 0.3453\n",
      "Epoch 65/100\n",
      "\u001B[1m250/250\u001B[0m \u001B[32m━━━━━━━━━━━━━━━━━━━━\u001B[0m\u001B[37m\u001B[0m \u001B[1m0s\u001B[0m 459us/step - accuracy: 0.8620 - loss: 0.3374\n",
      "Epoch 66/100\n",
      "\u001B[1m250/250\u001B[0m \u001B[32m━━━━━━━━━━━━━━━━━━━━\u001B[0m\u001B[37m\u001B[0m \u001B[1m0s\u001B[0m 449us/step - accuracy: 0.8627 - loss: 0.3395\n",
      "Epoch 67/100\n",
      "\u001B[1m250/250\u001B[0m \u001B[32m━━━━━━━━━━━━━━━━━━━━\u001B[0m\u001B[37m\u001B[0m \u001B[1m0s\u001B[0m 436us/step - accuracy: 0.8714 - loss: 0.3310\n",
      "Epoch 68/100\n",
      "\u001B[1m250/250\u001B[0m \u001B[32m━━━━━━━━━━━━━━━━━━━━\u001B[0m\u001B[37m\u001B[0m \u001B[1m0s\u001B[0m 444us/step - accuracy: 0.8735 - loss: 0.3198\n",
      "Epoch 69/100\n",
      "\u001B[1m250/250\u001B[0m \u001B[32m━━━━━━━━━━━━━━━━━━━━\u001B[0m\u001B[37m\u001B[0m \u001B[1m0s\u001B[0m 449us/step - accuracy: 0.8614 - loss: 0.3409\n",
      "Epoch 70/100\n",
      "\u001B[1m250/250\u001B[0m \u001B[32m━━━━━━━━━━━━━━━━━━━━\u001B[0m\u001B[37m\u001B[0m \u001B[1m0s\u001B[0m 468us/step - accuracy: 0.8675 - loss: 0.3347\n",
      "Epoch 71/100\n",
      "\u001B[1m250/250\u001B[0m \u001B[32m━━━━━━━━━━━━━━━━━━━━\u001B[0m\u001B[37m\u001B[0m \u001B[1m0s\u001B[0m 517us/step - accuracy: 0.8684 - loss: 0.3396\n",
      "Epoch 72/100\n",
      "\u001B[1m250/250\u001B[0m \u001B[32m━━━━━━━━━━━━━━━━━━━━\u001B[0m\u001B[37m\u001B[0m \u001B[1m0s\u001B[0m 544us/step - accuracy: 0.8592 - loss: 0.3428\n",
      "Epoch 73/100\n",
      "\u001B[1m250/250\u001B[0m \u001B[32m━━━━━━━━━━━━━━━━━━━━\u001B[0m\u001B[37m\u001B[0m \u001B[1m0s\u001B[0m 585us/step - accuracy: 0.8669 - loss: 0.3395\n",
      "Epoch 74/100\n",
      "\u001B[1m250/250\u001B[0m \u001B[32m━━━━━━━━━━━━━━━━━━━━\u001B[0m\u001B[37m\u001B[0m \u001B[1m0s\u001B[0m 515us/step - accuracy: 0.8665 - loss: 0.3328\n",
      "Epoch 75/100\n",
      "\u001B[1m250/250\u001B[0m \u001B[32m━━━━━━━━━━━━━━━━━━━━\u001B[0m\u001B[37m\u001B[0m \u001B[1m0s\u001B[0m 486us/step - accuracy: 0.8707 - loss: 0.3259\n",
      "Epoch 76/100\n",
      "\u001B[1m250/250\u001B[0m \u001B[32m━━━━━━━━━━━━━━━━━━━━\u001B[0m\u001B[37m\u001B[0m \u001B[1m0s\u001B[0m 512us/step - accuracy: 0.8678 - loss: 0.3293\n",
      "Epoch 77/100\n",
      "\u001B[1m250/250\u001B[0m \u001B[32m━━━━━━━━━━━━━━━━━━━━\u001B[0m\u001B[37m\u001B[0m \u001B[1m0s\u001B[0m 487us/step - accuracy: 0.8666 - loss: 0.3349\n",
      "Epoch 78/100\n",
      "\u001B[1m250/250\u001B[0m \u001B[32m━━━━━━━━━━━━━━━━━━━━\u001B[0m\u001B[37m\u001B[0m \u001B[1m0s\u001B[0m 489us/step - accuracy: 0.8688 - loss: 0.3332\n",
      "Epoch 79/100\n",
      "\u001B[1m250/250\u001B[0m \u001B[32m━━━━━━━━━━━━━━━━━━━━\u001B[0m\u001B[37m\u001B[0m \u001B[1m0s\u001B[0m 477us/step - accuracy: 0.8611 - loss: 0.3369\n",
      "Epoch 80/100\n",
      "\u001B[1m250/250\u001B[0m \u001B[32m━━━━━━━━━━━━━━━━━━━━\u001B[0m\u001B[37m\u001B[0m \u001B[1m0s\u001B[0m 501us/step - accuracy: 0.8710 - loss: 0.3272\n",
      "Epoch 81/100\n",
      "\u001B[1m250/250\u001B[0m \u001B[32m━━━━━━━━━━━━━━━━━━━━\u001B[0m\u001B[37m\u001B[0m \u001B[1m0s\u001B[0m 480us/step - accuracy: 0.8677 - loss: 0.3340\n",
      "Epoch 82/100\n",
      "\u001B[1m250/250\u001B[0m \u001B[32m━━━━━━━━━━━━━━━━━━━━\u001B[0m\u001B[37m\u001B[0m \u001B[1m0s\u001B[0m 514us/step - accuracy: 0.8658 - loss: 0.3356\n",
      "Epoch 83/100\n",
      "\u001B[1m250/250\u001B[0m \u001B[32m━━━━━━━━━━━━━━━━━━━━\u001B[0m\u001B[37m\u001B[0m \u001B[1m0s\u001B[0m 476us/step - accuracy: 0.8607 - loss: 0.3419\n",
      "Epoch 84/100\n",
      "\u001B[1m250/250\u001B[0m \u001B[32m━━━━━━━━━━━━━━━━━━━━\u001B[0m\u001B[37m\u001B[0m \u001B[1m0s\u001B[0m 431us/step - accuracy: 0.8647 - loss: 0.3387\n",
      "Epoch 85/100\n",
      "\u001B[1m250/250\u001B[0m \u001B[32m━━━━━━━━━━━━━━━━━━━━\u001B[0m\u001B[37m\u001B[0m \u001B[1m0s\u001B[0m 416us/step - accuracy: 0.8627 - loss: 0.3385\n",
      "Epoch 86/100\n",
      "\u001B[1m250/250\u001B[0m \u001B[32m━━━━━━━━━━━━━━━━━━━━\u001B[0m\u001B[37m\u001B[0m \u001B[1m0s\u001B[0m 407us/step - accuracy: 0.8709 - loss: 0.3304\n",
      "Epoch 87/100\n",
      "\u001B[1m250/250\u001B[0m \u001B[32m━━━━━━━━━━━━━━━━━━━━\u001B[0m\u001B[37m\u001B[0m \u001B[1m0s\u001B[0m 419us/step - accuracy: 0.8606 - loss: 0.3421\n",
      "Epoch 88/100\n",
      "\u001B[1m250/250\u001B[0m \u001B[32m━━━━━━━━━━━━━━━━━━━━\u001B[0m\u001B[37m\u001B[0m \u001B[1m0s\u001B[0m 437us/step - accuracy: 0.8612 - loss: 0.3405\n",
      "Epoch 89/100\n",
      "\u001B[1m250/250\u001B[0m \u001B[32m━━━━━━━━━━━━━━━━━━━━\u001B[0m\u001B[37m\u001B[0m \u001B[1m0s\u001B[0m 454us/step - accuracy: 0.8646 - loss: 0.3358\n",
      "Epoch 90/100\n",
      "\u001B[1m250/250\u001B[0m \u001B[32m━━━━━━━━━━━━━━━━━━━━\u001B[0m\u001B[37m\u001B[0m \u001B[1m0s\u001B[0m 423us/step - accuracy: 0.8663 - loss: 0.3286\n",
      "Epoch 91/100\n",
      "\u001B[1m250/250\u001B[0m \u001B[32m━━━━━━━━━━━━━━━━━━━━\u001B[0m\u001B[37m\u001B[0m \u001B[1m0s\u001B[0m 419us/step - accuracy: 0.8639 - loss: 0.3348\n",
      "Epoch 92/100\n",
      "\u001B[1m250/250\u001B[0m \u001B[32m━━━━━━━━━━━━━━━━━━━━\u001B[0m\u001B[37m\u001B[0m \u001B[1m0s\u001B[0m 434us/step - accuracy: 0.8677 - loss: 0.3309\n",
      "Epoch 93/100\n",
      "\u001B[1m250/250\u001B[0m \u001B[32m━━━━━━━━━━━━━━━━━━━━\u001B[0m\u001B[37m\u001B[0m \u001B[1m0s\u001B[0m 421us/step - accuracy: 0.8620 - loss: 0.3384\n",
      "Epoch 94/100\n",
      "\u001B[1m250/250\u001B[0m \u001B[32m━━━━━━━━━━━━━━━━━━━━\u001B[0m\u001B[37m\u001B[0m \u001B[1m0s\u001B[0m 403us/step - accuracy: 0.8574 - loss: 0.3521\n",
      "Epoch 95/100\n",
      "\u001B[1m250/250\u001B[0m \u001B[32m━━━━━━━━━━━━━━━━━━━━\u001B[0m\u001B[37m\u001B[0m \u001B[1m0s\u001B[0m 400us/step - accuracy: 0.8571 - loss: 0.3436\n",
      "Epoch 96/100\n",
      "\u001B[1m250/250\u001B[0m \u001B[32m━━━━━━━━━━━━━━━━━━━━\u001B[0m\u001B[37m\u001B[0m \u001B[1m0s\u001B[0m 409us/step - accuracy: 0.8706 - loss: 0.3224\n",
      "Epoch 97/100\n",
      "\u001B[1m250/250\u001B[0m \u001B[32m━━━━━━━━━━━━━━━━━━━━\u001B[0m\u001B[37m\u001B[0m \u001B[1m0s\u001B[0m 410us/step - accuracy: 0.8618 - loss: 0.3380\n",
      "Epoch 98/100\n",
      "\u001B[1m250/250\u001B[0m \u001B[32m━━━━━━━━━━━━━━━━━━━━\u001B[0m\u001B[37m\u001B[0m \u001B[1m0s\u001B[0m 413us/step - accuracy: 0.8650 - loss: 0.3375\n",
      "Epoch 99/100\n",
      "\u001B[1m250/250\u001B[0m \u001B[32m━━━━━━━━━━━━━━━━━━━━\u001B[0m\u001B[37m\u001B[0m \u001B[1m0s\u001B[0m 415us/step - accuracy: 0.8681 - loss: 0.3385\n",
      "Epoch 100/100\n",
      "\u001B[1m250/250\u001B[0m \u001B[32m━━━━━━━━━━━━━━━━━━━━\u001B[0m\u001B[37m\u001B[0m \u001B[1m0s\u001B[0m 411us/step - accuracy: 0.8650 - loss: 0.3339\n"
     ]
    },
    {
     "data": {
      "text/plain": [
       "<keras.src.callbacks.history.History at 0x11b0f27b0>"
      ]
     },
     "execution_count": 19,
     "metadata": {},
     "output_type": "execute_result"
    }
   ],
   "execution_count": 19
  },
  {
   "metadata": {},
   "cell_type": "markdown",
   "source": "---"
  },
  {
   "cell_type": "markdown",
   "metadata": {
    "id": "tJj5k2MxZga3",
    "colab_type": "text"
   },
   "source": "## Make Predictions and Evaluate Model"
  },
  {
   "cell_type": "markdown",
   "metadata": {
    "id": "84QFoqGYeXHL",
    "colab_type": "text"
   },
   "source": "### Predict Result of Single Observation"
  },
  {
   "cell_type": "markdown",
   "metadata": {
    "id": "CGRo3eacgDdC",
    "colab_type": "text"
   },
   "source": [
    "Use the ANN model to predict if the customer with the following information will leave the bank:\n",
    "\n",
    "* Geography: France\n",
    "* Credit Score: 600\n",
    "* Gender: Male\n",
    "* Age: 40 years old\n",
    "* Tenure: 3 years\n",
    "* Balance: \\$60,000\n",
    "* Number of Products: 2\n",
    "* Does this customer have a credit card: Yes\n",
    "* Is this customer an active member: Yes\n",
    "* Estimated Salary: \\$50,000\n",
    "\n",
    "So, should we say goodbye to that customer?"
   ]
  },
  {
   "metadata": {},
   "cell_type": "markdown",
   "source": "#### Make Matrix of Features for Single Customer"
  },
  {
   "metadata": {
    "ExecuteTime": {
     "end_time": "2025-08-20T11:51:48.367332Z",
     "start_time": "2025-08-20T11:51:48.365457Z"
    }
   },
   "cell_type": "code",
   "source": "X_pred = [[1, 0, 0, 600, 1, 40, 3, 60000, 2, 1, 1, 50000]]",
   "outputs": [],
   "execution_count": 20
  },
  {
   "metadata": {},
   "cell_type": "markdown",
   "source": "#### Feature Scale"
  },
  {
   "cell_type": "code",
   "metadata": {
    "id": "2d8IoCCkeWGL",
    "colab_type": "code",
    "outputId": "957f3970-e197-4c3b-a150-7f69dc567f5d",
    "executionInfo": {
     "status": "ok",
     "timestamp": 1590257481594,
     "user_tz": -240,
     "elapsed": 33990,
     "user": {
      "displayName": "Hadelin de Ponteves",
      "photoUrl": "https://lh3.googleusercontent.com/a-/AOh14GhEuXdT7eQweUmRPW8_laJuPggSK6hfvpl5a6WBaA=s64",
      "userId": "15047218817161520419"
     }
    },
    "colab": {
     "base_uri": "https://localhost:8080/",
     "height": 34
    },
    "ExecuteTime": {
     "end_time": "2025-08-20T11:51:48.373266Z",
     "start_time": "2025-08-20T11:51:48.371529Z"
    }
   },
   "source": "X_pred = sc.transform(X_pred)",
   "outputs": [],
   "execution_count": 21
  },
  {
   "metadata": {
    "ExecuteTime": {
     "end_time": "2025-08-20T11:51:48.381144Z",
     "start_time": "2025-08-20T11:51:48.379118Z"
    }
   },
   "cell_type": "code",
   "source": "print(X_pred)",
   "outputs": [
    {
     "name": "stdout",
     "output_type": "stream",
     "text": [
      "[[ 0.98560362 -0.5698444  -0.57369368 -0.52111599  0.91601335  0.10961719\n",
      "  -0.68538967 -0.2569057   0.8095029   0.64259497  0.9687384  -0.87203322]]\n"
     ]
    }
   ],
   "execution_count": 22
  },
  {
   "metadata": {},
   "cell_type": "markdown",
   "source": "#### Make Prediction"
  },
  {
   "metadata": {
    "ExecuteTime": {
     "end_time": "2025-08-20T11:51:48.591424Z",
     "start_time": "2025-08-20T11:51:48.544834Z"
    }
   },
   "cell_type": "code",
   "source": "y_pred = ann.predict(X_pred)",
   "outputs": [
    {
     "name": "stdout",
     "output_type": "stream",
     "text": [
      "\u001B[1m1/1\u001B[0m \u001B[32m━━━━━━━━━━━━━━━━━━━━\u001B[0m\u001B[37m\u001B[0m \u001B[1m0s\u001B[0m 26ms/step\n"
     ]
    }
   ],
   "execution_count": 23
  },
  {
   "metadata": {},
   "cell_type": "markdown",
   "source": "##### Display Probability"
  },
  {
   "metadata": {
    "ExecuteTime": {
     "end_time": "2025-08-20T11:51:48.618106Z",
     "start_time": "2025-08-20T11:51:48.615078Z"
    }
   },
   "cell_type": "code",
   "source": "print(y_pred)",
   "outputs": [
    {
     "name": "stdout",
     "output_type": "stream",
     "text": [
      "[[0.03467273]]\n"
     ]
    }
   ],
   "execution_count": 24
  },
  {
   "metadata": {},
   "cell_type": "markdown",
   "source": "##### Display Result"
  },
  {
   "metadata": {},
   "cell_type": "markdown",
   "source": "**Note:** A threshold of $50\\%$ or $0.5$ was chosen, meaning if the probability is greater than $50\\%$, then the customer left the bank."
  },
  {
   "metadata": {
    "ExecuteTime": {
     "end_time": "2025-08-20T11:51:48.654570Z",
     "start_time": "2025-08-20T11:51:48.652358Z"
    }
   },
   "cell_type": "code",
   "source": "print(y_pred > 0.5)",
   "outputs": [
    {
     "name": "stdout",
     "output_type": "stream",
     "text": [
      "[[False]]\n"
     ]
    }
   ],
   "execution_count": 25
  },
  {
   "metadata": {},
   "cell_type": "markdown",
   "source": "#### Result"
  },
  {
   "cell_type": "markdown",
   "metadata": {
    "id": "wGjx94g2n7OV",
    "colab_type": "text"
   },
   "source": [
    "**Therefore, our ANN model predicts that this customer stays in the bank!**\n",
    "\n",
    "**Important Notes:**\n",
    "\n",
    "1. Notice that the values of the features were all input in a double pair of square brackets\n",
    "    * That is because the `predict` method always expects a 2D array as the format of its inputs\n",
    "    * And putting values into a double pair of square brackets makes the input exactly a 2D array\n",
    "2. Notice also that the \"France\" country was not input as a string in the last column but as $1, 0, 0$ in the first three columns\n",
    "    * That is because the `predict` method expects the one-hot-encoded values of the country\n",
    "    * In the first row of the matrix of features `X`, \"France\" was encoded as $1, 0, 0$\n",
    "    * Be careful to include these values in the first three columns, because the dummy variables are always created in the first columns"
   ]
  },
  {
   "cell_type": "markdown",
   "metadata": {
    "id": "u7yx47jPZt11",
    "colab_type": "text"
   },
   "source": "### Predict Test Set Results"
  },
  {
   "cell_type": "code",
   "metadata": {
    "id": "nIyEeQdRZwgs",
    "colab_type": "code",
    "outputId": "82330ba8-9bdc-4fd1-d3cf-b6d78ee7c2a3",
    "executionInfo": {
     "status": "ok",
     "timestamp": 1590257481595,
     "user_tz": -240,
     "elapsed": 33987,
     "user": {
      "displayName": "Hadelin de Ponteves",
      "photoUrl": "https://lh3.googleusercontent.com/a-/AOh14GhEuXdT7eQweUmRPW8_laJuPggSK6hfvpl5a6WBaA=s64",
      "userId": "15047218817161520419"
     }
    },
    "colab": {
     "base_uri": "https://localhost:8080/",
     "height": 137
    },
    "ExecuteTime": {
     "end_time": "2025-08-20T11:51:48.769618Z",
     "start_time": "2025-08-20T11:51:48.701411Z"
    }
   },
   "source": [
    "y_pred = ann.predict(X_test)\n",
    "y_pred = (y_pred > 0.5)"
   ],
   "outputs": [
    {
     "name": "stdout",
     "output_type": "stream",
     "text": [
      "\u001B[1m63/63\u001B[0m \u001B[32m━━━━━━━━━━━━━━━━━━━━\u001B[0m\u001B[37m\u001B[0m \u001B[1m0s\u001B[0m 366us/step\n"
     ]
    }
   ],
   "execution_count": 26
  },
  {
   "metadata": {
    "ExecuteTime": {
     "end_time": "2025-08-20T11:51:48.779566Z",
     "start_time": "2025-08-20T11:51:48.777655Z"
    }
   },
   "cell_type": "code",
   "source": "print(np.concatenate((y_pred.reshape(len(y_pred), 1), y_test.reshape(len(y_test), 1)), 1))",
   "outputs": [
    {
     "name": "stdout",
     "output_type": "stream",
     "text": [
      "[[0 0]\n",
      " [0 1]\n",
      " [0 0]\n",
      " ...\n",
      " [0 0]\n",
      " [0 0]\n",
      " [0 0]]\n"
     ]
    }
   ],
   "execution_count": 27
  },
  {
   "cell_type": "markdown",
   "metadata": {
    "id": "o0oyfLWoaEGw",
    "colab_type": "text"
   },
   "source": "### Make Confusion Matrix"
  },
  {
   "cell_type": "code",
   "metadata": {
    "id": "ci6K_r6LaF6P",
    "colab_type": "code",
    "outputId": "4d854e9e-22d5-432f-f6e5-a102fe3ae0bd",
    "executionInfo": {
     "status": "ok",
     "timestamp": 1590257481595,
     "user_tz": -240,
     "elapsed": 33981,
     "user": {
      "displayName": "Hadelin de Ponteves",
      "photoUrl": "https://lh3.googleusercontent.com/a-/AOh14GhEuXdT7eQweUmRPW8_laJuPggSK6hfvpl5a6WBaA=s64",
      "userId": "15047218817161520419"
     }
    },
    "colab": {
     "base_uri": "https://localhost:8080/",
     "height": 68
    },
    "ExecuteTime": {
     "end_time": "2025-08-20T11:51:48.804975Z",
     "start_time": "2025-08-20T11:51:48.801426Z"
    }
   },
   "source": [
    "from sklearn.metrics import confusion_matrix\n",
    "\n",
    "cm = confusion_matrix(y_test, y_pred)"
   ],
   "outputs": [],
   "execution_count": 28
  },
  {
   "metadata": {
    "ExecuteTime": {
     "end_time": "2025-08-20T11:51:48.848585Z",
     "start_time": "2025-08-20T11:51:48.846040Z"
    }
   },
   "cell_type": "code",
   "source": "print(cm)",
   "outputs": [
    {
     "name": "stdout",
     "output_type": "stream",
     "text": [
      "[[1509   86]\n",
      " [ 192  213]]\n"
     ]
    }
   ],
   "execution_count": 29
  },
  {
   "metadata": {},
   "cell_type": "markdown",
   "source": [
    "Results:\n",
    "\n",
    "* $1479$ true negatives\n",
    "* $116$ false positives\n",
    "* $178$ false negatives\n",
    "* $227$ true positives"
   ]
  },
  {
   "metadata": {},
   "cell_type": "markdown",
   "source": "### Compute Accuracy Score"
  },
  {
   "metadata": {
    "ExecuteTime": {
     "end_time": "2025-08-20T11:51:48.898268Z",
     "start_time": "2025-08-20T11:51:48.895433Z"
    }
   },
   "cell_type": "code",
   "source": [
    "from sklearn.metrics import accuracy_score\n",
    "\n",
    "accuracy_score(y_test, y_pred)"
   ],
   "outputs": [
    {
     "data": {
      "text/plain": [
       "0.861"
      ]
     },
     "execution_count": 30,
     "metadata": {},
     "output_type": "execute_result"
    }
   ],
   "execution_count": 30
  },
  {
   "metadata": {},
   "cell_type": "markdown",
   "source": [
    "Results:\n",
    "\n",
    "Model is $85\\%$ accurate."
   ]
  }
 ]
}
