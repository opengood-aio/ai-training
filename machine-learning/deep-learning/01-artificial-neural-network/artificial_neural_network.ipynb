{
 "nbformat": 4,
 "nbformat_minor": 0,
 "metadata": {
  "colab": {
   "name": "artificial_neural_network.ipynb",
   "provenance": [],
   "collapsed_sections": [],
   "toc_visible": true,
   "authorship_tag": "ABX9TyMeRFWFoGrdaL5S3dx5MWmb"
  },
  "kernelspec": {
   "name": "python3",
   "display_name": "Python 3"
  }
 },
 "cells": [
  {
   "cell_type": "markdown",
   "metadata": {
    "id": "lP6JLo1tGNBg",
    "colab_type": "text"
   },
   "source": "# Artificial Neural Network (ANN)"
  },
  {
   "metadata": {},
   "cell_type": "markdown",
   "source": [
    "## Dataset\n",
    "\n",
    "### Layout\n",
    "\n",
    "* Columns:\n",
    "\t* Row Number\n",
    "    * Customer ID\n",
    "    * Surname\n",
    "    * Credit Score\n",
    "    * Geography\n",
    "    * Gender\n",
    "    * Age\n",
    "    * Tenure\n",
    "    * Balance\n",
    "    * Number of Products\n",
    "    * Has Credit Card\n",
    "    * Is Active Member\n",
    "    * Estimated Salary\n",
    "    * Exited\n",
    "* Rows: 1000s of observations\n",
    "\t* Each row represents a customer with:\n",
    "\t    * Identification data\n",
    "\t    * Demographic data\n",
    "        * Bank account data\n",
    "* Dataset of fictional but realistic bank customers\n",
    "\n",
    "### Background\n",
    "\n",
    "* One is a data scientist working for a bank\n",
    "* The bank has seen unusually high churn rates, where customers are leaving the bank\n",
    "* The bank wants to assess what the problem is and address it\n",
    "* Six months ago, the bank first identified the problem\n",
    "* The bank captured a dataset from a sample of 10,000 customers\n",
    "    * This is a small fraction of their overall customer base, which numbers in the millions\n",
    "    * The dataset includes everything they know about their customers\n",
    "    * Based on the information captured, the bank created an estimated salary of each customer\n",
    "* The bank defined a strategy where they waited six months and tracked which customers left the bank\n",
    "    * The Exited column identifies whether a customer left the bank\n",
    "        * 1 = Yes\n",
    "        * 0 = No\n",
    "\n",
    "### Goals\n",
    "\n",
    "* Build a geodemographic segmentation model from an ANN using stochastic gradient descent identifying which customers are at the highest risk of leaving the bank"
   ]
  },
  {
   "metadata": {},
   "cell_type": "markdown",
   "source": "![Stochastic Gradient Descent](Stochastic_Gradient_Descent.png)"
  },
  {
   "metadata": {},
   "cell_type": "markdown",
   "source": "---"
  },
  {
   "cell_type": "markdown",
   "metadata": {
    "id": "gWZyYmS_UE_L",
    "colab_type": "text"
   },
   "source": "## Import Libraries"
  },
  {
   "cell_type": "code",
   "metadata": {
    "id": "MxkJoQBkUIHC",
    "colab_type": "code",
    "colab": {},
    "ExecuteTime": {
     "end_time": "2025-07-23T22:42:50.559791Z",
     "start_time": "2025-07-23T22:42:15.252093Z"
    }
   },
   "source": [
    "import numpy as np\n",
    "import pandas as pd\n",
    "import tensorflow as tf\n",
    "from tensorflow.python.keras import Sequential"
   ],
   "outputs": [],
   "execution_count": 1
  },
  {
   "cell_type": "code",
   "metadata": {
    "id": "ZaTwK7ojXr2F",
    "colab_type": "code",
    "outputId": "0b27a96d-d11a-43e8-ab4b-87c1f01896fe",
    "executionInfo": {
     "status": "ok",
     "timestamp": 1590257449959,
     "user_tz": -240,
     "elapsed": 2400,
     "user": {
      "displayName": "Hadelin de Ponteves",
      "photoUrl": "https://lh3.googleusercontent.com/a-/AOh14GhEuXdT7eQweUmRPW8_laJuPggSK6hfvpl5a6WBaA=s64",
      "userId": "15047218817161520419"
     }
    },
    "colab": {
     "base_uri": "https://localhost:8080/",
     "height": 34
    },
    "ExecuteTime": {
     "end_time": "2025-07-23T22:42:50.579819Z",
     "start_time": "2025-07-23T22:42:50.574905Z"
    }
   },
   "source": [
    "tf.__version__"
   ],
   "outputs": [
    {
     "data": {
      "text/plain": [
       "'2.19.0'"
      ]
     },
     "execution_count": 2,
     "metadata": {},
     "output_type": "execute_result"
    }
   ],
   "execution_count": 2
  },
  {
   "metadata": {},
   "cell_type": "markdown",
   "source": "---"
  },
  {
   "cell_type": "markdown",
   "metadata": {
    "id": "1E0Q3aoKUCRX",
    "colab_type": "text"
   },
   "source": "## Data Preprocessing"
  },
  {
   "cell_type": "markdown",
   "metadata": {
    "id": "cKWAkFVGUU0Z",
    "colab_type": "text"
   },
   "source": "### Import Dataset"
  },
  {
   "cell_type": "code",
   "metadata": {
    "id": "MXUkhkMfU4wq",
    "colab_type": "code",
    "colab": {},
    "ExecuteTime": {
     "end_time": "2025-07-23T22:42:50.677246Z",
     "start_time": "2025-07-23T22:42:50.664938Z"
    }
   },
   "source": [
    "dataset = pd.read_csv('Churn_Modelling.csv')\n",
    "X = dataset.iloc[:, 3:-1].values\n",
    "y = dataset.iloc[:, -1].values"
   ],
   "outputs": [],
   "execution_count": 3
  },
  {
   "cell_type": "code",
   "metadata": {
    "id": "VYP9cQTWbzuI",
    "colab_type": "code",
    "outputId": "797e7a64-9bac-436a-8c9c-94437e5e7587",
    "executionInfo": {
     "status": "ok",
     "timestamp": 1590257449961,
     "user_tz": -240,
     "elapsed": 2396,
     "user": {
      "displayName": "Hadelin de Ponteves",
      "photoUrl": "https://lh3.googleusercontent.com/a-/AOh14GhEuXdT7eQweUmRPW8_laJuPggSK6hfvpl5a6WBaA=s64",
      "userId": "15047218817161520419"
     }
    },
    "colab": {
     "base_uri": "https://localhost:8080/",
     "height": 137
    },
    "ExecuteTime": {
     "end_time": "2025-07-23T22:42:50.734657Z",
     "start_time": "2025-07-23T22:42:50.731560Z"
    }
   },
   "source": "print(*X[:25], sep='\\n')",
   "outputs": [
    {
     "name": "stdout",
     "output_type": "stream",
     "text": [
      "[619 'France' 'Female' 42 2 0.0 1 1 1 101348.88]\n",
      "[608 'Spain' 'Female' 41 1 83807.86 1 0 1 112542.58]\n",
      "[502 'France' 'Female' 42 8 159660.8 3 1 0 113931.57]\n",
      "[699 'France' 'Female' 39 1 0.0 2 0 0 93826.63]\n",
      "[850 'Spain' 'Female' 43 2 125510.82 1 1 1 79084.1]\n",
      "[645 'Spain' 'Male' 44 8 113755.78 2 1 0 149756.71]\n",
      "[822 'France' 'Male' 50 7 0.0 2 1 1 10062.8]\n",
      "[376 'Germany' 'Female' 29 4 115046.74 4 1 0 119346.88]\n",
      "[501 'France' 'Male' 44 4 142051.07 2 0 1 74940.5]\n",
      "[684 'France' 'Male' 27 2 134603.88 1 1 1 71725.73]\n",
      "[528 'France' 'Male' 31 6 102016.72 2 0 0 80181.12]\n",
      "[497 'Spain' 'Male' 24 3 0.0 2 1 0 76390.01]\n",
      "[476 'France' 'Female' 34 10 0.0 2 1 0 26260.98]\n",
      "[549 'France' 'Female' 25 5 0.0 2 0 0 190857.79]\n",
      "[635 'Spain' 'Female' 35 7 0.0 2 1 1 65951.65]\n",
      "[616 'Germany' 'Male' 45 3 143129.41 2 0 1 64327.26]\n",
      "[653 'Germany' 'Male' 58 1 132602.88 1 1 0 5097.67]\n",
      "[549 'Spain' 'Female' 24 9 0.0 2 1 1 14406.41]\n",
      "[587 'Spain' 'Male' 45 6 0.0 1 0 0 158684.81]\n",
      "[726 'France' 'Female' 24 6 0.0 2 1 1 54724.03]\n",
      "[732 'France' 'Male' 41 8 0.0 2 1 1 170886.17]\n",
      "[636 'Spain' 'Female' 32 8 0.0 2 1 0 138555.46]\n",
      "[510 'Spain' 'Female' 38 4 0.0 1 1 0 118913.53]\n",
      "[669 'France' 'Male' 46 3 0.0 2 0 1 8487.75]\n",
      "[846 'France' 'Female' 38 5 0.0 1 1 1 187616.16]\n"
     ]
    }
   ],
   "execution_count": 4
  },
  {
   "cell_type": "code",
   "metadata": {
    "id": "38vKGE6Nb2RR",
    "colab_type": "code",
    "outputId": "a815e42a-e0dd-4cb5-ab97-b17ead98fbc3",
    "executionInfo": {
     "status": "ok",
     "timestamp": 1590257449961,
     "user_tz": -240,
     "elapsed": 2391,
     "user": {
      "displayName": "Hadelin de Ponteves",
      "photoUrl": "https://lh3.googleusercontent.com/a-/AOh14GhEuXdT7eQweUmRPW8_laJuPggSK6hfvpl5a6WBaA=s64",
      "userId": "15047218817161520419"
     }
    },
    "colab": {
     "base_uri": "https://localhost:8080/",
     "height": 34
    },
    "ExecuteTime": {
     "end_time": "2025-07-23T22:42:50.827643Z",
     "start_time": "2025-07-23T22:42:50.825703Z"
    }
   },
   "source": "print(*y[:25], sep='\\n')",
   "outputs": [
    {
     "name": "stdout",
     "output_type": "stream",
     "text": [
      "1\n",
      "0\n",
      "1\n",
      "0\n",
      "0\n",
      "1\n",
      "0\n",
      "1\n",
      "0\n",
      "0\n",
      "0\n",
      "0\n",
      "0\n",
      "0\n",
      "0\n",
      "0\n",
      "1\n",
      "0\n",
      "0\n",
      "0\n",
      "0\n",
      "0\n",
      "1\n",
      "0\n",
      "0\n"
     ]
    }
   ],
   "execution_count": 5
  },
  {
   "cell_type": "markdown",
   "metadata": {
    "id": "N6bQ0UgSU-NJ",
    "colab_type": "text"
   },
   "source": "### Encode Categorical Data"
  },
  {
   "cell_type": "markdown",
   "metadata": {
    "id": "le5MJreAbW52",
    "colab_type": "text"
   },
   "source": "#### Label Encode Gender Column"
  },
  {
   "cell_type": "code",
   "metadata": {
    "id": "PxVKWXxLbczC",
    "colab_type": "code",
    "colab": {},
    "ExecuteTime": {
     "end_time": "2025-07-23T22:42:51.048331Z",
     "start_time": "2025-07-23T22:42:50.869873Z"
    }
   },
   "source": [
    "from sklearn.preprocessing import LabelEncoder\n",
    "\n",
    "le = LabelEncoder()\n",
    "X[:, 2] = le.fit_transform(X[:, 2])"
   ],
   "outputs": [],
   "execution_count": 6
  },
  {
   "cell_type": "code",
   "metadata": {
    "id": "-M1KboxFb6OO",
    "colab_type": "code",
    "outputId": "e2b8c7e8-0cbc-4cdf-f4eb-7f0853a00b88",
    "executionInfo": {
     "status": "ok",
     "timestamp": 1590257450295,
     "user_tz": -240,
     "elapsed": 2719,
     "user": {
      "displayName": "Hadelin de Ponteves",
      "photoUrl": "https://lh3.googleusercontent.com/a-/AOh14GhEuXdT7eQweUmRPW8_laJuPggSK6hfvpl5a6WBaA=s64",
      "userId": "15047218817161520419"
     }
    },
    "colab": {
     "base_uri": "https://localhost:8080/",
     "height": 137
    },
    "ExecuteTime": {
     "end_time": "2025-07-23T22:42:51.062530Z",
     "start_time": "2025-07-23T22:42:51.059651Z"
    }
   },
   "source": "print(*X[:25], sep='\\n')",
   "outputs": [
    {
     "name": "stdout",
     "output_type": "stream",
     "text": [
      "[619 'France' 0 42 2 0.0 1 1 1 101348.88]\n",
      "[608 'Spain' 0 41 1 83807.86 1 0 1 112542.58]\n",
      "[502 'France' 0 42 8 159660.8 3 1 0 113931.57]\n",
      "[699 'France' 0 39 1 0.0 2 0 0 93826.63]\n",
      "[850 'Spain' 0 43 2 125510.82 1 1 1 79084.1]\n",
      "[645 'Spain' 1 44 8 113755.78 2 1 0 149756.71]\n",
      "[822 'France' 1 50 7 0.0 2 1 1 10062.8]\n",
      "[376 'Germany' 0 29 4 115046.74 4 1 0 119346.88]\n",
      "[501 'France' 1 44 4 142051.07 2 0 1 74940.5]\n",
      "[684 'France' 1 27 2 134603.88 1 1 1 71725.73]\n",
      "[528 'France' 1 31 6 102016.72 2 0 0 80181.12]\n",
      "[497 'Spain' 1 24 3 0.0 2 1 0 76390.01]\n",
      "[476 'France' 0 34 10 0.0 2 1 0 26260.98]\n",
      "[549 'France' 0 25 5 0.0 2 0 0 190857.79]\n",
      "[635 'Spain' 0 35 7 0.0 2 1 1 65951.65]\n",
      "[616 'Germany' 1 45 3 143129.41 2 0 1 64327.26]\n",
      "[653 'Germany' 1 58 1 132602.88 1 1 0 5097.67]\n",
      "[549 'Spain' 0 24 9 0.0 2 1 1 14406.41]\n",
      "[587 'Spain' 1 45 6 0.0 1 0 0 158684.81]\n",
      "[726 'France' 0 24 6 0.0 2 1 1 54724.03]\n",
      "[732 'France' 1 41 8 0.0 2 1 1 170886.17]\n",
      "[636 'Spain' 0 32 8 0.0 2 1 0 138555.46]\n",
      "[510 'Spain' 0 38 4 0.0 1 1 0 118913.53]\n",
      "[669 'France' 1 46 3 0.0 2 0 1 8487.75]\n",
      "[846 'France' 0 38 5 0.0 1 1 1 187616.16]\n"
     ]
    }
   ],
   "execution_count": 7
  },
  {
   "cell_type": "markdown",
   "metadata": {
    "id": "CUxGZezpbMcb",
    "colab_type": "text"
   },
   "source": "#### One Hot Encode Geography Column"
  },
  {
   "cell_type": "code",
   "metadata": {
    "id": "AMXC8-KMVirw",
    "colab_type": "code",
    "colab": {},
    "ExecuteTime": {
     "end_time": "2025-07-23T22:42:52.859132Z",
     "start_time": "2025-07-23T22:42:51.084493Z"
    }
   },
   "source": [
    "from sklearn.compose import ColumnTransformer\n",
    "from sklearn.preprocessing import OneHotEncoder\n",
    "\n",
    "ct = ColumnTransformer(transformers=[('encoder', OneHotEncoder(), [1])], remainder='passthrough')\n",
    "X = np.array(ct.fit_transform(X))"
   ],
   "outputs": [],
   "execution_count": 8
  },
  {
   "cell_type": "code",
   "metadata": {
    "id": "ZcxwEon-b8nV",
    "colab_type": "code",
    "outputId": "23a98af4-5e33-4b26-c27b-f06e3c5d2baf",
    "executionInfo": {
     "status": "ok",
     "timestamp": 1590257450296,
     "user_tz": -240,
     "elapsed": 2713,
     "user": {
      "displayName": "Hadelin de Ponteves",
      "photoUrl": "https://lh3.googleusercontent.com/a-/AOh14GhEuXdT7eQweUmRPW8_laJuPggSK6hfvpl5a6WBaA=s64",
      "userId": "15047218817161520419"
     }
    },
    "colab": {
     "base_uri": "https://localhost:8080/",
     "height": 137
    },
    "ExecuteTime": {
     "end_time": "2025-07-23T22:42:52.872209Z",
     "start_time": "2025-07-23T22:42:52.869091Z"
    }
   },
   "source": "print(*X[:25], sep='\\n')",
   "outputs": [
    {
     "name": "stdout",
     "output_type": "stream",
     "text": [
      "[1.0 0.0 0.0 619 0 42 2 0.0 1 1 1 101348.88]\n",
      "[0.0 0.0 1.0 608 0 41 1 83807.86 1 0 1 112542.58]\n",
      "[1.0 0.0 0.0 502 0 42 8 159660.8 3 1 0 113931.57]\n",
      "[1.0 0.0 0.0 699 0 39 1 0.0 2 0 0 93826.63]\n",
      "[0.0 0.0 1.0 850 0 43 2 125510.82 1 1 1 79084.1]\n",
      "[0.0 0.0 1.0 645 1 44 8 113755.78 2 1 0 149756.71]\n",
      "[1.0 0.0 0.0 822 1 50 7 0.0 2 1 1 10062.8]\n",
      "[0.0 1.0 0.0 376 0 29 4 115046.74 4 1 0 119346.88]\n",
      "[1.0 0.0 0.0 501 1 44 4 142051.07 2 0 1 74940.5]\n",
      "[1.0 0.0 0.0 684 1 27 2 134603.88 1 1 1 71725.73]\n",
      "[1.0 0.0 0.0 528 1 31 6 102016.72 2 0 0 80181.12]\n",
      "[0.0 0.0 1.0 497 1 24 3 0.0 2 1 0 76390.01]\n",
      "[1.0 0.0 0.0 476 0 34 10 0.0 2 1 0 26260.98]\n",
      "[1.0 0.0 0.0 549 0 25 5 0.0 2 0 0 190857.79]\n",
      "[0.0 0.0 1.0 635 0 35 7 0.0 2 1 1 65951.65]\n",
      "[0.0 1.0 0.0 616 1 45 3 143129.41 2 0 1 64327.26]\n",
      "[0.0 1.0 0.0 653 1 58 1 132602.88 1 1 0 5097.67]\n",
      "[0.0 0.0 1.0 549 0 24 9 0.0 2 1 1 14406.41]\n",
      "[0.0 0.0 1.0 587 1 45 6 0.0 1 0 0 158684.81]\n",
      "[1.0 0.0 0.0 726 0 24 6 0.0 2 1 1 54724.03]\n",
      "[1.0 0.0 0.0 732 1 41 8 0.0 2 1 1 170886.17]\n",
      "[0.0 0.0 1.0 636 0 32 8 0.0 2 1 0 138555.46]\n",
      "[0.0 0.0 1.0 510 0 38 4 0.0 1 1 0 118913.53]\n",
      "[1.0 0.0 0.0 669 1 46 3 0.0 2 0 1 8487.75]\n",
      "[1.0 0.0 0.0 846 0 38 5 0.0 1 1 1 187616.16]\n"
     ]
    }
   ],
   "execution_count": 9
  },
  {
   "cell_type": "markdown",
   "metadata": {
    "id": "vHol938cW8zd",
    "colab_type": "text"
   },
   "source": "### Split Dataset into Training Set and Test Set"
  },
  {
   "cell_type": "code",
   "metadata": {
    "id": "Z-TDt0Y_XEfc",
    "colab_type": "code",
    "colab": {},
    "ExecuteTime": {
     "end_time": "2025-07-23T22:42:52.908543Z",
     "start_time": "2025-07-23T22:42:52.905320Z"
    }
   },
   "source": [
    "from sklearn.model_selection import train_test_split\n",
    "\n",
    "X_train, X_test, y_train, y_test = train_test_split(X, y, test_size=0.2, random_state=0)"
   ],
   "outputs": [],
   "execution_count": 10
  },
  {
   "cell_type": "markdown",
   "metadata": {
    "id": "RE_FcHyfV3TQ",
    "colab_type": "text"
   },
   "source": [
    "### Feature Scaling"
   ]
  },
  {
   "metadata": {},
   "cell_type": "markdown",
   "source": [
    "**IMPORTANT!**\n",
    "\n",
    "Feature scaling MUST be applied with deep learning when training neural networks:\n",
    "\n",
    "* Applied across all columns\n",
    "* As it is crucial that all values are normalized\n",
    "* This allows the ANN to learn effectively"
   ]
  },
  {
   "cell_type": "code",
   "metadata": {
    "id": "ViCrE00rV8Sk",
    "colab_type": "code",
    "colab": {},
    "ExecuteTime": {
     "end_time": "2025-07-23T22:42:52.940274Z",
     "start_time": "2025-07-23T22:42:52.931091Z"
    }
   },
   "source": [
    "from sklearn.preprocessing import StandardScaler\n",
    "\n",
    "sc = StandardScaler()\n",
    "X_train = sc.fit_transform(X_train)\n",
    "X_test = sc.transform(X_test)"
   ],
   "outputs": [],
   "execution_count": 11
  },
  {
   "metadata": {
    "ExecuteTime": {
     "end_time": "2025-07-23T22:42:52.953444Z",
     "start_time": "2025-07-23T22:42:52.950107Z"
    }
   },
   "cell_type": "code",
   "source": "print(*X_train[:25], sep='\\n')",
   "outputs": [
    {
     "name": "stdout",
     "output_type": "stream",
     "text": [
      "[-1.01460667 -0.5698444   1.74309049  0.16958176 -1.09168714 -0.46460796\n",
      "  0.00666099 -1.21571749  0.8095029   0.64259497 -1.03227043  1.10643166]\n",
      "[-1.01460667  1.75486502 -0.57369368 -2.30455945  0.91601335  0.30102557\n",
      " -1.37744033 -0.00631193 -0.92159124  0.64259497  0.9687384  -0.74866447]\n",
      "[ 0.98560362 -0.5698444  -0.57369368 -1.19119591 -1.09168714 -0.94312892\n",
      " -1.031415    0.57993469 -0.92159124  0.64259497 -1.03227043  1.48533467]\n",
      "[-1.01460667 -0.5698444   1.74309049  0.03556578  0.91601335  0.10961719\n",
      "  0.00666099  0.47312769 -0.92159124  0.64259497 -1.03227043  1.27652776]\n",
      "[-1.01460667 -0.5698444   1.74309049  2.05611444 -1.09168714  1.73658844\n",
      "  1.04473698  0.8101927   0.8095029   0.64259497  0.9687384   0.55837842]\n",
      "[-1.01460667  1.75486502 -0.57369368  1.29325423 -1.09168714 -0.17749539\n",
      " -1.031415    0.44253504  0.8095029   0.64259497 -1.03227043  1.63252134]\n",
      "[ 0.98560362 -0.5698444  -0.57369368  1.6128308   0.91601335  0.77954653\n",
      " -1.37744033  0.30432823 -0.92159124 -1.55619021 -1.03227043  0.48149647]\n",
      "[-1.01460667 -0.5698444   1.74309049 -0.54173384  0.91601335  0.20532138\n",
      "  1.04473698 -1.21571749  0.8095029   0.64259497  0.9687384   1.07382167]\n",
      "[-1.01460667 -0.5698444   1.74309049 -0.14999481  0.91601335  3.55496808\n",
      "  1.39076231  0.80633029 -0.92159124  0.64259497  0.9687384  -1.04949755]\n",
      "[ 0.98560362 -0.5698444  -0.57369368 -0.29431972 -1.09168714 -0.65601634\n",
      "  0.35268632  1.48636403  0.8095029   0.64259497 -1.03227043  0.01539358]\n",
      "[ 0.98560362 -0.5698444  -0.57369368  0.32421559 -1.09168714 -0.56031215\n",
      "  1.04473698 -0.01778603 -0.92159124  0.64259497  0.9687384  -1.17149426]\n",
      "[ 0.98560362 -0.5698444  -0.57369368  0.6128654   0.91601335  1.44947587\n",
      "  0.35268632  1.51909531 -0.92159124  0.64259497  0.9687384   1.16193387]\n",
      "[-1.01460667  1.75486502 -0.57369368 -0.58296952 -1.09168714 -0.94312892\n",
      " -0.68538967  0.87497514 -0.92159124  0.64259497 -1.03227043 -0.68000119]\n",
      "[-1.01460667 -0.5698444   1.74309049  1.49943266  0.91601335  0.20532138\n",
      "  1.04473698  0.50255426 -0.92159124  0.64259497 -1.03227043 -1.41934673]\n",
      "[-1.01460667  1.75486502 -0.57369368 -0.45926246  0.91601335 -0.08179119\n",
      " -0.68538967  0.38066467 -0.92159124 -1.55619021 -1.03227043 -1.09703345]\n",
      "[ 0.98560362 -0.5698444  -0.57369368 -0.22215726  0.91601335  0.49243395\n",
      "  0.00666099 -1.21571749  4.27169118 -1.55619021 -1.03227043  0.30243085]\n",
      "[ 0.98560362 -0.5698444  -0.57369368 -1.25304944  0.91601335  0.30102557\n",
      " -1.37744033  1.30114589 -0.92159124  0.64259497  0.9687384  -0.31104051]\n",
      "[ 0.98560362 -0.5698444  -0.57369368  1.68499326  0.91601335 -0.75172054\n",
      " -1.37744033  0.68386317 -0.92159124  0.64259497 -1.03227043  0.02662574]\n",
      "[ 0.98560362 -0.5698444  -0.57369368 -0.10875912 -1.09168714 -0.75172054\n",
      "  1.39076231  1.00325409 -0.92159124  0.64259497 -1.03227043 -0.89565769]\n",
      "[ 0.98560362 -0.5698444  -0.57369368  1.63344865  0.91601335  0.39672976\n",
      " -1.031415   -1.21571749  0.8095029   0.64259497  0.9687384   0.56897339]\n",
      "[ 0.98560362 -0.5698444  -0.57369368 -0.04690559 -1.09168714  0.30102557\n",
      " -0.68538967  1.58337214  0.8095029  -1.55619021 -1.03227043 -0.57439646]\n",
      "[ 0.98560362 -0.5698444  -0.57369368  1.01491334 -1.09168714 -1.23024149\n",
      "  0.35268632 -1.21571749  0.8095029  -1.55619021  0.9687384  -1.13363528]\n",
      "[ 0.98560362 -0.5698444  -0.57369368  0.34483343 -1.09168714  0.20532138\n",
      "  0.35268632  0.94486597  0.8095029   0.64259497  0.9687384   0.3788244 ]\n",
      "[ 0.98560362 -0.5698444  -0.57369368 -0.28401079  0.91601335 -1.03883311\n",
      "  0.69871165 -1.21571749 -0.92159124 -1.55619021 -1.03227043  0.5102003 ]\n",
      "[-1.01460667  1.75486502 -0.57369368  1.57159512 -1.09168714  1.0666591\n",
      "  1.04473698  0.35310666 -0.92159124 -1.55619021 -1.03227043 -1.35074759]\n"
     ]
    }
   ],
   "execution_count": 12
  },
  {
   "metadata": {
    "ExecuteTime": {
     "end_time": "2025-07-23T22:42:52.981275Z",
     "start_time": "2025-07-23T22:42:52.977566Z"
    }
   },
   "cell_type": "code",
   "source": "print(*X_test[:25], sep='\\n')",
   "outputs": [
    {
     "name": "stdout",
     "output_type": "stream",
     "text": [
      "[-1.01460667  1.75486502 -0.57369368 -0.55204276 -1.09168714 -0.36890377\n",
      "  1.04473698  0.8793029  -0.92159124  0.64259497  0.9687384   1.61085707]\n",
      "[ 0.98560362 -0.5698444  -0.57369368 -1.31490297 -1.09168714  0.10961719\n",
      " -1.031415    0.42972196 -0.92159124  0.64259497 -1.03227043  0.49587037]\n",
      "[-1.01460667 -0.5698444   1.74309049  0.57162971 -1.09168714  0.30102557\n",
      "  1.04473698  0.30858264 -0.92159124  0.64259497  0.9687384  -0.42478674]\n",
      "[ 0.98560362 -0.5698444  -0.57369368  1.41696129  0.91601335 -0.65601634\n",
      " -0.33936434  0.57533623 -0.92159124 -1.55619021 -1.03227043 -0.18777657]\n",
      "[-1.01460667  1.75486502 -0.57369368  0.57162971  0.91601335 -0.08179119\n",
      "  0.00666099  1.38961097  0.8095029   0.64259497  0.9687384   0.61684179]\n",
      "[-1.01460667 -0.5698444   1.74309049  0.20050853 -1.09168714  1.73658844\n",
      " -0.68538967  1.5900207   0.8095029   0.64259497 -1.03227043 -0.01930192]\n",
      "[-1.01460667 -0.5698444   1.74309049 -0.62420521  0.91601335 -0.46460796\n",
      " -1.72346566 -0.1640232   0.8095029  -1.55619021  0.9687384   1.04587113]\n",
      "[-1.01460667 -0.5698444   1.74309049 -0.14999481 -1.09168714 -0.94312892\n",
      "  0.35268632  1.30238547  0.8095029   0.64259497  0.9687384   0.01616599]\n",
      "[ 0.98560362 -0.5698444  -0.57369368 -0.54173384 -1.09168714  2.40651778\n",
      "  1.39076231 -1.21571749 -0.92159124 -1.55619021  0.9687384  -1.51196958]\n",
      "[ 0.98560362 -0.5698444  -0.57369368 -2.00560072 -1.09168714  2.31081359\n",
      " -1.37744033  1.42661775  0.8095029  -1.55619021 -1.03227043  0.70541249]\n",
      "[ 0.98560362 -0.5698444  -0.57369368 -1.57262601 -1.09168714 -0.75172054\n",
      "  1.73678764 -1.21571749  0.8095029   0.64259497 -1.03227043 -1.49960838]\n",
      "[-1.01460667 -0.5698444   1.74309049  0.65410108  0.91601335  0.58813815\n",
      "  1.04473698  1.1956988   0.8095029  -1.55619021  0.9687384   0.69030998]\n",
      "[-1.01460667  1.75486502 -0.57369368 -1.67571523 -1.09168714 -0.56031215\n",
      " -0.33936434  1.02154758 -0.92159124  0.64259497 -1.03227043  0.40743194]\n",
      "[-1.01460667  1.75486502 -0.57369368 -0.91285502 -1.09168714 -0.75172054\n",
      "  1.39076231  0.65641047 -0.92159124  0.64259497  0.9687384   0.147784  ]\n",
      "[-1.01460667  1.75486502 -0.57369368  1.25201854 -1.09168714  1.1623633\n",
      "  1.39076231  1.0843269  -0.92159124 -1.55619021  0.9687384  -0.92981543]\n",
      "[-1.01460667  1.75486502 -0.57369368  0.16958176  0.91601335  1.54518006\n",
      "  1.39076231  1.25151986 -0.92159124  0.64259497  0.9687384   0.65182564]\n",
      "[ 0.98560362 -0.5698444  -0.57369368 -1.41799218 -1.09168714  0.39672976\n",
      "  1.39076231 -1.21571749  0.8095029   0.64259497 -1.03227043  0.90949287]\n",
      "[-1.01460667 -0.5698444   1.74309049  0.25205314  0.91601335  2.59792617\n",
      "  0.00666099  0.63246367  0.8095029   0.64259497  0.9687384   0.55268395]\n",
      "[ 0.98560362 -0.5698444  -0.57369368 -0.29431972 -1.09168714 -0.84742473\n",
      " -0.33936434  0.50821077 -0.92159124 -1.55619021  0.9687384   1.6811093 ]\n",
      "[ 0.98560362 -0.5698444  -0.57369368 -1.02625316 -1.09168714  0.58813815\n",
      "  0.35268632 -1.21571749  0.8095029   0.64259497  0.9687384  -0.85215952]\n",
      "[-1.01460667  1.75486502 -0.57369368  0.12834608  0.91601335  0.30102557\n",
      "  0.69871165  0.6368806  -0.92159124  0.64259497 -1.03227043 -1.39584149]\n",
      "[ 0.98560362 -0.5698444  -0.57369368  2.05611444  0.91601335 -0.36890377\n",
      " -1.031415   -1.21571749  0.8095029   0.64259497  0.9687384  -0.75051274]\n",
      "[-1.01460667 -0.5698444   1.74309049 -1.01594424 -1.09168714 -0.46460796\n",
      " -0.33936434 -1.21571749  0.8095029   0.64259497 -1.03227043  0.69721953]\n",
      "[ 0.98560362 -0.5698444  -0.57369368 -2.12930778  0.91601335 -0.46460796\n",
      " -1.031415    1.09052801 -0.92159124  0.64259497 -1.03227043  0.21718631]\n",
      "[ 0.98560362 -0.5698444  -0.57369368  1.47881482  0.91601335 -0.36890377\n",
      "  0.35268632 -1.21571749  0.8095029   0.64259497  0.9687384  -0.54647546]\n"
     ]
    }
   ],
   "execution_count": 13
  },
  {
   "metadata": {},
   "cell_type": "markdown",
   "source": "---"
  },
  {
   "cell_type": "markdown",
   "metadata": {
    "id": "-zfEzkRVXIwF",
    "colab_type": "text"
   },
   "source": "## Build ANN"
  },
  {
   "cell_type": "markdown",
   "metadata": {
    "id": "KvdeScabXtlB",
    "colab_type": "text"
   },
   "source": "### Initialize ANN"
  },
  {
   "metadata": {},
   "cell_type": "markdown",
   "source": [
    "* The `Sequential` class is from the `models` module of the Keras libray and allows one to construct a neural network made of a sequence of layers vs. a computational graph\n",
    "    * Keras is integrated into TensorFlow as of version `2.x`\n",
    "* Another type of neural network is a computation graph\n",
    "    * Neurons that are not connected in successive layers\n",
    "    * Boltzmann machines are a type of stochastic neural network with symmetrical connections between nodes, used for unsupervised learning and modeling probability distributions\n",
    "* The `ann` variable is an object instance of the `Sequential` class"
   ]
  },
  {
   "metadata": {
    "ExecuteTime": {
     "end_time": "2025-07-23T22:42:53.009126Z",
     "start_time": "2025-07-23T22:42:53.005763Z"
    }
   },
   "cell_type": "code",
   "source": "ann = tf.keras.models.Sequential()",
   "outputs": [],
   "execution_count": 14
  },
  {
   "cell_type": "markdown",
   "metadata": {
    "id": "rP6urV6SX7kS",
    "colab_type": "text"
   },
   "source": "### Add Input layer and First Hidden Layer"
  },
  {
   "metadata": {},
   "cell_type": "markdown",
   "source": [
    "* The `Dense` class is from the `layers` module of the Keras library and allows one to add a fully connected layer to an ANN\n",
    "    * An object instance of this class is used to construct a connected layer\n",
    "    * Parameters\n",
    "        * `units` defines the number of hidden neurons in a hidden layer\n",
    "        * `activation` defines the activation function\n",
    "            * Rectifier activation function (`relu`) will be used for hidden layers\n",
    "            * Sigmoid activation function (`sigmoid`) will be used for the output layer\n",
    "* *How does one know how many neurons to create in hidden layer(s)?*\n",
    "    * There is no rule of thumb\n",
    "    * A satisfactory number is discovered through experimentation\n",
    "        * Experiment with hyperparameters\n",
    "            * These are parameters are not trained during model training\n",
    "* Layers:\n",
    "    * Input layer will contain `n` number of neurons, one representing each independent variable\n",
    "    * Hidden layers will contain $6$ neurons, as $6$ was determined to have the best accuracy from experimentation\n",
    "    * Output layer will contain $1$ neuron, representing the single dependent variable"
   ]
  },
  {
   "cell_type": "code",
   "metadata": {
    "id": "bppGycBXYCQr",
    "colab_type": "code",
    "colab": {},
    "ExecuteTime": {
     "end_time": "2025-07-23T22:42:53.042836Z",
     "start_time": "2025-07-23T22:42:53.040300Z"
    }
   },
   "source": "ann.add(tf.keras.layers.Dense(units=6, activation='relu'))",
   "outputs": [],
   "execution_count": 15
  },
  {
   "cell_type": "markdown",
   "metadata": {
    "id": "BELWAc_8YJze",
    "colab_type": "text"
   },
   "source": "### Add Second Hidden Layer"
  },
  {
   "metadata": {},
   "cell_type": "markdown",
   "source": "* The second hidden layer will simply use the same number of neurons and activation function as the first hidden layer"
  },
  {
   "cell_type": "code",
   "metadata": {
    "id": "JneR0u0sYRTd",
    "colab_type": "code",
    "colab": {},
    "ExecuteTime": {
     "end_time": "2025-07-23T22:42:53.061647Z",
     "start_time": "2025-07-23T22:42:53.059258Z"
    }
   },
   "source": "ann.add(tf.keras.layers.Dense(units=6, activation='relu'))",
   "outputs": [],
   "execution_count": 16
  },
  {
   "cell_type": "markdown",
   "metadata": {
    "id": "OyNEe6RXYcU4",
    "colab_type": "text"
   },
   "source": "### Add Output Layer"
  },
  {
   "metadata": {},
   "cell_type": "markdown",
   "source": [
    "* The same `add` method and `Dense` class is used to construct the output layer except it:\n",
    "    * Has only $1$ neuron\n",
    "        * Since there is only $1$ dependent variable\n",
    "    * Has Sigmoid activation function\n",
    "        * Since it gets the predictions and determines the probability of the binary outcome being $1$"
   ]
  },
  {
   "cell_type": "code",
   "metadata": {
    "id": "Cn3x41RBYfvY",
    "colab_type": "code",
    "colab": {},
    "ExecuteTime": {
     "end_time": "2025-07-23T22:53:35.228437Z",
     "start_time": "2025-07-23T22:53:35.226290Z"
    }
   },
   "source": "ann.add(tf.keras.layers.Dense(units=1, activation='sigmoid'))",
   "outputs": [],
   "execution_count": 19
  },
  {
   "metadata": {},
   "cell_type": "markdown",
   "source": "---"
  },
  {
   "cell_type": "markdown",
   "metadata": {
    "id": "JT4u2S1_Y4WG",
    "colab_type": "text"
   },
   "source": "## Train ANN"
  },
  {
   "cell_type": "markdown",
   "metadata": {
    "id": "8GWlJChhY_ZI",
    "colab_type": "text"
   },
   "source": "### Compile ANN"
  },
  {
   "cell_type": "code",
   "metadata": {
    "id": "fG3RrwDXZEaS",
    "colab_type": "code",
    "colab": {},
    "ExecuteTime": {
     "end_time": "2025-07-23T22:42:53.101038Z",
     "start_time": "2025-07-23T22:42:53.099775Z"
    }
   },
   "source": "",
   "outputs": [],
   "execution_count": null
  },
  {
   "cell_type": "markdown",
   "metadata": {
    "id": "0QR_G5u7ZLSM",
    "colab_type": "text"
   },
   "source": "### Train ANN on Training Set"
  },
  {
   "cell_type": "code",
   "metadata": {
    "id": "nHZ-LKv_ZRb3",
    "colab_type": "code",
    "outputId": "718cc4b0-b5aa-40f0-9b20-d3d31730a531",
    "executionInfo": {
     "status": "ok",
     "timestamp": 1590257481284,
     "user_tz": -240,
     "elapsed": 33685,
     "user": {
      "displayName": "Hadelin de Ponteves",
      "photoUrl": "https://lh3.googleusercontent.com/a-/AOh14GhEuXdT7eQweUmRPW8_laJuPggSK6hfvpl5a6WBaA=s64",
      "userId": "15047218817161520419"
     }
    },
    "colab": {
     "base_uri": "https://localhost:8080/",
     "height": 1000
    },
    "ExecuteTime": {
     "end_time": "2025-07-23T22:42:53.125669Z",
     "start_time": "2025-07-23T22:42:53.123987Z"
    }
   },
   "source": "",
   "outputs": [],
   "execution_count": null
  },
  {
   "metadata": {},
   "cell_type": "markdown",
   "source": "---"
  },
  {
   "cell_type": "markdown",
   "metadata": {
    "id": "tJj5k2MxZga3",
    "colab_type": "text"
   },
   "source": "## Make Predictions and Evaluate Model"
  },
  {
   "cell_type": "markdown",
   "metadata": {
    "id": "84QFoqGYeXHL",
    "colab_type": "text"
   },
   "source": "### Predict Result of Single Observation"
  },
  {
   "cell_type": "markdown",
   "metadata": {
    "id": "CGRo3eacgDdC",
    "colab_type": "text"
   },
   "source": [
    "**Homework**\n",
    "\n",
    "Use our ANN model to predict if the customer with the following informations will leave the bank: \n",
    "\n",
    "Geography: France\n",
    "\n",
    "Credit Score: 600\n",
    "\n",
    "Gender: Male\n",
    "\n",
    "Age: 40 years old\n",
    "\n",
    "Tenure: 3 years\n",
    "\n",
    "Balance: \\$ 60000\n",
    "\n",
    "Number of Products: 2\n",
    "\n",
    "Does this customer have a credit card? Yes\n",
    "\n",
    "Is this customer an Active Member: Yes\n",
    "\n",
    "Estimated Salary: \\$ 50000\n",
    "\n",
    "So, should we say goodbye to that customer?"
   ]
  },
  {
   "cell_type": "markdown",
   "metadata": {
    "id": "ZhU1LTgPg-kH",
    "colab_type": "text"
   },
   "source": [
    "**Solution**"
   ]
  },
  {
   "cell_type": "code",
   "metadata": {
    "id": "2d8IoCCkeWGL",
    "colab_type": "code",
    "outputId": "957f3970-e197-4c3b-a150-7f69dc567f5d",
    "executionInfo": {
     "status": "ok",
     "timestamp": 1590257481594,
     "user_tz": -240,
     "elapsed": 33990,
     "user": {
      "displayName": "Hadelin de Ponteves",
      "photoUrl": "https://lh3.googleusercontent.com/a-/AOh14GhEuXdT7eQweUmRPW8_laJuPggSK6hfvpl5a6WBaA=s64",
      "userId": "15047218817161520419"
     }
    },
    "colab": {
     "base_uri": "https://localhost:8080/",
     "height": 34
    },
    "ExecuteTime": {
     "end_time": "2025-07-23T22:42:53.158071Z",
     "start_time": "2025-07-23T22:42:53.156558Z"
    }
   },
   "source": "",
   "outputs": [],
   "execution_count": null
  },
  {
   "cell_type": "markdown",
   "metadata": {
    "id": "wGjx94g2n7OV",
    "colab_type": "text"
   },
   "source": [
    "Therefore, our ANN model predicts that this customer stays in the bank!\n",
    "\n",
    "**Important note 1:** Notice that the values of the features were all input in a double pair of square brackets. That's because the \"predict\" method always expects a 2D array as the format of its inputs. And putting our values into a double pair of square brackets makes the input exactly a 2D array.\n",
    "\n",
    "**Important note 2:** Notice also that the \"France\" country was not input as a string in the last column but as \"1, 0, 0\" in the first three columns. That's because of course the predict method expects the one-hot-encoded values of the state, and as we see in the first row of the matrix of features X, \"France\" was encoded as \"1, 0, 0\". And be careful to include these values in the first three columns, because the dummy variables are always created in the first columns."
   ]
  },
  {
   "cell_type": "markdown",
   "metadata": {
    "id": "u7yx47jPZt11",
    "colab_type": "text"
   },
   "source": "### Predict Test Set Results"
  },
  {
   "cell_type": "code",
   "metadata": {
    "id": "nIyEeQdRZwgs",
    "colab_type": "code",
    "outputId": "82330ba8-9bdc-4fd1-d3cf-b6d78ee7c2a3",
    "executionInfo": {
     "status": "ok",
     "timestamp": 1590257481595,
     "user_tz": -240,
     "elapsed": 33987,
     "user": {
      "displayName": "Hadelin de Ponteves",
      "photoUrl": "https://lh3.googleusercontent.com/a-/AOh14GhEuXdT7eQweUmRPW8_laJuPggSK6hfvpl5a6WBaA=s64",
      "userId": "15047218817161520419"
     }
    },
    "colab": {
     "base_uri": "https://localhost:8080/",
     "height": 137
    },
    "ExecuteTime": {
     "end_time": "2025-07-23T22:42:53.196621Z",
     "start_time": "2025-07-23T22:42:53.194993Z"
    }
   },
   "source": "",
   "outputs": [],
   "execution_count": null
  },
  {
   "cell_type": "markdown",
   "metadata": {
    "id": "o0oyfLWoaEGw",
    "colab_type": "text"
   },
   "source": "### Make Confusion Matrix"
  },
  {
   "cell_type": "code",
   "metadata": {
    "id": "ci6K_r6LaF6P",
    "colab_type": "code",
    "outputId": "4d854e9e-22d5-432f-f6e5-a102fe3ae0bd",
    "executionInfo": {
     "status": "ok",
     "timestamp": 1590257481595,
     "user_tz": -240,
     "elapsed": 33981,
     "user": {
      "displayName": "Hadelin de Ponteves",
      "photoUrl": "https://lh3.googleusercontent.com/a-/AOh14GhEuXdT7eQweUmRPW8_laJuPggSK6hfvpl5a6WBaA=s64",
      "userId": "15047218817161520419"
     }
    },
    "colab": {
     "base_uri": "https://localhost:8080/",
     "height": 68
    },
    "ExecuteTime": {
     "end_time": "2025-07-23T22:42:53.240849Z",
     "start_time": "2025-07-23T22:42:53.238917Z"
    }
   },
   "source": "",
   "outputs": [],
   "execution_count": null
  },
  {
   "metadata": {},
   "cell_type": "markdown",
   "source": "### Compute Accuracy Score"
  },
  {
   "metadata": {
    "ExecuteTime": {
     "end_time": "2025-07-23T22:42:53.274011Z",
     "start_time": "2025-07-23T22:42:53.272484Z"
    }
   },
   "cell_type": "code",
   "source": "",
   "outputs": [],
   "execution_count": null
  }
 ]
}
