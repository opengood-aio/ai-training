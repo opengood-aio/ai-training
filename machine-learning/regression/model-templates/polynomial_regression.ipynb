{
 "cells": [
  {
   "cell_type": "markdown",
   "source": [
    "# Polynomial Regression"
   ],
   "attachments": {},
   "metadata": {
    "datalore": {
     "node_id": "mhL9yVW4638dMCTGWIuJQ2",
     "type": "MD",
     "hide_input_from_viewers": false,
     "hide_output_from_viewers": false,
     "report_properties": {
      "rowId": "N5CJjLiCzFgPkpSWWAQL1n"
     }
    }
   }
  },
  {
   "cell_type": "markdown",
   "source": "## Import Libraries",
   "attachments": {},
   "metadata": {
    "datalore": {
     "node_id": "EnE2ngwEekR7OlQp43F8Vc",
     "type": "MD",
     "hide_input_from_viewers": false,
     "hide_output_from_viewers": false,
     "report_properties": {
      "rowId": "Iz9I9PsQvu6M9MIiUU45sO"
     }
    }
   }
  },
  {
   "cell_type": "code",
   "source": [
    "import numpy as np\n",
    "import matplotlib.pyplot as plt\n",
    "import pandas as pd"
   ],
   "execution_count": null,
   "outputs": [],
   "metadata": {
    "datalore": {
     "node_id": "b2d0kp3tnW2Qpn2SnvCKYa",
     "type": "CODE",
     "hide_input_from_viewers": false,
     "hide_output_from_viewers": false,
     "report_properties": {
      "rowId": "woF4kKg7T9yzwzSXMUuadq"
     }
    }
   }
  },
  {
   "cell_type": "markdown",
   "source": "## Import Dataset",
   "attachments": {},
   "metadata": {
    "datalore": {
     "node_id": "jEyhwq6gdY4uRdmtQDlGKF",
     "type": "MD",
     "hide_input_from_viewers": false,
     "hide_output_from_viewers": false,
     "report_properties": {
      "rowId": "LkgB2nLZWUpJjZOsOJpanA"
     }
    }
   }
  },
  {
   "metadata": {},
   "cell_type": "code",
   "outputs": [],
   "execution_count": null,
   "source": [
    "dataset = pd.read_csv('ENTER_THE_NAME_OF_DATASET_HERE.csv')\n",
    "X = dataset.iloc[:, :-1].values\n",
    "y = dataset.iloc[:, -1].values"
   ]
  },
  {
   "metadata": {},
   "cell_type": "code",
   "outputs": [],
   "execution_count": null,
   "source": "print(*X[:25], sep='\\n')"
  },
  {
   "metadata": {},
   "cell_type": "code",
   "outputs": [],
   "execution_count": null,
   "source": "print(*y[:25], sep='\\n')"
  },
  {
   "metadata": {},
   "cell_type": "markdown",
   "source": "## Split Dataset into Training Set and Test Set"
  },
  {
   "metadata": {},
   "cell_type": "code",
   "outputs": [],
   "execution_count": null,
   "source": [
    "from sklearn.model_selection import train_test_split\n",
    "\n",
    "X_train, X_test, y_train, y_test = train_test_split(X, y, test_size=0.2, random_state=0)"
   ]
  },
  {
   "metadata": {},
   "cell_type": "markdown",
   "source": "## Train Polynomial Regression Model on Training Set"
  },
  {
   "metadata": {},
   "cell_type": "code",
   "outputs": [],
   "execution_count": null,
   "source": [
    "from sklearn.preprocessing import PolynomialFeatures\n",
    "from sklearn.linear_model import LinearRegression\n",
    "\n",
    "poly_reg = PolynomialFeatures(degree=4)\n",
    "X_poly = poly_reg.fit_transform(X_train)\n",
    "regressor = LinearRegression()\n",
    "regressor.fit(X_poly, y_train)"
   ]
  },
  {
   "cell_type": "markdown",
   "source": "## Predict Test Set Results",
   "attachments": {},
   "metadata": {
    "datalore": {
     "node_id": "6szo3xxzb10VbYZwfYQx6L",
     "type": "MD",
     "hide_input_from_viewers": false,
     "hide_output_from_viewers": false,
     "report_properties": {
      "rowId": "Q7n3Z9WKoJzikKqeiDFxp7"
     }
    }
   }
  },
  {
   "metadata": {},
   "cell_type": "code",
   "outputs": [],
   "execution_count": null,
   "source": "y_pred = regressor.predict(poly_reg.transform(X_test))"
  },
  {
   "metadata": {},
   "cell_type": "code",
   "outputs": [],
   "execution_count": null,
   "source": [
    "np.set_printoptions(precision=2)\n",
    "print(np.concatenate((y_pred.reshape(len(y_pred), 1), y_test.reshape(len(y_test), 1)), 1))"
   ]
  },
  {
   "metadata": {},
   "cell_type": "markdown",
   "source": "## Evaluate Model Performance"
  },
  {
   "metadata": {},
   "cell_type": "code",
   "outputs": [],
   "execution_count": null,
   "source": [
    "from sklearn.metrics import r2_score\n",
    "\n",
    "r2_score(y_test, y_pred)"
   ]
  }
 ],
 "metadata": {
  "kernelspec": {
   "display_name": "Python",
   "language": "python",
   "name": "python"
  },
  "datalore": {
   "computation_mode": "JUPYTER",
   "package_manager": "pip",
   "base_environment": "default",
   "packages": [],
   "report_row_ids": [
    "N5CJjLiCzFgPkpSWWAQL1n",
    "Iz9I9PsQvu6M9MIiUU45sO",
    "woF4kKg7T9yzwzSXMUuadq",
    "LkgB2nLZWUpJjZOsOJpanA",
    "UD0gthlOb8Ijf4N7X8noZZ",
    "BprmPIsChZWH05rOYoWG8c",
    "MT4PW5mfwLG1awb43cUj7v",
    "wr7iOw0VktBLHQcm48YADe",
    "a7rU8TMog9YDjicmnPS6gF",
    "Q7n3Z9WKoJzikKqeiDFxp7",
    "J5WmuJBNYSmc8j0iO9cD14",
    "6J48UrTZscb5OyexhlDWwU",
    "3HGGSxHP1A3I7YiigdIFC2"
   ],
   "version": 3
  }
 },
 "nbformat": 4,
 "nbformat_minor": 4
}
