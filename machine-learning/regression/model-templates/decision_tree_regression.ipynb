{
 "cells": [
  {
   "cell_type": "markdown",
   "source": [
    "# Decision Tree Regression"
   ],
   "attachments": {},
   "metadata": {
    "datalore": {
     "node_id": "4tD6qqBWnKAwKV52H4Vztl",
     "type": "MD",
     "hide_input_from_viewers": false,
     "hide_output_from_viewers": false,
     "report_properties": {
      "rowId": "i1J2WAACbjh8qyrofoz4kC"
     }
    }
   }
  },
  {
   "cell_type": "markdown",
   "source": "## Import Libraries",
   "attachments": {},
   "metadata": {
    "datalore": {
     "node_id": "vJSpZ0sNgf7MHPP88Nwmw1",
     "type": "MD",
     "hide_input_from_viewers": false,
     "hide_output_from_viewers": false,
     "report_properties": {
      "rowId": "agLEoAeVzs9dCMUKa7FGYc"
     }
    }
   }
  },
  {
   "cell_type": "code",
   "source": [
    "import numpy as np\n",
    "import matplotlib.pyplot as plt\n",
    "import pandas as pd"
   ],
   "execution_count": null,
   "outputs": [],
   "metadata": {
    "datalore": {
     "node_id": "iUjgW4InBAD2PRelvawGSv",
     "type": "CODE",
     "hide_input_from_viewers": false,
     "hide_output_from_viewers": false,
     "report_properties": {
      "rowId": "lLupibjEyOt7I8WohtJ29S"
     }
    }
   }
  },
  {
   "cell_type": "markdown",
   "source": "## Import Dataset",
   "attachments": {},
   "metadata": {
    "datalore": {
     "node_id": "dOjYyLv5h9Mhsgtwgw7HbC",
     "type": "MD",
     "hide_input_from_viewers": false,
     "hide_output_from_viewers": false,
     "report_properties": {
      "rowId": "5kIhSA9fjA65nKEJQqvq9v"
     }
    }
   }
  },
  {
   "cell_type": "code",
   "source": [
    "dataset = pd.read_csv('ENTER_THE_NAME_OF_DATASET_HERE.csv')\n",
    "X = dataset.iloc[:, :-1].values\n",
    "y = dataset.iloc[:, -1].values"
   ],
   "execution_count": null,
   "outputs": [],
   "metadata": {
    "datalore": {
     "node_id": "USVjZ1xF6ZO8xJXG35hjMp",
     "type": "CODE",
     "hide_input_from_viewers": false,
     "hide_output_from_viewers": false,
     "report_properties": {
      "rowId": "OGb1bP7QgiMe7DImcESzPc"
     }
    }
   }
  },
  {
   "metadata": {},
   "cell_type": "code",
   "outputs": [],
   "execution_count": null,
   "source": "print(X)"
  },
  {
   "metadata": {},
   "cell_type": "code",
   "outputs": [],
   "execution_count": null,
   "source": "print(y)"
  },
  {
   "cell_type": "markdown",
   "source": "## Split Dataset into Training Set and Test Set",
   "attachments": {},
   "metadata": {
    "datalore": {
     "node_id": "sPpzt8MBNm8aNnxeZTqQFA",
     "type": "MD",
     "hide_input_from_viewers": false,
     "hide_output_from_viewers": false,
     "report_properties": {
      "rowId": "xV5tRPIMMtJK0IxBOEaQyg"
     }
    }
   }
  },
  {
   "cell_type": "code",
   "source": [
    "from sklearn.model_selection import train_test_split\n",
    "X_train, X_test, y_train, y_test = train_test_split(X, y, test_size = 0.2, random_state = 0)"
   ],
   "execution_count": null,
   "outputs": [],
   "metadata": {
    "datalore": {
     "node_id": "v263mOT7yyYpKtY8igU9Bg",
     "type": "CODE",
     "hide_input_from_viewers": false,
     "hide_output_from_viewers": false,
     "report_properties": {
      "rowId": "dI2BDQF4U5gDMktVNINf0k"
     }
    }
   }
  },
  {
   "cell_type": "markdown",
   "source": "## Train Decision Tree Regression Model on Training Set",
   "attachments": {},
   "metadata": {
    "datalore": {
     "node_id": "77W5FcNpa8os13NvVW8RRg",
     "type": "MD",
     "hide_input_from_viewers": false,
     "hide_output_from_viewers": false,
     "report_properties": {
      "rowId": "1oDWcbwF93BPkxVrunT3Py"
     }
    }
   }
  },
  {
   "cell_type": "code",
   "source": [
    "from sklearn.tree import DecisionTreeRegressor\n",
    "regressor = DecisionTreeRegressor(random_state = 0)\n",
    "regressor.fit(X_train, y_train)"
   ],
   "execution_count": null,
   "outputs": [],
   "metadata": {
    "datalore": {
     "node_id": "tTOsuq1BcJbKFmoAlG48PH",
     "type": "CODE",
     "hide_input_from_viewers": false,
     "hide_output_from_viewers": false,
     "report_properties": {
      "rowId": "0vmrHKG09I2q4o95ppW5v9"
     }
    }
   }
  },
  {
   "cell_type": "markdown",
   "source": "## Predict Test Set Results",
   "attachments": {},
   "metadata": {
    "datalore": {
     "node_id": "cy1nuN86hkIzs5zrMpsIh7",
     "type": "MD",
     "hide_input_from_viewers": false,
     "hide_output_from_viewers": false,
     "report_properties": {
      "rowId": "RYp3iL6n4z08tUTdvJpyOi"
     }
    }
   }
  },
  {
   "cell_type": "code",
   "source": "y_pred = regressor.predict(X_test)",
   "execution_count": null,
   "outputs": [],
   "metadata": {
    "datalore": {
     "node_id": "IQyFITH6P0DajrBToGVaZk",
     "type": "CODE",
     "hide_input_from_viewers": false,
     "hide_output_from_viewers": false,
     "report_properties": {
      "rowId": "uAKJOXhXk3xIKe3JUTfjZW"
     }
    }
   }
  },
  {
   "metadata": {},
   "cell_type": "code",
   "outputs": [],
   "execution_count": null,
   "source": [
    "np.set_printoptions(precision = 2)\n",
    "print(np.concatenate((y_pred.reshape(len(y_pred), 1), y_test.reshape(len(y_test), 1)), 1))"
   ]
  },
  {
   "cell_type": "markdown",
   "source": "## Evaluate Model Performance",
   "attachments": {},
   "metadata": {
    "datalore": {
     "node_id": "B390h3jkUmG4yZpC0qwLKB",
     "type": "MD",
     "hide_input_from_viewers": false,
     "hide_output_from_viewers": false,
     "report_properties": {
      "rowId": "xbwuepeFvlhtk51fD2AdfR"
     }
    }
   }
  },
  {
   "cell_type": "code",
   "source": [
    "from sklearn.metrics import r2_score\n",
    "r2_score(y_test, y_pred)"
   ],
   "execution_count": null,
   "outputs": [],
   "metadata": {
    "datalore": {
     "node_id": "aPPES55XkIvsDTreZLmMll",
     "type": "CODE",
     "hide_input_from_viewers": false,
     "hide_output_from_viewers": false,
     "report_properties": {
      "rowId": "yXieWJb6jt7CO3EBae3mez"
     }
    }
   }
  }
 ],
 "metadata": {
  "kernelspec": {
   "display_name": "Python",
   "language": "python",
   "name": "python"
  },
  "datalore": {
   "computation_mode": "JUPYTER",
   "package_manager": "pip",
   "base_environment": "default",
   "packages": [],
   "report_row_ids": [
    "i1J2WAACbjh8qyrofoz4kC",
    "agLEoAeVzs9dCMUKa7FGYc",
    "lLupibjEyOt7I8WohtJ29S",
    "5kIhSA9fjA65nKEJQqvq9v",
    "OGb1bP7QgiMe7DImcESzPc",
    "xV5tRPIMMtJK0IxBOEaQyg",
    "dI2BDQF4U5gDMktVNINf0k",
    "1oDWcbwF93BPkxVrunT3Py",
    "0vmrHKG09I2q4o95ppW5v9",
    "RYp3iL6n4z08tUTdvJpyOi",
    "uAKJOXhXk3xIKe3JUTfjZW",
    "xbwuepeFvlhtk51fD2AdfR",
    "yXieWJb6jt7CO3EBae3mez"
   ],
   "version": 3
  }
 },
 "nbformat": 4,
 "nbformat_minor": 4
}
