{
 "cells": [
  {
   "cell_type": "markdown",
   "source": [
    "# Multiple Linear Regression"
   ],
   "attachments": {},
   "metadata": {
    "datalore": {
     "node_id": "UTsbOjipWS90dy9w4sgHEA",
     "type": "MD",
     "hide_input_from_viewers": false,
     "hide_output_from_viewers": false,
     "report_properties": {
      "rowId": "GBtJx15i96emVU5ThR30Cq"
     }
    }
   }
  },
  {
   "cell_type": "markdown",
   "source": "## Import Libraries",
   "attachments": {},
   "metadata": {
    "datalore": {
     "node_id": "gmhLdCXkEJJQE3pUwkYAYp",
     "type": "MD",
     "hide_input_from_viewers": false,
     "hide_output_from_viewers": false,
     "report_properties": {
      "rowId": "W1ApJI1KwYhy0o1oMRLjXJ"
     }
    }
   }
  },
  {
   "cell_type": "code",
   "source": [
    "import numpy as np\n",
    "import matplotlib.pyplot as plt\n",
    "import pandas as pd"
   ],
   "execution_count": null,
   "outputs": [],
   "metadata": {
    "datalore": {
     "node_id": "FZG9GXo4XqJfumnSxcGxVp",
     "type": "CODE",
     "hide_input_from_viewers": false,
     "hide_output_from_viewers": false,
     "report_properties": {
      "rowId": "3rgiqkRk0QSkYTBBRSWnTB"
     }
    }
   }
  },
  {
   "cell_type": "markdown",
   "source": "## Import Dataset",
   "attachments": {},
   "metadata": {
    "datalore": {
     "node_id": "jst270uQRXbrn90OdHSEAj",
     "type": "MD",
     "hide_input_from_viewers": false,
     "hide_output_from_viewers": false,
     "report_properties": {
      "rowId": "X44e7iPh6nfliHtAuKdQM9"
     }
    }
   }
  },
  {
   "metadata": {},
   "cell_type": "code",
   "outputs": [],
   "execution_count": null,
   "source": [
    "dataset = pd.read_csv('ENTER_THE_NAME_OF_DATASET_HERE.csv')\n",
    "X = dataset.iloc[:, :-1].values\n",
    "y = dataset.iloc[:, -1].values"
   ]
  },
  {
   "metadata": {},
   "cell_type": "code",
   "outputs": [],
   "execution_count": null,
   "source": "print(X)"
  },
  {
   "metadata": {},
   "cell_type": "code",
   "outputs": [],
   "execution_count": null,
   "source": "print(y)"
  },
  {
   "metadata": {},
   "cell_type": "markdown",
   "source": "## Split Dataset into Training Set and Test Set"
  },
  {
   "metadata": {},
   "cell_type": "code",
   "outputs": [],
   "execution_count": null,
   "source": [
    "from sklearn.model_selection import train_test_split\n",
    "X_train, X_test, y_train, y_test = train_test_split(X, y, test_size = 0.2, random_state = 0)"
   ]
  },
  {
   "metadata": {},
   "cell_type": "markdown",
   "source": "## Train Multiple Linear Regression Model on Training Set"
  },
  {
   "metadata": {},
   "cell_type": "code",
   "outputs": [],
   "execution_count": null,
   "source": [
    "from sklearn.linear_model import LinearRegression\n",
    "regressor = LinearRegression()\n",
    "regressor.fit(X_train, y_train)"
   ]
  },
  {
   "cell_type": "markdown",
   "source": "## Predict Test Set Results",
   "attachments": {},
   "metadata": {
    "datalore": {
     "node_id": "SF0d79VEM2GUQAagyiaat2",
     "type": "MD",
     "hide_input_from_viewers": false,
     "hide_output_from_viewers": false,
     "report_properties": {
      "rowId": "KdQqwFsjG0QTnjVIXKC9Mc"
     }
    }
   }
  },
  {
   "metadata": {},
   "cell_type": "code",
   "outputs": [],
   "execution_count": null,
   "source": "y_pred = regressor.predict(X_test)"
  },
  {
   "metadata": {},
   "cell_type": "code",
   "outputs": [],
   "execution_count": null,
   "source": [
    "np.set_printoptions(precision = 2)\n",
    "print(np.concatenate((y_pred.reshape(len(y_pred), 1), y_test.reshape(len(y_test), 1)), 1))"
   ]
  },
  {
   "metadata": {},
   "cell_type": "markdown",
   "source": "## Evaluate Model Performance"
  },
  {
   "metadata": {},
   "cell_type": "code",
   "outputs": [],
   "execution_count": null,
   "source": [
    "from sklearn.metrics import r2_score\n",
    "r2_score(y_test, y_pred)"
   ]
  }
 ],
 "metadata": {
  "kernelspec": {
   "display_name": "Python",
   "language": "python",
   "name": "python"
  },
  "datalore": {
   "computation_mode": "JUPYTER",
   "package_manager": "pip",
   "base_environment": "default",
   "packages": [],
   "report_row_ids": [
    "GBtJx15i96emVU5ThR30Cq",
    "W1ApJI1KwYhy0o1oMRLjXJ",
    "3rgiqkRk0QSkYTBBRSWnTB",
    "X44e7iPh6nfliHtAuKdQM9",
    "YDU4N68CYsqLblJc15KmLg",
    "YWbeRMtIOcsIsfl2d8rpHm",
    "I4fekURNoH1eXHn9nj0z6D",
    "NxHBL36I7tOEFzpPruF0iH",
    "q4AACowC1PCXIpjfujLWHc",
    "KdQqwFsjG0QTnjVIXKC9Mc",
    "e54soHpFewS9Zhu8TdOChn",
    "flAWPWWti5iS57PnP0lEQY",
    "JOdrIcrHdLbMPvW6Mi9lxQ"
   ],
   "version": 3
  }
 },
 "nbformat": 4,
 "nbformat_minor": 4
}
