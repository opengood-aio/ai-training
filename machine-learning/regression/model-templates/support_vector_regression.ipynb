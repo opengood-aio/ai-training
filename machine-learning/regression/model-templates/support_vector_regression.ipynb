{
 "cells": [
  {
   "cell_type": "markdown",
   "source": [
    "# Support Vector Regression (SVR)"
   ],
   "attachments": {},
   "metadata": {
    "datalore": {
     "node_id": "cZSaj69gejiPIObcgZCJgg",
     "type": "MD",
     "hide_input_from_viewers": false,
     "hide_output_from_viewers": false,
     "report_properties": {
      "rowId": "qm86LivshxaBd6wqJzMvHS"
     }
    }
   }
  },
  {
   "cell_type": "markdown",
   "source": "## Import Libraries",
   "attachments": {},
   "metadata": {
    "datalore": {
     "node_id": "w1cwn5Dkt43QD02xsGY7iK",
     "type": "MD",
     "hide_input_from_viewers": false,
     "hide_output_from_viewers": false,
     "report_properties": {
      "rowId": "BoK1zVmyQH6Lr3Aw9RBglZ"
     }
    }
   }
  },
  {
   "cell_type": "code",
   "source": [
    "import numpy as np\n",
    "import matplotlib.pyplot as plt\n",
    "import pandas as pd"
   ],
   "execution_count": null,
   "outputs": [],
   "metadata": {
    "datalore": {
     "node_id": "Oo58uvUFnksZu997zw66qd",
     "type": "CODE",
     "hide_input_from_viewers": false,
     "hide_output_from_viewers": false,
     "report_properties": {
      "rowId": "Bp7UXm2nYlvFDLFCobicI8"
     }
    }
   }
  },
  {
   "cell_type": "markdown",
   "source": "## Import Dataset",
   "attachments": {},
   "metadata": {
    "datalore": {
     "node_id": "EXeabsRJn4nVacwYBQXDZJ",
     "type": "MD",
     "hide_input_from_viewers": false,
     "hide_output_from_viewers": false,
     "report_properties": {
      "rowId": "9lSXz0rKHt1K3uT8bRR0C4"
     }
    }
   }
  },
  {
   "metadata": {},
   "cell_type": "code",
   "outputs": [],
   "execution_count": null,
   "source": [
    "dataset = pd.read_csv('ENTER_THE_NAME_OF_DATASET_HERE.csv')\n",
    "X = dataset.iloc[:, :-1].values\n",
    "y = dataset.iloc[:, -1].values"
   ]
  },
  {
   "metadata": {},
   "cell_type": "code",
   "outputs": [],
   "execution_count": null,
   "source": "y = y.reshape(len(y), 1)"
  },
  {
   "metadata": {},
   "cell_type": "code",
   "outputs": [],
   "execution_count": null,
   "source": "print(*X[:25], sep='\\n')"
  },
  {
   "metadata": {},
   "cell_type": "code",
   "outputs": [],
   "execution_count": null,
   "source": "print(*y[:25], sep='\\n')"
  },
  {
   "metadata": {},
   "cell_type": "markdown",
   "source": "## Split Dataset into Training Set and Test Set"
  },
  {
   "metadata": {},
   "cell_type": "code",
   "outputs": [],
   "execution_count": null,
   "source": [
    "from sklearn.model_selection import train_test_split\n",
    "\n",
    "X_train, X_test, y_train, y_test = train_test_split(X, y, test_size=0.2, random_state=0)"
   ]
  },
  {
   "cell_type": "markdown",
   "source": [
    "## Feature Scaling"
   ],
   "attachments": {},
   "metadata": {
    "datalore": {
     "node_id": "ifUmXpuz6w7XbKmYcxpHGn",
     "type": "MD",
     "hide_input_from_viewers": false,
     "hide_output_from_viewers": false,
     "report_properties": {
      "rowId": "rtMG3FNMaQXBcRhdgAnb12"
     }
    }
   }
  },
  {
   "metadata": {},
   "cell_type": "code",
   "outputs": [],
   "execution_count": null,
   "source": [
    "from sklearn.preprocessing import StandardScaler\n",
    "\n",
    "sc_X = StandardScaler()\n",
    "sc_y = StandardScaler()\n",
    "X_train = sc_X.fit_transform(X_train)\n",
    "y_train = sc_y.fit_transform(y_train)"
   ]
  },
  {
   "metadata": {},
   "cell_type": "code",
   "outputs": [],
   "execution_count": null,
   "source": "print(*X_train[:25], sep='\\n')"
  },
  {
   "metadata": {},
   "cell_type": "code",
   "outputs": [],
   "execution_count": null,
   "source": "print(*y_train[:25], sep='\\n')"
  },
  {
   "metadata": {},
   "cell_type": "code",
   "outputs": [],
   "execution_count": null,
   "source": "print(*X_test[:25], sep='\\n')"
  },
  {
   "metadata": {},
   "cell_type": "code",
   "outputs": [],
   "execution_count": null,
   "source": "print(*y_test[:25], sep='\\n')"
  },
  {
   "metadata": {},
   "cell_type": "markdown",
   "source": "## Train SVR Model on Training Set"
  },
  {
   "metadata": {},
   "cell_type": "code",
   "outputs": [],
   "execution_count": null,
   "source": [
    "from sklearn.svm import SVR\n",
    "\n",
    "regressor = SVR(kernel='rbf')\n",
    "regressor.fit(X_train, y_train)"
   ]
  },
  {
   "cell_type": "markdown",
   "source": "## Predict Test Set Results",
   "attachments": {},
   "metadata": {
    "datalore": {
     "node_id": "Dt5kK3q0m8Uux9zN2wfewY",
     "type": "MD",
     "hide_input_from_viewers": false,
     "hide_output_from_viewers": false,
     "report_properties": {
      "rowId": "YzDPtwb8LSPSKImYU5baoR"
     }
    }
   }
  },
  {
   "metadata": {},
   "cell_type": "code",
   "outputs": [],
   "execution_count": null,
   "source": "y_pred = sc_y.inverse_transform(regressor.predict(sc_X.transform(X_test)).reshape(-1, 1))"
  },
  {
   "metadata": {},
   "cell_type": "code",
   "outputs": [],
   "execution_count": null,
   "source": [
    "np.set_printoptions(precision=2)\n",
    "print(np.concatenate((y_pred.reshape(len(y_pred), 1), y_test.reshape(len(y_test), 1)), 1))"
   ]
  },
  {
   "metadata": {},
   "cell_type": "markdown",
   "source": "## Evaluate Model Performance"
  },
  {
   "metadata": {},
   "cell_type": "code",
   "outputs": [],
   "execution_count": null,
   "source": [
    "from sklearn.metrics import r2_score\n",
    "\n",
    "r2_score(y_test, y_pred)"
   ]
  }
 ],
 "metadata": {
  "kernelspec": {
   "display_name": "Python",
   "language": "python",
   "name": "python"
  },
  "datalore": {
   "computation_mode": "JUPYTER",
   "package_manager": "pip",
   "base_environment": "default",
   "packages": [],
   "report_row_ids": [
    "qm86LivshxaBd6wqJzMvHS",
    "BoK1zVmyQH6Lr3Aw9RBglZ",
    "Bp7UXm2nYlvFDLFCobicI8",
    "9lSXz0rKHt1K3uT8bRR0C4",
    "MOqK8i04NjSNWtLhiZQnPS",
    "HL6erc8bwljhI9ZwTCPVn0",
    "WJVlyLQLecFxqQVbwYhg0x",
    "ChsBbQJl4X4La6QZOt2QbS",
    "rtMG3FNMaQXBcRhdgAnb12",
    "yUqqQRQvsQsHZI6T8Qoq8f",
    "MwA38OTat4ImpAopSDZTTX",
    "XWfOFHOoHkYHuJrnwxOOjq",
    "YzDPtwb8LSPSKImYU5baoR",
    "X2ChIVA1ZtnYKn5zVtr0NA",
    "Qf0gOFneCH9DFv5hssiOmi",
    "VhIQbSfKADQQCDSu4c1ynm"
   ],
   "version": 3
  }
 },
 "nbformat": 4,
 "nbformat_minor": 4
}
