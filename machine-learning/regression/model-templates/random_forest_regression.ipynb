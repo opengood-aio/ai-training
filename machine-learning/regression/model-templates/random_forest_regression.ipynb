{
 "cells": [
  {
   "cell_type": "markdown",
   "source": [
    "# Random Forest Regression"
   ],
   "attachments": {},
   "metadata": {
    "datalore": {
     "node_id": "ikl7hIJZ2ILBMb6imeFAa1",
     "type": "MD",
     "hide_input_from_viewers": false,
     "hide_output_from_viewers": false,
     "report_properties": {
      "rowId": "6Dh50CXPF7qT1vB9xd5y3W"
     }
    }
   }
  },
  {
   "cell_type": "markdown",
   "source": "## Import Libraries",
   "attachments": {},
   "metadata": {
    "datalore": {
     "node_id": "oG2umbLWZrUbbPbSEuCzXh",
     "type": "MD",
     "hide_input_from_viewers": false,
     "hide_output_from_viewers": false,
     "report_properties": {
      "rowId": "7pUOO2g9wVpu9tjDAuWLMH"
     }
    }
   }
  },
  {
   "cell_type": "code",
   "source": [
    "import numpy as np\n",
    "import matplotlib.pyplot as plt\n",
    "import pandas as pd"
   ],
   "execution_count": null,
   "outputs": [],
   "metadata": {
    "datalore": {
     "node_id": "VTt6NsjnjrJju1vtdCSQoT",
     "type": "CODE",
     "hide_input_from_viewers": false,
     "hide_output_from_viewers": false,
     "report_properties": {
      "rowId": "tpjb7wsKp2aJff6Mi8LQ71"
     }
    }
   }
  },
  {
   "cell_type": "markdown",
   "source": "## Import Dataset",
   "attachments": {},
   "metadata": {
    "datalore": {
     "node_id": "sZW10VrFZlkkuLvvYpCHCw",
     "type": "MD",
     "hide_input_from_viewers": false,
     "hide_output_from_viewers": false,
     "report_properties": {
      "rowId": "tRet0o9bJzVsXhcIR3YrjY"
     }
    }
   }
  },
  {
   "metadata": {},
   "cell_type": "code",
   "outputs": [],
   "execution_count": null,
   "source": [
    "dataset = pd.read_csv('ENTER_THE_NAME_OF_DATASET_HERE.csv')\n",
    "X = dataset.iloc[:, :-1].values\n",
    "y = dataset.iloc[:, -1].values"
   ]
  },
  {
   "metadata": {},
   "cell_type": "code",
   "outputs": [],
   "execution_count": null,
   "source": "print(X)"
  },
  {
   "metadata": {},
   "cell_type": "code",
   "outputs": [],
   "execution_count": null,
   "source": "print(y)"
  },
  {
   "metadata": {},
   "cell_type": "markdown",
   "source": "## Split Dataset into Training Set and Test Set"
  },
  {
   "metadata": {},
   "cell_type": "code",
   "outputs": [],
   "execution_count": null,
   "source": [
    "from sklearn.model_selection import train_test_split\n",
    "X_train, X_test, y_train, y_test = train_test_split(X, y, test_size = 0.2, random_state = 0)"
   ]
  },
  {
   "metadata": {},
   "cell_type": "markdown",
   "source": "## Train Random Forest Regression Model on Whole Dataset"
  },
  {
   "metadata": {},
   "cell_type": "code",
   "outputs": [],
   "execution_count": null,
   "source": [
    "from sklearn.ensemble import RandomForestRegressor\n",
    "regressor = RandomForestRegressor(n_estimators = 10, random_state = 0)\n",
    "regressor.fit(X_train, y_train)"
   ]
  },
  {
   "cell_type": "markdown",
   "source": "## Predict Test Set Results",
   "attachments": {},
   "metadata": {
    "datalore": {
     "node_id": "iF7XDBLNOg0mozBB7BC7HU",
     "type": "MD",
     "hide_input_from_viewers": false,
     "hide_output_from_viewers": false,
     "report_properties": {
      "rowId": "MJAI89QJg3Zr1SH0ZbQgES"
     }
    }
   }
  },
  {
   "metadata": {},
   "cell_type": "code",
   "outputs": [],
   "execution_count": null,
   "source": "y_pred = regressor.predict(X_test)"
  },
  {
   "metadata": {},
   "cell_type": "code",
   "outputs": [],
   "execution_count": null,
   "source": [
    "np.set_printoptions(precision = 2)\n",
    "print(np.concatenate((y_pred.reshape(len(y_pred), 1), y_test.reshape(len(y_test), 1)), 1))"
   ]
  },
  {
   "metadata": {},
   "cell_type": "markdown",
   "source": "## Evaluate Model Performance"
  },
  {
   "metadata": {},
   "cell_type": "code",
   "outputs": [],
   "execution_count": null,
   "source": [
    "from sklearn.metrics import r2_score\n",
    "r2_score(y_test, y_pred)"
   ]
  }
 ],
 "metadata": {
  "kernelspec": {
   "display_name": "Python",
   "language": "python",
   "name": "python"
  },
  "datalore": {
   "computation_mode": "JUPYTER",
   "package_manager": "pip",
   "base_environment": "default",
   "packages": [],
   "report_row_ids": [
    "6Dh50CXPF7qT1vB9xd5y3W",
    "7pUOO2g9wVpu9tjDAuWLMH",
    "tpjb7wsKp2aJff6Mi8LQ71",
    "tRet0o9bJzVsXhcIR3YrjY",
    "A9K6OnRal9qRNPsEEPRrvS",
    "zPOZ3PZyk1RMQ1w1BA95EM",
    "fuJnzKZbG7A6nLSqj6n2VR",
    "b7RAnTEf6ULx82p2qJr5Sy",
    "xPvtczkaiWdCP4o7h8FLCL",
    "MJAI89QJg3Zr1SH0ZbQgES",
    "ItaI8KywhkRnCalGbkFtqa",
    "i9p1QSREXcldtVrPeLZqcA",
    "bQq1AyiTiuvdHg7bWuvzqX"
   ],
   "version": 3
  }
 },
 "nbformat": 4,
 "nbformat_minor": 4
}
