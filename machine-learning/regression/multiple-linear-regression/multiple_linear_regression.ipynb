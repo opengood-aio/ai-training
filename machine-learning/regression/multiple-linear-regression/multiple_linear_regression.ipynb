{
 "cells": [
  {
   "cell_type": "markdown",
   "source": [
    "# Multiple Linear Regression"
   ],
   "metadata": {
    "datalore": {
     "node_id": "CrRf4ADdWkh2ykM5fvRXfm",
     "type": "MD",
     "hide_input_from_viewers": false,
     "hide_output_from_viewers": false,
     "report_properties": {
      "rowId": "OGQLrQ9cvzci77fYZYsSbg"
     }
    },
    "id": "jc_jO5JugOzf"
   }
  },
  {
   "cell_type": "markdown",
   "source": [
    "As one progresses from learning Simple Linear Regression to Multiple Linear Regression there are a few common questions that arise.\n",
    "\n",
    "This tackles two of the most frequently asked Multiple Linear Regression-related questions.\n",
    "\n",
    "**Question 1:** How do I use my multiple linear regression model to make a single prediction, for example, the profit of a startup with R&D Spend = 160000, Administration Spend = 130000, Marketing Spend = 300000 and State = California?\n",
    "\n",
    "**Question 2:** How do I get the final regression equation $y = b_0 + b_1 * x_1 + b_2 * x_2 + ...$ with the final values of the coefficients?\n",
    "\n",
    "Here's the step-by-step coding exercise:\n",
    "\n",
    "* Import libraries\n",
    "* Import datasets\n",
    "* Encode categorical data\n",
    "* Split data into Training and Test sets\n",
    "* Train Multiple Linear Regression model\n",
    "* Predict Test set results\n",
    "* Make single prediction\n",
    "* Get final linear regression equation with the values of the coefficients"
   ],
   "metadata": {
    "datalore": {
     "node_id": "54xtknUkIDvrJXkUWRM1pb",
     "type": "MD",
     "hide_input_from_viewers": false,
     "hide_output_from_viewers": false,
     "report_properties": {
      "rowId": "80ldLCGkBP5mEQoALcv2lc"
     }
    },
    "id": "_Kx_Aea-gOzh"
   }
  },
  {
   "metadata": {},
   "cell_type": "markdown",
   "source": [
    "## Dataset\n",
    "\n",
    "### Layout\n",
    "\n",
    "* Columns: 5\n",
    "\t* R&D spend\n",
    "\t* Administration cost\n",
    "\t* Marketing spend\n",
    "\t* State\n",
    "\t* Profit\n",
    "* Rows: 50 observations\n",
    "\t* Each row represents one company\n",
    "\t\t* Features:\n",
    "\t\t\t* R&D spend\n",
    "\t\t\t* Admin cost\n",
    "\t\t\t* Marketing spend\n",
    "\t\t* Dependent variable:\n",
    "\t\t\t* Profit\n",
    "\n",
    "### Background\n",
    "\n",
    "* Company provided extracts from their profit and loss statements for all features and overall profit for a given year in a particular state\n",
    "* Data is completely anonymized\n",
    "\n",
    "### Wants to Understand\n",
    "\n",
    "**Venture Capitalist (VC)**\n",
    "\n",
    "* What states companies perform best in\n",
    "* When features are equally weighted, for example, will a company that spends more on marketing perform better\n",
    "* When assessing companies to invest, does R&D or marketing spend yield more profit\n",
    "\n",
    "### Goals\n",
    "\n",
    "* VC wants to build a multiple linear regression model that is trained to determine which companies are most profitable for investing\n",
    "\n",
    "## No Feature Scaling\n",
    "\n",
    "* Feature scaling does not need to be applied because in the multiple linear regression equation, each feature is multiplied by a coefficient\n",
    "* Even if feature values are higher than others, the coefficient will compensate to put all feature values on the same scale\n",
    "\n",
    "## No Need to Check Assumptions of Linear Regression\n",
    "\n",
    "* Do not need to check assumptions of linear regression\n",
    "* When one has a new dataset and one wants to experiment with different types of models to determine which one leads to the highest accuracy, even if a dataset does not have linear relationships, one can still attempt a multiple linear regression, and a model may perform poorly yielding an accuracy lower than other models\n",
    "* One would then simply select a model with higher accuracy, so there is no need to check assumptions of linear regression\n",
    "* If a dataset has linear relationships, multiple linear regression will check assumptions and yield high accuracy model\n",
    "\n",
    "![](Multiple_Linear_Regression_No_Feature_Scaling.png)\n",
    "\n",
    "## No Accounting for Dummy Variable Trap\n",
    "\n",
    "* One does not need to take into account avoiding the dummy variable trap with the state independent variable\n",
    "* The **sklearn** library class **LinearRegression** automatically handles avoiding the dummy variable trap\n",
    "\n",
    "## Applying Model Building Methods\n",
    "\n",
    "* One does not need to apply model building methods, such as Backwards Elimination\n",
    "* The `sklearn` library class `LinearRegression` automatically identifies the best features that have the highest P-Values and those that are most statistically significant to predict the dependent variable\n",
    "\n",
    "## Visualizing Test Set Results\n",
    "\n",
    "* Unlike simple linear regression, one cannot plot multiple linear regression model results with multiple features on the x-axis and dependent variable on the y-axis\n",
    "* Solution is to display 2 vectors:\n",
    "    1. Vectors of the predicted dependent variable values (profit) from test set\n",
    "    2. Vectors of the actual dependent variable values (profit) from test set\n",
    "* Then evaluate the model results using the vectors to compare if actual vs. predicted values (profit) are close"
   ]
  },
  {
   "cell_type": "markdown",
   "source": "## Import Libraries",
   "metadata": {
    "datalore": {
     "node_id": "SvTtxhkI7bx2OeGxTWYiSO",
     "type": "MD",
     "hide_input_from_viewers": false,
     "hide_output_from_viewers": false,
     "report_properties": {
      "rowId": "250R8aJaYedTFDTDOAbaxP"
     }
    },
    "id": "Lj8aTs3rgOzh"
   }
  },
  {
   "cell_type": "code",
   "source": [
    "import numpy as np\n",
    "import matplotlib.pyplot as plt\n",
    "import pandas as pd"
   ],
   "metadata": {
    "datalore": {
     "node_id": "LWqMOcAyRtwr6lGDgNHbf5",
     "type": "CODE",
     "hide_input_from_viewers": false,
     "hide_output_from_viewers": false,
     "report_properties": {
      "rowId": "UBJMTMClZgGWl8tJLfHPV3"
     }
    },
    "id": "QEiBuXatgOzi",
    "executionInfo": {
     "status": "ok",
     "timestamp": 1724202997058,
     "user_tz": 240,
     "elapsed": 2016,
     "user": {
      "displayName": "Chris Jaehnen",
      "userId": "09906998703988827501"
     }
    },
    "ExecuteTime": {
     "end_time": "2025-06-13T00:06:47.524233Z",
     "start_time": "2025-06-13T00:06:47.139421Z"
    }
   },
   "outputs": [],
   "execution_count": 1
  },
  {
   "cell_type": "markdown",
   "source": "## Import Dataset",
   "metadata": {
    "datalore": {
     "node_id": "rrO5iLe72WEeMy03WgGU7w",
     "type": "MD",
     "hide_input_from_viewers": false,
     "hide_output_from_viewers": false,
     "report_properties": {
      "rowId": "rywbrQ5JxucKj4RGcy1fcP"
     }
    },
    "id": "LpbOruRXgOzi"
   }
  },
  {
   "cell_type": "code",
   "source": [
    "dataset = pd.read_csv('50_Startups.csv')\n",
    "X = dataset.iloc[:, :-1].values\n",
    "y = dataset.iloc[:, -1].values"
   ],
   "metadata": {
    "datalore": {
     "node_id": "dZLfVBaLtiXICS1QRXWYWI",
     "type": "CODE",
     "hide_input_from_viewers": false,
     "hide_output_from_viewers": false,
     "report_properties": {
      "rowId": "t7RxkDVyynBCuZKrnp2sjf"
     }
    },
    "id": "wH2ZLKUCgOzi",
    "executionInfo": {
     "status": "ok",
     "timestamp": 1724203012937,
     "user_tz": 240,
     "elapsed": 1090,
     "user": {
      "displayName": "Chris Jaehnen",
      "userId": "09906998703988827501"
     }
    },
    "ExecuteTime": {
     "end_time": "2025-06-13T00:06:47.578600Z",
     "start_time": "2025-06-13T00:06:47.574382Z"
    }
   },
   "outputs": [],
   "execution_count": 2
  },
  {
   "cell_type": "code",
   "source": "print(*X[:25], sep='\\n')",
   "metadata": {
    "datalore": {
     "node_id": "xdF05oPMIsOvZ8w48siQRf",
     "type": "CODE",
     "hide_input_from_viewers": false,
     "hide_output_from_viewers": false,
     "report_properties": {
      "rowId": "2FXMYjroRio0nPZQJm2KAn"
     }
    },
    "colab": {
     "base_uri": "https://localhost:8080/"
    },
    "id": "3OKmX0vpgOzi",
    "executionInfo": {
     "status": "ok",
     "timestamp": 1724203015529,
     "user_tz": 240,
     "elapsed": 193,
     "user": {
      "displayName": "Chris Jaehnen",
      "userId": "09906998703988827501"
     }
    },
    "outputId": "e01af455-ad2a-4088-ff6a-3056c0373007",
    "ExecuteTime": {
     "end_time": "2025-06-13T00:06:47.593866Z",
     "start_time": "2025-06-13T00:06:47.591250Z"
    }
   },
   "outputs": [
    {
     "name": "stdout",
     "output_type": "stream",
     "text": [
      "[165349.2 136897.8 471784.1 'New York']\n",
      "[162597.7 151377.59 443898.53 'California']\n",
      "[153441.51 101145.55 407934.54 'Florida']\n",
      "[144372.41 118671.85 383199.62 'New York']\n",
      "[142107.34 91391.77 366168.42 'Florida']\n",
      "[131876.9 99814.71 362861.36 'New York']\n",
      "[134615.46 147198.87 127716.82 'California']\n",
      "[130298.13 145530.06 323876.68 'Florida']\n",
      "[120542.52 148718.95 311613.29 'New York']\n",
      "[123334.88 108679.17 304981.62 'California']\n",
      "[101913.08 110594.11 229160.95 'Florida']\n",
      "[100671.96 91790.61 249744.55 'California']\n",
      "[93863.75 127320.38 249839.44 'Florida']\n",
      "[91992.39 135495.07 252664.93 'California']\n",
      "[119943.24 156547.42 256512.92 'Florida']\n",
      "[114523.61 122616.84 261776.23 'New York']\n",
      "[78013.11 121597.55 264346.06 'California']\n",
      "[94657.16 145077.58 282574.31 'New York']\n",
      "[91749.16 114175.79 294919.57 'Florida']\n",
      "[86419.7 153514.11 0.0 'New York']\n",
      "[76253.86 113867.3 298664.47 'California']\n",
      "[78389.47 153773.43 299737.29 'New York']\n",
      "[73994.56 122782.75 303319.26 'Florida']\n",
      "[67532.53 105751.03 304768.73 'Florida']\n",
      "[77044.01 99281.34 140574.81 'New York']\n"
     ]
    }
   ],
   "execution_count": 3
  },
  {
   "metadata": {
    "ExecuteTime": {
     "end_time": "2025-06-13T00:06:47.607875Z",
     "start_time": "2025-06-13T00:06:47.605677Z"
    }
   },
   "cell_type": "code",
   "source": "print(*y[:25], sep='\\n')",
   "outputs": [
    {
     "name": "stdout",
     "output_type": "stream",
     "text": [
      "192261.83\n",
      "191792.06\n",
      "191050.39\n",
      "182901.99\n",
      "166187.94\n",
      "156991.12\n",
      "156122.51\n",
      "155752.6\n",
      "152211.77\n",
      "149759.96\n",
      "146121.95\n",
      "144259.4\n",
      "141585.52\n",
      "134307.35\n",
      "132602.65\n",
      "129917.04\n",
      "126992.93\n",
      "125370.37\n",
      "124266.9\n",
      "122776.86\n",
      "118474.03\n",
      "111313.02\n",
      "110352.25\n",
      "108733.99\n",
      "108552.04\n"
     ]
    }
   ],
   "execution_count": 4
  },
  {
   "cell_type": "markdown",
   "source": "## Encode Categorical Data",
   "metadata": {
    "datalore": {
     "node_id": "3pUlr6VcaixY84jnKKeULG",
     "type": "MD",
     "hide_input_from_viewers": false,
     "hide_output_from_viewers": false,
     "report_properties": {
      "rowId": "GO9Q4rIg3m7W5O4FxZNiHU"
     }
    },
    "id": "BALaE-M_gOzj"
   }
  },
  {
   "metadata": {},
   "cell_type": "markdown",
   "source": [
    "* Apply one hot encoding (convert categories to bit values) to state column and do not transform remaining columns as remainder is defined as `passthrough`\n",
    "* Transform the state column using the `ColumnTransformer` class and turn the results into an array"
   ]
  },
  {
   "cell_type": "code",
   "source": [
    "from sklearn.compose import ColumnTransformer\n",
    "from sklearn.preprocessing import OneHotEncoder\n",
    "\n",
    "ct = ColumnTransformer(transformers=[('encoder', OneHotEncoder(), [3])], remainder='passthrough')\n",
    "X = np.array(ct.fit_transform(X))"
   ],
   "metadata": {
    "datalore": {
     "node_id": "ohWz01btvwtUZ9AZDCex9U",
     "type": "CODE",
     "hide_input_from_viewers": false,
     "hide_output_from_viewers": false,
     "report_properties": {
      "rowId": "Nd50KvP6OxzBnMoO0CEftv"
     }
    },
    "id": "wioHpkRdgOzj",
    "executionInfo": {
     "status": "ok",
     "timestamp": 1724203022389,
     "user_tz": 240,
     "elapsed": 1314,
     "user": {
      "displayName": "Chris Jaehnen",
      "userId": "09906998703988827501"
     }
    },
    "ExecuteTime": {
     "end_time": "2025-06-13T00:06:48.191888Z",
     "start_time": "2025-06-13T00:06:47.623350Z"
    }
   },
   "outputs": [],
   "execution_count": 5
  },
  {
   "cell_type": "code",
   "source": "print(*X[:25], sep='\\n')",
   "metadata": {
    "datalore": {
     "node_id": "p99Y7HamNhDUGfma3cfJaW",
     "type": "CODE",
     "hide_input_from_viewers": false,
     "hide_output_from_viewers": false,
     "report_properties": {
      "rowId": "GrMwFc44AF14hg0MY3Q2gQ"
     }
    },
    "colab": {
     "base_uri": "https://localhost:8080/"
    },
    "id": "hieOVfV1gOzj",
    "executionInfo": {
     "status": "ok",
     "timestamp": 1724203024226,
     "user_tz": 240,
     "elapsed": 191,
     "user": {
      "displayName": "Chris Jaehnen",
      "userId": "09906998703988827501"
     }
    },
    "outputId": "03fef1a9-8f90-46d7-a188-d59090e9f37f",
    "ExecuteTime": {
     "end_time": "2025-06-13T00:06:48.203671Z",
     "start_time": "2025-06-13T00:06:48.201218Z"
    }
   },
   "outputs": [
    {
     "name": "stdout",
     "output_type": "stream",
     "text": [
      "[0.0 0.0 1.0 165349.2 136897.8 471784.1]\n",
      "[1.0 0.0 0.0 162597.7 151377.59 443898.53]\n",
      "[0.0 1.0 0.0 153441.51 101145.55 407934.54]\n",
      "[0.0 0.0 1.0 144372.41 118671.85 383199.62]\n",
      "[0.0 1.0 0.0 142107.34 91391.77 366168.42]\n",
      "[0.0 0.0 1.0 131876.9 99814.71 362861.36]\n",
      "[1.0 0.0 0.0 134615.46 147198.87 127716.82]\n",
      "[0.0 1.0 0.0 130298.13 145530.06 323876.68]\n",
      "[0.0 0.0 1.0 120542.52 148718.95 311613.29]\n",
      "[1.0 0.0 0.0 123334.88 108679.17 304981.62]\n",
      "[0.0 1.0 0.0 101913.08 110594.11 229160.95]\n",
      "[1.0 0.0 0.0 100671.96 91790.61 249744.55]\n",
      "[0.0 1.0 0.0 93863.75 127320.38 249839.44]\n",
      "[1.0 0.0 0.0 91992.39 135495.07 252664.93]\n",
      "[0.0 1.0 0.0 119943.24 156547.42 256512.92]\n",
      "[0.0 0.0 1.0 114523.61 122616.84 261776.23]\n",
      "[1.0 0.0 0.0 78013.11 121597.55 264346.06]\n",
      "[0.0 0.0 1.0 94657.16 145077.58 282574.31]\n",
      "[0.0 1.0 0.0 91749.16 114175.79 294919.57]\n",
      "[0.0 0.0 1.0 86419.7 153514.11 0.0]\n",
      "[1.0 0.0 0.0 76253.86 113867.3 298664.47]\n",
      "[0.0 0.0 1.0 78389.47 153773.43 299737.29]\n",
      "[0.0 1.0 0.0 73994.56 122782.75 303319.26]\n",
      "[0.0 1.0 0.0 67532.53 105751.03 304768.73]\n",
      "[0.0 0.0 1.0 77044.01 99281.34 140574.81]\n"
     ]
    }
   ],
   "execution_count": 6
  },
  {
   "cell_type": "markdown",
   "source": "## Split Dataset into Training Set and Test Set",
   "metadata": {
    "datalore": {
     "node_id": "OIub2BmOKL0X9YGqjQ2LKl",
     "type": "MD",
     "hide_input_from_viewers": false,
     "hide_output_from_viewers": false,
     "report_properties": {
      "rowId": "eqUeccw4n1wISrIIpjXiyh"
     }
    },
    "id": "wIUzVAFZgOzj"
   }
  },
  {
   "cell_type": "code",
   "source": [
    "from sklearn.model_selection import train_test_split\n",
    "\n",
    "X_train, X_test, y_train, y_test = train_test_split(X, y, test_size=0.2, random_state=0)"
   ],
   "metadata": {
    "datalore": {
     "node_id": "4QPvaZ9drc00SS6Q0XxZIe",
     "type": "CODE",
     "hide_input_from_viewers": false,
     "hide_output_from_viewers": false,
     "report_properties": {
      "rowId": "Ttqb4yCsPpdPglUorhcpES"
     }
    },
    "id": "rVHC_uYIgOzj",
    "executionInfo": {
     "status": "ok",
     "timestamp": 1724203027059,
     "user_tz": 240,
     "elapsed": 365,
     "user": {
      "displayName": "Chris Jaehnen",
      "userId": "09906998703988827501"
     }
    },
    "ExecuteTime": {
     "end_time": "2025-06-13T00:06:48.223148Z",
     "start_time": "2025-06-13T00:06:48.221010Z"
    }
   },
   "outputs": [],
   "execution_count": 7
  },
  {
   "cell_type": "markdown",
   "source": "## Train Multiple Linear Regression Model on Training Set",
   "metadata": {
    "datalore": {
     "node_id": "M29hlJc4hVivJkdJa4H3e8",
     "type": "MD",
     "hide_input_from_viewers": false,
     "hide_output_from_viewers": false,
     "report_properties": {
      "rowId": "VXzvnCO3nlOXZf0uwBm2zO"
     }
    },
    "id": "frHI0dIOgOzk"
   }
  },
  {
   "cell_type": "code",
   "source": [
    "from sklearn.linear_model import LinearRegression\n",
    "\n",
    "regressor = LinearRegression()\n",
    "regressor.fit(X_train, y_train)"
   ],
   "metadata": {
    "datalore": {
     "node_id": "ST9ioolqp8XqAVBVIb4RkH",
     "type": "CODE",
     "hide_input_from_viewers": false,
     "hide_output_from_viewers": false,
     "report_properties": {
      "rowId": "91oFpfir58fvIYBQap3kF5"
     }
    },
    "colab": {
     "base_uri": "https://localhost:8080/",
     "height": 75
    },
    "id": "kF2YKF_3gOzk",
    "executionInfo": {
     "status": "ok",
     "timestamp": 1724203029057,
     "user_tz": 240,
     "elapsed": 586,
     "user": {
      "displayName": "Chris Jaehnen",
      "userId": "09906998703988827501"
     }
    },
    "outputId": "03f6901c-d71f-4781-d5d8-d8e45f854e29",
    "ExecuteTime": {
     "end_time": "2025-06-13T00:06:48.247385Z",
     "start_time": "2025-06-13T00:06:48.240048Z"
    }
   },
   "outputs": [
    {
     "data": {
      "text/plain": [
       "LinearRegression()"
      ],
      "text/html": [
       "<style>#sk-container-id-1 {\n",
       "  /* Definition of color scheme common for light and dark mode */\n",
       "  --sklearn-color-text: #000;\n",
       "  --sklearn-color-text-muted: #666;\n",
       "  --sklearn-color-line: gray;\n",
       "  /* Definition of color scheme for unfitted estimators */\n",
       "  --sklearn-color-unfitted-level-0: #fff5e6;\n",
       "  --sklearn-color-unfitted-level-1: #f6e4d2;\n",
       "  --sklearn-color-unfitted-level-2: #ffe0b3;\n",
       "  --sklearn-color-unfitted-level-3: chocolate;\n",
       "  /* Definition of color scheme for fitted estimators */\n",
       "  --sklearn-color-fitted-level-0: #f0f8ff;\n",
       "  --sklearn-color-fitted-level-1: #d4ebff;\n",
       "  --sklearn-color-fitted-level-2: #b3dbfd;\n",
       "  --sklearn-color-fitted-level-3: cornflowerblue;\n",
       "\n",
       "  /* Specific color for light theme */\n",
       "  --sklearn-color-text-on-default-background: var(--sg-text-color, var(--theme-code-foreground, var(--jp-content-font-color1, black)));\n",
       "  --sklearn-color-background: var(--sg-background-color, var(--theme-background, var(--jp-layout-color0, white)));\n",
       "  --sklearn-color-border-box: var(--sg-text-color, var(--theme-code-foreground, var(--jp-content-font-color1, black)));\n",
       "  --sklearn-color-icon: #696969;\n",
       "\n",
       "  @media (prefers-color-scheme: dark) {\n",
       "    /* Redefinition of color scheme for dark theme */\n",
       "    --sklearn-color-text-on-default-background: var(--sg-text-color, var(--theme-code-foreground, var(--jp-content-font-color1, white)));\n",
       "    --sklearn-color-background: var(--sg-background-color, var(--theme-background, var(--jp-layout-color0, #111)));\n",
       "    --sklearn-color-border-box: var(--sg-text-color, var(--theme-code-foreground, var(--jp-content-font-color1, white)));\n",
       "    --sklearn-color-icon: #878787;\n",
       "  }\n",
       "}\n",
       "\n",
       "#sk-container-id-1 {\n",
       "  color: var(--sklearn-color-text);\n",
       "}\n",
       "\n",
       "#sk-container-id-1 pre {\n",
       "  padding: 0;\n",
       "}\n",
       "\n",
       "#sk-container-id-1 input.sk-hidden--visually {\n",
       "  border: 0;\n",
       "  clip: rect(1px 1px 1px 1px);\n",
       "  clip: rect(1px, 1px, 1px, 1px);\n",
       "  height: 1px;\n",
       "  margin: -1px;\n",
       "  overflow: hidden;\n",
       "  padding: 0;\n",
       "  position: absolute;\n",
       "  width: 1px;\n",
       "}\n",
       "\n",
       "#sk-container-id-1 div.sk-dashed-wrapped {\n",
       "  border: 1px dashed var(--sklearn-color-line);\n",
       "  margin: 0 0.4em 0.5em 0.4em;\n",
       "  box-sizing: border-box;\n",
       "  padding-bottom: 0.4em;\n",
       "  background-color: var(--sklearn-color-background);\n",
       "}\n",
       "\n",
       "#sk-container-id-1 div.sk-container {\n",
       "  /* jupyter's `normalize.less` sets `[hidden] { display: none; }`\n",
       "     but bootstrap.min.css set `[hidden] { display: none !important; }`\n",
       "     so we also need the `!important` here to be able to override the\n",
       "     default hidden behavior on the sphinx rendered scikit-learn.org.\n",
       "     See: https://github.com/scikit-learn/scikit-learn/issues/21755 */\n",
       "  display: inline-block !important;\n",
       "  position: relative;\n",
       "}\n",
       "\n",
       "#sk-container-id-1 div.sk-text-repr-fallback {\n",
       "  display: none;\n",
       "}\n",
       "\n",
       "div.sk-parallel-item,\n",
       "div.sk-serial,\n",
       "div.sk-item {\n",
       "  /* draw centered vertical line to link estimators */\n",
       "  background-image: linear-gradient(var(--sklearn-color-text-on-default-background), var(--sklearn-color-text-on-default-background));\n",
       "  background-size: 2px 100%;\n",
       "  background-repeat: no-repeat;\n",
       "  background-position: center center;\n",
       "}\n",
       "\n",
       "/* Parallel-specific style estimator block */\n",
       "\n",
       "#sk-container-id-1 div.sk-parallel-item::after {\n",
       "  content: \"\";\n",
       "  width: 100%;\n",
       "  border-bottom: 2px solid var(--sklearn-color-text-on-default-background);\n",
       "  flex-grow: 1;\n",
       "}\n",
       "\n",
       "#sk-container-id-1 div.sk-parallel {\n",
       "  display: flex;\n",
       "  align-items: stretch;\n",
       "  justify-content: center;\n",
       "  background-color: var(--sklearn-color-background);\n",
       "  position: relative;\n",
       "}\n",
       "\n",
       "#sk-container-id-1 div.sk-parallel-item {\n",
       "  display: flex;\n",
       "  flex-direction: column;\n",
       "}\n",
       "\n",
       "#sk-container-id-1 div.sk-parallel-item:first-child::after {\n",
       "  align-self: flex-end;\n",
       "  width: 50%;\n",
       "}\n",
       "\n",
       "#sk-container-id-1 div.sk-parallel-item:last-child::after {\n",
       "  align-self: flex-start;\n",
       "  width: 50%;\n",
       "}\n",
       "\n",
       "#sk-container-id-1 div.sk-parallel-item:only-child::after {\n",
       "  width: 0;\n",
       "}\n",
       "\n",
       "/* Serial-specific style estimator block */\n",
       "\n",
       "#sk-container-id-1 div.sk-serial {\n",
       "  display: flex;\n",
       "  flex-direction: column;\n",
       "  align-items: center;\n",
       "  background-color: var(--sklearn-color-background);\n",
       "  padding-right: 1em;\n",
       "  padding-left: 1em;\n",
       "}\n",
       "\n",
       "\n",
       "/* Toggleable style: style used for estimator/Pipeline/ColumnTransformer box that is\n",
       "clickable and can be expanded/collapsed.\n",
       "- Pipeline and ColumnTransformer use this feature and define the default style\n",
       "- Estimators will overwrite some part of the style using the `sk-estimator` class\n",
       "*/\n",
       "\n",
       "/* Pipeline and ColumnTransformer style (default) */\n",
       "\n",
       "#sk-container-id-1 div.sk-toggleable {\n",
       "  /* Default theme specific background. It is overwritten whether we have a\n",
       "  specific estimator or a Pipeline/ColumnTransformer */\n",
       "  background-color: var(--sklearn-color-background);\n",
       "}\n",
       "\n",
       "/* Toggleable label */\n",
       "#sk-container-id-1 label.sk-toggleable__label {\n",
       "  cursor: pointer;\n",
       "  display: flex;\n",
       "  width: 100%;\n",
       "  margin-bottom: 0;\n",
       "  padding: 0.5em;\n",
       "  box-sizing: border-box;\n",
       "  text-align: center;\n",
       "  align-items: start;\n",
       "  justify-content: space-between;\n",
       "  gap: 0.5em;\n",
       "}\n",
       "\n",
       "#sk-container-id-1 label.sk-toggleable__label .caption {\n",
       "  font-size: 0.6rem;\n",
       "  font-weight: lighter;\n",
       "  color: var(--sklearn-color-text-muted);\n",
       "}\n",
       "\n",
       "#sk-container-id-1 label.sk-toggleable__label-arrow:before {\n",
       "  /* Arrow on the left of the label */\n",
       "  content: \"▸\";\n",
       "  float: left;\n",
       "  margin-right: 0.25em;\n",
       "  color: var(--sklearn-color-icon);\n",
       "}\n",
       "\n",
       "#sk-container-id-1 label.sk-toggleable__label-arrow:hover:before {\n",
       "  color: var(--sklearn-color-text);\n",
       "}\n",
       "\n",
       "/* Toggleable content - dropdown */\n",
       "\n",
       "#sk-container-id-1 div.sk-toggleable__content {\n",
       "  max-height: 0;\n",
       "  max-width: 0;\n",
       "  overflow: hidden;\n",
       "  text-align: left;\n",
       "  /* unfitted */\n",
       "  background-color: var(--sklearn-color-unfitted-level-0);\n",
       "}\n",
       "\n",
       "#sk-container-id-1 div.sk-toggleable__content.fitted {\n",
       "  /* fitted */\n",
       "  background-color: var(--sklearn-color-fitted-level-0);\n",
       "}\n",
       "\n",
       "#sk-container-id-1 div.sk-toggleable__content pre {\n",
       "  margin: 0.2em;\n",
       "  border-radius: 0.25em;\n",
       "  color: var(--sklearn-color-text);\n",
       "  /* unfitted */\n",
       "  background-color: var(--sklearn-color-unfitted-level-0);\n",
       "}\n",
       "\n",
       "#sk-container-id-1 div.sk-toggleable__content.fitted pre {\n",
       "  /* unfitted */\n",
       "  background-color: var(--sklearn-color-fitted-level-0);\n",
       "}\n",
       "\n",
       "#sk-container-id-1 input.sk-toggleable__control:checked~div.sk-toggleable__content {\n",
       "  /* Expand drop-down */\n",
       "  max-height: 200px;\n",
       "  max-width: 100%;\n",
       "  overflow: auto;\n",
       "}\n",
       "\n",
       "#sk-container-id-1 input.sk-toggleable__control:checked~label.sk-toggleable__label-arrow:before {\n",
       "  content: \"▾\";\n",
       "}\n",
       "\n",
       "/* Pipeline/ColumnTransformer-specific style */\n",
       "\n",
       "#sk-container-id-1 div.sk-label input.sk-toggleable__control:checked~label.sk-toggleable__label {\n",
       "  color: var(--sklearn-color-text);\n",
       "  background-color: var(--sklearn-color-unfitted-level-2);\n",
       "}\n",
       "\n",
       "#sk-container-id-1 div.sk-label.fitted input.sk-toggleable__control:checked~label.sk-toggleable__label {\n",
       "  background-color: var(--sklearn-color-fitted-level-2);\n",
       "}\n",
       "\n",
       "/* Estimator-specific style */\n",
       "\n",
       "/* Colorize estimator box */\n",
       "#sk-container-id-1 div.sk-estimator input.sk-toggleable__control:checked~label.sk-toggleable__label {\n",
       "  /* unfitted */\n",
       "  background-color: var(--sklearn-color-unfitted-level-2);\n",
       "}\n",
       "\n",
       "#sk-container-id-1 div.sk-estimator.fitted input.sk-toggleable__control:checked~label.sk-toggleable__label {\n",
       "  /* fitted */\n",
       "  background-color: var(--sklearn-color-fitted-level-2);\n",
       "}\n",
       "\n",
       "#sk-container-id-1 div.sk-label label.sk-toggleable__label,\n",
       "#sk-container-id-1 div.sk-label label {\n",
       "  /* The background is the default theme color */\n",
       "  color: var(--sklearn-color-text-on-default-background);\n",
       "}\n",
       "\n",
       "/* On hover, darken the color of the background */\n",
       "#sk-container-id-1 div.sk-label:hover label.sk-toggleable__label {\n",
       "  color: var(--sklearn-color-text);\n",
       "  background-color: var(--sklearn-color-unfitted-level-2);\n",
       "}\n",
       "\n",
       "/* Label box, darken color on hover, fitted */\n",
       "#sk-container-id-1 div.sk-label.fitted:hover label.sk-toggleable__label.fitted {\n",
       "  color: var(--sklearn-color-text);\n",
       "  background-color: var(--sklearn-color-fitted-level-2);\n",
       "}\n",
       "\n",
       "/* Estimator label */\n",
       "\n",
       "#sk-container-id-1 div.sk-label label {\n",
       "  font-family: monospace;\n",
       "  font-weight: bold;\n",
       "  display: inline-block;\n",
       "  line-height: 1.2em;\n",
       "}\n",
       "\n",
       "#sk-container-id-1 div.sk-label-container {\n",
       "  text-align: center;\n",
       "}\n",
       "\n",
       "/* Estimator-specific */\n",
       "#sk-container-id-1 div.sk-estimator {\n",
       "  font-family: monospace;\n",
       "  border: 1px dotted var(--sklearn-color-border-box);\n",
       "  border-radius: 0.25em;\n",
       "  box-sizing: border-box;\n",
       "  margin-bottom: 0.5em;\n",
       "  /* unfitted */\n",
       "  background-color: var(--sklearn-color-unfitted-level-0);\n",
       "}\n",
       "\n",
       "#sk-container-id-1 div.sk-estimator.fitted {\n",
       "  /* fitted */\n",
       "  background-color: var(--sklearn-color-fitted-level-0);\n",
       "}\n",
       "\n",
       "/* on hover */\n",
       "#sk-container-id-1 div.sk-estimator:hover {\n",
       "  /* unfitted */\n",
       "  background-color: var(--sklearn-color-unfitted-level-2);\n",
       "}\n",
       "\n",
       "#sk-container-id-1 div.sk-estimator.fitted:hover {\n",
       "  /* fitted */\n",
       "  background-color: var(--sklearn-color-fitted-level-2);\n",
       "}\n",
       "\n",
       "/* Specification for estimator info (e.g. \"i\" and \"?\") */\n",
       "\n",
       "/* Common style for \"i\" and \"?\" */\n",
       "\n",
       ".sk-estimator-doc-link,\n",
       "a:link.sk-estimator-doc-link,\n",
       "a:visited.sk-estimator-doc-link {\n",
       "  float: right;\n",
       "  font-size: smaller;\n",
       "  line-height: 1em;\n",
       "  font-family: monospace;\n",
       "  background-color: var(--sklearn-color-background);\n",
       "  border-radius: 1em;\n",
       "  height: 1em;\n",
       "  width: 1em;\n",
       "  text-decoration: none !important;\n",
       "  margin-left: 0.5em;\n",
       "  text-align: center;\n",
       "  /* unfitted */\n",
       "  border: var(--sklearn-color-unfitted-level-1) 1pt solid;\n",
       "  color: var(--sklearn-color-unfitted-level-1);\n",
       "}\n",
       "\n",
       ".sk-estimator-doc-link.fitted,\n",
       "a:link.sk-estimator-doc-link.fitted,\n",
       "a:visited.sk-estimator-doc-link.fitted {\n",
       "  /* fitted */\n",
       "  border: var(--sklearn-color-fitted-level-1) 1pt solid;\n",
       "  color: var(--sklearn-color-fitted-level-1);\n",
       "}\n",
       "\n",
       "/* On hover */\n",
       "div.sk-estimator:hover .sk-estimator-doc-link:hover,\n",
       ".sk-estimator-doc-link:hover,\n",
       "div.sk-label-container:hover .sk-estimator-doc-link:hover,\n",
       ".sk-estimator-doc-link:hover {\n",
       "  /* unfitted */\n",
       "  background-color: var(--sklearn-color-unfitted-level-3);\n",
       "  color: var(--sklearn-color-background);\n",
       "  text-decoration: none;\n",
       "}\n",
       "\n",
       "div.sk-estimator.fitted:hover .sk-estimator-doc-link.fitted:hover,\n",
       ".sk-estimator-doc-link.fitted:hover,\n",
       "div.sk-label-container:hover .sk-estimator-doc-link.fitted:hover,\n",
       ".sk-estimator-doc-link.fitted:hover {\n",
       "  /* fitted */\n",
       "  background-color: var(--sklearn-color-fitted-level-3);\n",
       "  color: var(--sklearn-color-background);\n",
       "  text-decoration: none;\n",
       "}\n",
       "\n",
       "/* Span, style for the box shown on hovering the info icon */\n",
       ".sk-estimator-doc-link span {\n",
       "  display: none;\n",
       "  z-index: 9999;\n",
       "  position: relative;\n",
       "  font-weight: normal;\n",
       "  right: .2ex;\n",
       "  padding: .5ex;\n",
       "  margin: .5ex;\n",
       "  width: min-content;\n",
       "  min-width: 20ex;\n",
       "  max-width: 50ex;\n",
       "  color: var(--sklearn-color-text);\n",
       "  box-shadow: 2pt 2pt 4pt #999;\n",
       "  /* unfitted */\n",
       "  background: var(--sklearn-color-unfitted-level-0);\n",
       "  border: .5pt solid var(--sklearn-color-unfitted-level-3);\n",
       "}\n",
       "\n",
       ".sk-estimator-doc-link.fitted span {\n",
       "  /* fitted */\n",
       "  background: var(--sklearn-color-fitted-level-0);\n",
       "  border: var(--sklearn-color-fitted-level-3);\n",
       "}\n",
       "\n",
       ".sk-estimator-doc-link:hover span {\n",
       "  display: block;\n",
       "}\n",
       "\n",
       "/* \"?\"-specific style due to the `<a>` HTML tag */\n",
       "\n",
       "#sk-container-id-1 a.estimator_doc_link {\n",
       "  float: right;\n",
       "  font-size: 1rem;\n",
       "  line-height: 1em;\n",
       "  font-family: monospace;\n",
       "  background-color: var(--sklearn-color-background);\n",
       "  border-radius: 1rem;\n",
       "  height: 1rem;\n",
       "  width: 1rem;\n",
       "  text-decoration: none;\n",
       "  /* unfitted */\n",
       "  color: var(--sklearn-color-unfitted-level-1);\n",
       "  border: var(--sklearn-color-unfitted-level-1) 1pt solid;\n",
       "}\n",
       "\n",
       "#sk-container-id-1 a.estimator_doc_link.fitted {\n",
       "  /* fitted */\n",
       "  border: var(--sklearn-color-fitted-level-1) 1pt solid;\n",
       "  color: var(--sklearn-color-fitted-level-1);\n",
       "}\n",
       "\n",
       "/* On hover */\n",
       "#sk-container-id-1 a.estimator_doc_link:hover {\n",
       "  /* unfitted */\n",
       "  background-color: var(--sklearn-color-unfitted-level-3);\n",
       "  color: var(--sklearn-color-background);\n",
       "  text-decoration: none;\n",
       "}\n",
       "\n",
       "#sk-container-id-1 a.estimator_doc_link.fitted:hover {\n",
       "  /* fitted */\n",
       "  background-color: var(--sklearn-color-fitted-level-3);\n",
       "}\n",
       "</style><div id=\"sk-container-id-1\" class=\"sk-top-container\"><div class=\"sk-text-repr-fallback\"><pre>LinearRegression()</pre><b>In a Jupyter environment, please rerun this cell to show the HTML representation or trust the notebook. <br />On GitHub, the HTML representation is unable to render, please try loading this page with nbviewer.org.</b></div><div class=\"sk-container\" hidden><div class=\"sk-item\"><div class=\"sk-estimator fitted sk-toggleable\"><input class=\"sk-toggleable__control sk-hidden--visually\" id=\"sk-estimator-id-1\" type=\"checkbox\" checked><label for=\"sk-estimator-id-1\" class=\"sk-toggleable__label fitted sk-toggleable__label-arrow\"><div><div>LinearRegression</div></div><div><a class=\"sk-estimator-doc-link fitted\" rel=\"noreferrer\" target=\"_blank\" href=\"https://scikit-learn.org/1.6/modules/generated/sklearn.linear_model.LinearRegression.html\">?<span>Documentation for LinearRegression</span></a><span class=\"sk-estimator-doc-link fitted\">i<span>Fitted</span></span></div></label><div class=\"sk-toggleable__content fitted\"><pre>LinearRegression()</pre></div> </div></div></div></div>"
      ]
     },
     "execution_count": 8,
     "metadata": {},
     "output_type": "execute_result"
    }
   ],
   "execution_count": 8
  },
  {
   "cell_type": "markdown",
   "source": "## Predict Test Set Results",
   "metadata": {
    "datalore": {
     "node_id": "UTSCa51soMFEJ4hLj6wq4R",
     "type": "MD",
     "hide_input_from_viewers": false,
     "hide_output_from_viewers": false,
     "report_properties": {
      "rowId": "bzyrVkWNDMew9l2HddiMBm"
     }
    },
    "id": "Pee4itHIgOzk"
   }
  },
  {
   "cell_type": "code",
   "source": "y_pred = regressor.predict(X_test)",
   "metadata": {
    "datalore": {
     "node_id": "C9hHbqxmb6ybbFHSdmG30o",
     "type": "CODE",
     "hide_input_from_viewers": false,
     "hide_output_from_viewers": false,
     "report_properties": {
      "rowId": "5VgrvR888DDYCGEzdmZ92D"
     }
    },
    "colab": {
     "base_uri": "https://localhost:8080/"
    },
    "id": "2IwjH0XRgOzk",
    "executionInfo": {
     "status": "ok",
     "timestamp": 1724203030912,
     "user_tz": 240,
     "elapsed": 214,
     "user": {
      "displayName": "Chris Jaehnen",
      "userId": "09906998703988827501"
     }
    },
    "outputId": "58a5003c-41cf-4434-e580-88b175239dec",
    "ExecuteTime": {
     "end_time": "2025-06-13T00:06:48.269819Z",
     "start_time": "2025-06-13T00:06:48.267062Z"
    }
   },
   "outputs": [],
   "execution_count": 9
  },
  {
   "metadata": {},
   "cell_type": "markdown",
   "source": [
    "* Display numeric values with a precision of 2 decimal places\n",
    "* Display the predicted and actual values (profit) side-by-side\n",
    "* Concatenate the predicted and actual vectors\n",
    "* `concatenate` function concatenates multiple arrays or vectors:\n",
    "    * 1st argument\n",
    "        * Expects a tuple of arrays/vectors to concatenate\n",
    "        * Expects the same shape and size\n",
    "        * Display the vector values vertically using the reshape function, length function to get the size for the rows, and hard code a value of 1 for the columns\n",
    "    * 2nd argument\n",
    "        * Expects the axis (0 = vertical or 1 = horizontal)"
   ]
  },
  {
   "metadata": {
    "ExecuteTime": {
     "end_time": "2025-06-13T00:06:48.287299Z",
     "start_time": "2025-06-13T00:06:48.284485Z"
    }
   },
   "cell_type": "code",
   "source": [
    "np.set_printoptions(precision=2)\n",
    "print(np.concatenate((y_pred.reshape(len(y_pred), 1), y_test.reshape(len(y_test), 1)), 1))"
   ],
   "outputs": [
    {
     "name": "stdout",
     "output_type": "stream",
     "text": [
      "[[103015.2  103282.38]\n",
      " [132582.28 144259.4 ]\n",
      " [132447.74 146121.95]\n",
      " [ 71976.1   77798.83]\n",
      " [178537.48 191050.39]\n",
      " [116161.24 105008.31]\n",
      " [ 67851.69  81229.06]\n",
      " [ 98791.73  97483.56]\n",
      " [113969.44 110352.25]\n",
      " [167921.07 166187.94]]\n"
     ]
    }
   ],
   "execution_count": 10
  },
  {
   "cell_type": "markdown",
   "source": [
    "## Make Single Prediction\n",
    "\n",
    "### Example: The profit of a startup with R&D Spend = 160000, Administration Spend = 130000, Marketing Spend = 300000 and State = California"
   ],
   "metadata": {
    "datalore": {
     "node_id": "gerMFZJ0TawU1i19W45M5x",
     "type": "MD",
     "hide_input_from_viewers": false,
     "hide_output_from_viewers": false,
     "report_properties": {
      "rowId": "4V4cVdNzSaOUCyaxTbRW5q"
     }
    },
    "id": "jgqIX2NEgOzk"
   }
  },
  {
   "cell_type": "code",
   "source": "print(regressor.predict([[1, 0, 0, 160000, 130000, 300000]]))",
   "metadata": {
    "datalore": {
     "node_id": "LBCudW2RGobaVaEL4VhH3A",
     "type": "CODE",
     "hide_input_from_viewers": false,
     "hide_output_from_viewers": false,
     "report_properties": {
      "rowId": "2hsqpg2oZ44NKvDH21iQSR"
     }
    },
    "colab": {
     "base_uri": "https://localhost:8080/"
    },
    "id": "Qc30dHnTgOzk",
    "executionInfo": {
     "status": "ok",
     "timestamp": 1724203033144,
     "user_tz": 240,
     "elapsed": 242,
     "user": {
      "displayName": "Chris Jaehnen",
      "userId": "09906998703988827501"
     }
    },
    "outputId": "2a515d8a-f049-4bc4-f511-b01f36bda89c",
    "ExecuteTime": {
     "end_time": "2025-06-13T00:06:48.308151Z",
     "start_time": "2025-06-13T00:06:48.305983Z"
    }
   },
   "outputs": [
    {
     "name": "stdout",
     "output_type": "stream",
     "text": [
      "[181566.92]\n"
     ]
    }
   ],
   "execution_count": 11
  },
  {
   "cell_type": "markdown",
   "source": [
    "Therefore, our model predicts that the profit of a Californian startup which spent 160000 in R&D, 130000 in Administration, and 300000 in Marketing is $181,566.92.\n",
    "\n",
    "**Important Note 1:** Notice that the values of the features were all input in a double pair of square brackets. That's because the `predict` method always expects a 2D array as the format of its inputs. And putting our values into a double pair of square brackets makes the input exactly a 2D array.\n",
    "\n",
    "Simply put:\n",
    "\n",
    "$1, 0, 0, 160000, 130000, 300000 \\rightarrow \\textrm{scalars}$\n",
    "\n",
    "$[1, 0, 0, 160000, 130000, 300000] \\rightarrow \\textrm{1D array}$\n",
    "\n",
    "$[[1, 0, 0, 160000, 130000, 300000]] \\rightarrow \\textrm{2D array}$\n",
    "\n",
    "**Important Note 2:** Notice also that the \"California\" state was not input as a string in the last column but as \"1, 0, 0\" in the first three columns. That's because of course the predict method expects the one-hot-encoded values of the state, and as we see in the second row of the matrix of features `X`, \"California\" was encoded as \"1, 0, 0\". Be careful to include these values in the first three columns, not the last three ones, because the dummy variables are always created in the first columns."
   ],
   "metadata": {
    "datalore": {
     "node_id": "b0sqcBrJkfdd6UBL6iiVWc",
     "type": "MD",
     "hide_input_from_viewers": false,
     "hide_output_from_viewers": false,
     "report_properties": {
      "rowId": "KXT0JnHgYucC9L0rQgU6Mk"
     }
    },
    "id": "9tysVXphgOzk"
   }
  },
  {
   "cell_type": "markdown",
   "source": "## Get Final Linear Regression Equation with Values of Coefficients",
   "metadata": {
    "datalore": {
     "node_id": "EUbwsAa9w2IQE26NPkpA5U",
     "type": "MD",
     "hide_input_from_viewers": false,
     "hide_output_from_viewers": false,
     "report_properties": {
      "rowId": "us5EkJMezz1DqbzUWX4Ecq"
     }
    },
    "id": "uS87ia9BgOzl"
   }
  },
  {
   "cell_type": "code",
   "source": [
    "np.set_printoptions(precision=4, suppress=True)\n",
    "print(np.array(regressor.coef_))\n",
    "print(regressor.intercept_)"
   ],
   "metadata": {
    "datalore": {
     "node_id": "PFaVb6Sf4h0qpdAbdn1PRu",
     "type": "CODE",
     "hide_input_from_viewers": false,
     "hide_output_from_viewers": false,
     "report_properties": {
      "rowId": "5zQJYI8hp2ImZN4Muk3RmF"
     }
    },
    "colab": {
     "base_uri": "https://localhost:8080/"
    },
    "id": "-JEI2FrDgOzl",
    "executionInfo": {
     "status": "ok",
     "timestamp": 1724203036320,
     "user_tz": 240,
     "elapsed": 472,
     "user": {
      "displayName": "Chris Jaehnen",
      "userId": "09906998703988827501"
     }
    },
    "outputId": "c331e9f7-48da-433e-d8a0-8e364e834a30",
    "ExecuteTime": {
     "end_time": "2025-06-13T00:06:48.334073Z",
     "start_time": "2025-06-13T00:06:48.331679Z"
    }
   },
   "outputs": [
    {
     "name": "stdout",
     "output_type": "stream",
     "text": [
      "[  86.6384 -872.6458  786.0074    0.7735    0.0329    0.0366]\n",
      "42467.52924857642\n"
     ]
    }
   ],
   "execution_count": 12
  },
  {
   "cell_type": "markdown",
   "source": [
    "Therefore, the equation of our multiple linear regression model is:\n",
    "\n",
    "$$\\textrm{Profit} = 86.6 \\times \\textrm{Dummy State 1} - 873 \\times \\textrm{Dummy State 2} + 786 \\times \\textrm{Dummy State 3} + 0.773 \\times \\textrm{R and D Spend} + 0.0329 \\times \\textrm{Administration} + 0.0366 \\times \\textrm{Marketing Spend} + 42467.53$$\n",
    "\n",
    "**Important Note:** To get these coefficients, we called the `coef_` and `intercept_` attributes from our regressor object. Attributes in Python are different than methods and usually return a simple value or an array of values."
   ],
   "metadata": {
    "datalore": {
     "node_id": "TU1oPJ27RceZ7POfvoPHzT",
     "type": "MD",
     "hide_input_from_viewers": false,
     "hide_output_from_viewers": false,
     "report_properties": {
      "rowId": "cgpihoUosGCt2w77pUM7Iq"
     }
    },
    "id": "2UrfvP9SgOzl"
   }
  }
 ],
 "metadata": {
  "kernelspec": {
   "display_name": "Python 3 (ipykernel)",
   "language": "python",
   "name": "python3"
  },
  "datalore": {
   "computation_mode": "JUPYTER",
   "package_manager": "pip",
   "base_environment": "default",
   "packages": [],
   "report_row_ids": [
    "OGQLrQ9cvzci77fYZYsSbg",
    "80ldLCGkBP5mEQoALcv2lc",
    "250R8aJaYedTFDTDOAbaxP",
    "UBJMTMClZgGWl8tJLfHPV3",
    "rywbrQ5JxucKj4RGcy1fcP",
    "t7RxkDVyynBCuZKrnp2sjf",
    "2FXMYjroRio0nPZQJm2KAn",
    "GO9Q4rIg3m7W5O4FxZNiHU",
    "Nd50KvP6OxzBnMoO0CEftv",
    "GrMwFc44AF14hg0MY3Q2gQ",
    "eqUeccw4n1wISrIIpjXiyh",
    "Ttqb4yCsPpdPglUorhcpES",
    "VXzvnCO3nlOXZf0uwBm2zO",
    "91oFpfir58fvIYBQap3kF5",
    "bzyrVkWNDMew9l2HddiMBm",
    "5VgrvR888DDYCGEzdmZ92D",
    "4V4cVdNzSaOUCyaxTbRW5q",
    "2hsqpg2oZ44NKvDH21iQSR",
    "KXT0JnHgYucC9L0rQgU6Mk",
    "us5EkJMezz1DqbzUWX4Ecq",
    "5zQJYI8hp2ImZN4Muk3RmF",
    "cgpihoUosGCt2w77pUM7Iq"
   ],
   "version": 3
  },
  "colab": {
   "provenance": []
  }
 },
 "nbformat": 4,
 "nbformat_minor": 0
}
