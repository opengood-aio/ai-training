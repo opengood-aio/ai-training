{
 "cells": [
  {
   "cell_type": "markdown",
   "source": [
    "# Support Vector Regression (SVR)"
   ],
   "metadata": {
    "datalore": {
     "node_id": "cZSaj69gejiPIObcgZCJgg",
     "type": "MD",
     "hide_input_from_viewers": false,
     "hide_output_from_viewers": false,
     "report_properties": {
      "rowId": "qm86LivshxaBd6wqJzMvHS"
     }
    },
    "id": "2WM2TNOQkMfe"
   }
  },
  {
   "metadata": {},
   "cell_type": "markdown",
   "source": [
    "## Dataset\n",
    "\n",
    "### Layout\n",
    "\n",
    "* Columns: 5\n",
    "\t* Engine temperature\n",
    "\t* Exhaust vacuum\n",
    "\t* Ambient pressure\n",
    "\t* Relative humidity\n",
    "\t* Energy output\n",
    "* Rows: 1000s of observations\n",
    "\t* Each row represents observation of captured metrics at power plant\n",
    "\t\t* Features:\n",
    "\t\t\t* Engine temperature\n",
    "\t\t\t* Exhaust vacuum\n",
    "\t\t\t* Ambient pressure\n",
    "\t\t\t* Relative humidity\n",
    "\t\t* Dependent variable:\n",
    "\t\t\t* Energy output\n",
    "\n",
    "### Background\n",
    "\n",
    "* Real world dataset from UCI ML repository\n",
    "\t* Web site that contains many real world datasets in which to practice ML\n",
    "* Combined cycle power plant dataset\n",
    "\n",
    "### Goals\n",
    "\n",
    "* Build regression models to predict energy output"
   ]
  },
  {
   "cell_type": "markdown",
   "source": "## Import Libraries",
   "metadata": {
    "datalore": {
     "node_id": "w1cwn5Dkt43QD02xsGY7iK",
     "type": "MD",
     "hide_input_from_viewers": false,
     "hide_output_from_viewers": false,
     "report_properties": {
      "rowId": "BoK1zVmyQH6Lr3Aw9RBglZ"
     }
    },
    "id": "geb7_JJXkMfh"
   }
  },
  {
   "cell_type": "code",
   "source": [
    "import numpy as np\n",
    "import matplotlib.pyplot as plt\n",
    "import pandas as pd"
   ],
   "metadata": {
    "datalore": {
     "node_id": "Oo58uvUFnksZu997zw66qd",
     "type": "CODE",
     "hide_input_from_viewers": false,
     "hide_output_from_viewers": false,
     "report_properties": {
      "rowId": "Bp7UXm2nYlvFDLFCobicI8"
     }
    },
    "id": "2FhzvvYRkMfh",
    "executionInfo": {
     "status": "ok",
     "timestamp": 1724707366904,
     "user_tz": 240,
     "elapsed": 1566,
     "user": {
      "displayName": "Chris Jaehnen",
      "userId": "09906998703988827501"
     }
    },
    "ExecuteTime": {
     "end_time": "2025-06-17T00:37:57.322169Z",
     "start_time": "2025-06-17T00:37:56.902491Z"
    }
   },
   "outputs": [],
   "execution_count": 1
  },
  {
   "cell_type": "markdown",
   "source": "## Import Dataset",
   "metadata": {
    "datalore": {
     "node_id": "EXeabsRJn4nVacwYBQXDZJ",
     "type": "MD",
     "hide_input_from_viewers": false,
     "hide_output_from_viewers": false,
     "report_properties": {
      "rowId": "9lSXz0rKHt1K3uT8bRR0C4"
     }
    },
    "id": "b4MXZuEFkMfi"
   }
  },
  {
   "cell_type": "code",
   "source": [
    "dataset = pd.read_csv('Data.csv')\n",
    "X = dataset.iloc[:, :-1].values\n",
    "y = dataset.iloc[:, -1].values"
   ],
   "metadata": {
    "datalore": {
     "node_id": "Kf7NG3O9kC11F7RiVUitVp",
     "type": "CODE",
     "hide_input_from_viewers": false,
     "hide_output_from_viewers": false,
     "report_properties": {
      "rowId": "MOqK8i04NjSNWtLhiZQnPS"
     }
    },
    "id": "Iehp2XO8kMfj",
    "executionInfo": {
     "status": "ok",
     "timestamp": 1724707367330,
     "user_tz": 240,
     "elapsed": 428,
     "user": {
      "displayName": "Chris Jaehnen",
      "userId": "09906998703988827501"
     }
    },
    "ExecuteTime": {
     "end_time": "2025-06-17T00:37:57.382883Z",
     "start_time": "2025-06-17T00:37:57.375633Z"
    }
   },
   "outputs": [],
   "execution_count": 2
  },
  {
   "cell_type": "code",
   "source": "y = y.reshape(len(y), 1)",
   "metadata": {
    "datalore": {
     "node_id": "tYn6m2U87kVeL9mMjlnEAz",
     "type": "CODE",
     "hide_input_from_viewers": false,
     "hide_output_from_viewers": false,
     "report_properties": {
      "rowId": "HL6erc8bwljhI9ZwTCPVn0"
     }
    },
    "id": "tVPTxB-fkMfj",
    "executionInfo": {
     "status": "ok",
     "timestamp": 1724707367330,
     "user_tz": 240,
     "elapsed": 2,
     "user": {
      "displayName": "Chris Jaehnen",
      "userId": "09906998703988827501"
     }
    },
    "ExecuteTime": {
     "end_time": "2025-06-17T00:37:57.395652Z",
     "start_time": "2025-06-17T00:37:57.393869Z"
    }
   },
   "outputs": [],
   "execution_count": 3
  },
  {
   "metadata": {
    "ExecuteTime": {
     "end_time": "2025-06-17T00:37:57.428159Z",
     "start_time": "2025-06-17T00:37:57.425255Z"
    }
   },
   "cell_type": "code",
   "source": "print(*X[:25], sep='\\n')",
   "outputs": [
    {
     "name": "stdout",
     "output_type": "stream",
     "text": [
      "[  14.96   41.76 1024.07   73.17]\n",
      "[  25.18   62.96 1020.04   59.08]\n",
      "[   5.11   39.4  1012.16   92.14]\n",
      "[  20.86   57.32 1010.24   76.64]\n",
      "[  10.82   37.5  1009.23   96.62]\n",
      "[  26.27   59.44 1012.23   58.77]\n",
      "[  15.89   43.96 1014.02   75.24]\n",
      "[   9.48   44.71 1019.12   66.43]\n",
      "[  14.64   45.   1021.78   41.25]\n",
      "[  11.74   43.56 1015.14   70.72]\n",
      "[  17.99   43.72 1008.64   75.04]\n",
      "[  20.14   46.93 1014.66   64.22]\n",
      "[  24.34   73.5  1011.31   84.15]\n",
      "[  25.71   58.59 1012.77   61.83]\n",
      "[  26.19   69.34 1009.48   87.59]\n",
      "[  21.42   43.79 1015.76   43.08]\n",
      "[  18.21   45.   1022.86   48.84]\n",
      "[  11.04   41.74 1022.6    77.51]\n",
      "[  14.45   52.75 1023.97   63.59]\n",
      "[  13.97   38.47 1015.15   55.28]\n",
      "[  17.76   42.42 1009.09   66.26]\n",
      "[   5.41   40.07 1019.16   64.77]\n",
      "[   7.76   42.28 1008.52   83.31]\n",
      "[  27.23   63.9  1014.3    47.19]\n",
      "[  27.36   48.6  1003.18   54.93]\n"
     ]
    }
   ],
   "execution_count": 4
  },
  {
   "metadata": {
    "ExecuteTime": {
     "end_time": "2025-06-17T00:37:57.447906Z",
     "start_time": "2025-06-17T00:37:57.445090Z"
    }
   },
   "cell_type": "code",
   "source": "print(*y[:25], sep='\\n')",
   "outputs": [
    {
     "name": "stdout",
     "output_type": "stream",
     "text": [
      "[463.26]\n",
      "[444.37]\n",
      "[488.56]\n",
      "[446.48]\n",
      "[473.9]\n",
      "[443.67]\n",
      "[467.35]\n",
      "[478.42]\n",
      "[475.98]\n",
      "[477.5]\n",
      "[453.02]\n",
      "[453.99]\n",
      "[440.29]\n",
      "[451.28]\n",
      "[433.99]\n",
      "[462.19]\n",
      "[467.54]\n",
      "[477.2]\n",
      "[459.85]\n",
      "[464.3]\n",
      "[468.27]\n",
      "[495.24]\n",
      "[483.8]\n",
      "[443.61]\n",
      "[436.06]\n"
     ]
    }
   ],
   "execution_count": 5
  },
  {
   "cell_type": "markdown",
   "source": "## Split Dataset into Training Set and Test Set",
   "metadata": {
    "datalore": {
     "node_id": "Frt4EnmROaL8yYZbC09a8z",
     "type": "MD",
     "hide_input_from_viewers": false,
     "hide_output_from_viewers": false,
     "report_properties": {
      "rowId": "WJVlyLQLecFxqQVbwYhg0x"
     }
    },
    "id": "2pCIffadkMfj"
   }
  },
  {
   "cell_type": "code",
   "source": [
    "from sklearn.model_selection import train_test_split\n",
    "\n",
    "X_train, X_test, y_train, y_test = train_test_split(X, y, test_size=0.2, random_state=0)"
   ],
   "metadata": {
    "datalore": {
     "node_id": "cniHu6NWHeP2HSaQINxPO7",
     "type": "CODE",
     "hide_input_from_viewers": false,
     "hide_output_from_viewers": false,
     "report_properties": {
      "rowId": "ChsBbQJl4X4La6QZOt2QbS"
     }
    },
    "id": "s-4JklP3kMfj",
    "executionInfo": {
     "status": "ok",
     "timestamp": 1724707368627,
     "user_tz": 240,
     "elapsed": 1298,
     "user": {
      "displayName": "Chris Jaehnen",
      "userId": "09906998703988827501"
     }
    },
    "ExecuteTime": {
     "end_time": "2025-06-17T00:37:58.046538Z",
     "start_time": "2025-06-17T00:37:57.462130Z"
    }
   },
   "outputs": [],
   "execution_count": 6
  },
  {
   "cell_type": "markdown",
   "source": [
    "## Feature Scaling"
   ],
   "metadata": {
    "datalore": {
     "node_id": "ifUmXpuz6w7XbKmYcxpHGn",
     "type": "MD",
     "hide_input_from_viewers": false,
     "hide_output_from_viewers": false,
     "report_properties": {
      "rowId": "rtMG3FNMaQXBcRhdgAnb12"
     }
    },
    "id": "jxc857dMkMfj"
   }
  },
  {
   "cell_type": "code",
   "source": [
    "from sklearn.preprocessing import StandardScaler\n",
    "\n",
    "sc_X = StandardScaler()\n",
    "sc_y = StandardScaler()\n",
    "X_train = sc_X.fit_transform(X_train)\n",
    "y_train = sc_y.fit_transform(y_train)"
   ],
   "metadata": {
    "datalore": {
     "node_id": "uquFeoV1SmlCGteM9om3YQ",
     "type": "CODE",
     "hide_input_from_viewers": false,
     "hide_output_from_viewers": false,
     "report_properties": {
      "rowId": "yUqqQRQvsQsHZI6T8Qoq8f"
     }
    },
    "id": "ecsJcKcDkMfj",
    "executionInfo": {
     "status": "ok",
     "timestamp": 1724707368831,
     "user_tz": 240,
     "elapsed": 2,
     "user": {
      "displayName": "Chris Jaehnen",
      "userId": "09906998703988827501"
     }
    },
    "ExecuteTime": {
     "end_time": "2025-06-17T00:37:58.060637Z",
     "start_time": "2025-06-17T00:37:58.057029Z"
    }
   },
   "outputs": [],
   "execution_count": 7
  },
  {
   "metadata": {
    "ExecuteTime": {
     "end_time": "2025-06-17T00:37:58.074638Z",
     "start_time": "2025-06-17T00:37:58.071024Z"
    }
   },
   "cell_type": "code",
   "source": "print(*X_train[:25], sep='\\n')",
   "outputs": [
    {
     "name": "stdout",
     "output_type": "stream",
     "text": [
      "[-1.13572795 -0.88685592  0.67357894  0.52070558]\n",
      "[-0.80630243 -0.00971567  0.45145467  0.14531044]\n",
      "[ 1.77128416  1.84743445  0.24279248 -1.88374143]\n",
      "[ 1.64623692  1.05274696 -0.75340119 -1.37545092]\n",
      "[-1.25001843 -1.32895973 -0.00793869  0.40767602]\n",
      "[-1.00933612 -1.06903724  2.11233839 -0.15952686]\n",
      "[-0.47553232 -1.13342892 -1.04283584  0.49261945]\n",
      "[-0.93000507 -0.9488918   0.83007558  1.46398864]\n",
      "[-1.08194419 -1.01171295  1.12792403 -0.47052941]\n",
      "[ 0.87444    -0.43218788 -0.56661488 -2.66261785]\n",
      "[ 0.93763592  1.15483132 -0.44377343  0.40630597]\n",
      "[ 0.22096734 -0.91276964  0.14519243  0.1692864 ]\n",
      "[-0.7915119  -1.13264365  0.86541353 -0.31708322]\n",
      "[ 0.29357542  0.30674585 -0.03486285 -0.47326952]\n",
      "[ 0.77628464  1.63384256 -0.42526307 -0.46984438]\n",
      "[ 0.67140631  0.94752154 -0.40506996 -0.22186438]\n",
      "[-1.13841713 -1.46559572  1.01013086 -0.5965745 ]\n",
      "[ 0.32181189 -0.86329799 -0.46733206 -1.04732268]\n",
      "[ 0.34735917  0.42217971  0.59785476 -0.29310725]\n",
      "[ 0.50602126 -0.23508653 -0.3242975   0.01721027]\n",
      "[-0.46880935 -0.27827607  0.13846139  1.83527362]\n",
      "[ 0.47644019  0.62948949 -0.2452078   0.23025386]\n",
      "[-0.80630243 -0.95046233  0.36563393  0.39329044]\n",
      "[-0.64898494 -0.84288112  0.5170823  -0.31708322]\n",
      "[ 0.88519675 -0.18325909 -0.00625593 -1.3823012 ]\n"
     ]
    }
   ],
   "execution_count": 8
  },
  {
   "metadata": {
    "ExecuteTime": {
     "end_time": "2025-06-17T00:37:58.090703Z",
     "start_time": "2025-06-17T00:37:58.087092Z"
    }
   },
   "cell_type": "code",
   "source": "print(*X_test[:25], sep='\\n')",
   "outputs": [
    {
     "name": "stdout",
     "output_type": "stream",
     "text": [
      "[  28.66   77.95 1009.56   69.07]\n",
      "[  17.48   49.39 1021.51   84.53]\n",
      "[  14.86   43.14 1019.21   99.14]\n",
      "[  22.46   58.33 1013.21   68.68]\n",
      "[  18.38   55.28 1020.22   68.33]\n",
      "[  30.89   74.87 1008.99   56.58]\n",
      "[  11.74   43.56 1015.14   70.72]\n",
      "[  18.97   50.59 1016.01   74.9 ]\n",
      "[  11.42   41.54 1020.21   71.57]\n",
      "[  23.89   50.16 1004.88   73.94]\n",
      "[  24.66   63.73 1011.4    74.52]\n",
      "[  25.7    69.45 1013.86   56.91]\n",
      "[  25.11   58.79 1015.99   60.55]\n",
      "[  24.14   63.21 1012.28   89.08]\n",
      "[  24.73   74.22 1010.15   79.83]\n",
      "[  20.6    45.38 1014.93   75.78]\n",
      "[  25.21   64.63 1020.56   51.31]\n",
      "[  28.61   68.12 1011.71   47.57]\n",
      "[  19.21   58.49 1011.7    91.29]\n",
      "[  31.98   73.42 1010.66   60.06]\n",
      "[  32.38   77.24 1007.7    61.15]\n",
      "[  28.94   68.67 1005.39   75.24]\n",
      "[  10.15   41.14 1025.5    91.54]\n",
      "[  23.67   71.77 1004.76   86.13]\n",
      "[  21.23   61.5  1008.98   82.14]\n"
     ]
    }
   ],
   "execution_count": 9
  },
  {
   "metadata": {
    "ExecuteTime": {
     "end_time": "2025-06-17T00:37:58.109643Z",
     "start_time": "2025-06-17T00:37:58.106528Z"
    }
   },
   "cell_type": "code",
   "source": "print(*y_train[:25], sep='\\n')",
   "outputs": [
    {
     "name": "stdout",
     "output_type": "stream",
     "text": [
      "[1.15069786]\n",
      "[0.79540777]\n",
      "[-1.30936356]\n",
      "[-1.70158975]\n",
      "[1.10203602]\n",
      "[1.30899543]\n",
      "[0.64180051]\n",
      "[0.65293996]\n",
      "[1.37465961]\n",
      "[-0.83329829]\n",
      "[-1.40082438]\n",
      "[0.32461909]\n",
      "[0.26012749]\n",
      "[-0.40999888]\n",
      "[-1.03380854]\n",
      "[-0.95524605]\n",
      "[1.11552063]\n",
      "[-0.31560662]\n",
      "[-0.15613648]\n",
      "[-0.59878338]\n",
      "[0.04906406]\n",
      "[-0.69376192]\n",
      "[0.60134668]\n",
      "[1.04164843]\n",
      "[-0.22121437]\n"
     ]
    }
   ],
   "execution_count": 10
  },
  {
   "metadata": {
    "ExecuteTime": {
     "end_time": "2025-06-17T00:37:58.170171Z",
     "start_time": "2025-06-17T00:37:58.166341Z"
    }
   },
   "cell_type": "code",
   "source": "print(*y_test[:25], sep='\\n')",
   "outputs": [
    {
     "name": "stdout",
     "output_type": "stream",
     "text": [
      "[431.23]\n",
      "[460.01]\n",
      "[461.14]\n",
      "[445.9]\n",
      "[451.29]\n",
      "[432.68]\n",
      "[477.5]\n",
      "[459.68]\n",
      "[477.5]\n",
      "[444.99]\n",
      "[444.37]\n",
      "[437.04]\n",
      "[442.34]\n",
      "[440.74]\n",
      "[436.55]\n",
      "[460.24]\n",
      "[448.66]\n",
      "[432.94]\n",
      "[452.82]\n",
      "[432.2]\n",
      "[430.96]\n",
      "[434.65]\n",
      "[473.56]\n",
      "[434.47]\n",
      "[450.92]\n"
     ]
    }
   ],
   "execution_count": 11
  },
  {
   "cell_type": "markdown",
   "source": "## Train SVR Model on Training Set",
   "metadata": {
    "datalore": {
     "node_id": "IZHAW9kGShGetyePPEHBHn",
     "type": "MD",
     "hide_input_from_viewers": false,
     "hide_output_from_viewers": false,
     "report_properties": {
      "rowId": "MwA38OTat4ImpAopSDZTTX"
     }
    },
    "id": "AUPWWcpSkMfk"
   }
  },
  {
   "cell_type": "code",
   "source": [
    "from sklearn.svm import SVR\n",
    "\n",
    "regressor = SVR(kernel='rbf')\n",
    "regressor.fit(X_train, y_train)"
   ],
   "metadata": {
    "datalore": {
     "node_id": "A5c3KgIJOx6nyG4mYFh8ow",
     "type": "CODE",
     "hide_input_from_viewers": false,
     "hide_output_from_viewers": false,
     "report_properties": {
      "rowId": "XWfOFHOoHkYHuJrnwxOOjq"
     }
    },
    "colab": {
     "base_uri": "https://localhost:8080/",
     "height": 130
    },
    "id": "f93ZV7DIkMfk",
    "executionInfo": {
     "status": "ok",
     "timestamp": 1724707371656,
     "user_tz": 240,
     "elapsed": 2826,
     "user": {
      "displayName": "Chris Jaehnen",
      "userId": "09906998703988827501"
     }
    },
    "outputId": "9ecb927b-184a-40ff-b5bc-50450096a5ab",
    "ExecuteTime": {
     "end_time": "2025-06-17T00:37:59.055192Z",
     "start_time": "2025-06-17T00:37:58.190720Z"
    }
   },
   "outputs": [
    {
     "name": "stderr",
     "output_type": "stream",
     "text": [
      "/Users/cjaehnen/workspace/opengood-aio/python/ai-training/.venv/lib/python3.13/site-packages/sklearn/utils/validation.py:1408: DataConversionWarning: A column-vector y was passed when a 1d array was expected. Please change the shape of y to (n_samples, ), for example using ravel().\n",
      "  y = column_or_1d(y, warn=True)\n"
     ]
    },
    {
     "data": {
      "text/plain": [
       "SVR()"
      ],
      "text/html": [
       "<style>#sk-container-id-1 {\n",
       "  /* Definition of color scheme common for light and dark mode */\n",
       "  --sklearn-color-text: #000;\n",
       "  --sklearn-color-text-muted: #666;\n",
       "  --sklearn-color-line: gray;\n",
       "  /* Definition of color scheme for unfitted estimators */\n",
       "  --sklearn-color-unfitted-level-0: #fff5e6;\n",
       "  --sklearn-color-unfitted-level-1: #f6e4d2;\n",
       "  --sklearn-color-unfitted-level-2: #ffe0b3;\n",
       "  --sklearn-color-unfitted-level-3: chocolate;\n",
       "  /* Definition of color scheme for fitted estimators */\n",
       "  --sklearn-color-fitted-level-0: #f0f8ff;\n",
       "  --sklearn-color-fitted-level-1: #d4ebff;\n",
       "  --sklearn-color-fitted-level-2: #b3dbfd;\n",
       "  --sklearn-color-fitted-level-3: cornflowerblue;\n",
       "\n",
       "  /* Specific color for light theme */\n",
       "  --sklearn-color-text-on-default-background: var(--sg-text-color, var(--theme-code-foreground, var(--jp-content-font-color1, black)));\n",
       "  --sklearn-color-background: var(--sg-background-color, var(--theme-background, var(--jp-layout-color0, white)));\n",
       "  --sklearn-color-border-box: var(--sg-text-color, var(--theme-code-foreground, var(--jp-content-font-color1, black)));\n",
       "  --sklearn-color-icon: #696969;\n",
       "\n",
       "  @media (prefers-color-scheme: dark) {\n",
       "    /* Redefinition of color scheme for dark theme */\n",
       "    --sklearn-color-text-on-default-background: var(--sg-text-color, var(--theme-code-foreground, var(--jp-content-font-color1, white)));\n",
       "    --sklearn-color-background: var(--sg-background-color, var(--theme-background, var(--jp-layout-color0, #111)));\n",
       "    --sklearn-color-border-box: var(--sg-text-color, var(--theme-code-foreground, var(--jp-content-font-color1, white)));\n",
       "    --sklearn-color-icon: #878787;\n",
       "  }\n",
       "}\n",
       "\n",
       "#sk-container-id-1 {\n",
       "  color: var(--sklearn-color-text);\n",
       "}\n",
       "\n",
       "#sk-container-id-1 pre {\n",
       "  padding: 0;\n",
       "}\n",
       "\n",
       "#sk-container-id-1 input.sk-hidden--visually {\n",
       "  border: 0;\n",
       "  clip: rect(1px 1px 1px 1px);\n",
       "  clip: rect(1px, 1px, 1px, 1px);\n",
       "  height: 1px;\n",
       "  margin: -1px;\n",
       "  overflow: hidden;\n",
       "  padding: 0;\n",
       "  position: absolute;\n",
       "  width: 1px;\n",
       "}\n",
       "\n",
       "#sk-container-id-1 div.sk-dashed-wrapped {\n",
       "  border: 1px dashed var(--sklearn-color-line);\n",
       "  margin: 0 0.4em 0.5em 0.4em;\n",
       "  box-sizing: border-box;\n",
       "  padding-bottom: 0.4em;\n",
       "  background-color: var(--sklearn-color-background);\n",
       "}\n",
       "\n",
       "#sk-container-id-1 div.sk-container {\n",
       "  /* jupyter's `normalize.less` sets `[hidden] { display: none; }`\n",
       "     but bootstrap.min.css set `[hidden] { display: none !important; }`\n",
       "     so we also need the `!important` here to be able to override the\n",
       "     default hidden behavior on the sphinx rendered scikit-learn.org.\n",
       "     See: https://github.com/scikit-learn/scikit-learn/issues/21755 */\n",
       "  display: inline-block !important;\n",
       "  position: relative;\n",
       "}\n",
       "\n",
       "#sk-container-id-1 div.sk-text-repr-fallback {\n",
       "  display: none;\n",
       "}\n",
       "\n",
       "div.sk-parallel-item,\n",
       "div.sk-serial,\n",
       "div.sk-item {\n",
       "  /* draw centered vertical line to link estimators */\n",
       "  background-image: linear-gradient(var(--sklearn-color-text-on-default-background), var(--sklearn-color-text-on-default-background));\n",
       "  background-size: 2px 100%;\n",
       "  background-repeat: no-repeat;\n",
       "  background-position: center center;\n",
       "}\n",
       "\n",
       "/* Parallel-specific style estimator block */\n",
       "\n",
       "#sk-container-id-1 div.sk-parallel-item::after {\n",
       "  content: \"\";\n",
       "  width: 100%;\n",
       "  border-bottom: 2px solid var(--sklearn-color-text-on-default-background);\n",
       "  flex-grow: 1;\n",
       "}\n",
       "\n",
       "#sk-container-id-1 div.sk-parallel {\n",
       "  display: flex;\n",
       "  align-items: stretch;\n",
       "  justify-content: center;\n",
       "  background-color: var(--sklearn-color-background);\n",
       "  position: relative;\n",
       "}\n",
       "\n",
       "#sk-container-id-1 div.sk-parallel-item {\n",
       "  display: flex;\n",
       "  flex-direction: column;\n",
       "}\n",
       "\n",
       "#sk-container-id-1 div.sk-parallel-item:first-child::after {\n",
       "  align-self: flex-end;\n",
       "  width: 50%;\n",
       "}\n",
       "\n",
       "#sk-container-id-1 div.sk-parallel-item:last-child::after {\n",
       "  align-self: flex-start;\n",
       "  width: 50%;\n",
       "}\n",
       "\n",
       "#sk-container-id-1 div.sk-parallel-item:only-child::after {\n",
       "  width: 0;\n",
       "}\n",
       "\n",
       "/* Serial-specific style estimator block */\n",
       "\n",
       "#sk-container-id-1 div.sk-serial {\n",
       "  display: flex;\n",
       "  flex-direction: column;\n",
       "  align-items: center;\n",
       "  background-color: var(--sklearn-color-background);\n",
       "  padding-right: 1em;\n",
       "  padding-left: 1em;\n",
       "}\n",
       "\n",
       "\n",
       "/* Toggleable style: style used for estimator/Pipeline/ColumnTransformer box that is\n",
       "clickable and can be expanded/collapsed.\n",
       "- Pipeline and ColumnTransformer use this feature and define the default style\n",
       "- Estimators will overwrite some part of the style using the `sk-estimator` class\n",
       "*/\n",
       "\n",
       "/* Pipeline and ColumnTransformer style (default) */\n",
       "\n",
       "#sk-container-id-1 div.sk-toggleable {\n",
       "  /* Default theme specific background. It is overwritten whether we have a\n",
       "  specific estimator or a Pipeline/ColumnTransformer */\n",
       "  background-color: var(--sklearn-color-background);\n",
       "}\n",
       "\n",
       "/* Toggleable label */\n",
       "#sk-container-id-1 label.sk-toggleable__label {\n",
       "  cursor: pointer;\n",
       "  display: flex;\n",
       "  width: 100%;\n",
       "  margin-bottom: 0;\n",
       "  padding: 0.5em;\n",
       "  box-sizing: border-box;\n",
       "  text-align: center;\n",
       "  align-items: start;\n",
       "  justify-content: space-between;\n",
       "  gap: 0.5em;\n",
       "}\n",
       "\n",
       "#sk-container-id-1 label.sk-toggleable__label .caption {\n",
       "  font-size: 0.6rem;\n",
       "  font-weight: lighter;\n",
       "  color: var(--sklearn-color-text-muted);\n",
       "}\n",
       "\n",
       "#sk-container-id-1 label.sk-toggleable__label-arrow:before {\n",
       "  /* Arrow on the left of the label */\n",
       "  content: \"▸\";\n",
       "  float: left;\n",
       "  margin-right: 0.25em;\n",
       "  color: var(--sklearn-color-icon);\n",
       "}\n",
       "\n",
       "#sk-container-id-1 label.sk-toggleable__label-arrow:hover:before {\n",
       "  color: var(--sklearn-color-text);\n",
       "}\n",
       "\n",
       "/* Toggleable content - dropdown */\n",
       "\n",
       "#sk-container-id-1 div.sk-toggleable__content {\n",
       "  max-height: 0;\n",
       "  max-width: 0;\n",
       "  overflow: hidden;\n",
       "  text-align: left;\n",
       "  /* unfitted */\n",
       "  background-color: var(--sklearn-color-unfitted-level-0);\n",
       "}\n",
       "\n",
       "#sk-container-id-1 div.sk-toggleable__content.fitted {\n",
       "  /* fitted */\n",
       "  background-color: var(--sklearn-color-fitted-level-0);\n",
       "}\n",
       "\n",
       "#sk-container-id-1 div.sk-toggleable__content pre {\n",
       "  margin: 0.2em;\n",
       "  border-radius: 0.25em;\n",
       "  color: var(--sklearn-color-text);\n",
       "  /* unfitted */\n",
       "  background-color: var(--sklearn-color-unfitted-level-0);\n",
       "}\n",
       "\n",
       "#sk-container-id-1 div.sk-toggleable__content.fitted pre {\n",
       "  /* unfitted */\n",
       "  background-color: var(--sklearn-color-fitted-level-0);\n",
       "}\n",
       "\n",
       "#sk-container-id-1 input.sk-toggleable__control:checked~div.sk-toggleable__content {\n",
       "  /* Expand drop-down */\n",
       "  max-height: 200px;\n",
       "  max-width: 100%;\n",
       "  overflow: auto;\n",
       "}\n",
       "\n",
       "#sk-container-id-1 input.sk-toggleable__control:checked~label.sk-toggleable__label-arrow:before {\n",
       "  content: \"▾\";\n",
       "}\n",
       "\n",
       "/* Pipeline/ColumnTransformer-specific style */\n",
       "\n",
       "#sk-container-id-1 div.sk-label input.sk-toggleable__control:checked~label.sk-toggleable__label {\n",
       "  color: var(--sklearn-color-text);\n",
       "  background-color: var(--sklearn-color-unfitted-level-2);\n",
       "}\n",
       "\n",
       "#sk-container-id-1 div.sk-label.fitted input.sk-toggleable__control:checked~label.sk-toggleable__label {\n",
       "  background-color: var(--sklearn-color-fitted-level-2);\n",
       "}\n",
       "\n",
       "/* Estimator-specific style */\n",
       "\n",
       "/* Colorize estimator box */\n",
       "#sk-container-id-1 div.sk-estimator input.sk-toggleable__control:checked~label.sk-toggleable__label {\n",
       "  /* unfitted */\n",
       "  background-color: var(--sklearn-color-unfitted-level-2);\n",
       "}\n",
       "\n",
       "#sk-container-id-1 div.sk-estimator.fitted input.sk-toggleable__control:checked~label.sk-toggleable__label {\n",
       "  /* fitted */\n",
       "  background-color: var(--sklearn-color-fitted-level-2);\n",
       "}\n",
       "\n",
       "#sk-container-id-1 div.sk-label label.sk-toggleable__label,\n",
       "#sk-container-id-1 div.sk-label label {\n",
       "  /* The background is the default theme color */\n",
       "  color: var(--sklearn-color-text-on-default-background);\n",
       "}\n",
       "\n",
       "/* On hover, darken the color of the background */\n",
       "#sk-container-id-1 div.sk-label:hover label.sk-toggleable__label {\n",
       "  color: var(--sklearn-color-text);\n",
       "  background-color: var(--sklearn-color-unfitted-level-2);\n",
       "}\n",
       "\n",
       "/* Label box, darken color on hover, fitted */\n",
       "#sk-container-id-1 div.sk-label.fitted:hover label.sk-toggleable__label.fitted {\n",
       "  color: var(--sklearn-color-text);\n",
       "  background-color: var(--sklearn-color-fitted-level-2);\n",
       "}\n",
       "\n",
       "/* Estimator label */\n",
       "\n",
       "#sk-container-id-1 div.sk-label label {\n",
       "  font-family: monospace;\n",
       "  font-weight: bold;\n",
       "  display: inline-block;\n",
       "  line-height: 1.2em;\n",
       "}\n",
       "\n",
       "#sk-container-id-1 div.sk-label-container {\n",
       "  text-align: center;\n",
       "}\n",
       "\n",
       "/* Estimator-specific */\n",
       "#sk-container-id-1 div.sk-estimator {\n",
       "  font-family: monospace;\n",
       "  border: 1px dotted var(--sklearn-color-border-box);\n",
       "  border-radius: 0.25em;\n",
       "  box-sizing: border-box;\n",
       "  margin-bottom: 0.5em;\n",
       "  /* unfitted */\n",
       "  background-color: var(--sklearn-color-unfitted-level-0);\n",
       "}\n",
       "\n",
       "#sk-container-id-1 div.sk-estimator.fitted {\n",
       "  /* fitted */\n",
       "  background-color: var(--sklearn-color-fitted-level-0);\n",
       "}\n",
       "\n",
       "/* on hover */\n",
       "#sk-container-id-1 div.sk-estimator:hover {\n",
       "  /* unfitted */\n",
       "  background-color: var(--sklearn-color-unfitted-level-2);\n",
       "}\n",
       "\n",
       "#sk-container-id-1 div.sk-estimator.fitted:hover {\n",
       "  /* fitted */\n",
       "  background-color: var(--sklearn-color-fitted-level-2);\n",
       "}\n",
       "\n",
       "/* Specification for estimator info (e.g. \"i\" and \"?\") */\n",
       "\n",
       "/* Common style for \"i\" and \"?\" */\n",
       "\n",
       ".sk-estimator-doc-link,\n",
       "a:link.sk-estimator-doc-link,\n",
       "a:visited.sk-estimator-doc-link {\n",
       "  float: right;\n",
       "  font-size: smaller;\n",
       "  line-height: 1em;\n",
       "  font-family: monospace;\n",
       "  background-color: var(--sklearn-color-background);\n",
       "  border-radius: 1em;\n",
       "  height: 1em;\n",
       "  width: 1em;\n",
       "  text-decoration: none !important;\n",
       "  margin-left: 0.5em;\n",
       "  text-align: center;\n",
       "  /* unfitted */\n",
       "  border: var(--sklearn-color-unfitted-level-1) 1pt solid;\n",
       "  color: var(--sklearn-color-unfitted-level-1);\n",
       "}\n",
       "\n",
       ".sk-estimator-doc-link.fitted,\n",
       "a:link.sk-estimator-doc-link.fitted,\n",
       "a:visited.sk-estimator-doc-link.fitted {\n",
       "  /* fitted */\n",
       "  border: var(--sklearn-color-fitted-level-1) 1pt solid;\n",
       "  color: var(--sklearn-color-fitted-level-1);\n",
       "}\n",
       "\n",
       "/* On hover */\n",
       "div.sk-estimator:hover .sk-estimator-doc-link:hover,\n",
       ".sk-estimator-doc-link:hover,\n",
       "div.sk-label-container:hover .sk-estimator-doc-link:hover,\n",
       ".sk-estimator-doc-link:hover {\n",
       "  /* unfitted */\n",
       "  background-color: var(--sklearn-color-unfitted-level-3);\n",
       "  color: var(--sklearn-color-background);\n",
       "  text-decoration: none;\n",
       "}\n",
       "\n",
       "div.sk-estimator.fitted:hover .sk-estimator-doc-link.fitted:hover,\n",
       ".sk-estimator-doc-link.fitted:hover,\n",
       "div.sk-label-container:hover .sk-estimator-doc-link.fitted:hover,\n",
       ".sk-estimator-doc-link.fitted:hover {\n",
       "  /* fitted */\n",
       "  background-color: var(--sklearn-color-fitted-level-3);\n",
       "  color: var(--sklearn-color-background);\n",
       "  text-decoration: none;\n",
       "}\n",
       "\n",
       "/* Span, style for the box shown on hovering the info icon */\n",
       ".sk-estimator-doc-link span {\n",
       "  display: none;\n",
       "  z-index: 9999;\n",
       "  position: relative;\n",
       "  font-weight: normal;\n",
       "  right: .2ex;\n",
       "  padding: .5ex;\n",
       "  margin: .5ex;\n",
       "  width: min-content;\n",
       "  min-width: 20ex;\n",
       "  max-width: 50ex;\n",
       "  color: var(--sklearn-color-text);\n",
       "  box-shadow: 2pt 2pt 4pt #999;\n",
       "  /* unfitted */\n",
       "  background: var(--sklearn-color-unfitted-level-0);\n",
       "  border: .5pt solid var(--sklearn-color-unfitted-level-3);\n",
       "}\n",
       "\n",
       ".sk-estimator-doc-link.fitted span {\n",
       "  /* fitted */\n",
       "  background: var(--sklearn-color-fitted-level-0);\n",
       "  border: var(--sklearn-color-fitted-level-3);\n",
       "}\n",
       "\n",
       ".sk-estimator-doc-link:hover span {\n",
       "  display: block;\n",
       "}\n",
       "\n",
       "/* \"?\"-specific style due to the `<a>` HTML tag */\n",
       "\n",
       "#sk-container-id-1 a.estimator_doc_link {\n",
       "  float: right;\n",
       "  font-size: 1rem;\n",
       "  line-height: 1em;\n",
       "  font-family: monospace;\n",
       "  background-color: var(--sklearn-color-background);\n",
       "  border-radius: 1rem;\n",
       "  height: 1rem;\n",
       "  width: 1rem;\n",
       "  text-decoration: none;\n",
       "  /* unfitted */\n",
       "  color: var(--sklearn-color-unfitted-level-1);\n",
       "  border: var(--sklearn-color-unfitted-level-1) 1pt solid;\n",
       "}\n",
       "\n",
       "#sk-container-id-1 a.estimator_doc_link.fitted {\n",
       "  /* fitted */\n",
       "  border: var(--sklearn-color-fitted-level-1) 1pt solid;\n",
       "  color: var(--sklearn-color-fitted-level-1);\n",
       "}\n",
       "\n",
       "/* On hover */\n",
       "#sk-container-id-1 a.estimator_doc_link:hover {\n",
       "  /* unfitted */\n",
       "  background-color: var(--sklearn-color-unfitted-level-3);\n",
       "  color: var(--sklearn-color-background);\n",
       "  text-decoration: none;\n",
       "}\n",
       "\n",
       "#sk-container-id-1 a.estimator_doc_link.fitted:hover {\n",
       "  /* fitted */\n",
       "  background-color: var(--sklearn-color-fitted-level-3);\n",
       "}\n",
       "</style><div id=\"sk-container-id-1\" class=\"sk-top-container\"><div class=\"sk-text-repr-fallback\"><pre>SVR()</pre><b>In a Jupyter environment, please rerun this cell to show the HTML representation or trust the notebook. <br />On GitHub, the HTML representation is unable to render, please try loading this page with nbviewer.org.</b></div><div class=\"sk-container\" hidden><div class=\"sk-item\"><div class=\"sk-estimator fitted sk-toggleable\"><input class=\"sk-toggleable__control sk-hidden--visually\" id=\"sk-estimator-id-1\" type=\"checkbox\" checked><label for=\"sk-estimator-id-1\" class=\"sk-toggleable__label fitted sk-toggleable__label-arrow\"><div><div>SVR</div></div><div><a class=\"sk-estimator-doc-link fitted\" rel=\"noreferrer\" target=\"_blank\" href=\"https://scikit-learn.org/1.6/modules/generated/sklearn.svm.SVR.html\">?<span>Documentation for SVR</span></a><span class=\"sk-estimator-doc-link fitted\">i<span>Fitted</span></span></div></label><div class=\"sk-toggleable__content fitted\"><pre>SVR()</pre></div> </div></div></div></div>"
      ]
     },
     "execution_count": 12,
     "metadata": {},
     "output_type": "execute_result"
    }
   ],
   "execution_count": 12
  },
  {
   "cell_type": "markdown",
   "source": "## Predict Test Set Results",
   "metadata": {
    "datalore": {
     "node_id": "Dt5kK3q0m8Uux9zN2wfewY",
     "type": "MD",
     "hide_input_from_viewers": false,
     "hide_output_from_viewers": false,
     "report_properties": {
      "rowId": "YzDPtwb8LSPSKImYU5baoR"
     }
    },
    "id": "2jXppiBVkMfk"
   }
  },
  {
   "cell_type": "code",
   "source": "y_pred = sc_y.inverse_transform(regressor.predict(sc_X.transform(X_test)).reshape(-1, 1))",
   "metadata": {
    "datalore": {
     "node_id": "Dqmrvr6xONmVn6n6tBZAcV",
     "type": "CODE",
     "hide_input_from_viewers": false,
     "hide_output_from_viewers": false,
     "report_properties": {
      "rowId": "X2ChIVA1ZtnYKn5zVtr0NA"
     }
    },
    "colab": {
     "base_uri": "https://localhost:8080/"
    },
    "id": "T1CKdVCkkMfl",
    "executionInfo": {
     "status": "ok",
     "timestamp": 1724707372114,
     "user_tz": 240,
     "elapsed": 460,
     "user": {
      "displayName": "Chris Jaehnen",
      "userId": "09906998703988827501"
     }
    },
    "outputId": "9111b53d-9704-4fd7-d1ae-b78c5f191fbd",
    "ExecuteTime": {
     "end_time": "2025-06-17T00:37:59.335156Z",
     "start_time": "2025-06-17T00:37:59.080055Z"
    }
   },
   "outputs": [],
   "execution_count": 13
  },
  {
   "metadata": {
    "ExecuteTime": {
     "end_time": "2025-06-17T00:37:59.349836Z",
     "start_time": "2025-06-17T00:37:59.347101Z"
    }
   },
   "cell_type": "code",
   "source": [
    "np.set_printoptions(precision=2)\n",
    "print(np.concatenate((y_pred.reshape(len(y_pred), 1), y_test.reshape(len(y_test), 1)), 1))"
   ],
   "outputs": [
    {
     "name": "stdout",
     "output_type": "stream",
     "text": [
      "[[434.05 431.23]\n",
      " [457.93 460.01]\n",
      " [461.02 461.14]\n",
      " ...\n",
      " [470.6  473.26]\n",
      " [439.42 438.  ]\n",
      " [460.92 463.28]]\n"
     ]
    }
   ],
   "execution_count": 14
  },
  {
   "cell_type": "markdown",
   "source": "## Evaluate Model Performance",
   "metadata": {
    "datalore": {
     "node_id": "ZMayYMCNNoudPWImgz4jHt",
     "type": "MD",
     "hide_input_from_viewers": false,
     "hide_output_from_viewers": false,
     "report_properties": {
      "rowId": "Qf0gOFneCH9DFv5hssiOmi"
     }
    },
    "id": "DXAsiEV5kMfl"
   }
  },
  {
   "cell_type": "code",
   "source": [
    "from sklearn.metrics import r2_score\n",
    "\n",
    "r2_score(y_test, y_pred)"
   ],
   "metadata": {
    "datalore": {
     "node_id": "LdD53J4QKMmbWK4HP278xl",
     "type": "CODE",
     "hide_input_from_viewers": false,
     "hide_output_from_viewers": false,
     "report_properties": {
      "rowId": "VhIQbSfKADQQCDSu4c1ynm"
     }
    },
    "colab": {
     "base_uri": "https://localhost:8080/"
    },
    "id": "HbPQdeeAkMfl",
    "executionInfo": {
     "status": "ok",
     "timestamp": 1724707372324,
     "user_tz": 240,
     "elapsed": 211,
     "user": {
      "displayName": "Chris Jaehnen",
      "userId": "09906998703988827501"
     }
    },
    "outputId": "8f5abbbe-d7fc-4dfa-ee4b-8798103c7546",
    "ExecuteTime": {
     "end_time": "2025-06-17T00:37:59.377644Z",
     "start_time": "2025-06-17T00:37:59.374563Z"
    }
   },
   "outputs": [
    {
     "data": {
      "text/plain": [
       "0.9480795111869856"
      ]
     },
     "execution_count": 15,
     "metadata": {},
     "output_type": "execute_result"
    }
   ],
   "execution_count": 15
  }
 ],
 "metadata": {
  "kernelspec": {
   "display_name": "Python 3 (ipykernel)",
   "language": "python",
   "name": "python3"
  },
  "datalore": {
   "computation_mode": "JUPYTER",
   "package_manager": "pip",
   "base_environment": "default",
   "packages": [],
   "report_row_ids": [
    "qm86LivshxaBd6wqJzMvHS",
    "BoK1zVmyQH6Lr3Aw9RBglZ",
    "Bp7UXm2nYlvFDLFCobicI8",
    "9lSXz0rKHt1K3uT8bRR0C4",
    "MOqK8i04NjSNWtLhiZQnPS",
    "HL6erc8bwljhI9ZwTCPVn0",
    "WJVlyLQLecFxqQVbwYhg0x",
    "ChsBbQJl4X4La6QZOt2QbS",
    "rtMG3FNMaQXBcRhdgAnb12",
    "yUqqQRQvsQsHZI6T8Qoq8f",
    "MwA38OTat4ImpAopSDZTTX",
    "XWfOFHOoHkYHuJrnwxOOjq",
    "YzDPtwb8LSPSKImYU5baoR",
    "X2ChIVA1ZtnYKn5zVtr0NA",
    "Qf0gOFneCH9DFv5hssiOmi",
    "VhIQbSfKADQQCDSu4c1ynm"
   ],
   "version": 3
  },
  "colab": {
   "provenance": []
  }
 },
 "nbformat": 4,
 "nbformat_minor": 0
}
