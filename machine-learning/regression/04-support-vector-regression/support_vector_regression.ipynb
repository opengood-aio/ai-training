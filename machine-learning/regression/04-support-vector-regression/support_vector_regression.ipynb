{
 "cells": [
  {
   "cell_type": "markdown",
   "source": [
    "# Support Vector Regression (SVR)"
   ],
   "metadata": {
    "datalore": {
     "node_id": "j4eBoGxgS2Uz4O1hJbH2M4",
     "type": "MD",
     "hide_input_from_viewers": false,
     "hide_output_from_viewers": false,
     "report_properties": {
      "rowId": "66eiH1vVlnooK2sJ8B3Chr"
     }
    },
    "id": "pTgnG7eL-0n4"
   }
  },
  {
   "metadata": {},
   "cell_type": "markdown",
   "source": [
    "## Dataset\n",
    "\n",
    "### Layout\n",
    "\n",
    "* Columns: 3\n",
    "    * Position\n",
    "    * Level\n",
    "    * Salary\n",
    "* Rows: 11 observations\n",
    "    * Each row represents one position\n",
    "       * Features:\n",
    "          * Position\n",
    "          * Level\n",
    "       * Dependent variable:\n",
    "          * Salary\n",
    "\n",
    "### Scenario\n",
    "\n",
    "**HR Department**\n",
    "\n",
    "* Department wants to hire a candidate for a specific position\n",
    "* At the end of the interview process, department wants to know candidate's salary expectation\n",
    "* Candidate is advanced in career and is asking for $160,000 per year\n",
    "* Department asks candidate why he/she expects such a high salary?\n",
    "    * Candidate indicates this is what the candidate earned at a previous position at another company\n",
    "\n",
    "### Background\n",
    "\n",
    "* Dataset contains salaries of positions from candidate's previous company\n",
    "* Data was collected from a 3rd party job site, such as Glassdoor\n",
    "* Candidate has been in a Region Manager position for the last 2 years\n",
    "* After 2 years in the same position, candidate should be higher in salary, somewhere between Region Manager and Partner, which is levels 6 and 7, respectively\n",
    "* Candidate's position will be considered level 6.5\n",
    "\n",
    "### Wants to Understand\n",
    "\n",
    "**HR Department**\n",
    "\n",
    "* Is this salary expectation valid or a bluff?\n",
    "\n",
    "### Goals\n",
    "\n",
    "* Build SVR model to predict previous salary of candidate\n",
    "\t* Predict candidate salary between levels 6 and 7\n",
    "\n",
    "## Feature Scaling\n",
    "\n",
    "* In SVR, there is an implicit relationship between the dependent variable and the features\n",
    "* Feature scaling needs to be applied because in the SVR equation, features are NOT multiplied by a coefficient\n",
    "* For feature values higher than others, there is no coefficient to compensate to put all feature values on the same scale, therefore, feature scaling must be applied to put all values on the same scale\n",
    "* In other types of linear regression, when feature values are multiplied by their coefficients, the resulting values are generally on an equal scale, therefore, making feature scaling unnecessary\n",
    "* Does feature scaling need to be applied to the dependent variable, salary?\n",
    "\t* Yes, because the values for the feature, level (i.e. 1, 2,...10), are much lower than salary (i.e. 45k, 60k,...500k)\n",
    "\t* This ensures the feature is not neglected by the SVR model\n",
    "* Feature scaling must be applied when there is not an explicit equation (also referred to as a relationship) between the dependent variable $y$ and the features $x_1...x_n$ in a linear regression, such as multiple linear regression, where $y$ is an explicit result of the feature values computed in the equation\n",
    "* SVR equations are implicit, meaning there is not a direct relationship between the dependent variable $y$ and the features $x_1...x_n$ in a linear regression, so feature scaling must be applied to ensure all values are on the same scale\n",
    "\t* If feature scaling is not applied, since the salary is much higher than the level, the level feature may be neglected by the SVR model\n",
    "\t* Feature scaling must be applied on both level and salary to ensure values are on the same scale"
   ]
  },
  {
   "cell_type": "markdown",
   "source": "## Import Libraries",
   "metadata": {
    "datalore": {
     "node_id": "l9l5Gbdbi5ZyoaGD6qLoKB",
     "type": "MD",
     "hide_input_from_viewers": false,
     "hide_output_from_viewers": false,
     "report_properties": {
      "rowId": "tZpbDtghDoJbP2umAb0tXO"
     }
    },
    "id": "2hus09xx-0n7"
   }
  },
  {
   "cell_type": "code",
   "source": [
    "import numpy as np\n",
    "import matplotlib.pyplot as plt\n",
    "import pandas as pd"
   ],
   "metadata": {
    "datalore": {
     "node_id": "DyeJsMcbhfi8Z2V6DxXkAa",
     "type": "CODE",
     "hide_input_from_viewers": false,
     "hide_output_from_viewers": false,
     "report_properties": {
      "rowId": "hzaJWtEPlwHXuwwghmymqh"
     }
    },
    "id": "ycTDlzB6-0n7",
    "executionInfo": {
     "status": "ok",
     "timestamp": 1724362048900,
     "user_tz": 240,
     "elapsed": 2230,
     "user": {
      "displayName": "Chris Jaehnen",
      "userId": "09906998703988827501"
     }
    },
    "ExecuteTime": {
     "end_time": "2025-03-19T00:26:19.033374Z",
     "start_time": "2025-03-19T00:26:19.031431Z"
    }
   },
   "outputs": [],
   "execution_count": 63
  },
  {
   "cell_type": "markdown",
   "source": "## Import Dataset",
   "metadata": {
    "datalore": {
     "node_id": "3WDfvMZ6ZsGwCCvQ8AKXx7",
     "type": "MD",
     "hide_input_from_viewers": false,
     "hide_output_from_viewers": false,
     "report_properties": {
      "rowId": "mjgoefH5YWF07CwAHfKmKZ"
     }
    },
    "id": "c1MADKOK-0n8"
   }
  },
  {
   "cell_type": "code",
   "source": [
    "dataset = pd.read_csv('Position_Salaries.csv')\n",
    "X = dataset.iloc[:, 1:-1].values\n",
    "y = dataset.iloc[:, -1].values"
   ],
   "metadata": {
    "datalore": {
     "node_id": "5zmA4zAhKhfCUPMhhLy9Lu",
     "type": "CODE",
     "hide_input_from_viewers": false,
     "hide_output_from_viewers": false,
     "report_properties": {
      "rowId": "pDeIQ2Y9Ys9bgsk7PRm3jp"
     }
    },
    "id": "qoMlbjrF-0n8",
    "executionInfo": {
     "status": "ok",
     "timestamp": 1724362049393,
     "user_tz": 240,
     "elapsed": 497,
     "user": {
      "displayName": "Chris Jaehnen",
      "userId": "09906998703988827501"
     }
    },
    "ExecuteTime": {
     "end_time": "2025-03-19T00:26:19.057618Z",
     "start_time": "2025-03-19T00:26:19.053884Z"
    }
   },
   "outputs": [],
   "execution_count": 64
  },
  {
   "cell_type": "code",
   "source": [
    "print(X)"
   ],
   "metadata": {
    "datalore": {
     "node_id": "7KDfzQfW1kBXK5qc4GHxO0",
     "type": "CODE",
     "hide_input_from_viewers": false,
     "hide_output_from_viewers": false,
     "report_properties": {
      "rowId": "sDjLLsEpjHJSLG02NerXtV"
     }
    },
    "colab": {
     "base_uri": "https://localhost:8080/"
    },
    "id": "Ha601TMR-0n8",
    "executionInfo": {
     "status": "ok",
     "timestamp": 1724362049393,
     "user_tz": 240,
     "elapsed": 9,
     "user": {
      "displayName": "Chris Jaehnen",
      "userId": "09906998703988827501"
     }
    },
    "outputId": "75db40aa-56b9-49ac-e9aa-ef4108aa31ed",
    "ExecuteTime": {
     "end_time": "2025-03-19T00:26:19.073747Z",
     "start_time": "2025-03-19T00:26:19.071588Z"
    }
   },
   "outputs": [
    {
     "name": "stdout",
     "output_type": "stream",
     "text": [
      "[[ 1]\n",
      " [ 2]\n",
      " [ 3]\n",
      " [ 4]\n",
      " [ 5]\n",
      " [ 6]\n",
      " [ 7]\n",
      " [ 8]\n",
      " [ 9]\n",
      " [10]]\n"
     ]
    }
   ],
   "execution_count": 65
  },
  {
   "metadata": {},
   "cell_type": "markdown",
   "source": "Reshape the dependent variable `y` values into a 2-D vector."
  },
  {
   "cell_type": "code",
   "source": "y = y.reshape(len(y), 1)",
   "metadata": {
    "datalore": {
     "node_id": "iq68VjEp4dz2fMVaRfni2t",
     "type": "CODE",
     "hide_input_from_viewers": false,
     "hide_output_from_viewers": false,
     "report_properties": {
      "rowId": "k9VgMIlPYsywJgDgXmCPpo"
     }
    },
    "colab": {
     "base_uri": "https://localhost:8080/"
    },
    "id": "bRlrN_0E-0n9",
    "executionInfo": {
     "status": "ok",
     "timestamp": 1724362049393,
     "user_tz": 240,
     "elapsed": 7,
     "user": {
      "displayName": "Chris Jaehnen",
      "userId": "09906998703988827501"
     }
    },
    "outputId": "d18cf7fe-710d-4fe3-f9ad-a5b9f5608f0f",
    "ExecuteTime": {
     "end_time": "2025-03-19T00:26:19.095311Z",
     "start_time": "2025-03-19T00:26:19.093262Z"
    }
   },
   "outputs": [],
   "execution_count": 66
  },
  {
   "metadata": {
    "ExecuteTime": {
     "end_time": "2025-03-19T00:26:19.111455Z",
     "start_time": "2025-03-19T00:26:19.109212Z"
    }
   },
   "cell_type": "code",
   "source": "print(y)",
   "outputs": [
    {
     "name": "stdout",
     "output_type": "stream",
     "text": [
      "[[  45000]\n",
      " [  50000]\n",
      " [  60000]\n",
      " [  80000]\n",
      " [ 110000]\n",
      " [ 150000]\n",
      " [ 200000]\n",
      " [ 300000]\n",
      " [ 500000]\n",
      " [1000000]]\n"
     ]
    }
   ],
   "execution_count": 67
  },
  {
   "cell_type": "markdown",
   "source": [
    "## Feature Scaling"
   ],
   "metadata": {
    "datalore": {
     "node_id": "nnjPscnGTpnyZJiXMn2QfF",
     "type": "MD",
     "hide_input_from_viewers": false,
     "hide_output_from_viewers": false,
     "report_properties": {
      "rowId": "6UvT7n1ihai2Mt12XvQUm0"
     }
    },
    "id": "BCGtO8Q_-0n9"
   }
  },
  {
   "metadata": {},
   "cell_type": "markdown",
   "source": [
    "* A new `StandardScalar` object instance must be used for the dependent variable values because the mean and standard deviation have already been computed for the feature values\n",
    "* These would be applied to the dependent variable values if the same `StandardScalar` object instance was used\n",
    "* Separate mean and standard deviation values need to be computed using a different object instance to correctly scale the dependent variable values"
   ]
  },
  {
   "cell_type": "code",
   "source": [
    "from sklearn.preprocessing import StandardScaler\n",
    "sc_X = StandardScaler()\n",
    "X = sc_X.fit_transform(X)\n",
    "sc_y = StandardScaler()\n",
    "y = sc_y.fit_transform(y)"
   ],
   "metadata": {
    "datalore": {
     "node_id": "OVaIYz131orqKhkgb2fnnR",
     "type": "CODE",
     "hide_input_from_viewers": false,
     "hide_output_from_viewers": false,
     "report_properties": {
      "rowId": "4c3oaSolsU4ywXxZdCSkgm"
     }
    },
    "id": "Nz3WcJFU-0n9",
    "executionInfo": {
     "status": "ok",
     "timestamp": 1724362052230,
     "user_tz": 240,
     "elapsed": 2840,
     "user": {
      "displayName": "Chris Jaehnen",
      "userId": "09906998703988827501"
     }
    },
    "ExecuteTime": {
     "end_time": "2025-03-19T00:26:19.126517Z",
     "start_time": "2025-03-19T00:26:19.123949Z"
    }
   },
   "outputs": [],
   "execution_count": 68
  },
  {
   "cell_type": "code",
   "source": [
    "print(X)"
   ],
   "metadata": {
    "datalore": {
     "node_id": "BUdASod3OeoqXQXNQ6TCTr",
     "type": "CODE",
     "hide_input_from_viewers": false,
     "hide_output_from_viewers": false,
     "report_properties": {
      "rowId": "yTcaVzq7ohTZNNlrPvkZmo"
     }
    },
    "colab": {
     "base_uri": "https://localhost:8080/"
    },
    "id": "ROA50K9A-0n9",
    "executionInfo": {
     "status": "ok",
     "timestamp": 1724362052230,
     "user_tz": 240,
     "elapsed": 5,
     "user": {
      "displayName": "Chris Jaehnen",
      "userId": "09906998703988827501"
     }
    },
    "outputId": "2c64c127-c622-4d4f-98b7-8dd6cfb53e8e",
    "ExecuteTime": {
     "end_time": "2025-03-19T00:26:19.143139Z",
     "start_time": "2025-03-19T00:26:19.140916Z"
    }
   },
   "outputs": [
    {
     "name": "stdout",
     "output_type": "stream",
     "text": [
      "[[-1.5666989 ]\n",
      " [-1.21854359]\n",
      " [-0.87038828]\n",
      " [-0.52223297]\n",
      " [-0.17407766]\n",
      " [ 0.17407766]\n",
      " [ 0.52223297]\n",
      " [ 0.87038828]\n",
      " [ 1.21854359]\n",
      " [ 1.5666989 ]]\n"
     ]
    }
   ],
   "execution_count": 69
  },
  {
   "cell_type": "code",
   "source": [
    "print(y)"
   ],
   "metadata": {
    "datalore": {
     "node_id": "0RBUnCGQtFUWVi6TnI84fE",
     "type": "CODE",
     "hide_input_from_viewers": false,
     "hide_output_from_viewers": false,
     "report_properties": {
      "rowId": "yEem4kpYI2rFe700DfbmSY"
     }
    },
    "colab": {
     "base_uri": "https://localhost:8080/"
    },
    "id": "MPH2WFWb-0n-",
    "executionInfo": {
     "status": "ok",
     "timestamp": 1724362052230,
     "user_tz": 240,
     "elapsed": 3,
     "user": {
      "displayName": "Chris Jaehnen",
      "userId": "09906998703988827501"
     }
    },
    "outputId": "4a023299-c1e7-4e24-9246-7bce978a32bd",
    "ExecuteTime": {
     "end_time": "2025-03-19T00:26:19.167706Z",
     "start_time": "2025-03-19T00:26:19.165092Z"
    }
   },
   "outputs": [
    {
     "name": "stdout",
     "output_type": "stream",
     "text": [
      "[[-0.72004253]\n",
      " [-0.70243757]\n",
      " [-0.66722767]\n",
      " [-0.59680786]\n",
      " [-0.49117815]\n",
      " [-0.35033854]\n",
      " [-0.17428902]\n",
      " [ 0.17781001]\n",
      " [ 0.88200808]\n",
      " [ 2.64250325]]\n"
     ]
    }
   ],
   "execution_count": 70
  },
  {
   "metadata": {},
   "cell_type": "markdown",
   "source": "## Split Dataset into Training Set and Test Set"
  },
  {
   "metadata": {},
   "cell_type": "markdown",
   "source": "Skipping this step to maximize the data in order to make future prediction of salary between levels 6 and 7."
  },
  {
   "cell_type": "markdown",
   "source": "## Train SVR Model on Whole Dataset",
   "metadata": {
    "datalore": {
     "node_id": "pwIgkJ5IMe87XXR2XIe5eu",
     "type": "MD",
     "hide_input_from_viewers": false,
     "hide_output_from_viewers": false,
     "report_properties": {
      "rowId": "tGiPUNErJdfXqliO683TBG"
     }
    },
    "id": "6-TKo3gF-0n-"
   }
  },
  {
   "cell_type": "code",
   "source": [
    "from sklearn.svm import SVR\n",
    "regressor = SVR(kernel = 'rbf')\n",
    "regressor.fit(X, y)"
   ],
   "metadata": {
    "datalore": {
     "node_id": "6z4U7OGym71FLVK0CsTYgB",
     "type": "CODE",
     "hide_input_from_viewers": false,
     "hide_output_from_viewers": false,
     "report_properties": {
      "rowId": "08aH3OCOwJHoOd8wqUJstO"
     }
    },
    "colab": {
     "base_uri": "https://localhost:8080/",
     "height": 130
    },
    "id": "YGUa18LI-0n-",
    "executionInfo": {
     "status": "ok",
     "timestamp": 1724362053061,
     "user_tz": 240,
     "elapsed": 833,
     "user": {
      "displayName": "Chris Jaehnen",
      "userId": "09906998703988827501"
     }
    },
    "outputId": "6db00abf-d947-4b71-d421-4819338768ea",
    "ExecuteTime": {
     "end_time": "2025-03-19T00:26:19.187211Z",
     "start_time": "2025-03-19T00:26:19.183381Z"
    }
   },
   "outputs": [
    {
     "name": "stderr",
     "output_type": "stream",
     "text": [
      "/Users/cjaehnen/workspace/opengood-aio/ai-training/.venv/lib/python3.9/site-packages/sklearn/utils/validation.py:1408: DataConversionWarning: A column-vector y was passed when a 1d array was expected. Please change the shape of y to (n_samples, ), for example using ravel().\n",
      "  y = column_or_1d(y, warn=True)\n"
     ]
    },
    {
     "data": {
      "text/plain": [
       "SVR()"
      ],
      "text/html": [
       "<style>#sk-container-id-5 {\n",
       "  /* Definition of color scheme common for light and dark mode */\n",
       "  --sklearn-color-text: #000;\n",
       "  --sklearn-color-text-muted: #666;\n",
       "  --sklearn-color-line: gray;\n",
       "  /* Definition of color scheme for unfitted estimators */\n",
       "  --sklearn-color-unfitted-level-0: #fff5e6;\n",
       "  --sklearn-color-unfitted-level-1: #f6e4d2;\n",
       "  --sklearn-color-unfitted-level-2: #ffe0b3;\n",
       "  --sklearn-color-unfitted-level-3: chocolate;\n",
       "  /* Definition of color scheme for fitted estimators */\n",
       "  --sklearn-color-fitted-level-0: #f0f8ff;\n",
       "  --sklearn-color-fitted-level-1: #d4ebff;\n",
       "  --sklearn-color-fitted-level-2: #b3dbfd;\n",
       "  --sklearn-color-fitted-level-3: cornflowerblue;\n",
       "\n",
       "  /* Specific color for light theme */\n",
       "  --sklearn-color-text-on-default-background: var(--sg-text-color, var(--theme-code-foreground, var(--jp-content-font-color1, black)));\n",
       "  --sklearn-color-background: var(--sg-background-color, var(--theme-background, var(--jp-layout-color0, white)));\n",
       "  --sklearn-color-border-box: var(--sg-text-color, var(--theme-code-foreground, var(--jp-content-font-color1, black)));\n",
       "  --sklearn-color-icon: #696969;\n",
       "\n",
       "  @media (prefers-color-scheme: dark) {\n",
       "    /* Redefinition of color scheme for dark theme */\n",
       "    --sklearn-color-text-on-default-background: var(--sg-text-color, var(--theme-code-foreground, var(--jp-content-font-color1, white)));\n",
       "    --sklearn-color-background: var(--sg-background-color, var(--theme-background, var(--jp-layout-color0, #111)));\n",
       "    --sklearn-color-border-box: var(--sg-text-color, var(--theme-code-foreground, var(--jp-content-font-color1, white)));\n",
       "    --sklearn-color-icon: #878787;\n",
       "  }\n",
       "}\n",
       "\n",
       "#sk-container-id-5 {\n",
       "  color: var(--sklearn-color-text);\n",
       "}\n",
       "\n",
       "#sk-container-id-5 pre {\n",
       "  padding: 0;\n",
       "}\n",
       "\n",
       "#sk-container-id-5 input.sk-hidden--visually {\n",
       "  border: 0;\n",
       "  clip: rect(1px 1px 1px 1px);\n",
       "  clip: rect(1px, 1px, 1px, 1px);\n",
       "  height: 1px;\n",
       "  margin: -1px;\n",
       "  overflow: hidden;\n",
       "  padding: 0;\n",
       "  position: absolute;\n",
       "  width: 1px;\n",
       "}\n",
       "\n",
       "#sk-container-id-5 div.sk-dashed-wrapped {\n",
       "  border: 1px dashed var(--sklearn-color-line);\n",
       "  margin: 0 0.4em 0.5em 0.4em;\n",
       "  box-sizing: border-box;\n",
       "  padding-bottom: 0.4em;\n",
       "  background-color: var(--sklearn-color-background);\n",
       "}\n",
       "\n",
       "#sk-container-id-5 div.sk-container {\n",
       "  /* jupyter's `normalize.less` sets `[hidden] { display: none; }`\n",
       "     but bootstrap.min.css set `[hidden] { display: none !important; }`\n",
       "     so we also need the `!important` here to be able to override the\n",
       "     default hidden behavior on the sphinx rendered scikit-learn.org.\n",
       "     See: https://github.com/scikit-learn/scikit-learn/issues/21755 */\n",
       "  display: inline-block !important;\n",
       "  position: relative;\n",
       "}\n",
       "\n",
       "#sk-container-id-5 div.sk-text-repr-fallback {\n",
       "  display: none;\n",
       "}\n",
       "\n",
       "div.sk-parallel-item,\n",
       "div.sk-serial,\n",
       "div.sk-item {\n",
       "  /* draw centered vertical line to link estimators */\n",
       "  background-image: linear-gradient(var(--sklearn-color-text-on-default-background), var(--sklearn-color-text-on-default-background));\n",
       "  background-size: 2px 100%;\n",
       "  background-repeat: no-repeat;\n",
       "  background-position: center center;\n",
       "}\n",
       "\n",
       "/* Parallel-specific style estimator block */\n",
       "\n",
       "#sk-container-id-5 div.sk-parallel-item::after {\n",
       "  content: \"\";\n",
       "  width: 100%;\n",
       "  border-bottom: 2px solid var(--sklearn-color-text-on-default-background);\n",
       "  flex-grow: 1;\n",
       "}\n",
       "\n",
       "#sk-container-id-5 div.sk-parallel {\n",
       "  display: flex;\n",
       "  align-items: stretch;\n",
       "  justify-content: center;\n",
       "  background-color: var(--sklearn-color-background);\n",
       "  position: relative;\n",
       "}\n",
       "\n",
       "#sk-container-id-5 div.sk-parallel-item {\n",
       "  display: flex;\n",
       "  flex-direction: column;\n",
       "}\n",
       "\n",
       "#sk-container-id-5 div.sk-parallel-item:first-child::after {\n",
       "  align-self: flex-end;\n",
       "  width: 50%;\n",
       "}\n",
       "\n",
       "#sk-container-id-5 div.sk-parallel-item:last-child::after {\n",
       "  align-self: flex-start;\n",
       "  width: 50%;\n",
       "}\n",
       "\n",
       "#sk-container-id-5 div.sk-parallel-item:only-child::after {\n",
       "  width: 0;\n",
       "}\n",
       "\n",
       "/* Serial-specific style estimator block */\n",
       "\n",
       "#sk-container-id-5 div.sk-serial {\n",
       "  display: flex;\n",
       "  flex-direction: column;\n",
       "  align-items: center;\n",
       "  background-color: var(--sklearn-color-background);\n",
       "  padding-right: 1em;\n",
       "  padding-left: 1em;\n",
       "}\n",
       "\n",
       "\n",
       "/* Toggleable style: style used for estimator/Pipeline/ColumnTransformer box that is\n",
       "clickable and can be expanded/collapsed.\n",
       "- Pipeline and ColumnTransformer use this feature and define the default style\n",
       "- Estimators will overwrite some part of the style using the `sk-estimator` class\n",
       "*/\n",
       "\n",
       "/* Pipeline and ColumnTransformer style (default) */\n",
       "\n",
       "#sk-container-id-5 div.sk-toggleable {\n",
       "  /* Default theme specific background. It is overwritten whether we have a\n",
       "  specific estimator or a Pipeline/ColumnTransformer */\n",
       "  background-color: var(--sklearn-color-background);\n",
       "}\n",
       "\n",
       "/* Toggleable label */\n",
       "#sk-container-id-5 label.sk-toggleable__label {\n",
       "  cursor: pointer;\n",
       "  display: flex;\n",
       "  width: 100%;\n",
       "  margin-bottom: 0;\n",
       "  padding: 0.5em;\n",
       "  box-sizing: border-box;\n",
       "  text-align: center;\n",
       "  align-items: start;\n",
       "  justify-content: space-between;\n",
       "  gap: 0.5em;\n",
       "}\n",
       "\n",
       "#sk-container-id-5 label.sk-toggleable__label .caption {\n",
       "  font-size: 0.6rem;\n",
       "  font-weight: lighter;\n",
       "  color: var(--sklearn-color-text-muted);\n",
       "}\n",
       "\n",
       "#sk-container-id-5 label.sk-toggleable__label-arrow:before {\n",
       "  /* Arrow on the left of the label */\n",
       "  content: \"▸\";\n",
       "  float: left;\n",
       "  margin-right: 0.25em;\n",
       "  color: var(--sklearn-color-icon);\n",
       "}\n",
       "\n",
       "#sk-container-id-5 label.sk-toggleable__label-arrow:hover:before {\n",
       "  color: var(--sklearn-color-text);\n",
       "}\n",
       "\n",
       "/* Toggleable content - dropdown */\n",
       "\n",
       "#sk-container-id-5 div.sk-toggleable__content {\n",
       "  max-height: 0;\n",
       "  max-width: 0;\n",
       "  overflow: hidden;\n",
       "  text-align: left;\n",
       "  /* unfitted */\n",
       "  background-color: var(--sklearn-color-unfitted-level-0);\n",
       "}\n",
       "\n",
       "#sk-container-id-5 div.sk-toggleable__content.fitted {\n",
       "  /* fitted */\n",
       "  background-color: var(--sklearn-color-fitted-level-0);\n",
       "}\n",
       "\n",
       "#sk-container-id-5 div.sk-toggleable__content pre {\n",
       "  margin: 0.2em;\n",
       "  border-radius: 0.25em;\n",
       "  color: var(--sklearn-color-text);\n",
       "  /* unfitted */\n",
       "  background-color: var(--sklearn-color-unfitted-level-0);\n",
       "}\n",
       "\n",
       "#sk-container-id-5 div.sk-toggleable__content.fitted pre {\n",
       "  /* unfitted */\n",
       "  background-color: var(--sklearn-color-fitted-level-0);\n",
       "}\n",
       "\n",
       "#sk-container-id-5 input.sk-toggleable__control:checked~div.sk-toggleable__content {\n",
       "  /* Expand drop-down */\n",
       "  max-height: 200px;\n",
       "  max-width: 100%;\n",
       "  overflow: auto;\n",
       "}\n",
       "\n",
       "#sk-container-id-5 input.sk-toggleable__control:checked~label.sk-toggleable__label-arrow:before {\n",
       "  content: \"▾\";\n",
       "}\n",
       "\n",
       "/* Pipeline/ColumnTransformer-specific style */\n",
       "\n",
       "#sk-container-id-5 div.sk-label input.sk-toggleable__control:checked~label.sk-toggleable__label {\n",
       "  color: var(--sklearn-color-text);\n",
       "  background-color: var(--sklearn-color-unfitted-level-2);\n",
       "}\n",
       "\n",
       "#sk-container-id-5 div.sk-label.fitted input.sk-toggleable__control:checked~label.sk-toggleable__label {\n",
       "  background-color: var(--sklearn-color-fitted-level-2);\n",
       "}\n",
       "\n",
       "/* Estimator-specific style */\n",
       "\n",
       "/* Colorize estimator box */\n",
       "#sk-container-id-5 div.sk-estimator input.sk-toggleable__control:checked~label.sk-toggleable__label {\n",
       "  /* unfitted */\n",
       "  background-color: var(--sklearn-color-unfitted-level-2);\n",
       "}\n",
       "\n",
       "#sk-container-id-5 div.sk-estimator.fitted input.sk-toggleable__control:checked~label.sk-toggleable__label {\n",
       "  /* fitted */\n",
       "  background-color: var(--sklearn-color-fitted-level-2);\n",
       "}\n",
       "\n",
       "#sk-container-id-5 div.sk-label label.sk-toggleable__label,\n",
       "#sk-container-id-5 div.sk-label label {\n",
       "  /* The background is the default theme color */\n",
       "  color: var(--sklearn-color-text-on-default-background);\n",
       "}\n",
       "\n",
       "/* On hover, darken the color of the background */\n",
       "#sk-container-id-5 div.sk-label:hover label.sk-toggleable__label {\n",
       "  color: var(--sklearn-color-text);\n",
       "  background-color: var(--sklearn-color-unfitted-level-2);\n",
       "}\n",
       "\n",
       "/* Label box, darken color on hover, fitted */\n",
       "#sk-container-id-5 div.sk-label.fitted:hover label.sk-toggleable__label.fitted {\n",
       "  color: var(--sklearn-color-text);\n",
       "  background-color: var(--sklearn-color-fitted-level-2);\n",
       "}\n",
       "\n",
       "/* Estimator label */\n",
       "\n",
       "#sk-container-id-5 div.sk-label label {\n",
       "  font-family: monospace;\n",
       "  font-weight: bold;\n",
       "  display: inline-block;\n",
       "  line-height: 1.2em;\n",
       "}\n",
       "\n",
       "#sk-container-id-5 div.sk-label-container {\n",
       "  text-align: center;\n",
       "}\n",
       "\n",
       "/* Estimator-specific */\n",
       "#sk-container-id-5 div.sk-estimator {\n",
       "  font-family: monospace;\n",
       "  border: 1px dotted var(--sklearn-color-border-box);\n",
       "  border-radius: 0.25em;\n",
       "  box-sizing: border-box;\n",
       "  margin-bottom: 0.5em;\n",
       "  /* unfitted */\n",
       "  background-color: var(--sklearn-color-unfitted-level-0);\n",
       "}\n",
       "\n",
       "#sk-container-id-5 div.sk-estimator.fitted {\n",
       "  /* fitted */\n",
       "  background-color: var(--sklearn-color-fitted-level-0);\n",
       "}\n",
       "\n",
       "/* on hover */\n",
       "#sk-container-id-5 div.sk-estimator:hover {\n",
       "  /* unfitted */\n",
       "  background-color: var(--sklearn-color-unfitted-level-2);\n",
       "}\n",
       "\n",
       "#sk-container-id-5 div.sk-estimator.fitted:hover {\n",
       "  /* fitted */\n",
       "  background-color: var(--sklearn-color-fitted-level-2);\n",
       "}\n",
       "\n",
       "/* Specification for estimator info (e.g. \"i\" and \"?\") */\n",
       "\n",
       "/* Common style for \"i\" and \"?\" */\n",
       "\n",
       ".sk-estimator-doc-link,\n",
       "a:link.sk-estimator-doc-link,\n",
       "a:visited.sk-estimator-doc-link {\n",
       "  float: right;\n",
       "  font-size: smaller;\n",
       "  line-height: 1em;\n",
       "  font-family: monospace;\n",
       "  background-color: var(--sklearn-color-background);\n",
       "  border-radius: 1em;\n",
       "  height: 1em;\n",
       "  width: 1em;\n",
       "  text-decoration: none !important;\n",
       "  margin-left: 0.5em;\n",
       "  text-align: center;\n",
       "  /* unfitted */\n",
       "  border: var(--sklearn-color-unfitted-level-1) 1pt solid;\n",
       "  color: var(--sklearn-color-unfitted-level-1);\n",
       "}\n",
       "\n",
       ".sk-estimator-doc-link.fitted,\n",
       "a:link.sk-estimator-doc-link.fitted,\n",
       "a:visited.sk-estimator-doc-link.fitted {\n",
       "  /* fitted */\n",
       "  border: var(--sklearn-color-fitted-level-1) 1pt solid;\n",
       "  color: var(--sklearn-color-fitted-level-1);\n",
       "}\n",
       "\n",
       "/* On hover */\n",
       "div.sk-estimator:hover .sk-estimator-doc-link:hover,\n",
       ".sk-estimator-doc-link:hover,\n",
       "div.sk-label-container:hover .sk-estimator-doc-link:hover,\n",
       ".sk-estimator-doc-link:hover {\n",
       "  /* unfitted */\n",
       "  background-color: var(--sklearn-color-unfitted-level-3);\n",
       "  color: var(--sklearn-color-background);\n",
       "  text-decoration: none;\n",
       "}\n",
       "\n",
       "div.sk-estimator.fitted:hover .sk-estimator-doc-link.fitted:hover,\n",
       ".sk-estimator-doc-link.fitted:hover,\n",
       "div.sk-label-container:hover .sk-estimator-doc-link.fitted:hover,\n",
       ".sk-estimator-doc-link.fitted:hover {\n",
       "  /* fitted */\n",
       "  background-color: var(--sklearn-color-fitted-level-3);\n",
       "  color: var(--sklearn-color-background);\n",
       "  text-decoration: none;\n",
       "}\n",
       "\n",
       "/* Span, style for the box shown on hovering the info icon */\n",
       ".sk-estimator-doc-link span {\n",
       "  display: none;\n",
       "  z-index: 9999;\n",
       "  position: relative;\n",
       "  font-weight: normal;\n",
       "  right: .2ex;\n",
       "  padding: .5ex;\n",
       "  margin: .5ex;\n",
       "  width: min-content;\n",
       "  min-width: 20ex;\n",
       "  max-width: 50ex;\n",
       "  color: var(--sklearn-color-text);\n",
       "  box-shadow: 2pt 2pt 4pt #999;\n",
       "  /* unfitted */\n",
       "  background: var(--sklearn-color-unfitted-level-0);\n",
       "  border: .5pt solid var(--sklearn-color-unfitted-level-3);\n",
       "}\n",
       "\n",
       ".sk-estimator-doc-link.fitted span {\n",
       "  /* fitted */\n",
       "  background: var(--sklearn-color-fitted-level-0);\n",
       "  border: var(--sklearn-color-fitted-level-3);\n",
       "}\n",
       "\n",
       ".sk-estimator-doc-link:hover span {\n",
       "  display: block;\n",
       "}\n",
       "\n",
       "/* \"?\"-specific style due to the `<a>` HTML tag */\n",
       "\n",
       "#sk-container-id-5 a.estimator_doc_link {\n",
       "  float: right;\n",
       "  font-size: 1rem;\n",
       "  line-height: 1em;\n",
       "  font-family: monospace;\n",
       "  background-color: var(--sklearn-color-background);\n",
       "  border-radius: 1rem;\n",
       "  height: 1rem;\n",
       "  width: 1rem;\n",
       "  text-decoration: none;\n",
       "  /* unfitted */\n",
       "  color: var(--sklearn-color-unfitted-level-1);\n",
       "  border: var(--sklearn-color-unfitted-level-1) 1pt solid;\n",
       "}\n",
       "\n",
       "#sk-container-id-5 a.estimator_doc_link.fitted {\n",
       "  /* fitted */\n",
       "  border: var(--sklearn-color-fitted-level-1) 1pt solid;\n",
       "  color: var(--sklearn-color-fitted-level-1);\n",
       "}\n",
       "\n",
       "/* On hover */\n",
       "#sk-container-id-5 a.estimator_doc_link:hover {\n",
       "  /* unfitted */\n",
       "  background-color: var(--sklearn-color-unfitted-level-3);\n",
       "  color: var(--sklearn-color-background);\n",
       "  text-decoration: none;\n",
       "}\n",
       "\n",
       "#sk-container-id-5 a.estimator_doc_link.fitted:hover {\n",
       "  /* fitted */\n",
       "  background-color: var(--sklearn-color-fitted-level-3);\n",
       "}\n",
       "</style><div id=\"sk-container-id-5\" class=\"sk-top-container\"><div class=\"sk-text-repr-fallback\"><pre>SVR()</pre><b>In a Jupyter environment, please rerun this cell to show the HTML representation or trust the notebook. <br />On GitHub, the HTML representation is unable to render, please try loading this page with nbviewer.org.</b></div><div class=\"sk-container\" hidden><div class=\"sk-item\"><div class=\"sk-estimator fitted sk-toggleable\"><input class=\"sk-toggleable__control sk-hidden--visually\" id=\"sk-estimator-id-5\" type=\"checkbox\" checked><label for=\"sk-estimator-id-5\" class=\"sk-toggleable__label fitted sk-toggleable__label-arrow\"><div><div>SVR</div></div><div><a class=\"sk-estimator-doc-link fitted\" rel=\"noreferrer\" target=\"_blank\" href=\"https://scikit-learn.org/1.6/modules/generated/sklearn.svm.SVR.html\">?<span>Documentation for SVR</span></a><span class=\"sk-estimator-doc-link fitted\">i<span>Fitted</span></span></div></label><div class=\"sk-toggleable__content fitted\"><pre>SVR()</pre></div> </div></div></div></div>"
      ]
     },
     "execution_count": 71,
     "metadata": {},
     "output_type": "execute_result"
    }
   ],
   "execution_count": 71
  },
  {
   "cell_type": "markdown",
   "source": "## Visualizing SVR Results",
   "metadata": {
    "datalore": {
     "node_id": "IVYwYdiUVVyequGTGw32dX",
     "type": "MD",
     "hide_input_from_viewers": false,
     "hide_output_from_viewers": false,
     "report_properties": {
      "rowId": "4fz0At5NxsRJyGkCSMvF6s"
     }
    },
    "id": "nA4PvHWg-0n-"
   }
  },
  {
   "metadata": {},
   "cell_type": "markdown",
   "source": [
    "* The features and dependent variable vectors are featured scaled\n",
    "* One needs to reverse transform them to their original values for clear visualization"
   ]
  },
  {
   "cell_type": "code",
   "source": [
    "plt.scatter(sc_X.inverse_transform(X), sc_y.inverse_transform(y), color = 'red')\n",
    "plt.plot(sc_X.inverse_transform(X), sc_y.inverse_transform(regressor.predict(X).reshape(-1, 1)), color = 'blue')\n",
    "plt.title('Truth or Bluff (SVR)')\n",
    "plt.xlabel('Position Level')\n",
    "plt.ylabel('Salary')\n",
    "plt.show()"
   ],
   "metadata": {
    "datalore": {
     "node_id": "hL5YKguKg92BNCgHzBR1sO",
     "type": "CODE",
     "hide_input_from_viewers": false,
     "hide_output_from_viewers": false,
     "report_properties": {
      "rowId": "iHzlW5wrOCGDcplWmmG8ru"
     }
    },
    "colab": {
     "base_uri": "https://localhost:8080/",
     "height": 492
    },
    "id": "XY0hio2r-0n-",
    "executionInfo": {
     "status": "ok",
     "timestamp": 1724362054387,
     "user_tz": 240,
     "elapsed": 1329,
     "user": {
      "displayName": "Chris Jaehnen",
      "userId": "09906998703988827501"
     }
    },
    "outputId": "d83ef84e-2ee2-4106-fc46-bf75bfece8e1",
    "ExecuteTime": {
     "end_time": "2025-03-19T00:26:19.251185Z",
     "start_time": "2025-03-19T00:26:19.201947Z"
    }
   },
   "outputs": [
    {
     "data": {
      "text/plain": [
       "<Figure size 640x480 with 1 Axes>"
      ],
      "image/png": "[encoded data removed]"
     },
     "metadata": {},
     "output_type": "display_data"
    }
   ],
   "execution_count": 72
  },
  {
   "cell_type": "markdown",
   "source": "## Visualizing SVR Results",
   "metadata": {
    "datalore": {
     "node_id": "BhuZvuSyT0zSqhDDWBaq8B",
     "type": "MD",
     "hide_input_from_viewers": false,
     "hide_output_from_viewers": false,
     "report_properties": {
      "rowId": "rlmpOJvp9RLAAUY7LikCoS"
     }
    },
    "id": "6plcPRJf-0n_"
   }
  },
  {
   "metadata": {},
   "cell_type": "markdown",
   "source": "### For Higher Resolution and Smoother Curve"
  },
  {
   "metadata": {
    "datalore": {
     "node_id": "Dtjy0OswEbtn15AU3JlPTk",
     "type": "CODE",
     "hide_input_from_viewers": false,
     "hide_output_from_viewers": false,
     "report_properties": {
      "rowId": "4SbBXla7ZEqOUzImLGRMiu"
     }
    },
    "colab": {
     "base_uri": "https://localhost:8080/",
     "height": 527
    },
    "id": "BOcIbwwS-0n_",
    "executionInfo": {
     "status": "ok",
     "timestamp": 1724362054649,
     "user_tz": 240,
     "elapsed": 264,
     "user": {
      "displayName": "Chris Jaehnen",
      "userId": "09906998703988827501"
     }
    },
    "outputId": "d5d50692-a7ac-4395-9d02-4194732422e7",
    "ExecuteTime": {
     "end_time": "2025-03-19T00:26:19.309483Z",
     "start_time": "2025-03-19T00:26:19.258950Z"
    }
   },
   "cell_type": "code",
   "source": [
    "X_grid = np.arange(min(sc_X.inverse_transform(X)), max(sc_X.inverse_transform(X)), 0.1)\n",
    "X_grid = X_grid.reshape(len(X_grid), 1)\n",
    "plt.scatter(sc_X.inverse_transform(X), sc_y.inverse_transform(y), color = 'red')\n",
    "plt.plot(X_grid, sc_y.inverse_transform(regressor.predict(sc_X.transform(X_grid)).reshape(-1, 1)), color = 'blue')\n",
    "plt.title('Truth or Bluff (SVR)')\n",
    "plt.xlabel('Position Level')\n",
    "plt.ylabel('Salary')\n",
    "plt.show()"
   ],
   "outputs": [
    {
     "name": "stderr",
     "output_type": "stream",
     "text": [
      "/var/folders/12/tsb5ccqx5_32fy1lg_yqpddh0000gn/T/ipykernel_4304/587619805.py:1: DeprecationWarning: Conversion of an array with ndim > 0 to a scalar is deprecated, and will error in future. Ensure you extract a single element from your array before performing this operation. (Deprecated NumPy 1.25.)\n",
      "  X_grid = np.arange(min(sc_X.inverse_transform(X)), max(sc_X.inverse_transform(X)), 0.1)\n"
     ]
    },
    {
     "data": {
      "text/plain": [
       "<Figure size 640x480 with 1 Axes>"
      ],
      "image/png": "[encoded data removed]"
     },
     "metadata": {},
     "output_type": "display_data"
    }
   ],
   "execution_count": 73
  },
  {
   "metadata": {
    "datalore": {
     "node_id": "a2o2cQQgqUSW8EbZRTj5vl",
     "type": "MD",
     "hide_input_from_viewers": false,
     "hide_output_from_viewers": false,
     "report_properties": {
      "rowId": "Sg8OQfDsPmRkjwetd0XbMi"
     }
    },
    "id": "VH1P6hrm-0n-"
   },
   "cell_type": "markdown",
   "source": "## Predict New Result"
  },
  {
   "metadata": {},
   "cell_type": "markdown",
   "source": [
    "* One needs to transform the input feature value to a scaled value since the model expects feature scaled values\n",
    "* The `predict` method returns a scaled value for the dependent variable\n",
    "* One needs to inverse the scaling and transform it back into the original value for dependent variable\n",
    "    * The `inverse_transform` method performs the scaling inverse and transformation back to an original value\n",
    "* The `reshape` method invocation prevents any number formatting errors"
   ]
  },
  {
   "metadata": {},
   "cell_type": "markdown",
   "source": "Predict the salary at position level 6.5 with SVR."
  },
  {
   "metadata": {
    "datalore": {
     "node_id": "0gvtgt8Rqy4RVOxtiX6qYY",
     "type": "CODE",
     "hide_input_from_viewers": false,
     "hide_output_from_viewers": false,
     "report_properties": {
      "rowId": "3lnsH5Zjr9K5ByR2WCEpbb"
     }
    },
    "colab": {
     "base_uri": "https://localhost:8080/"
    },
    "id": "9D9gC7qq-0n-",
    "executionInfo": {
     "status": "ok",
     "timestamp": 1724362053061,
     "user_tz": 240,
     "elapsed": 5,
     "user": {
      "displayName": "Chris Jaehnen",
      "userId": "09906998703988827501"
     }
    },
    "outputId": "4e6f4a66-3849-49a1-90f8-0b94ec448583",
    "ExecuteTime": {
     "end_time": "2025-03-19T00:26:19.332727Z",
     "start_time": "2025-03-19T00:26:19.330125Z"
    }
   },
   "cell_type": "code",
   "source": "y_pred = sc_y.inverse_transform(regressor.predict(sc_X.transform([[6.5]])).reshape(-1, 1))",
   "outputs": [],
   "execution_count": 74
  },
  {
   "metadata": {
    "ExecuteTime": {
     "end_time": "2025-03-19T00:26:19.354479Z",
     "start_time": "2025-03-19T00:26:19.352255Z"
    }
   },
   "cell_type": "code",
   "source": "print(y_pred)",
   "outputs": [
    {
     "name": "stdout",
     "output_type": "stream",
     "text": [
      "[[170370.0204065]]\n"
     ]
    }
   ],
   "execution_count": 75
  },
  {
   "metadata": {},
   "cell_type": "markdown",
   "source": [
    "The SVR model predicts a salary very close to $160,000. Good prediction.\n",
    "\n",
    "**One is confident the salary expectation of the candidate is valid.**"
   ]
  }
 ],
 "metadata": {
  "kernelspec": {
   "display_name": "Python 3 (ipykernel)",
   "language": "python",
   "name": "python3"
  },
  "datalore": {
   "computation_mode": "JUPYTER",
   "package_manager": "pip",
   "base_environment": "default",
   "packages": [],
   "report_row_ids": [
    "66eiH1vVlnooK2sJ8B3Chr",
    "tZpbDtghDoJbP2umAb0tXO",
    "hzaJWtEPlwHXuwwghmymqh",
    "mjgoefH5YWF07CwAHfKmKZ",
    "pDeIQ2Y9Ys9bgsk7PRm3jp",
    "sDjLLsEpjHJSLG02NerXtV",
    "k9VgMIlPYsywJgDgXmCPpo",
    "KMKvmeetH6D7ZBVNTuIDq3",
    "jhQA83smFer3hwOoR3ELEP",
    "6UvT7n1ihai2Mt12XvQUm0",
    "4c3oaSolsU4ywXxZdCSkgm",
    "yTcaVzq7ohTZNNlrPvkZmo",
    "yEem4kpYI2rFe700DfbmSY",
    "tGiPUNErJdfXqliO683TBG",
    "08aH3OCOwJHoOd8wqUJstO",
    "Sg8OQfDsPmRkjwetd0XbMi",
    "3lnsH5Zjr9K5ByR2WCEpbb",
    "4fz0At5NxsRJyGkCSMvF6s",
    "iHzlW5wrOCGDcplWmmG8ru",
    "rlmpOJvp9RLAAUY7LikCoS",
    "4SbBXla7ZEqOUzImLGRMiu"
   ],
   "version": 3
  },
  "colab": {
   "provenance": []
  }
 },
 "nbformat": 4,
 "nbformat_minor": 0
}
