{
 "nbformat": 4,
 "nbformat_minor": 0,
 "metadata": {
  "colab": {
   "name": "principal_component_analysis.ipynb",
   "provenance": [],
   "collapsed_sections": [],
   "toc_visible": true,
   "authorship_tag": "ABX9TyM37bwzFYPXvFL3uN8+xt58"
  },
  "kernelspec": {
   "name": "python3",
   "display_name": "Python 3 (ipykernel)",
   "language": "python"
  }
 },
 "cells": [
  {
   "cell_type": "markdown",
   "metadata": {
    "id": "VQ3syspj_rKn",
    "colab_type": "text"
   },
   "source": [
    "# Principal Component Analysis (PCA)"
   ]
  },
  {
   "metadata": {},
   "cell_type": "markdown",
   "source": [
    "## Dataset\n",
    "\n",
    "### Layout\n",
    "\n",
    "* Columns:\n",
    "    * Characteristics of wine\n",
    "* Rows: 10s of observations\n",
    "\t* Each row represents a different wine\n",
    "\t\t* Features:\n",
    "\t\t\t* Characteristics of wine\n",
    "\t\t* Dependent variable:\n",
    "\t\t\t* Customer segment\n",
    "\t\t\t\t* 1\n",
    "\t\t\t\t* 2\n",
    "                * 3\n",
    "\n",
    "### Background\n",
    "\n",
    "* A wine merchant has a large set of wines to sell to a large base of customers\n",
    "* The dataset was provided by the merchant\n",
    "* One is a data scientist hired by the wine merchant:\n",
    "    * Cluster the dataset to determine customer segments\n",
    "        * This was done as a pre-step to the logistic regression model\n",
    "    * Reduce the number of features used to predict which customer segment a wine belongs to\n",
    "* New wine will be recommended to customers based on the customer segment they belong to\n",
    "* The dataset was taken from [UCI Machine Learning Repository](https://archive.ics.uci.edu/ml/datasets/Wine)\n",
    "\n",
    "### Goals\n",
    "\n",
    "* Build a logistic regression model using PCA to reduce the number of features used to predict which customer segment a wine belongs to"
   ]
  },
  {
   "cell_type": "markdown",
   "metadata": {
    "id": "xJGl9TcT_skx",
    "colab_type": "text"
   },
   "source": "## Import Libraries"
  },
  {
   "cell_type": "code",
   "metadata": {
    "id": "BNEgrGwd_29D",
    "colab_type": "code",
    "colab": {},
    "ExecuteTime": {
     "end_time": "2025-09-08T22:33:28.179684Z",
     "start_time": "2025-09-08T22:33:27.664634Z"
    }
   },
   "source": [
    "import numpy as np\n",
    "import matplotlib.pyplot as plt\n",
    "import pandas as pd"
   ],
   "outputs": [],
   "execution_count": 1
  },
  {
   "cell_type": "markdown",
   "metadata": {
    "id": "Hyp1gza1_6qX",
    "colab_type": "text"
   },
   "source": "## Import Dataset"
  },
  {
   "cell_type": "code",
   "metadata": {
    "id": "lPLTDBVI__ZQ",
    "colab_type": "code",
    "colab": {},
    "ExecuteTime": {
     "end_time": "2025-09-08T22:33:32.339924Z",
     "start_time": "2025-09-08T22:33:32.335576Z"
    }
   },
   "source": [
    "dataset = pd.read_csv('Wine.csv')\n",
    "X = dataset.iloc[:, :-1].values\n",
    "y = dataset.iloc[:, -1].values"
   ],
   "outputs": [],
   "execution_count": 2
  },
  {
   "cell_type": "markdown",
   "metadata": {
    "id": "3bUhSHktAcOe",
    "colab_type": "text"
   },
   "source": "## Split Dataset into Training Set and Test Set"
  },
  {
   "cell_type": "code",
   "metadata": {
    "id": "L7hGLt1qAced",
    "colab_type": "code",
    "colab": {},
    "ExecuteTime": {
     "end_time": "2025-09-08T22:33:34.982652Z",
     "start_time": "2025-09-08T22:33:34.864806Z"
    }
   },
   "source": [
    "from sklearn.model_selection import train_test_split\n",
    "\n",
    "X_train, X_test, y_train, y_test = train_test_split(X, y, test_size=0.2, random_state=0)"
   ],
   "outputs": [],
   "execution_count": 3
  },
  {
   "metadata": {
    "ExecuteTime": {
     "end_time": "2025-09-08T22:33:36.990071Z",
     "start_time": "2025-09-08T22:33:36.983739Z"
    }
   },
   "cell_type": "code",
   "source": "print(*X_train[:25], sep='\\n')",
   "outputs": [
    {
     "name": "stdout",
     "output_type": "stream",
     "text": [
      "[1.369e+01 3.260e+00 2.540e+00 2.000e+01 1.070e+02 1.830e+00 5.600e-01\n",
      " 5.000e-01 8.000e-01 5.880e+00 9.600e-01 1.820e+00 6.800e+02]\n",
      "[ 12.69   1.53   2.26  20.7   80.     1.38   1.46   0.58   1.62   3.05\n",
      "   0.96   2.06 495.  ]\n",
      "[1.162e+01 1.990e+00 2.280e+00 1.800e+01 9.800e+01 3.020e+00 2.260e+00\n",
      " 1.700e-01 1.350e+00 3.250e+00 1.160e+00 2.960e+00 3.450e+02]\n",
      "[1.34e+01 3.91e+00 2.48e+00 2.30e+01 1.02e+02 1.80e+00 7.50e-01 4.30e-01\n",
      " 1.41e+00 7.30e+00 7.00e-01 1.56e+00 7.50e+02]\n",
      "[1.35e+01 1.81e+00 2.61e+00 2.00e+01 9.60e+01 2.53e+00 2.61e+00 2.80e-01\n",
      " 1.66e+00 3.52e+00 1.12e+00 3.82e+00 8.45e+02]\n",
      "[1.373e+01 1.500e+00 2.700e+00 2.250e+01 1.010e+02 3.000e+00 3.250e+00\n",
      " 2.900e-01 2.380e+00 5.700e+00 1.190e+00 2.710e+00 1.285e+03]\n",
      "[1.229e+01 2.830e+00 2.220e+00 1.800e+01 8.800e+01 2.450e+00 2.250e+00\n",
      " 2.500e-01 1.990e+00 2.150e+00 1.150e+00 3.300e+00 2.900e+02]\n",
      "[1.26e+01 1.34e+00 1.90e+00 1.85e+01 8.80e+01 1.45e+00 1.36e+00 2.90e-01\n",
      " 1.35e+00 2.45e+00 1.04e+00 2.77e+00 5.62e+02]\n",
      "[1.141e+01 7.400e-01 2.500e+00 2.100e+01 8.800e+01 2.480e+00 2.010e+00\n",
      " 4.200e-01 1.440e+00 3.080e+00 1.100e+00 2.310e+00 4.340e+02]\n",
      "[1.364e+01 3.100e+00 2.560e+00 1.520e+01 1.160e+02 2.700e+00 3.030e+00\n",
      " 1.700e-01 1.660e+00 5.100e+00 9.600e-01 3.360e+00 8.450e+02]\n",
      "[1.26e+01 2.46e+00 2.20e+00 1.85e+01 9.40e+01 1.62e+00 6.60e-01 6.30e-01\n",
      " 9.40e-01 7.10e+00 7.30e-01 1.58e+00 6.95e+02]\n",
      "[1.196e+01 1.090e+00 2.300e+00 2.100e+01 1.010e+02 3.380e+00 2.140e+00\n",
      " 1.300e-01 1.650e+00 3.210e+00 9.900e-01 3.130e+00 8.860e+02]\n",
      "[1.225e+01 3.880e+00 2.200e+00 1.850e+01 1.120e+02 1.380e+00 7.800e-01\n",
      " 2.900e-01 1.140e+00 8.210e+00 6.500e-01 2.000e+00 8.550e+02]\n",
      "[1.43e+01 1.92e+00 2.72e+00 2.00e+01 1.20e+02 2.80e+00 3.14e+00 3.30e-01\n",
      " 1.97e+00 6.20e+00 1.07e+00 2.65e+00 1.28e+03]\n",
      "[1.288e+01 2.990e+00 2.400e+00 2.000e+01 1.040e+02 1.300e+00 1.220e+00\n",
      " 2.400e-01 8.300e-01 5.400e+00 7.400e-01 1.420e+00 5.300e+02]\n",
      "[1.349e+01 3.590e+00 2.190e+00 1.950e+01 8.800e+01 1.620e+00 4.800e-01\n",
      " 5.800e-01 8.800e-01 5.700e+00 8.100e-01 1.820e+00 5.800e+02]\n",
      "[1.356e+01 1.710e+00 2.310e+00 1.620e+01 1.170e+02 3.150e+00 3.290e+00\n",
      " 3.400e-01 2.340e+00 6.130e+00 9.500e-01 3.380e+00 7.950e+02]\n",
      "[1.434e+01 1.680e+00 2.700e+00 2.500e+01 9.800e+01 2.800e+00 1.310e+00\n",
      " 5.300e-01 2.700e+00 1.300e+01 5.700e-01 1.960e+00 6.600e+02]\n",
      "[1.371e+01 1.860e+00 2.360e+00 1.660e+01 1.010e+02 2.610e+00 2.880e+00\n",
      " 2.700e-01 1.690e+00 3.800e+00 1.110e+00 4.000e+00 1.035e+03]\n",
      "[ 12.22   1.29   1.94  19.    92.     2.36   2.04   0.39   2.08   2.7\n",
      "   0.86   3.02 312.  ]\n",
      "[1.327e+01 4.280e+00 2.260e+00 2.000e+01 1.200e+02 1.590e+00 6.900e-01\n",
      " 4.300e-01 1.350e+00 1.020e+01 5.900e-01 1.560e+00 8.350e+02]\n",
      "[1.316e+01 3.570e+00 2.150e+00 2.100e+01 1.020e+02 1.500e+00 5.500e-01\n",
      " 4.300e-01 1.300e+00 4.000e+00 6.000e-01 1.680e+00 8.300e+02]\n",
      "[1.386e+01 1.510e+00 2.670e+00 2.500e+01 8.600e+01 2.950e+00 2.860e+00\n",
      " 2.100e-01 1.870e+00 3.380e+00 1.360e+00 3.160e+00 4.100e+02]\n",
      "[ 12.85   3.27   2.58  22.   106.     1.65   0.6    0.6    0.96   5.58\n",
      "   0.87   2.11 570.  ]\n",
      "[ 13.84   4.12   2.38  19.5   89.     1.8    0.83   0.48   1.56   9.01\n",
      "   0.57   1.64 480.  ]\n"
     ]
    }
   ],
   "execution_count": 4
  },
  {
   "metadata": {
    "ExecuteTime": {
     "end_time": "2025-09-08T22:33:44.236152Z",
     "start_time": "2025-09-08T22:33:44.233991Z"
    }
   },
   "cell_type": "code",
   "source": "print(*y_train[:25], sep='\\n')",
   "outputs": [
    {
     "name": "stdout",
     "output_type": "stream",
     "text": [
      "3\n",
      "2\n",
      "2\n",
      "3\n",
      "1\n",
      "1\n",
      "2\n",
      "2\n",
      "2\n",
      "1\n",
      "3\n",
      "2\n",
      "3\n",
      "1\n",
      "3\n",
      "3\n",
      "1\n",
      "3\n",
      "1\n",
      "2\n",
      "3\n",
      "3\n",
      "2\n",
      "3\n",
      "3\n"
     ]
    }
   ],
   "execution_count": 5
  },
  {
   "metadata": {
    "ExecuteTime": {
     "end_time": "2025-09-08T22:33:46.579297Z",
     "start_time": "2025-09-08T22:33:46.575525Z"
    }
   },
   "cell_type": "code",
   "source": "print(*X[:25], sep='\\n')",
   "outputs": [
    {
     "name": "stdout",
     "output_type": "stream",
     "text": [
      "[1.423e+01 1.710e+00 2.430e+00 1.560e+01 1.270e+02 2.800e+00 3.060e+00\n",
      " 2.800e-01 2.290e+00 5.640e+00 1.040e+00 3.920e+00 1.065e+03]\n",
      "[1.32e+01 1.78e+00 2.14e+00 1.12e+01 1.00e+02 2.65e+00 2.76e+00 2.60e-01\n",
      " 1.28e+00 4.38e+00 1.05e+00 3.40e+00 1.05e+03]\n",
      "[1.316e+01 2.360e+00 2.670e+00 1.860e+01 1.010e+02 2.800e+00 3.240e+00\n",
      " 3.000e-01 2.810e+00 5.680e+00 1.030e+00 3.170e+00 1.185e+03]\n",
      "[1.437e+01 1.950e+00 2.500e+00 1.680e+01 1.130e+02 3.850e+00 3.490e+00\n",
      " 2.400e-01 2.180e+00 7.800e+00 8.600e-01 3.450e+00 1.480e+03]\n",
      "[1.324e+01 2.590e+00 2.870e+00 2.100e+01 1.180e+02 2.800e+00 2.690e+00\n",
      " 3.900e-01 1.820e+00 4.320e+00 1.040e+00 2.930e+00 7.350e+02]\n",
      "[1.42e+01 1.76e+00 2.45e+00 1.52e+01 1.12e+02 3.27e+00 3.39e+00 3.40e-01\n",
      " 1.97e+00 6.75e+00 1.05e+00 2.85e+00 1.45e+03]\n",
      "[1.439e+01 1.870e+00 2.450e+00 1.460e+01 9.600e+01 2.500e+00 2.520e+00\n",
      " 3.000e-01 1.980e+00 5.250e+00 1.020e+00 3.580e+00 1.290e+03]\n",
      "[1.406e+01 2.150e+00 2.610e+00 1.760e+01 1.210e+02 2.600e+00 2.510e+00\n",
      " 3.100e-01 1.250e+00 5.050e+00 1.060e+00 3.580e+00 1.295e+03]\n",
      "[1.483e+01 1.640e+00 2.170e+00 1.400e+01 9.700e+01 2.800e+00 2.980e+00\n",
      " 2.900e-01 1.980e+00 5.200e+00 1.080e+00 2.850e+00 1.045e+03]\n",
      "[1.386e+01 1.350e+00 2.270e+00 1.600e+01 9.800e+01 2.980e+00 3.150e+00\n",
      " 2.200e-01 1.850e+00 7.220e+00 1.010e+00 3.550e+00 1.045e+03]\n",
      "[1.41e+01 2.16e+00 2.30e+00 1.80e+01 1.05e+02 2.95e+00 3.32e+00 2.20e-01\n",
      " 2.38e+00 5.75e+00 1.25e+00 3.17e+00 1.51e+03]\n",
      "[1.412e+01 1.480e+00 2.320e+00 1.680e+01 9.500e+01 2.200e+00 2.430e+00\n",
      " 2.600e-01 1.570e+00 5.000e+00 1.170e+00 2.820e+00 1.280e+03]\n",
      "[1.375e+01 1.730e+00 2.410e+00 1.600e+01 8.900e+01 2.600e+00 2.760e+00\n",
      " 2.900e-01 1.810e+00 5.600e+00 1.150e+00 2.900e+00 1.320e+03]\n",
      "[1.475e+01 1.730e+00 2.390e+00 1.140e+01 9.100e+01 3.100e+00 3.690e+00\n",
      " 4.300e-01 2.810e+00 5.400e+00 1.250e+00 2.730e+00 1.150e+03]\n",
      "[1.438e+01 1.870e+00 2.380e+00 1.200e+01 1.020e+02 3.300e+00 3.640e+00\n",
      " 2.900e-01 2.960e+00 7.500e+00 1.200e+00 3.000e+00 1.547e+03]\n",
      "[1.363e+01 1.810e+00 2.700e+00 1.720e+01 1.120e+02 2.850e+00 2.910e+00\n",
      " 3.000e-01 1.460e+00 7.300e+00 1.280e+00 2.880e+00 1.310e+03]\n",
      "[1.43e+01 1.92e+00 2.72e+00 2.00e+01 1.20e+02 2.80e+00 3.14e+00 3.30e-01\n",
      " 1.97e+00 6.20e+00 1.07e+00 2.65e+00 1.28e+03]\n",
      "[1.383e+01 1.570e+00 2.620e+00 2.000e+01 1.150e+02 2.950e+00 3.400e+00\n",
      " 4.000e-01 1.720e+00 6.600e+00 1.130e+00 2.570e+00 1.130e+03]\n",
      "[1.419e+01 1.590e+00 2.480e+00 1.650e+01 1.080e+02 3.300e+00 3.930e+00\n",
      " 3.200e-01 1.860e+00 8.700e+00 1.230e+00 2.820e+00 1.680e+03]\n",
      "[1.364e+01 3.100e+00 2.560e+00 1.520e+01 1.160e+02 2.700e+00 3.030e+00\n",
      " 1.700e-01 1.660e+00 5.100e+00 9.600e-01 3.360e+00 8.450e+02]\n",
      "[1.406e+01 1.630e+00 2.280e+00 1.600e+01 1.260e+02 3.000e+00 3.170e+00\n",
      " 2.400e-01 2.100e+00 5.650e+00 1.090e+00 3.710e+00 7.800e+02]\n",
      "[1.293e+01 3.800e+00 2.650e+00 1.860e+01 1.020e+02 2.410e+00 2.410e+00\n",
      " 2.500e-01 1.980e+00 4.500e+00 1.030e+00 3.520e+00 7.700e+02]\n",
      "[1.371e+01 1.860e+00 2.360e+00 1.660e+01 1.010e+02 2.610e+00 2.880e+00\n",
      " 2.700e-01 1.690e+00 3.800e+00 1.110e+00 4.000e+00 1.035e+03]\n",
      "[1.285e+01 1.600e+00 2.520e+00 1.780e+01 9.500e+01 2.480e+00 2.370e+00\n",
      " 2.600e-01 1.460e+00 3.930e+00 1.090e+00 3.630e+00 1.015e+03]\n",
      "[1.35e+01 1.81e+00 2.61e+00 2.00e+01 9.60e+01 2.53e+00 2.61e+00 2.80e-01\n",
      " 1.66e+00 3.52e+00 1.12e+00 3.82e+00 8.45e+02]\n"
     ]
    }
   ],
   "execution_count": 6
  },
  {
   "metadata": {
    "ExecuteTime": {
     "end_time": "2025-09-08T22:33:48.539671Z",
     "start_time": "2025-09-08T22:33:48.537423Z"
    }
   },
   "cell_type": "code",
   "source": "print(*y[:25], sep='\\n')",
   "outputs": [
    {
     "name": "stdout",
     "output_type": "stream",
     "text": [
      "1\n",
      "1\n",
      "1\n",
      "1\n",
      "1\n",
      "1\n",
      "1\n",
      "1\n",
      "1\n",
      "1\n",
      "1\n",
      "1\n",
      "1\n",
      "1\n",
      "1\n",
      "1\n",
      "1\n",
      "1\n",
      "1\n",
      "1\n",
      "1\n",
      "1\n",
      "1\n",
      "1\n",
      "1\n"
     ]
    }
   ],
   "execution_count": 7
  },
  {
   "cell_type": "markdown",
   "metadata": {
    "id": "1wrHODfJAEiI",
    "colab_type": "text"
   },
   "source": [
    "## Feature Scaling"
   ]
  },
  {
   "cell_type": "code",
   "metadata": {
    "id": "W-UCD7ezAJG2",
    "colab_type": "code",
    "colab": {},
    "ExecuteTime": {
     "end_time": "2025-09-08T22:33:52.186009Z",
     "start_time": "2025-09-08T22:33:52.183511Z"
    }
   },
   "source": [
    "from sklearn.preprocessing import StandardScaler\n",
    "\n",
    "sc = StandardScaler()\n",
    "X_train = sc.fit_transform(X_train)\n",
    "X_test = sc.transform(X_test)"
   ],
   "outputs": [],
   "execution_count": 8
  },
  {
   "metadata": {
    "ExecuteTime": {
     "end_time": "2025-09-08T22:33:55.847643Z",
     "start_time": "2025-09-08T22:33:55.843917Z"
    }
   },
   "cell_type": "code",
   "source": "print(*X_train[:25], sep='\\n')",
   "outputs": [
    {
     "name": "stdout",
     "output_type": "stream",
     "text": [
      "[ 0.87668336  0.79842885  0.64412971  0.12974277  0.48853231 -0.70326216\n",
      " -1.42846826  1.0724566  -1.36820277  0.35193216  0.0290166  -1.06412236\n",
      " -0.2059076 ]\n",
      "[-0.36659076 -0.7581304  -0.39779858  0.33380024 -1.41302392 -1.44153145\n",
      " -0.5029981   1.70109989  0.02366802 -0.84114577  0.0290166  -0.73083231\n",
      " -0.81704676]\n",
      "[-1.69689407 -0.34424759 -0.32337513 -0.45327855 -0.14531976  1.24904997\n",
      "  0.31964204 -1.52069698 -0.4346309  -0.75682931  0.90197362  0.51900537\n",
      " -1.31256499]\n",
      "[ 0.51613387  1.38326325  0.42085937  1.00427477  0.13639227 -0.75248011\n",
      " -1.23309123  0.52239372 -0.33278669  0.95057904 -1.10582753 -1.42518658\n",
      "  0.02533424]\n",
      "[ 0.64046128 -0.50620174  0.90461179  0.12974277 -0.28617578  0.44515674\n",
      "  0.67954711 -0.65631245  0.09156415 -0.64300209  0.72738222  1.7132947\n",
      "  0.33916246]\n",
      "[ 0.92641433 -0.78512276  1.23951731  0.85851943  0.06596426  1.21623801\n",
      "  1.33765922 -0.57773204  1.3136946   0.27604735  1.03291718  0.17182823\n",
      "  1.79268262]\n",
      "[-0.8639004   0.4115384  -0.54664548 -0.45327855 -0.84959985  0.31390887\n",
      "  0.30935904 -0.89205368  0.65170728 -1.22056985  0.85832577  0.99116627\n",
      " -1.49425501]\n",
      "[-0.47848543 -0.92908199 -1.73742067 -0.30752322 -0.84959985 -1.32668956\n",
      " -0.60582812 -0.57773204 -0.4346309  -1.09409516  0.37819941  0.25515074\n",
      " -0.59571528]\n",
      "[-1.95798163 -1.46892913  0.49528281  0.42125344 -0.84959985  0.36312682\n",
      "  0.062567    0.44381331 -0.28186459 -0.8284983   0.64008652 -0.38365518\n",
      " -1.01855751]\n",
      "[ 0.81451966  0.65446961  0.71855316 -1.26950841  1.12238439  0.72405848\n",
      "  1.11143318 -1.52069698  0.09156415  0.02309796  0.0290166   1.07448878\n",
      "  0.33916246]\n",
      "[-0.47848543  0.07863266 -0.62106893 -0.30752322 -0.4270318  -1.04778783\n",
      " -1.32563825  2.09400195 -1.13056629  0.86626258 -0.97488398 -1.39741241\n",
      " -0.15635578]\n",
      "[-1.27418086 -1.1540183  -0.24895168  0.42125344  0.06596426  1.83966541\n",
      "  0.19624602 -1.83501862  0.07459012 -0.7736926   0.15996015  0.75508582\n",
      "  0.47460411]\n",
      "[-0.91363137  1.35627089 -0.62106893 -0.30752322  0.84067236 -1.44153145\n",
      " -1.20224223 -0.57773204 -0.79108561  1.33421894 -1.32406679 -0.81415483\n",
      "  0.37219701]\n",
      "[ 1.63508058 -0.40722976  1.31394076  0.12974277  1.40409643  0.88811832\n",
      "  1.2245462  -0.26341039  0.61775921  0.4868385   0.50914296  0.08850572\n",
      "  1.77616534]\n",
      "[-0.13036867  0.55549764  0.12316557  0.12974277  0.27724829 -1.57277933\n",
      " -0.74979015 -0.9706341  -1.31728066  0.14957266 -0.93123613 -1.61960578\n",
      " -0.70142584]\n",
      "[ 0.62802854  1.09534477 -0.65828065 -0.01601256 -0.84959985 -1.04778783\n",
      " -1.51073228  1.70109989 -1.23241049  0.27604735 -0.62570117 -1.06412236\n",
      " -0.53625309]\n",
      "[ 0.71505773 -0.59617626 -0.21173995 -0.97799775  1.1928124   1.46232777\n",
      "  1.37879123 -0.18482998  1.24579846  0.45732774 -0.01463125  1.10226295\n",
      "  0.17398971]\n",
      "[ 1.68481154 -0.62316862  1.23951731  1.58729609 -0.14531976  0.88811832\n",
      " -0.65724313  1.30819784  1.85686369  3.35359821 -1.67324959 -0.86970317\n",
      " -0.2719767 ]\n",
      "[ 0.90154885 -0.46121447 -0.02568133 -0.86139348  0.06596426  0.57640462\n",
      "  0.95718815 -0.73489286  0.14248626 -0.52495904  0.68373437  1.96326224\n",
      "  0.96681889]\n",
      "[-0.95092959 -0.97406926 -1.58857377 -0.16176789 -0.56788782  0.16625501\n",
      "  0.093416    0.20807208  0.80447358 -0.98869958 -0.40746191  0.60232788\n",
      " -1.42157901]\n",
      "[ 0.35450823  1.71616898 -0.39779858  0.12974277  1.40409643 -1.09700578\n",
      " -1.29478924  0.52239372 -0.4346309   2.17316774 -1.58595389 -1.42518658\n",
      "  0.30612791]\n",
      "[ 0.21774808  1.07734987 -0.80712755  0.42125344  0.13639227 -1.24465964\n",
      " -1.43875127  0.52239372 -0.51950107 -0.44064258 -1.54230604 -1.25854156\n",
      "  0.28961063]\n",
      "[ 1.08803996 -0.7761253   1.12788213  1.58729609 -0.99045587  1.13420808\n",
      "  0.93662215 -1.20637533  0.44801887 -0.70202361  1.77493065  0.79674707\n",
      " -1.09784043]\n",
      "[-0.1676669   0.8074263   0.79297661  0.7127641   0.41810431 -0.99856988\n",
      " -1.38733626  1.85826072 -1.09661822  0.22545747 -0.36381406 -0.66139689\n",
      " -0.56928764]\n",
      "[ 1.06317448  1.57220975  0.04874212 -0.01601256 -0.77917184 -0.75248011\n",
      " -1.15082722  0.91529578 -0.07817618  1.67148479 -1.67324959 -1.3140899\n",
      " -0.86659858]\n"
     ]
    }
   ],
   "execution_count": 9
  },
  {
   "metadata": {
    "ExecuteTime": {
     "end_time": "2025-09-08T22:33:59.372009Z",
     "start_time": "2025-09-08T22:33:59.367740Z"
    }
   },
   "cell_type": "code",
   "source": "print(*X_test[:25], sep='\\n')",
   "outputs": [
    {
     "name": "stdout",
     "output_type": "stream",
     "text": [
      "[ 0.93884707 -0.63216607 -0.4350103  -0.91969562  1.26324041  0.55999863\n",
      "  0.97775416 -1.20637533  0.02366802  0.3392847  -0.1455748   0.85229541\n",
      "  1.04940526]\n",
      "[-0.24226334  0.26757916  0.42085937  0.7127641   0.84067236 -1.27747161\n",
      " -0.60582812 -0.9706341  -0.5873972   2.42611713 -2.06608025 -1.55017035\n",
      " -0.86659858]\n",
      "[-0.76443848 -1.11802849 -0.76991583 -0.16176789 -0.92002786  2.03653722\n",
      "  1.18341419 -1.36353615  0.44801887 -0.25093054  1.16386073  0.3940216\n",
      " -1.06480588]\n",
      "[ 0.71505773 -0.57818135  0.34643592  0.27549811  1.12238439  1.15061407\n",
      "  0.85435814 -1.28495574  1.43251284  0.50791762  0.1163123   0.61621496\n",
      "  1.24761256]\n",
      "[ 0.08098793  3.08378173 -0.881551    0.56700877 -0.99045587  0.5928106\n",
      "  0.72067911 -0.49915163  0.68565534 -1.03085781 -0.97488398  0.71342456\n",
      " -1.19694407]\n",
      "[-1.77149051 -0.29026288  3.21173872  2.60758342  1.33366842  1.51154572\n",
      "  3.21944855  0.83671537  0.44801887  0.40252204 -0.10192695  1.53276259\n",
      " -0.91615041]\n",
      "[ 1.33669479 -0.20028836  0.90461179 -0.56988282  1.47452444  0.55999863\n",
      "  0.57671709 -0.42057122 -0.60437124  0.00201885  0.46549511  1.38000466\n",
      "  1.82571717]\n",
      "[-0.77687122  1.31128363  0.04874212  0.42125344 -0.84959985  0.0678191\n",
      " -1.0582802   1.0724566  -0.96082595  1.09813285 -1.71689745 -1.39741241\n",
      " -0.73446039]\n",
      "[-0.91363137 -0.57818135 -0.91876272 -0.16176789 -1.41302392 -0.99856988\n",
      "  0.083133    0.05091125  0.04064205 -0.69359196  0.203608    0.81063416\n",
      " -0.76749493]\n",
      "[-1.12498797 -0.48820683 -0.17452823 -0.30752322 -1.34259591 -1.0805998\n",
      " -0.4618661   1.22961742  0.05761609 -1.11517427  0.55279081 -0.43920352\n",
      " -0.86659858]\n",
      "[ 0.4664029   0.16860719 -0.06289306  0.12974277 -0.77917184 -1.40871948\n",
      " -1.49016628  0.05091125 -1.63978731  0.23388912 -1.10582753 -0.16146182\n",
      "  0.12443789]\n",
      "[ 1.11290545  2.39997536 -0.50943375  0.12974277 -1.41302392 -2.09777082\n",
      " -1.6546943   0.28665249 -1.57189117 -0.0612185  -1.62960174 -1.74458954\n",
      " -1.08132315]\n",
      "[ 1.51075317 -0.551189    0.30922419 -1.26950841  0.84067236  1.65919958\n",
      "  1.48162125 -0.18482998  0.61775921  0.71870877  0.42184726  0.36624743\n",
      "  2.33775268]\n",
      "[-0.76443848 -1.17201321 -0.99318617 -0.30752322 -0.84959985  2.06934919\n",
      "  1.85180931 -0.9706341   0.58381114 -0.22985142  0.37819941  0.25515074\n",
      " -0.2719767 ]\n",
      "[ 0.73992321  0.18660209  1.20230558  1.44154076  0.3476763  -1.16262972\n",
      " -1.14054421  0.20807208 -0.11212425  1.52393098 -0.93123613 -1.09189653\n",
      "  0.02533424]\n",
      "[-1.2244499  -1.30697499 -1.36530342 -0.16176789 -0.99045587  0.26469092\n",
      "  0.31964204 -0.49915163 -0.29883863 -1.07301604  1.86222635  0.74119873\n",
      " -1.53389647]\n",
      "[ 0.96371255 -0.7581304   1.23951731 -0.01601256  2.24923253  1.13420808\n",
      "  0.81322613  1.0724566  -0.4346309   0.14957266  1.29480428  0.57455371\n",
      "  1.62750987]\n",
      "[ 1.49832042 -0.70414569  0.42085937 -0.89054455  0.55896032  1.70841753\n",
      "  2.03690334 -0.3419908   0.43104483  1.54079428  1.20750858  0.32458617\n",
      "  3.0975473 ]\n",
      "[-0.42875446 -0.91108709 -1.29087997 -0.80309135 -0.00446375 -0.39154846\n",
      " -0.55441311  1.30819784 -1.67373538  0.29712646  0.1163123  -1.38352533\n",
      " -0.96570223]\n",
      "[ 1.05074174 -0.65016097  0.86740006 -0.68648708 -0.4270318   0.31390887\n",
      "  1.07030117 -1.12779492  1.16092829  0.23388912  1.25115643  1.08837586\n",
      "  1.72661352]\n",
      "[ 0.15558437 -1.22599792 -2.48165516 -1.32781054 -1.55387994  1.18342604\n",
      "  1.26567821 -0.81347327  1.14395426  0.10741443  0.72738222  0.82452124\n",
      " -0.79392257]\n",
      "[ 0.08098793 -0.65016097  0.68134144 -0.45327855 -0.14531976  0.31390887\n",
      "  0.49445307 -0.57773204 -0.28186459 -0.335247    0.72738222 -0.10591347\n",
      "  1.19806073]\n",
      "[ 0.31721001  0.19559954  1.87211663  0.42125344  1.26324041  0.88811832\n",
      "  0.76181112  0.20807208  0.3631487  -0.30573624  0.37819941  0.47734411\n",
      " -0.02421758]\n",
      "[-0.5903801  -0.57818135 -1.43972687  0.27549811 -1.06088388 -0.09624074\n",
      " -0.02998002 -0.3419908  -0.21396846 -0.88751982  0.37819941  1.36611757\n",
      " -0.23233524]\n",
      "[-0.81416944 -1.14502085 -0.32337513 -1.03629988  0.06596426 -0.3423305\n",
      " -0.88346917  2.09400195 -2.03019009 -0.74839766  1.29480428 -1.27242864\n",
      " -0.2059076 ]\n"
     ]
    }
   ],
   "execution_count": 10
  },
  {
   "cell_type": "markdown",
   "metadata": {
    "id": "S3i3lRiwASAX",
    "colab_type": "text"
   },
   "source": "## Apply PCA"
  },
  {
   "metadata": {},
   "cell_type": "markdown",
   "source": [
    "* The `PCA` class from the `sklearn.decomposition` module of the Scikit-learn library implements the Principal Component Analysis (PCA) algorithm\n",
    "* Parameters:\n",
    "    * `n_components`: The number of principal components to keep (extracted features)\n",
    "* The `pca` variable creates an instance of the `PCA` class\n",
    "* The `fit_transform` method fits the model with `x` and applies the dimensionality reduction on `x`\n",
    "\n",
    "*How does one know how many principal components to keep?*\n",
    "\n",
    "* Start with two principal components to keep\n",
    "* If one gets good results with two, one will be able to visualize the training and test set results in 2-D\n",
    "* If results are poor and one cannot visualize results accurately, then additional components should be added\n",
    "* If results are good, then one can stop adding components"
   ]
  },
  {
   "metadata": {},
   "cell_type": "markdown",
   "source": "### Reduce Dataset to Two Principal Components"
  },
  {
   "cell_type": "code",
   "metadata": {
    "id": "TAi_sSw9AVzI",
    "colab_type": "code",
    "colab": {},
    "ExecuteTime": {
     "end_time": "2025-09-08T22:46:09.238455Z",
     "start_time": "2025-09-08T22:46:09.144029Z"
    }
   },
   "source": [
    "from sklearn.decomposition import PCA\n",
    "\n",
    "pca = PCA(n_components=2)\n",
    "X_train = pca.fit_transform(X_train)\n",
    "X_test = pca.transform(X_test)"
   ],
   "outputs": [],
   "execution_count": 11
  },
  {
   "cell_type": "markdown",
   "metadata": {
    "id": "UBx16JVLAuel",
    "colab_type": "text"
   },
   "source": "## Train Logistic Regression Model on Training Set"
  },
  {
   "cell_type": "code",
   "metadata": {
    "id": "XDQahsqTAy44",
    "colab_type": "code",
    "outputId": "8ff7589a-6bfb-4737-8856-f1433322675d",
    "executionInfo": {
     "status": "ok",
     "timestamp": 1590600305326,
     "user_tz": -240,
     "elapsed": 1578,
     "user": {
      "displayName": "Hadelin de Ponteves",
      "photoUrl": "https://lh3.googleusercontent.com/a-/AOh14GhEuXdT7eQweUmRPW8_laJuPggSK6hfvpl5a6WBaA=s64",
      "userId": "15047218817161520419"
     }
    },
    "colab": {
     "base_uri": "https://localhost:8080/",
     "height": 103
    },
    "ExecuteTime": {
     "end_time": "2025-09-08T22:46:11.354230Z",
     "start_time": "2025-09-08T22:46:11.336479Z"
    }
   },
   "source": [
    "from sklearn.linear_model import LogisticRegression\n",
    "\n",
    "classifier = LogisticRegression(random_state=0)\n",
    "classifier.fit(X_train, y_train)"
   ],
   "outputs": [
    {
     "data": {
      "text/plain": [
       "LogisticRegression(random_state=0)"
      ],
      "text/html": [
       "<style>#sk-container-id-1 {\n",
       "  /* Definition of color scheme common for light and dark mode */\n",
       "  --sklearn-color-text: #000;\n",
       "  --sklearn-color-text-muted: #666;\n",
       "  --sklearn-color-line: gray;\n",
       "  /* Definition of color scheme for unfitted estimators */\n",
       "  --sklearn-color-unfitted-level-0: #fff5e6;\n",
       "  --sklearn-color-unfitted-level-1: #f6e4d2;\n",
       "  --sklearn-color-unfitted-level-2: #ffe0b3;\n",
       "  --sklearn-color-unfitted-level-3: chocolate;\n",
       "  /* Definition of color scheme for fitted estimators */\n",
       "  --sklearn-color-fitted-level-0: #f0f8ff;\n",
       "  --sklearn-color-fitted-level-1: #d4ebff;\n",
       "  --sklearn-color-fitted-level-2: #b3dbfd;\n",
       "  --sklearn-color-fitted-level-3: cornflowerblue;\n",
       "\n",
       "  /* Specific color for light theme */\n",
       "  --sklearn-color-text-on-default-background: var(--sg-text-color, var(--theme-code-foreground, var(--jp-content-font-color1, black)));\n",
       "  --sklearn-color-background: var(--sg-background-color, var(--theme-background, var(--jp-layout-color0, white)));\n",
       "  --sklearn-color-border-box: var(--sg-text-color, var(--theme-code-foreground, var(--jp-content-font-color1, black)));\n",
       "  --sklearn-color-icon: #696969;\n",
       "\n",
       "  @media (prefers-color-scheme: dark) {\n",
       "    /* Redefinition of color scheme for dark theme */\n",
       "    --sklearn-color-text-on-default-background: var(--sg-text-color, var(--theme-code-foreground, var(--jp-content-font-color1, white)));\n",
       "    --sklearn-color-background: var(--sg-background-color, var(--theme-background, var(--jp-layout-color0, #111)));\n",
       "    --sklearn-color-border-box: var(--sg-text-color, var(--theme-code-foreground, var(--jp-content-font-color1, white)));\n",
       "    --sklearn-color-icon: #878787;\n",
       "  }\n",
       "}\n",
       "\n",
       "#sk-container-id-1 {\n",
       "  color: var(--sklearn-color-text);\n",
       "}\n",
       "\n",
       "#sk-container-id-1 pre {\n",
       "  padding: 0;\n",
       "}\n",
       "\n",
       "#sk-container-id-1 input.sk-hidden--visually {\n",
       "  border: 0;\n",
       "  clip: rect(1px 1px 1px 1px);\n",
       "  clip: rect(1px, 1px, 1px, 1px);\n",
       "  height: 1px;\n",
       "  margin: -1px;\n",
       "  overflow: hidden;\n",
       "  padding: 0;\n",
       "  position: absolute;\n",
       "  width: 1px;\n",
       "}\n",
       "\n",
       "#sk-container-id-1 div.sk-dashed-wrapped {\n",
       "  border: 1px dashed var(--sklearn-color-line);\n",
       "  margin: 0 0.4em 0.5em 0.4em;\n",
       "  box-sizing: border-box;\n",
       "  padding-bottom: 0.4em;\n",
       "  background-color: var(--sklearn-color-background);\n",
       "}\n",
       "\n",
       "#sk-container-id-1 div.sk-container {\n",
       "  /* jupyter's `normalize.less` sets `[hidden] { display: none; }`\n",
       "     but bootstrap.min.css set `[hidden] { display: none !important; }`\n",
       "     so we also need the `!important` here to be able to override the\n",
       "     default hidden behavior on the sphinx rendered scikit-learn.org.\n",
       "     See: https://github.com/scikit-learn/scikit-learn/issues/21755 */\n",
       "  display: inline-block !important;\n",
       "  position: relative;\n",
       "}\n",
       "\n",
       "#sk-container-id-1 div.sk-text-repr-fallback {\n",
       "  display: none;\n",
       "}\n",
       "\n",
       "div.sk-parallel-item,\n",
       "div.sk-serial,\n",
       "div.sk-item {\n",
       "  /* draw centered vertical line to link estimators */\n",
       "  background-image: linear-gradient(var(--sklearn-color-text-on-default-background), var(--sklearn-color-text-on-default-background));\n",
       "  background-size: 2px 100%;\n",
       "  background-repeat: no-repeat;\n",
       "  background-position: center center;\n",
       "}\n",
       "\n",
       "/* Parallel-specific style estimator block */\n",
       "\n",
       "#sk-container-id-1 div.sk-parallel-item::after {\n",
       "  content: \"\";\n",
       "  width: 100%;\n",
       "  border-bottom: 2px solid var(--sklearn-color-text-on-default-background);\n",
       "  flex-grow: 1;\n",
       "}\n",
       "\n",
       "#sk-container-id-1 div.sk-parallel {\n",
       "  display: flex;\n",
       "  align-items: stretch;\n",
       "  justify-content: center;\n",
       "  background-color: var(--sklearn-color-background);\n",
       "  position: relative;\n",
       "}\n",
       "\n",
       "#sk-container-id-1 div.sk-parallel-item {\n",
       "  display: flex;\n",
       "  flex-direction: column;\n",
       "}\n",
       "\n",
       "#sk-container-id-1 div.sk-parallel-item:first-child::after {\n",
       "  align-self: flex-end;\n",
       "  width: 50%;\n",
       "}\n",
       "\n",
       "#sk-container-id-1 div.sk-parallel-item:last-child::after {\n",
       "  align-self: flex-start;\n",
       "  width: 50%;\n",
       "}\n",
       "\n",
       "#sk-container-id-1 div.sk-parallel-item:only-child::after {\n",
       "  width: 0;\n",
       "}\n",
       "\n",
       "/* Serial-specific style estimator block */\n",
       "\n",
       "#sk-container-id-1 div.sk-serial {\n",
       "  display: flex;\n",
       "  flex-direction: column;\n",
       "  align-items: center;\n",
       "  background-color: var(--sklearn-color-background);\n",
       "  padding-right: 1em;\n",
       "  padding-left: 1em;\n",
       "}\n",
       "\n",
       "\n",
       "/* Toggleable style: style used for estimator/Pipeline/ColumnTransformer box that is\n",
       "clickable and can be expanded/collapsed.\n",
       "- Pipeline and ColumnTransformer use this feature and define the default style\n",
       "- Estimators will overwrite some part of the style using the `sk-estimator` class\n",
       "*/\n",
       "\n",
       "/* Pipeline and ColumnTransformer style (default) */\n",
       "\n",
       "#sk-container-id-1 div.sk-toggleable {\n",
       "  /* Default theme specific background. It is overwritten whether we have a\n",
       "  specific estimator or a Pipeline/ColumnTransformer */\n",
       "  background-color: var(--sklearn-color-background);\n",
       "}\n",
       "\n",
       "/* Toggleable label */\n",
       "#sk-container-id-1 label.sk-toggleable__label {\n",
       "  cursor: pointer;\n",
       "  display: flex;\n",
       "  width: 100%;\n",
       "  margin-bottom: 0;\n",
       "  padding: 0.5em;\n",
       "  box-sizing: border-box;\n",
       "  text-align: center;\n",
       "  align-items: start;\n",
       "  justify-content: space-between;\n",
       "  gap: 0.5em;\n",
       "}\n",
       "\n",
       "#sk-container-id-1 label.sk-toggleable__label .caption {\n",
       "  font-size: 0.6rem;\n",
       "  font-weight: lighter;\n",
       "  color: var(--sklearn-color-text-muted);\n",
       "}\n",
       "\n",
       "#sk-container-id-1 label.sk-toggleable__label-arrow:before {\n",
       "  /* Arrow on the left of the label */\n",
       "  content: \"▸\";\n",
       "  float: left;\n",
       "  margin-right: 0.25em;\n",
       "  color: var(--sklearn-color-icon);\n",
       "}\n",
       "\n",
       "#sk-container-id-1 label.sk-toggleable__label-arrow:hover:before {\n",
       "  color: var(--sklearn-color-text);\n",
       "}\n",
       "\n",
       "/* Toggleable content - dropdown */\n",
       "\n",
       "#sk-container-id-1 div.sk-toggleable__content {\n",
       "  display: none;\n",
       "  text-align: left;\n",
       "  /* unfitted */\n",
       "  background-color: var(--sklearn-color-unfitted-level-0);\n",
       "}\n",
       "\n",
       "#sk-container-id-1 div.sk-toggleable__content.fitted {\n",
       "  /* fitted */\n",
       "  background-color: var(--sklearn-color-fitted-level-0);\n",
       "}\n",
       "\n",
       "#sk-container-id-1 div.sk-toggleable__content pre {\n",
       "  margin: 0.2em;\n",
       "  border-radius: 0.25em;\n",
       "  color: var(--sklearn-color-text);\n",
       "  /* unfitted */\n",
       "  background-color: var(--sklearn-color-unfitted-level-0);\n",
       "}\n",
       "\n",
       "#sk-container-id-1 div.sk-toggleable__content.fitted pre {\n",
       "  /* unfitted */\n",
       "  background-color: var(--sklearn-color-fitted-level-0);\n",
       "}\n",
       "\n",
       "#sk-container-id-1 input.sk-toggleable__control:checked~div.sk-toggleable__content {\n",
       "  /* Expand drop-down */\n",
       "  display: block;\n",
       "  width: 100%;\n",
       "  overflow: visible;\n",
       "}\n",
       "\n",
       "#sk-container-id-1 input.sk-toggleable__control:checked~label.sk-toggleable__label-arrow:before {\n",
       "  content: \"▾\";\n",
       "}\n",
       "\n",
       "/* Pipeline/ColumnTransformer-specific style */\n",
       "\n",
       "#sk-container-id-1 div.sk-label input.sk-toggleable__control:checked~label.sk-toggleable__label {\n",
       "  color: var(--sklearn-color-text);\n",
       "  background-color: var(--sklearn-color-unfitted-level-2);\n",
       "}\n",
       "\n",
       "#sk-container-id-1 div.sk-label.fitted input.sk-toggleable__control:checked~label.sk-toggleable__label {\n",
       "  background-color: var(--sklearn-color-fitted-level-2);\n",
       "}\n",
       "\n",
       "/* Estimator-specific style */\n",
       "\n",
       "/* Colorize estimator box */\n",
       "#sk-container-id-1 div.sk-estimator input.sk-toggleable__control:checked~label.sk-toggleable__label {\n",
       "  /* unfitted */\n",
       "  background-color: var(--sklearn-color-unfitted-level-2);\n",
       "}\n",
       "\n",
       "#sk-container-id-1 div.sk-estimator.fitted input.sk-toggleable__control:checked~label.sk-toggleable__label {\n",
       "  /* fitted */\n",
       "  background-color: var(--sklearn-color-fitted-level-2);\n",
       "}\n",
       "\n",
       "#sk-container-id-1 div.sk-label label.sk-toggleable__label,\n",
       "#sk-container-id-1 div.sk-label label {\n",
       "  /* The background is the default theme color */\n",
       "  color: var(--sklearn-color-text-on-default-background);\n",
       "}\n",
       "\n",
       "/* On hover, darken the color of the background */\n",
       "#sk-container-id-1 div.sk-label:hover label.sk-toggleable__label {\n",
       "  color: var(--sklearn-color-text);\n",
       "  background-color: var(--sklearn-color-unfitted-level-2);\n",
       "}\n",
       "\n",
       "/* Label box, darken color on hover, fitted */\n",
       "#sk-container-id-1 div.sk-label.fitted:hover label.sk-toggleable__label.fitted {\n",
       "  color: var(--sklearn-color-text);\n",
       "  background-color: var(--sklearn-color-fitted-level-2);\n",
       "}\n",
       "\n",
       "/* Estimator label */\n",
       "\n",
       "#sk-container-id-1 div.sk-label label {\n",
       "  font-family: monospace;\n",
       "  font-weight: bold;\n",
       "  display: inline-block;\n",
       "  line-height: 1.2em;\n",
       "}\n",
       "\n",
       "#sk-container-id-1 div.sk-label-container {\n",
       "  text-align: center;\n",
       "}\n",
       "\n",
       "/* Estimator-specific */\n",
       "#sk-container-id-1 div.sk-estimator {\n",
       "  font-family: monospace;\n",
       "  border: 1px dotted var(--sklearn-color-border-box);\n",
       "  border-radius: 0.25em;\n",
       "  box-sizing: border-box;\n",
       "  margin-bottom: 0.5em;\n",
       "  /* unfitted */\n",
       "  background-color: var(--sklearn-color-unfitted-level-0);\n",
       "}\n",
       "\n",
       "#sk-container-id-1 div.sk-estimator.fitted {\n",
       "  /* fitted */\n",
       "  background-color: var(--sklearn-color-fitted-level-0);\n",
       "}\n",
       "\n",
       "/* on hover */\n",
       "#sk-container-id-1 div.sk-estimator:hover {\n",
       "  /* unfitted */\n",
       "  background-color: var(--sklearn-color-unfitted-level-2);\n",
       "}\n",
       "\n",
       "#sk-container-id-1 div.sk-estimator.fitted:hover {\n",
       "  /* fitted */\n",
       "  background-color: var(--sklearn-color-fitted-level-2);\n",
       "}\n",
       "\n",
       "/* Specification for estimator info (e.g. \"i\" and \"?\") */\n",
       "\n",
       "/* Common style for \"i\" and \"?\" */\n",
       "\n",
       ".sk-estimator-doc-link,\n",
       "a:link.sk-estimator-doc-link,\n",
       "a:visited.sk-estimator-doc-link {\n",
       "  float: right;\n",
       "  font-size: smaller;\n",
       "  line-height: 1em;\n",
       "  font-family: monospace;\n",
       "  background-color: var(--sklearn-color-background);\n",
       "  border-radius: 1em;\n",
       "  height: 1em;\n",
       "  width: 1em;\n",
       "  text-decoration: none !important;\n",
       "  margin-left: 0.5em;\n",
       "  text-align: center;\n",
       "  /* unfitted */\n",
       "  border: var(--sklearn-color-unfitted-level-1) 1pt solid;\n",
       "  color: var(--sklearn-color-unfitted-level-1);\n",
       "}\n",
       "\n",
       ".sk-estimator-doc-link.fitted,\n",
       "a:link.sk-estimator-doc-link.fitted,\n",
       "a:visited.sk-estimator-doc-link.fitted {\n",
       "  /* fitted */\n",
       "  border: var(--sklearn-color-fitted-level-1) 1pt solid;\n",
       "  color: var(--sklearn-color-fitted-level-1);\n",
       "}\n",
       "\n",
       "/* On hover */\n",
       "div.sk-estimator:hover .sk-estimator-doc-link:hover,\n",
       ".sk-estimator-doc-link:hover,\n",
       "div.sk-label-container:hover .sk-estimator-doc-link:hover,\n",
       ".sk-estimator-doc-link:hover {\n",
       "  /* unfitted */\n",
       "  background-color: var(--sklearn-color-unfitted-level-3);\n",
       "  color: var(--sklearn-color-background);\n",
       "  text-decoration: none;\n",
       "}\n",
       "\n",
       "div.sk-estimator.fitted:hover .sk-estimator-doc-link.fitted:hover,\n",
       ".sk-estimator-doc-link.fitted:hover,\n",
       "div.sk-label-container:hover .sk-estimator-doc-link.fitted:hover,\n",
       ".sk-estimator-doc-link.fitted:hover {\n",
       "  /* fitted */\n",
       "  background-color: var(--sklearn-color-fitted-level-3);\n",
       "  color: var(--sklearn-color-background);\n",
       "  text-decoration: none;\n",
       "}\n",
       "\n",
       "/* Span, style for the box shown on hovering the info icon */\n",
       ".sk-estimator-doc-link span {\n",
       "  display: none;\n",
       "  z-index: 9999;\n",
       "  position: relative;\n",
       "  font-weight: normal;\n",
       "  right: .2ex;\n",
       "  padding: .5ex;\n",
       "  margin: .5ex;\n",
       "  width: min-content;\n",
       "  min-width: 20ex;\n",
       "  max-width: 50ex;\n",
       "  color: var(--sklearn-color-text);\n",
       "  box-shadow: 2pt 2pt 4pt #999;\n",
       "  /* unfitted */\n",
       "  background: var(--sklearn-color-unfitted-level-0);\n",
       "  border: .5pt solid var(--sklearn-color-unfitted-level-3);\n",
       "}\n",
       "\n",
       ".sk-estimator-doc-link.fitted span {\n",
       "  /* fitted */\n",
       "  background: var(--sklearn-color-fitted-level-0);\n",
       "  border: var(--sklearn-color-fitted-level-3);\n",
       "}\n",
       "\n",
       ".sk-estimator-doc-link:hover span {\n",
       "  display: block;\n",
       "}\n",
       "\n",
       "/* \"?\"-specific style due to the `<a>` HTML tag */\n",
       "\n",
       "#sk-container-id-1 a.estimator_doc_link {\n",
       "  float: right;\n",
       "  font-size: 1rem;\n",
       "  line-height: 1em;\n",
       "  font-family: monospace;\n",
       "  background-color: var(--sklearn-color-background);\n",
       "  border-radius: 1rem;\n",
       "  height: 1rem;\n",
       "  width: 1rem;\n",
       "  text-decoration: none;\n",
       "  /* unfitted */\n",
       "  color: var(--sklearn-color-unfitted-level-1);\n",
       "  border: var(--sklearn-color-unfitted-level-1) 1pt solid;\n",
       "}\n",
       "\n",
       "#sk-container-id-1 a.estimator_doc_link.fitted {\n",
       "  /* fitted */\n",
       "  border: var(--sklearn-color-fitted-level-1) 1pt solid;\n",
       "  color: var(--sklearn-color-fitted-level-1);\n",
       "}\n",
       "\n",
       "/* On hover */\n",
       "#sk-container-id-1 a.estimator_doc_link:hover {\n",
       "  /* unfitted */\n",
       "  background-color: var(--sklearn-color-unfitted-level-3);\n",
       "  color: var(--sklearn-color-background);\n",
       "  text-decoration: none;\n",
       "}\n",
       "\n",
       "#sk-container-id-1 a.estimator_doc_link.fitted:hover {\n",
       "  /* fitted */\n",
       "  background-color: var(--sklearn-color-fitted-level-3);\n",
       "}\n",
       "\n",
       ".estimator-table summary {\n",
       "    padding: .5rem;\n",
       "    font-family: monospace;\n",
       "    cursor: pointer;\n",
       "}\n",
       "\n",
       ".estimator-table details[open] {\n",
       "    padding-left: 0.1rem;\n",
       "    padding-right: 0.1rem;\n",
       "    padding-bottom: 0.3rem;\n",
       "}\n",
       "\n",
       ".estimator-table .parameters-table {\n",
       "    margin-left: auto !important;\n",
       "    margin-right: auto !important;\n",
       "}\n",
       "\n",
       ".estimator-table .parameters-table tr:nth-child(odd) {\n",
       "    background-color: #fff;\n",
       "}\n",
       "\n",
       ".estimator-table .parameters-table tr:nth-child(even) {\n",
       "    background-color: #f6f6f6;\n",
       "}\n",
       "\n",
       ".estimator-table .parameters-table tr:hover {\n",
       "    background-color: #e0e0e0;\n",
       "}\n",
       "\n",
       ".estimator-table table td {\n",
       "    border: 1px solid rgba(106, 105, 104, 0.232);\n",
       "}\n",
       "\n",
       ".user-set td {\n",
       "    color:rgb(255, 94, 0);\n",
       "    text-align: left;\n",
       "}\n",
       "\n",
       ".user-set td.value pre {\n",
       "    color:rgb(255, 94, 0) !important;\n",
       "    background-color: transparent !important;\n",
       "}\n",
       "\n",
       ".default td {\n",
       "    color: black;\n",
       "    text-align: left;\n",
       "}\n",
       "\n",
       ".user-set td i,\n",
       ".default td i {\n",
       "    color: black;\n",
       "}\n",
       "\n",
       ".copy-paste-icon {\n",
       "    background-image: url(data:image/svg+xml;base64,PHN2ZyB4bWxucz0iaHR0cDovL3d3dy53My5vcmcvMjAwMC9zdmciIHZpZXdCb3g9IjAgMCA0NDggNTEyIj48IS0tIUZvbnQgQXdlc29tZSBGcmVlIDYuNy4yIGJ5IEBmb250YXdlc29tZSAtIGh0dHBzOi8vZm9udGF3ZXNvbWUuY29tIExpY2Vuc2UgLSBodHRwczovL2ZvbnRhd2Vzb21lLmNvbS9saWNlbnNlL2ZyZWUgQ29weXJpZ2h0IDIwMjUgRm9udGljb25zLCBJbmMuLS0+PHBhdGggZD0iTTIwOCAwTDMzMi4xIDBjMTIuNyAwIDI0LjkgNS4xIDMzLjkgMTQuMWw2Ny45IDY3LjljOSA5IDE0LjEgMjEuMiAxNC4xIDMzLjlMNDQ4IDMzNmMwIDI2LjUtMjEuNSA0OC00OCA0OGwtMTkyIDBjLTI2LjUgMC00OC0yMS41LTQ4LTQ4bDAtMjg4YzAtMjYuNSAyMS41LTQ4IDQ4LTQ4ek00OCAxMjhsODAgMCAwIDY0LTY0IDAgMCAyNTYgMTkyIDAgMC0zMiA2NCAwIDAgNDhjMCAyNi41LTIxLjUgNDgtNDggNDhMNDggNTEyYy0yNi41IDAtNDgtMjEuNS00OC00OEwwIDE3NmMwLTI2LjUgMjEuNS00OCA0OC00OHoiLz48L3N2Zz4=);\n",
       "    background-repeat: no-repeat;\n",
       "    background-size: 14px 14px;\n",
       "    background-position: 0;\n",
       "    display: inline-block;\n",
       "    width: 14px;\n",
       "    height: 14px;\n",
       "    cursor: pointer;\n",
       "}\n",
       "</style><body><div id=\"sk-container-id-1\" class=\"sk-top-container\"><div class=\"sk-text-repr-fallback\"><pre>LogisticRegression(random_state=0)</pre><b>In a Jupyter environment, please rerun this cell to show the HTML representation or trust the notebook. <br />On GitHub, the HTML representation is unable to render, please try loading this page with nbviewer.org.</b></div><div class=\"sk-container\" hidden><div class=\"sk-item\"><div class=\"sk-estimator fitted sk-toggleable\"><input class=\"sk-toggleable__control sk-hidden--visually\" id=\"sk-estimator-id-1\" type=\"checkbox\" checked><label for=\"sk-estimator-id-1\" class=\"sk-toggleable__label fitted sk-toggleable__label-arrow\"><div><div>LogisticRegression</div></div><div><a class=\"sk-estimator-doc-link fitted\" rel=\"noreferrer\" target=\"_blank\" href=\"https://scikit-learn.org/1.7/modules/generated/sklearn.linear_model.LogisticRegression.html\">?<span>Documentation for LogisticRegression</span></a><span class=\"sk-estimator-doc-link fitted\">i<span>Fitted</span></span></div></label><div class=\"sk-toggleable__content fitted\" data-param-prefix=\"\">\n",
       "        <div class=\"estimator-table\">\n",
       "            <details>\n",
       "                <summary>Parameters</summary>\n",
       "                <table class=\"parameters-table\">\n",
       "                  <tbody>\n",
       "                    \n",
       "        <tr class=\"default\">\n",
       "            <td><i class=\"copy-paste-icon\"\n",
       "                 onclick=\"copyToClipboard('penalty',\n",
       "                          this.parentElement.nextElementSibling)\"\n",
       "            ></i></td>\n",
       "            <td class=\"param\">penalty&nbsp;</td>\n",
       "            <td class=\"value\">&#x27;l2&#x27;</td>\n",
       "        </tr>\n",
       "    \n",
       "\n",
       "        <tr class=\"default\">\n",
       "            <td><i class=\"copy-paste-icon\"\n",
       "                 onclick=\"copyToClipboard('dual',\n",
       "                          this.parentElement.nextElementSibling)\"\n",
       "            ></i></td>\n",
       "            <td class=\"param\">dual&nbsp;</td>\n",
       "            <td class=\"value\">False</td>\n",
       "        </tr>\n",
       "    \n",
       "\n",
       "        <tr class=\"default\">\n",
       "            <td><i class=\"copy-paste-icon\"\n",
       "                 onclick=\"copyToClipboard('tol',\n",
       "                          this.parentElement.nextElementSibling)\"\n",
       "            ></i></td>\n",
       "            <td class=\"param\">tol&nbsp;</td>\n",
       "            <td class=\"value\">0.0001</td>\n",
       "        </tr>\n",
       "    \n",
       "\n",
       "        <tr class=\"default\">\n",
       "            <td><i class=\"copy-paste-icon\"\n",
       "                 onclick=\"copyToClipboard('C',\n",
       "                          this.parentElement.nextElementSibling)\"\n",
       "            ></i></td>\n",
       "            <td class=\"param\">C&nbsp;</td>\n",
       "            <td class=\"value\">1.0</td>\n",
       "        </tr>\n",
       "    \n",
       "\n",
       "        <tr class=\"default\">\n",
       "            <td><i class=\"copy-paste-icon\"\n",
       "                 onclick=\"copyToClipboard('fit_intercept',\n",
       "                          this.parentElement.nextElementSibling)\"\n",
       "            ></i></td>\n",
       "            <td class=\"param\">fit_intercept&nbsp;</td>\n",
       "            <td class=\"value\">True</td>\n",
       "        </tr>\n",
       "    \n",
       "\n",
       "        <tr class=\"default\">\n",
       "            <td><i class=\"copy-paste-icon\"\n",
       "                 onclick=\"copyToClipboard('intercept_scaling',\n",
       "                          this.parentElement.nextElementSibling)\"\n",
       "            ></i></td>\n",
       "            <td class=\"param\">intercept_scaling&nbsp;</td>\n",
       "            <td class=\"value\">1</td>\n",
       "        </tr>\n",
       "    \n",
       "\n",
       "        <tr class=\"default\">\n",
       "            <td><i class=\"copy-paste-icon\"\n",
       "                 onclick=\"copyToClipboard('class_weight',\n",
       "                          this.parentElement.nextElementSibling)\"\n",
       "            ></i></td>\n",
       "            <td class=\"param\">class_weight&nbsp;</td>\n",
       "            <td class=\"value\">None</td>\n",
       "        </tr>\n",
       "    \n",
       "\n",
       "        <tr class=\"user-set\">\n",
       "            <td><i class=\"copy-paste-icon\"\n",
       "                 onclick=\"copyToClipboard('random_state',\n",
       "                          this.parentElement.nextElementSibling)\"\n",
       "            ></i></td>\n",
       "            <td class=\"param\">random_state&nbsp;</td>\n",
       "            <td class=\"value\">0</td>\n",
       "        </tr>\n",
       "    \n",
       "\n",
       "        <tr class=\"default\">\n",
       "            <td><i class=\"copy-paste-icon\"\n",
       "                 onclick=\"copyToClipboard('solver',\n",
       "                          this.parentElement.nextElementSibling)\"\n",
       "            ></i></td>\n",
       "            <td class=\"param\">solver&nbsp;</td>\n",
       "            <td class=\"value\">&#x27;lbfgs&#x27;</td>\n",
       "        </tr>\n",
       "    \n",
       "\n",
       "        <tr class=\"default\">\n",
       "            <td><i class=\"copy-paste-icon\"\n",
       "                 onclick=\"copyToClipboard('max_iter',\n",
       "                          this.parentElement.nextElementSibling)\"\n",
       "            ></i></td>\n",
       "            <td class=\"param\">max_iter&nbsp;</td>\n",
       "            <td class=\"value\">100</td>\n",
       "        </tr>\n",
       "    \n",
       "\n",
       "        <tr class=\"default\">\n",
       "            <td><i class=\"copy-paste-icon\"\n",
       "                 onclick=\"copyToClipboard('multi_class',\n",
       "                          this.parentElement.nextElementSibling)\"\n",
       "            ></i></td>\n",
       "            <td class=\"param\">multi_class&nbsp;</td>\n",
       "            <td class=\"value\">&#x27;deprecated&#x27;</td>\n",
       "        </tr>\n",
       "    \n",
       "\n",
       "        <tr class=\"default\">\n",
       "            <td><i class=\"copy-paste-icon\"\n",
       "                 onclick=\"copyToClipboard('verbose',\n",
       "                          this.parentElement.nextElementSibling)\"\n",
       "            ></i></td>\n",
       "            <td class=\"param\">verbose&nbsp;</td>\n",
       "            <td class=\"value\">0</td>\n",
       "        </tr>\n",
       "    \n",
       "\n",
       "        <tr class=\"default\">\n",
       "            <td><i class=\"copy-paste-icon\"\n",
       "                 onclick=\"copyToClipboard('warm_start',\n",
       "                          this.parentElement.nextElementSibling)\"\n",
       "            ></i></td>\n",
       "            <td class=\"param\">warm_start&nbsp;</td>\n",
       "            <td class=\"value\">False</td>\n",
       "        </tr>\n",
       "    \n",
       "\n",
       "        <tr class=\"default\">\n",
       "            <td><i class=\"copy-paste-icon\"\n",
       "                 onclick=\"copyToClipboard('n_jobs',\n",
       "                          this.parentElement.nextElementSibling)\"\n",
       "            ></i></td>\n",
       "            <td class=\"param\">n_jobs&nbsp;</td>\n",
       "            <td class=\"value\">None</td>\n",
       "        </tr>\n",
       "    \n",
       "\n",
       "        <tr class=\"default\">\n",
       "            <td><i class=\"copy-paste-icon\"\n",
       "                 onclick=\"copyToClipboard('l1_ratio',\n",
       "                          this.parentElement.nextElementSibling)\"\n",
       "            ></i></td>\n",
       "            <td class=\"param\">l1_ratio&nbsp;</td>\n",
       "            <td class=\"value\">None</td>\n",
       "        </tr>\n",
       "    \n",
       "                  </tbody>\n",
       "                </table>\n",
       "            </details>\n",
       "        </div>\n",
       "    </div></div></div></div></div><script>function copyToClipboard(text, element) {\n",
       "    // Get the parameter prefix from the closest toggleable content\n",
       "    const toggleableContent = element.closest('.sk-toggleable__content');\n",
       "    const paramPrefix = toggleableContent ? toggleableContent.dataset.paramPrefix : '';\n",
       "    const fullParamName = paramPrefix ? `${paramPrefix}${text}` : text;\n",
       "\n",
       "    const originalStyle = element.style;\n",
       "    const computedStyle = window.getComputedStyle(element);\n",
       "    const originalWidth = computedStyle.width;\n",
       "    const originalHTML = element.innerHTML.replace('Copied!', '');\n",
       "\n",
       "    navigator.clipboard.writeText(fullParamName)\n",
       "        .then(() => {\n",
       "            element.style.width = originalWidth;\n",
       "            element.style.color = 'green';\n",
       "            element.innerHTML = \"Copied!\";\n",
       "\n",
       "            setTimeout(() => {\n",
       "                element.innerHTML = originalHTML;\n",
       "                element.style = originalStyle;\n",
       "            }, 2000);\n",
       "        })\n",
       "        .catch(err => {\n",
       "            console.error('Failed to copy:', err);\n",
       "            element.style.color = 'red';\n",
       "            element.innerHTML = \"Failed!\";\n",
       "            setTimeout(() => {\n",
       "                element.innerHTML = originalHTML;\n",
       "                element.style = originalStyle;\n",
       "            }, 2000);\n",
       "        });\n",
       "    return false;\n",
       "}\n",
       "\n",
       "document.querySelectorAll('.fa-regular.fa-copy').forEach(function(element) {\n",
       "    const toggleableContent = element.closest('.sk-toggleable__content');\n",
       "    const paramPrefix = toggleableContent ? toggleableContent.dataset.paramPrefix : '';\n",
       "    const paramName = element.parentElement.nextElementSibling.textContent.trim();\n",
       "    const fullParamName = paramPrefix ? `${paramPrefix}${paramName}` : paramName;\n",
       "\n",
       "    element.setAttribute('title', fullParamName);\n",
       "});\n",
       "</script></body>"
      ]
     },
     "execution_count": 12,
     "metadata": {},
     "output_type": "execute_result"
    }
   ],
   "execution_count": 12
  },
  {
   "metadata": {},
   "cell_type": "markdown",
   "source": "## Predict Test Set Results"
  },
  {
   "metadata": {
    "ExecuteTime": {
     "end_time": "2025-09-08T22:46:13.580197Z",
     "start_time": "2025-09-08T22:46:13.578217Z"
    }
   },
   "cell_type": "code",
   "source": "y_pred = classifier.predict(X_test)",
   "outputs": [],
   "execution_count": 13
  },
  {
   "metadata": {
    "ExecuteTime": {
     "end_time": "2025-09-08T22:46:15.321485Z",
     "start_time": "2025-09-08T22:46:15.318184Z"
    }
   },
   "cell_type": "code",
   "source": [
    "y_pred_actual = np.concatenate((y_pred.reshape(len(y_pred), 1), y_test.reshape(len(y_test), 1)), 1)\n",
    "print(*y_pred_actual[:25], sep='\\n')"
   ],
   "outputs": [
    {
     "name": "stdout",
     "output_type": "stream",
     "text": [
      "[1 1]\n",
      "[3 3]\n",
      "[2 2]\n",
      "[1 1]\n",
      "[2 2]\n",
      "[1 2]\n",
      "[1 1]\n",
      "[3 3]\n",
      "[2 2]\n",
      "[2 2]\n",
      "[3 3]\n",
      "[3 3]\n",
      "[1 1]\n",
      "[2 2]\n",
      "[3 3]\n",
      "[2 2]\n",
      "[1 1]\n",
      "[1 1]\n",
      "[2 2]\n",
      "[1 1]\n",
      "[2 2]\n",
      "[1 1]\n",
      "[1 1]\n",
      "[2 2]\n",
      "[2 2]\n"
     ]
    }
   ],
   "execution_count": 14
  },
  {
   "cell_type": "markdown",
   "metadata": {
    "id": "MTck416XBPnD",
    "colab_type": "text"
   },
   "source": "## Make Confusion Matrix"
  },
  {
   "cell_type": "code",
   "metadata": {
    "id": "2LO7H5LsBS1b",
    "colab_type": "code",
    "outputId": "75ce1943-1cc9-4fe2-a18c-46048d6b2d0b",
    "executionInfo": {
     "status": "ok",
     "timestamp": 1590600305327,
     "user_tz": -240,
     "elapsed": 1574,
     "user": {
      "displayName": "Hadelin de Ponteves",
      "photoUrl": "https://lh3.googleusercontent.com/a-/AOh14GhEuXdT7eQweUmRPW8_laJuPggSK6hfvpl5a6WBaA=s64",
      "userId": "15047218817161520419"
     }
    },
    "colab": {
     "base_uri": "https://localhost:8080/",
     "height": 86
    },
    "ExecuteTime": {
     "end_time": "2025-09-08T22:49:57.802195Z",
     "start_time": "2025-09-08T22:49:57.799777Z"
    }
   },
   "source": [
    "from sklearn.metrics import confusion_matrix\n",
    "\n",
    "cm = confusion_matrix(y_test, y_pred)"
   ],
   "outputs": [],
   "execution_count": 15
  },
  {
   "metadata": {
    "ExecuteTime": {
     "end_time": "2025-09-08T22:50:00.680399Z",
     "start_time": "2025-09-08T22:50:00.677482Z"
    }
   },
   "cell_type": "code",
   "source": "print(cm)",
   "outputs": [
    {
     "name": "stdout",
     "output_type": "stream",
     "text": [
      "[[14  0  0]\n",
      " [ 1 15  0]\n",
      " [ 0  0  6]]\n"
     ]
    }
   ],
   "execution_count": 16
  },
  {
   "metadata": {},
   "cell_type": "markdown",
   "source": "## Compute Accuracy Score"
  },
  {
   "metadata": {
    "ExecuteTime": {
     "end_time": "2025-09-08T22:50:15.098144Z",
     "start_time": "2025-09-08T22:50:15.095167Z"
    }
   },
   "cell_type": "code",
   "source": [
    "from sklearn.metrics import accuracy_score\n",
    "\n",
    "accuracy_score(y_test, y_pred)"
   ],
   "outputs": [
    {
     "data": {
      "text/plain": [
       "0.9722222222222222"
      ]
     },
     "execution_count": 17,
     "metadata": {},
     "output_type": "execute_result"
    }
   ],
   "execution_count": 17
  },
  {
   "metadata": {},
   "cell_type": "markdown",
   "source": [
    "Results:\n",
    "\n",
    "Model is $97\\%$ accurate."
   ]
  },
  {
   "cell_type": "markdown",
   "metadata": {
    "id": "h6pZMBrUBXwb",
    "colab_type": "text"
   },
   "source": "## Visualize Training Set Results"
  },
  {
   "metadata": {
    "ExecuteTime": {
     "end_time": "2025-09-08T22:51:42.766119Z",
     "start_time": "2025-09-08T22:51:42.761333Z"
    }
   },
   "cell_type": "code",
   "source": [
    "from matplotlib.colors import ListedColormap\n",
    "from opengood.py_ml_plot import setup_classification_plot"
   ],
   "outputs": [
    {
     "name": "stdout",
     "output_type": "stream",
     "text": [
      "opengood.py_ml_plot imported\n"
     ]
    }
   ],
   "execution_count": 18
  },
  {
   "metadata": {
    "ExecuteTime": {
     "end_time": "2025-09-08T22:52:39.253713Z",
     "start_time": "2025-09-08T22:52:39.022542Z"
    }
   },
   "cell_type": "code",
   "source": [
    "setup_classification_plot(\n",
    "    x=X_train,\n",
    "    y=y_train,\n",
    "    cmap=ListedColormap((\"red\", \"green\", \"blue\")),\n",
    "    title=\"Logistic Regression (Training Set)\",\n",
    "    x_label=\"PC1\",\n",
    "    y_label=\"PC2\",\n",
    "    feature_scale=None,\n",
    "    predict=lambda x1, x2: (\n",
    "        classifier.predict(\n",
    "            np.array([x1.ravel(), x2.ravel()]).T\n",
    "        ).reshape(x1.shape)\n",
    "    )\n",
    ")\n",
    "plt.show()"
   ],
   "outputs": [
    {
     "data": {
      "text/plain": [
       "<Figure size 640x480 with 1 Axes>"
      ],
      "image/png": "[encoded data removed]"
     },
     "metadata": {},
     "output_type": "display_data",
     "jetTransient": {
      "display_id": null
     }
    }
   ],
   "execution_count": 24
  },
  {
   "cell_type": "code",
   "metadata": {
    "id": "FK_LpLOeBdQ4",
    "colab_type": "code",
    "outputId": "5a89fb09-2cab-4fe2-c527-d1d03c240801",
    "executionInfo": {
     "status": "ok",
     "timestamp": 1590600305703,
     "user_tz": -240,
     "elapsed": 1945,
     "user": {
      "displayName": "Hadelin de Ponteves",
      "photoUrl": "https://lh3.googleusercontent.com/a-/AOh14GhEuXdT7eQweUmRPW8_laJuPggSK6hfvpl5a6WBaA=s64",
      "userId": "15047218817161520419"
     }
    },
    "colab": {
     "base_uri": "https://localhost:8080/",
     "height": 366
    },
    "ExecuteTime": {
     "end_time": "2025-09-08T22:53:10.100521Z",
     "start_time": "2025-09-08T22:53:09.952560Z"
    }
   },
   "source": [
    "from matplotlib.colors import ListedColormap\n",
    "\n",
    "X_set, y_set = X_train, y_train\n",
    "X1, X2 = np.meshgrid(np.arange(start=X_set[:, 0].min() - 1, stop=X_set[:, 0].max() + 1, step=0.01),\n",
    "                     np.arange(start=X_set[:, 1].min() - 1, stop=X_set[:, 1].max() + 1, step=0.01))\n",
    "plt.contourf(X1, X2, classifier.predict(np.array([X1.ravel(), X2.ravel()]).T).reshape(X1.shape),\n",
    "             alpha=0.75, cmap=ListedColormap(('red', 'green', 'blue')))\n",
    "plt.xlim(X1.min(), X1.max())\n",
    "plt.ylim(X2.min(), X2.max())\n",
    "for i, j in enumerate(np.unique(y_set)):\n",
    "    plt.scatter(X_set[y_set == j, 0], X_set[y_set == j, 1],\n",
    "                c=ListedColormap(('red', 'green', 'blue'))(i), label=j)\n",
    "plt.title('Logistic Regression (Training set)')\n",
    "plt.xlabel('PC1')\n",
    "plt.ylabel('PC2')\n",
    "plt.legend()\n",
    "plt.show()"
   ],
   "outputs": [
    {
     "name": "stderr",
     "output_type": "stream",
     "text": [
      "/var/folders/12/tsb5ccqx5_32fy1lg_yqpddh0000gn/T/ipykernel_49222/1045206389.py:11: UserWarning: *c* argument looks like a single numeric RGB or RGBA sequence, which should be avoided as value-mapping will have precedence in case its length matches with *x* & *y*.  Please use the *color* keyword-argument or provide a 2D array with a single row if you intend to specify the same RGB or RGBA value for all points.\n",
      "  plt.scatter(X_set[y_set == j, 0], X_set[y_set == j, 1],\n"
     ]
    },
    {
     "data": {
      "text/plain": [
       "<Figure size 640x480 with 1 Axes>"
      ],
      "image/png": "[encoded data removed]"
     },
     "metadata": {},
     "output_type": "display_data",
     "jetTransient": {
      "display_id": null
     }
    }
   ],
   "execution_count": 27
  },
  {
   "cell_type": "markdown",
   "metadata": {
    "id": "-Dbzx_KqBguX",
    "colab_type": "text"
   },
   "source": "## Visualize Test Set Results"
  },
  {
   "metadata": {
    "ExecuteTime": {
     "end_time": "2025-09-08T22:52:59.919793Z",
     "start_time": "2025-09-08T22:52:59.738521Z"
    }
   },
   "cell_type": "code",
   "source": [
    "setup_classification_plot(\n",
    "    x=X_test,\n",
    "    y=y_test,\n",
    "    cmap=ListedColormap((\"red\", \"green\", \"blue\")),\n",
    "    title=\"Logistic Regression (Test Set)\",\n",
    "    x_label=\"PC1\",\n",
    "    y_label=\"PC2\",\n",
    "    feature_scale=None,\n",
    "    predict=lambda x1, x2: (\n",
    "        classifier.predict(\n",
    "                np.array([x1.ravel(), x2.ravel()]).T\n",
    "        ).reshape(x1.shape)\n",
    "    )\n",
    ")\n",
    "plt.show()"
   ],
   "outputs": [
    {
     "data": {
      "text/plain": [
       "<Figure size 640x480 with 1 Axes>"
      ],
      "image/png": "[encoded data removed]"
     },
     "metadata": {},
     "output_type": "display_data",
     "jetTransient": {
      "display_id": null
     }
    }
   ],
   "execution_count": 25
  },
  {
   "cell_type": "code",
   "metadata": {
    "id": "kk07XbUHBl0W",
    "colab_type": "code",
    "outputId": "b127df80-990a-47ea-f908-5995eb1a3ebb",
    "executionInfo": {
     "status": "ok",
     "timestamp": 1590600306250,
     "user_tz": -240,
     "elapsed": 2482,
     "user": {
      "displayName": "Hadelin de Ponteves",
      "photoUrl": "https://lh3.googleusercontent.com/a-/AOh14GhEuXdT7eQweUmRPW8_laJuPggSK6hfvpl5a6WBaA=s64",
      "userId": "15047218817161520419"
     }
    },
    "colab": {
     "base_uri": "https://localhost:8080/",
     "height": 366
    },
    "ExecuteTime": {
     "end_time": "2025-09-08T22:53:02.765822Z",
     "start_time": "2025-09-08T22:53:02.635500Z"
    }
   },
   "source": [
    "from matplotlib.colors import ListedColormap\n",
    "\n",
    "X_set, y_set = X_test, y_test\n",
    "X1, X2 = np.meshgrid(np.arange(start=X_set[:, 0].min() - 1, stop=X_set[:, 0].max() + 1, step=0.01),\n",
    "                     np.arange(start=X_set[:, 1].min() - 1, stop=X_set[:, 1].max() + 1, step=0.01))\n",
    "plt.contourf(X1, X2, classifier.predict(np.array([X1.ravel(), X2.ravel()]).T).reshape(X1.shape),\n",
    "             alpha=0.75, cmap=ListedColormap(('red', 'green', 'blue')))\n",
    "plt.xlim(X1.min(), X1.max())\n",
    "plt.ylim(X2.min(), X2.max())\n",
    "for i, j in enumerate(np.unique(y_set)):\n",
    "    plt.scatter(X_set[y_set == j, 0], X_set[y_set == j, 1],\n",
    "                c=ListedColormap(('red', 'green', 'blue'))(i), label=j)\n",
    "plt.title('Logistic Regression (Test set)')\n",
    "plt.xlabel('PC1')\n",
    "plt.ylabel('PC2')\n",
    "plt.legend()\n",
    "plt.show()"
   ],
   "outputs": [
    {
     "name": "stderr",
     "output_type": "stream",
     "text": [
      "/var/folders/12/tsb5ccqx5_32fy1lg_yqpddh0000gn/T/ipykernel_49222/12062510.py:11: UserWarning: *c* argument looks like a single numeric RGB or RGBA sequence, which should be avoided as value-mapping will have precedence in case its length matches with *x* & *y*.  Please use the *color* keyword-argument or provide a 2D array with a single row if you intend to specify the same RGB or RGBA value for all points.\n",
      "  plt.scatter(X_set[y_set == j, 0], X_set[y_set == j, 1],\n"
     ]
    },
    {
     "data": {
      "text/plain": [
       "<Figure size 640x480 with 1 Axes>"
      ],
      "image/png": "[encoded data removed]"
     },
     "metadata": {},
     "output_type": "display_data",
     "jetTransient": {
      "display_id": null
     }
    }
   ],
   "execution_count": 26
  }
 ]
}
