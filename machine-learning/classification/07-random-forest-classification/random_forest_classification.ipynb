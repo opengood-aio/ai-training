{
 "nbformat": 4,
 "nbformat_minor": 0,
 "metadata": {
  "colab": {
   "provenance": [],
   "machine_shape": "hm"
  },
  "kernelspec": {
   "name": "python3",
   "display_name": "Python 3"
  }
 },
 "cells": [
  {
   "cell_type": "markdown",
   "metadata": {
    "id": "0MRC0e0KhQ0S"
   },
   "source": [
    "# Random Forest Classification"
   ]
  },
  {
   "cell_type": "markdown",
   "source": [
    "## Dataset\n",
    "\n",
    "### Layout\n",
    "\n",
    "* Columns:\n",
    "\t* Age\n",
    "\t* EstimatedSalary\n",
    "\t* Purchased\n",
    "* Rows: 100s of observations\n",
    "\t* Each row represents an observation if a customer purchased older SUVs from the company\n",
    "\t\t* Features:\n",
    "\t\t\t* Age\n",
    "\t\t\t* Estimated Salary\n",
    "\t\t* Dependent variable:\n",
    "\t\t\t* Purchased\n",
    "\t\t\t\t* 0 = Not purchased\n",
    "\t\t\t\t* 1 = Purchased\n",
    "\n",
    "### Background\n",
    "\n",
    "* One is a data scientist working for one's favorite automobile company\n",
    "* The general manager of the company wants one to predict which previous customers will purchase the brand-new SUV just released by the company\n",
    "* Marketing team will post ads on social media targeting them at customers likely to purchase a new SUV\n",
    "\n",
    "## Goals\n",
    "\n",
    "* Build a Random Forest classification model to predict if a customer purchases the new SUV"
   ],
   "metadata": {
    "id": "jaG_uH0YRzKM"
   }
  },
  {
   "cell_type": "markdown",
   "metadata": {
    "id": "LWd1UlMnhT2s"
   },
   "source": "## Import Libraries"
  },
  {
   "cell_type": "code",
   "metadata": {
    "id": "YvGPUQaHhXfL",
    "executionInfo": {
     "status": "ok",
     "timestamp": 1726182785934,
     "user_tz": 240,
     "elapsed": 5,
     "user": {
      "displayName": "Chris Jaehnen",
      "userId": "09906998703988827501"
     }
    },
    "ExecuteTime": {
     "end_time": "2025-07-08T00:03:31.181938Z",
     "start_time": "2025-07-08T00:03:30.692348Z"
    }
   },
   "source": [
    "import numpy as np\n",
    "import matplotlib.pyplot as plt\n",
    "import pandas as pd"
   ],
   "outputs": [],
   "execution_count": 1
  },
  {
   "cell_type": "markdown",
   "metadata": {
    "id": "K1VMqkGvhc3-"
   },
   "source": "## Import Dataset"
  },
  {
   "cell_type": "code",
   "metadata": {
    "id": "M52QDmyzhh9s",
    "executionInfo": {
     "status": "ok",
     "timestamp": 1726182785934,
     "user_tz": 240,
     "elapsed": 5,
     "user": {
      "displayName": "Chris Jaehnen",
      "userId": "09906998703988827501"
     }
    },
    "ExecuteTime": {
     "end_time": "2025-07-08T00:03:31.251819Z",
     "start_time": "2025-07-08T00:03:31.247782Z"
    }
   },
   "source": [
    "dataset = pd.read_csv('Social_Network_Ads.csv')\n",
    "X = dataset.iloc[:, :-1].values\n",
    "y = dataset.iloc[:, -1].values"
   ],
   "outputs": [],
   "execution_count": 2
  },
  {
   "cell_type": "markdown",
   "metadata": {
    "id": "YvxIPVyMhmKp"
   },
   "source": "## Split Dataset into Training Set and Test Set"
  },
  {
   "cell_type": "code",
   "metadata": {
    "id": "AVzJWAXIhxoC",
    "executionInfo": {
     "status": "ok",
     "timestamp": 1726182785934,
     "user_tz": 240,
     "elapsed": 5,
     "user": {
      "displayName": "Chris Jaehnen",
      "userId": "09906998703988827501"
     }
    },
    "ExecuteTime": {
     "end_time": "2025-07-08T00:03:31.913348Z",
     "start_time": "2025-07-08T00:03:31.263632Z"
    }
   },
   "source": [
    "from sklearn.model_selection import train_test_split\n",
    "\n",
    "X_train, X_test, y_train, y_test = train_test_split(X, y, test_size=0.25, random_state=0)"
   ],
   "outputs": [],
   "execution_count": 3
  },
  {
   "cell_type": "code",
   "metadata": {
    "id": "P3nS3-6r1i2B",
    "outputId": "fcef2b5a-69b4-49fe-9dc7-bf730c456efa",
    "executionInfo": {
     "status": "ok",
     "timestamp": 1726182785934,
     "user_tz": 240,
     "elapsed": 4,
     "user": {
      "displayName": "Chris Jaehnen",
      "userId": "09906998703988827501"
     }
    },
    "colab": {
     "base_uri": "https://localhost:8080/"
    },
    "ExecuteTime": {
     "end_time": "2025-07-08T00:03:31.925303Z",
     "start_time": "2025-07-08T00:03:31.922604Z"
    }
   },
   "source": "print(*X_train[:25], sep='\\n')",
   "outputs": [
    {
     "name": "stdout",
     "output_type": "stream",
     "text": [
      "[   44 39000]\n",
      "[    32 120000]\n",
      "[   38 50000]\n",
      "[    32 135000]\n",
      "[   52 21000]\n",
      "[    53 104000]\n",
      "[   39 42000]\n",
      "[   38 61000]\n",
      "[   36 50000]\n",
      "[   36 63000]\n",
      "[   35 25000]\n",
      "[   35 50000]\n",
      "[   42 73000]\n",
      "[   47 49000]\n",
      "[   59 29000]\n",
      "[   49 65000]\n",
      "[    45 131000]\n",
      "[   31 89000]\n",
      "[   46 82000]\n",
      "[   47 51000]\n",
      "[   26 15000]\n",
      "[    60 102000]\n",
      "[    38 112000]\n",
      "[    40 107000]\n",
      "[   42 53000]\n"
     ]
    }
   ],
   "execution_count": 4
  },
  {
   "cell_type": "code",
   "metadata": {
    "id": "8dpDLojm1mVG",
    "outputId": "5728d8f9-a931-475c-e864-411027ccc036",
    "executionInfo": {
     "status": "ok",
     "timestamp": 1726182786155,
     "user_tz": 240,
     "elapsed": 225,
     "user": {
      "displayName": "Chris Jaehnen",
      "userId": "09906998703988827501"
     }
    },
    "colab": {
     "base_uri": "https://localhost:8080/"
    },
    "ExecuteTime": {
     "end_time": "2025-07-08T00:03:31.960248Z",
     "start_time": "2025-07-08T00:03:31.958158Z"
    }
   },
   "source": "print(*y_train[:25], sep='\\n')",
   "outputs": [
    {
     "name": "stdout",
     "output_type": "stream",
     "text": [
      "0\n",
      "1\n",
      "0\n",
      "1\n",
      "1\n",
      "1\n",
      "0\n",
      "0\n",
      "0\n",
      "0\n",
      "0\n",
      "0\n",
      "1\n",
      "1\n",
      "1\n",
      "0\n",
      "1\n",
      "0\n",
      "0\n",
      "1\n",
      "0\n",
      "1\n",
      "0\n",
      "1\n",
      "0\n"
     ]
    }
   ],
   "execution_count": 5
  },
  {
   "cell_type": "code",
   "metadata": {
    "id": "qbb7i0DH1qui",
    "outputId": "b1f473a1-d920-4e84-e3dc-6ca8003e1eb7",
    "executionInfo": {
     "status": "ok",
     "timestamp": 1726182786155,
     "user_tz": 240,
     "elapsed": 19,
     "user": {
      "displayName": "Chris Jaehnen",
      "userId": "09906998703988827501"
     }
    },
    "colab": {
     "base_uri": "https://localhost:8080/"
    },
    "ExecuteTime": {
     "end_time": "2025-07-08T00:03:31.984996Z",
     "start_time": "2025-07-08T00:03:31.982422Z"
    }
   },
   "source": "print(*X_test[:25], sep='\\n')",
   "outputs": [
    {
     "name": "stdout",
     "output_type": "stream",
     "text": [
      "[   30 87000]\n",
      "[   38 50000]\n",
      "[   35 75000]\n",
      "[   30 79000]\n",
      "[   35 50000]\n",
      "[   27 20000]\n",
      "[   31 15000]\n",
      "[    36 144000]\n",
      "[   18 68000]\n",
      "[   47 43000]\n",
      "[   30 49000]\n",
      "[   28 55000]\n",
      "[   37 55000]\n",
      "[   39 77000]\n",
      "[   20 86000]\n",
      "[    32 117000]\n",
      "[   37 77000]\n",
      "[   19 85000]\n",
      "[    55 130000]\n",
      "[   35 22000]\n",
      "[   35 47000]\n",
      "[    47 144000]\n",
      "[   41 51000]\n",
      "[    47 105000]\n",
      "[   23 28000]\n"
     ]
    }
   ],
   "execution_count": 6
  },
  {
   "cell_type": "code",
   "metadata": {
    "id": "kj1hnFAR1s5w",
    "outputId": "e98d640a-c3a8-43df-b870-7a47f4378280",
    "executionInfo": {
     "status": "ok",
     "timestamp": 1726182786155,
     "user_tz": 240,
     "elapsed": 18,
     "user": {
      "displayName": "Chris Jaehnen",
      "userId": "09906998703988827501"
     }
    },
    "colab": {
     "base_uri": "https://localhost:8080/"
    },
    "ExecuteTime": {
     "end_time": "2025-07-08T00:03:32.000994Z",
     "start_time": "2025-07-08T00:03:31.998900Z"
    }
   },
   "source": "print(*y_test[:25], sep='\\n')",
   "outputs": [
    {
     "name": "stdout",
     "output_type": "stream",
     "text": [
      "0\n",
      "0\n",
      "0\n",
      "0\n",
      "0\n",
      "0\n",
      "0\n",
      "1\n",
      "0\n",
      "0\n",
      "0\n",
      "0\n",
      "0\n",
      "0\n",
      "0\n",
      "0\n",
      "0\n",
      "0\n",
      "1\n",
      "0\n",
      "0\n",
      "1\n",
      "0\n",
      "1\n",
      "0\n"
     ]
    }
   ],
   "execution_count": 7
  },
  {
   "cell_type": "markdown",
   "metadata": {
    "id": "kW3c7UYih0hT"
   },
   "source": [
    "## Feature Scaling"
   ]
  },
  {
   "cell_type": "code",
   "metadata": {
    "id": "9fQlDPKCh8sc",
    "executionInfo": {
     "status": "ok",
     "timestamp": 1726182786155,
     "user_tz": 240,
     "elapsed": 16,
     "user": {
      "displayName": "Chris Jaehnen",
      "userId": "09906998703988827501"
     }
    },
    "ExecuteTime": {
     "end_time": "2025-07-08T00:03:32.021598Z",
     "start_time": "2025-07-08T00:03:32.018602Z"
    }
   },
   "source": [
    "from sklearn.preprocessing import StandardScaler\n",
    "\n",
    "sc = StandardScaler()\n",
    "X_train = sc.fit_transform(X_train)\n",
    "X_test = sc.transform(X_test)"
   ],
   "outputs": [],
   "execution_count": 8
  },
  {
   "cell_type": "code",
   "metadata": {
    "id": "syrnD1Op2BSR",
    "outputId": "36c1cdff-72f2-4707-c2fe-3d1038d3dc11",
    "executionInfo": {
     "status": "ok",
     "timestamp": 1726182786155,
     "user_tz": 240,
     "elapsed": 15,
     "user": {
      "displayName": "Chris Jaehnen",
      "userId": "09906998703988827501"
     }
    },
    "colab": {
     "base_uri": "https://localhost:8080/"
    },
    "ExecuteTime": {
     "end_time": "2025-07-08T00:03:32.045799Z",
     "start_time": "2025-07-08T00:03:32.042658Z"
    }
   },
   "source": "print(*X_train[:25], sep='\\n')",
   "outputs": [
    {
     "name": "stdout",
     "output_type": "stream",
     "text": [
      "[ 0.58164944 -0.88670699]\n",
      "[-0.60673761  1.46173768]\n",
      "[-0.01254409 -0.5677824 ]\n",
      "[-0.60673761  1.89663484]\n",
      "[ 1.37390747 -1.40858358]\n",
      "[1.47293972 0.99784738]\n",
      "[ 0.08648817 -0.79972756]\n",
      "[-0.01254409 -0.24885782]\n",
      "[-0.21060859 -0.5677824 ]\n",
      "[-0.21060859 -0.19087153]\n",
      "[-0.30964085 -1.29261101]\n",
      "[-0.30964085 -0.5677824 ]\n",
      "[0.38358493 0.09905991]\n",
      "[ 0.8787462  -0.59677555]\n",
      "[ 2.06713324 -1.17663843]\n",
      "[ 1.07681071 -0.13288524]\n",
      "[0.68068169 1.78066227]\n",
      "[-0.70576986  0.56295021]\n",
      "[0.77971394 0.35999821]\n",
      "[ 0.8787462  -0.53878926]\n",
      "[-1.20093113 -1.58254245]\n",
      "[2.1661655  0.93986109]\n",
      "[-0.01254409  1.22979253]\n",
      "[0.18552042 1.08482681]\n",
      "[ 0.38358493 -0.48080297]\n"
     ]
    }
   ],
   "execution_count": 9
  },
  {
   "cell_type": "code",
   "metadata": {
    "id": "JUd6iBRp2C3L",
    "outputId": "782dfcc9-e792-411a-d328-dbfebbc740ea",
    "executionInfo": {
     "status": "ok",
     "timestamp": 1726182786155,
     "user_tz": 240,
     "elapsed": 14,
     "user": {
      "displayName": "Chris Jaehnen",
      "userId": "09906998703988827501"
     }
    },
    "colab": {
     "base_uri": "https://localhost:8080/"
    },
    "ExecuteTime": {
     "end_time": "2025-07-08T00:03:32.071710Z",
     "start_time": "2025-07-08T00:03:32.068689Z"
    }
   },
   "source": "print(*X_test[:25], sep='\\n')",
   "outputs": [
    {
     "name": "stdout",
     "output_type": "stream",
     "text": [
      "[-0.80480212  0.50496393]\n",
      "[-0.01254409 -0.5677824 ]\n",
      "[-0.30964085  0.1570462 ]\n",
      "[-0.80480212  0.27301877]\n",
      "[-0.30964085 -0.5677824 ]\n",
      "[-1.10189888 -1.43757673]\n",
      "[-0.70576986 -1.58254245]\n",
      "[-0.21060859  2.15757314]\n",
      "[-1.99318916 -0.04590581]\n",
      "[ 0.8787462  -0.77073441]\n",
      "[-0.80480212 -0.59677555]\n",
      "[-1.00286662 -0.42281668]\n",
      "[-0.11157634 -0.42281668]\n",
      "[0.08648817 0.21503249]\n",
      "[-1.79512465  0.47597078]\n",
      "[-0.60673761  1.37475825]\n",
      "[-0.11157634  0.21503249]\n",
      "[-1.89415691  0.44697764]\n",
      "[1.67100423 1.75166912]\n",
      "[-0.30964085 -1.37959044]\n",
      "[-0.30964085 -0.65476184]\n",
      "[0.8787462  2.15757314]\n",
      "[ 0.28455268 -0.53878926]\n",
      "[0.8787462  1.02684052]\n",
      "[-1.49802789 -1.20563157]\n"
     ]
    }
   ],
   "execution_count": 10
  },
  {
   "cell_type": "markdown",
   "metadata": {
    "id": "bb6jCOCQiAmP"
   },
   "source": "## Training Random Forest Classification Model on Training Set"
  },
  {
   "cell_type": "code",
   "metadata": {
    "id": "e0pFVAmciHQs",
    "outputId": "98834117-4023-422c-ff27-0a43ad35ea64",
    "executionInfo": {
     "status": "ok",
     "timestamp": 1726182786155,
     "user_tz": 240,
     "elapsed": 11,
     "user": {
      "displayName": "Chris Jaehnen",
      "userId": "09906998703988827501"
     }
    },
    "colab": {
     "base_uri": "https://localhost:8080/",
     "height": 95
    },
    "ExecuteTime": {
     "end_time": "2025-07-08T00:03:33.727713Z",
     "start_time": "2025-07-08T00:03:32.088796Z"
    }
   },
   "source": [
    "from sklearn.ensemble import RandomForestClassifier\n",
    "\n",
    "classifier = RandomForestClassifier(n_estimators=10, criterion='entropy', random_state=0)\n",
    "classifier.fit(X_train, y_train)"
   ],
   "outputs": [
    {
     "data": {
      "text/plain": [
       "RandomForestClassifier(criterion='entropy', n_estimators=10, random_state=0)"
      ],
      "text/html": [
       "<style>#sk-container-id-1 {\n",
       "  /* Definition of color scheme common for light and dark mode */\n",
       "  --sklearn-color-text: #000;\n",
       "  --sklearn-color-text-muted: #666;\n",
       "  --sklearn-color-line: gray;\n",
       "  /* Definition of color scheme for unfitted estimators */\n",
       "  --sklearn-color-unfitted-level-0: #fff5e6;\n",
       "  --sklearn-color-unfitted-level-1: #f6e4d2;\n",
       "  --sklearn-color-unfitted-level-2: #ffe0b3;\n",
       "  --sklearn-color-unfitted-level-3: chocolate;\n",
       "  /* Definition of color scheme for fitted estimators */\n",
       "  --sklearn-color-fitted-level-0: #f0f8ff;\n",
       "  --sklearn-color-fitted-level-1: #d4ebff;\n",
       "  --sklearn-color-fitted-level-2: #b3dbfd;\n",
       "  --sklearn-color-fitted-level-3: cornflowerblue;\n",
       "\n",
       "  /* Specific color for light theme */\n",
       "  --sklearn-color-text-on-default-background: var(--sg-text-color, var(--theme-code-foreground, var(--jp-content-font-color1, black)));\n",
       "  --sklearn-color-background: var(--sg-background-color, var(--theme-background, var(--jp-layout-color0, white)));\n",
       "  --sklearn-color-border-box: var(--sg-text-color, var(--theme-code-foreground, var(--jp-content-font-color1, black)));\n",
       "  --sklearn-color-icon: #696969;\n",
       "\n",
       "  @media (prefers-color-scheme: dark) {\n",
       "    /* Redefinition of color scheme for dark theme */\n",
       "    --sklearn-color-text-on-default-background: var(--sg-text-color, var(--theme-code-foreground, var(--jp-content-font-color1, white)));\n",
       "    --sklearn-color-background: var(--sg-background-color, var(--theme-background, var(--jp-layout-color0, #111)));\n",
       "    --sklearn-color-border-box: var(--sg-text-color, var(--theme-code-foreground, var(--jp-content-font-color1, white)));\n",
       "    --sklearn-color-icon: #878787;\n",
       "  }\n",
       "}\n",
       "\n",
       "#sk-container-id-1 {\n",
       "  color: var(--sklearn-color-text);\n",
       "}\n",
       "\n",
       "#sk-container-id-1 pre {\n",
       "  padding: 0;\n",
       "}\n",
       "\n",
       "#sk-container-id-1 input.sk-hidden--visually {\n",
       "  border: 0;\n",
       "  clip: rect(1px 1px 1px 1px);\n",
       "  clip: rect(1px, 1px, 1px, 1px);\n",
       "  height: 1px;\n",
       "  margin: -1px;\n",
       "  overflow: hidden;\n",
       "  padding: 0;\n",
       "  position: absolute;\n",
       "  width: 1px;\n",
       "}\n",
       "\n",
       "#sk-container-id-1 div.sk-dashed-wrapped {\n",
       "  border: 1px dashed var(--sklearn-color-line);\n",
       "  margin: 0 0.4em 0.5em 0.4em;\n",
       "  box-sizing: border-box;\n",
       "  padding-bottom: 0.4em;\n",
       "  background-color: var(--sklearn-color-background);\n",
       "}\n",
       "\n",
       "#sk-container-id-1 div.sk-container {\n",
       "  /* jupyter's `normalize.less` sets `[hidden] { display: none; }`\n",
       "     but bootstrap.min.css set `[hidden] { display: none !important; }`\n",
       "     so we also need the `!important` here to be able to override the\n",
       "     default hidden behavior on the sphinx rendered scikit-learn.org.\n",
       "     See: https://github.com/scikit-learn/scikit-learn/issues/21755 */\n",
       "  display: inline-block !important;\n",
       "  position: relative;\n",
       "}\n",
       "\n",
       "#sk-container-id-1 div.sk-text-repr-fallback {\n",
       "  display: none;\n",
       "}\n",
       "\n",
       "div.sk-parallel-item,\n",
       "div.sk-serial,\n",
       "div.sk-item {\n",
       "  /* draw centered vertical line to link estimators */\n",
       "  background-image: linear-gradient(var(--sklearn-color-text-on-default-background), var(--sklearn-color-text-on-default-background));\n",
       "  background-size: 2px 100%;\n",
       "  background-repeat: no-repeat;\n",
       "  background-position: center center;\n",
       "}\n",
       "\n",
       "/* Parallel-specific style estimator block */\n",
       "\n",
       "#sk-container-id-1 div.sk-parallel-item::after {\n",
       "  content: \"\";\n",
       "  width: 100%;\n",
       "  border-bottom: 2px solid var(--sklearn-color-text-on-default-background);\n",
       "  flex-grow: 1;\n",
       "}\n",
       "\n",
       "#sk-container-id-1 div.sk-parallel {\n",
       "  display: flex;\n",
       "  align-items: stretch;\n",
       "  justify-content: center;\n",
       "  background-color: var(--sklearn-color-background);\n",
       "  position: relative;\n",
       "}\n",
       "\n",
       "#sk-container-id-1 div.sk-parallel-item {\n",
       "  display: flex;\n",
       "  flex-direction: column;\n",
       "}\n",
       "\n",
       "#sk-container-id-1 div.sk-parallel-item:first-child::after {\n",
       "  align-self: flex-end;\n",
       "  width: 50%;\n",
       "}\n",
       "\n",
       "#sk-container-id-1 div.sk-parallel-item:last-child::after {\n",
       "  align-self: flex-start;\n",
       "  width: 50%;\n",
       "}\n",
       "\n",
       "#sk-container-id-1 div.sk-parallel-item:only-child::after {\n",
       "  width: 0;\n",
       "}\n",
       "\n",
       "/* Serial-specific style estimator block */\n",
       "\n",
       "#sk-container-id-1 div.sk-serial {\n",
       "  display: flex;\n",
       "  flex-direction: column;\n",
       "  align-items: center;\n",
       "  background-color: var(--sklearn-color-background);\n",
       "  padding-right: 1em;\n",
       "  padding-left: 1em;\n",
       "}\n",
       "\n",
       "\n",
       "/* Toggleable style: style used for estimator/Pipeline/ColumnTransformer box that is\n",
       "clickable and can be expanded/collapsed.\n",
       "- Pipeline and ColumnTransformer use this feature and define the default style\n",
       "- Estimators will overwrite some part of the style using the `sk-estimator` class\n",
       "*/\n",
       "\n",
       "/* Pipeline and ColumnTransformer style (default) */\n",
       "\n",
       "#sk-container-id-1 div.sk-toggleable {\n",
       "  /* Default theme specific background. It is overwritten whether we have a\n",
       "  specific estimator or a Pipeline/ColumnTransformer */\n",
       "  background-color: var(--sklearn-color-background);\n",
       "}\n",
       "\n",
       "/* Toggleable label */\n",
       "#sk-container-id-1 label.sk-toggleable__label {\n",
       "  cursor: pointer;\n",
       "  display: flex;\n",
       "  width: 100%;\n",
       "  margin-bottom: 0;\n",
       "  padding: 0.5em;\n",
       "  box-sizing: border-box;\n",
       "  text-align: center;\n",
       "  align-items: start;\n",
       "  justify-content: space-between;\n",
       "  gap: 0.5em;\n",
       "}\n",
       "\n",
       "#sk-container-id-1 label.sk-toggleable__label .caption {\n",
       "  font-size: 0.6rem;\n",
       "  font-weight: lighter;\n",
       "  color: var(--sklearn-color-text-muted);\n",
       "}\n",
       "\n",
       "#sk-container-id-1 label.sk-toggleable__label-arrow:before {\n",
       "  /* Arrow on the left of the label */\n",
       "  content: \"▸\";\n",
       "  float: left;\n",
       "  margin-right: 0.25em;\n",
       "  color: var(--sklearn-color-icon);\n",
       "}\n",
       "\n",
       "#sk-container-id-1 label.sk-toggleable__label-arrow:hover:before {\n",
       "  color: var(--sklearn-color-text);\n",
       "}\n",
       "\n",
       "/* Toggleable content - dropdown */\n",
       "\n",
       "#sk-container-id-1 div.sk-toggleable__content {\n",
       "  max-height: 0;\n",
       "  max-width: 0;\n",
       "  overflow: hidden;\n",
       "  text-align: left;\n",
       "  /* unfitted */\n",
       "  background-color: var(--sklearn-color-unfitted-level-0);\n",
       "}\n",
       "\n",
       "#sk-container-id-1 div.sk-toggleable__content.fitted {\n",
       "  /* fitted */\n",
       "  background-color: var(--sklearn-color-fitted-level-0);\n",
       "}\n",
       "\n",
       "#sk-container-id-1 div.sk-toggleable__content pre {\n",
       "  margin: 0.2em;\n",
       "  border-radius: 0.25em;\n",
       "  color: var(--sklearn-color-text);\n",
       "  /* unfitted */\n",
       "  background-color: var(--sklearn-color-unfitted-level-0);\n",
       "}\n",
       "\n",
       "#sk-container-id-1 div.sk-toggleable__content.fitted pre {\n",
       "  /* unfitted */\n",
       "  background-color: var(--sklearn-color-fitted-level-0);\n",
       "}\n",
       "\n",
       "#sk-container-id-1 input.sk-toggleable__control:checked~div.sk-toggleable__content {\n",
       "  /* Expand drop-down */\n",
       "  max-height: 200px;\n",
       "  max-width: 100%;\n",
       "  overflow: auto;\n",
       "}\n",
       "\n",
       "#sk-container-id-1 input.sk-toggleable__control:checked~label.sk-toggleable__label-arrow:before {\n",
       "  content: \"▾\";\n",
       "}\n",
       "\n",
       "/* Pipeline/ColumnTransformer-specific style */\n",
       "\n",
       "#sk-container-id-1 div.sk-label input.sk-toggleable__control:checked~label.sk-toggleable__label {\n",
       "  color: var(--sklearn-color-text);\n",
       "  background-color: var(--sklearn-color-unfitted-level-2);\n",
       "}\n",
       "\n",
       "#sk-container-id-1 div.sk-label.fitted input.sk-toggleable__control:checked~label.sk-toggleable__label {\n",
       "  background-color: var(--sklearn-color-fitted-level-2);\n",
       "}\n",
       "\n",
       "/* Estimator-specific style */\n",
       "\n",
       "/* Colorize estimator box */\n",
       "#sk-container-id-1 div.sk-estimator input.sk-toggleable__control:checked~label.sk-toggleable__label {\n",
       "  /* unfitted */\n",
       "  background-color: var(--sklearn-color-unfitted-level-2);\n",
       "}\n",
       "\n",
       "#sk-container-id-1 div.sk-estimator.fitted input.sk-toggleable__control:checked~label.sk-toggleable__label {\n",
       "  /* fitted */\n",
       "  background-color: var(--sklearn-color-fitted-level-2);\n",
       "}\n",
       "\n",
       "#sk-container-id-1 div.sk-label label.sk-toggleable__label,\n",
       "#sk-container-id-1 div.sk-label label {\n",
       "  /* The background is the default theme color */\n",
       "  color: var(--sklearn-color-text-on-default-background);\n",
       "}\n",
       "\n",
       "/* On hover, darken the color of the background */\n",
       "#sk-container-id-1 div.sk-label:hover label.sk-toggleable__label {\n",
       "  color: var(--sklearn-color-text);\n",
       "  background-color: var(--sklearn-color-unfitted-level-2);\n",
       "}\n",
       "\n",
       "/* Label box, darken color on hover, fitted */\n",
       "#sk-container-id-1 div.sk-label.fitted:hover label.sk-toggleable__label.fitted {\n",
       "  color: var(--sklearn-color-text);\n",
       "  background-color: var(--sklearn-color-fitted-level-2);\n",
       "}\n",
       "\n",
       "/* Estimator label */\n",
       "\n",
       "#sk-container-id-1 div.sk-label label {\n",
       "  font-family: monospace;\n",
       "  font-weight: bold;\n",
       "  display: inline-block;\n",
       "  line-height: 1.2em;\n",
       "}\n",
       "\n",
       "#sk-container-id-1 div.sk-label-container {\n",
       "  text-align: center;\n",
       "}\n",
       "\n",
       "/* Estimator-specific */\n",
       "#sk-container-id-1 div.sk-estimator {\n",
       "  font-family: monospace;\n",
       "  border: 1px dotted var(--sklearn-color-border-box);\n",
       "  border-radius: 0.25em;\n",
       "  box-sizing: border-box;\n",
       "  margin-bottom: 0.5em;\n",
       "  /* unfitted */\n",
       "  background-color: var(--sklearn-color-unfitted-level-0);\n",
       "}\n",
       "\n",
       "#sk-container-id-1 div.sk-estimator.fitted {\n",
       "  /* fitted */\n",
       "  background-color: var(--sklearn-color-fitted-level-0);\n",
       "}\n",
       "\n",
       "/* on hover */\n",
       "#sk-container-id-1 div.sk-estimator:hover {\n",
       "  /* unfitted */\n",
       "  background-color: var(--sklearn-color-unfitted-level-2);\n",
       "}\n",
       "\n",
       "#sk-container-id-1 div.sk-estimator.fitted:hover {\n",
       "  /* fitted */\n",
       "  background-color: var(--sklearn-color-fitted-level-2);\n",
       "}\n",
       "\n",
       "/* Specification for estimator info (e.g. \"i\" and \"?\") */\n",
       "\n",
       "/* Common style for \"i\" and \"?\" */\n",
       "\n",
       ".sk-estimator-doc-link,\n",
       "a:link.sk-estimator-doc-link,\n",
       "a:visited.sk-estimator-doc-link {\n",
       "  float: right;\n",
       "  font-size: smaller;\n",
       "  line-height: 1em;\n",
       "  font-family: monospace;\n",
       "  background-color: var(--sklearn-color-background);\n",
       "  border-radius: 1em;\n",
       "  height: 1em;\n",
       "  width: 1em;\n",
       "  text-decoration: none !important;\n",
       "  margin-left: 0.5em;\n",
       "  text-align: center;\n",
       "  /* unfitted */\n",
       "  border: var(--sklearn-color-unfitted-level-1) 1pt solid;\n",
       "  color: var(--sklearn-color-unfitted-level-1);\n",
       "}\n",
       "\n",
       ".sk-estimator-doc-link.fitted,\n",
       "a:link.sk-estimator-doc-link.fitted,\n",
       "a:visited.sk-estimator-doc-link.fitted {\n",
       "  /* fitted */\n",
       "  border: var(--sklearn-color-fitted-level-1) 1pt solid;\n",
       "  color: var(--sklearn-color-fitted-level-1);\n",
       "}\n",
       "\n",
       "/* On hover */\n",
       "div.sk-estimator:hover .sk-estimator-doc-link:hover,\n",
       ".sk-estimator-doc-link:hover,\n",
       "div.sk-label-container:hover .sk-estimator-doc-link:hover,\n",
       ".sk-estimator-doc-link:hover {\n",
       "  /* unfitted */\n",
       "  background-color: var(--sklearn-color-unfitted-level-3);\n",
       "  color: var(--sklearn-color-background);\n",
       "  text-decoration: none;\n",
       "}\n",
       "\n",
       "div.sk-estimator.fitted:hover .sk-estimator-doc-link.fitted:hover,\n",
       ".sk-estimator-doc-link.fitted:hover,\n",
       "div.sk-label-container:hover .sk-estimator-doc-link.fitted:hover,\n",
       ".sk-estimator-doc-link.fitted:hover {\n",
       "  /* fitted */\n",
       "  background-color: var(--sklearn-color-fitted-level-3);\n",
       "  color: var(--sklearn-color-background);\n",
       "  text-decoration: none;\n",
       "}\n",
       "\n",
       "/* Span, style for the box shown on hovering the info icon */\n",
       ".sk-estimator-doc-link span {\n",
       "  display: none;\n",
       "  z-index: 9999;\n",
       "  position: relative;\n",
       "  font-weight: normal;\n",
       "  right: .2ex;\n",
       "  padding: .5ex;\n",
       "  margin: .5ex;\n",
       "  width: min-content;\n",
       "  min-width: 20ex;\n",
       "  max-width: 50ex;\n",
       "  color: var(--sklearn-color-text);\n",
       "  box-shadow: 2pt 2pt 4pt #999;\n",
       "  /* unfitted */\n",
       "  background: var(--sklearn-color-unfitted-level-0);\n",
       "  border: .5pt solid var(--sklearn-color-unfitted-level-3);\n",
       "}\n",
       "\n",
       ".sk-estimator-doc-link.fitted span {\n",
       "  /* fitted */\n",
       "  background: var(--sklearn-color-fitted-level-0);\n",
       "  border: var(--sklearn-color-fitted-level-3);\n",
       "}\n",
       "\n",
       ".sk-estimator-doc-link:hover span {\n",
       "  display: block;\n",
       "}\n",
       "\n",
       "/* \"?\"-specific style due to the `<a>` HTML tag */\n",
       "\n",
       "#sk-container-id-1 a.estimator_doc_link {\n",
       "  float: right;\n",
       "  font-size: 1rem;\n",
       "  line-height: 1em;\n",
       "  font-family: monospace;\n",
       "  background-color: var(--sklearn-color-background);\n",
       "  border-radius: 1rem;\n",
       "  height: 1rem;\n",
       "  width: 1rem;\n",
       "  text-decoration: none;\n",
       "  /* unfitted */\n",
       "  color: var(--sklearn-color-unfitted-level-1);\n",
       "  border: var(--sklearn-color-unfitted-level-1) 1pt solid;\n",
       "}\n",
       "\n",
       "#sk-container-id-1 a.estimator_doc_link.fitted {\n",
       "  /* fitted */\n",
       "  border: var(--sklearn-color-fitted-level-1) 1pt solid;\n",
       "  color: var(--sklearn-color-fitted-level-1);\n",
       "}\n",
       "\n",
       "/* On hover */\n",
       "#sk-container-id-1 a.estimator_doc_link:hover {\n",
       "  /* unfitted */\n",
       "  background-color: var(--sklearn-color-unfitted-level-3);\n",
       "  color: var(--sklearn-color-background);\n",
       "  text-decoration: none;\n",
       "}\n",
       "\n",
       "#sk-container-id-1 a.estimator_doc_link.fitted:hover {\n",
       "  /* fitted */\n",
       "  background-color: var(--sklearn-color-fitted-level-3);\n",
       "}\n",
       "</style><div id=\"sk-container-id-1\" class=\"sk-top-container\"><div class=\"sk-text-repr-fallback\"><pre>RandomForestClassifier(criterion=&#x27;entropy&#x27;, n_estimators=10, random_state=0)</pre><b>In a Jupyter environment, please rerun this cell to show the HTML representation or trust the notebook. <br />On GitHub, the HTML representation is unable to render, please try loading this page with nbviewer.org.</b></div><div class=\"sk-container\" hidden><div class=\"sk-item\"><div class=\"sk-estimator fitted sk-toggleable\"><input class=\"sk-toggleable__control sk-hidden--visually\" id=\"sk-estimator-id-1\" type=\"checkbox\" checked><label for=\"sk-estimator-id-1\" class=\"sk-toggleable__label fitted sk-toggleable__label-arrow\"><div><div>RandomForestClassifier</div></div><div><a class=\"sk-estimator-doc-link fitted\" rel=\"noreferrer\" target=\"_blank\" href=\"https://scikit-learn.org/1.6/modules/generated/sklearn.ensemble.RandomForestClassifier.html\">?<span>Documentation for RandomForestClassifier</span></a><span class=\"sk-estimator-doc-link fitted\">i<span>Fitted</span></span></div></label><div class=\"sk-toggleable__content fitted\"><pre>RandomForestClassifier(criterion=&#x27;entropy&#x27;, n_estimators=10, random_state=0)</pre></div> </div></div></div></div>"
      ]
     },
     "execution_count": 11,
     "metadata": {},
     "output_type": "execute_result"
    }
   ],
   "execution_count": 11
  },
  {
   "cell_type": "markdown",
   "metadata": {
    "id": "yyxW5b395mR2"
   },
   "source": "## Predicting Test Set Results"
  },
  {
   "cell_type": "code",
   "metadata": {
    "id": "f8YOXsQy58rP",
    "outputId": "aaf04d29-9bc9-4130-d72c-cc76c26d136a",
    "executionInfo": {
     "status": "ok",
     "timestamp": 1726182786155,
     "user_tz": 240,
     "elapsed": 10,
     "user": {
      "displayName": "Chris Jaehnen",
      "userId": "09906998703988827501"
     }
    },
    "colab": {
     "base_uri": "https://localhost:8080/"
    },
    "ExecuteTime": {
     "end_time": "2025-07-08T00:03:33.753163Z",
     "start_time": "2025-07-08T00:03:33.750084Z"
    }
   },
   "source": "y_pred = classifier.predict(X_test)",
   "outputs": [],
   "execution_count": 12
  },
  {
   "cell_type": "code",
   "metadata": {
    "id": "p6VMTb2O4hwM",
    "outputId": "16482ca5-fac3-4d65-e4aa-232f7624d1af",
    "executionInfo": {
     "status": "ok",
     "timestamp": 1726182786155,
     "user_tz": 240,
     "elapsed": 8,
     "user": {
      "displayName": "Chris Jaehnen",
      "userId": "09906998703988827501"
     }
    },
    "colab": {
     "base_uri": "https://localhost:8080/"
    },
    "ExecuteTime": {
     "end_time": "2025-07-08T00:03:33.768320Z",
     "start_time": "2025-07-08T00:03:33.765806Z"
    }
   },
   "source": [
    "y_pred_actual = np.concatenate((y_pred.reshape(len(y_pred), 1), y_test.reshape(len(y_test), 1)), 1)\n",
    "print(*y_pred_actual[:25], sep='\\n')"
   ],
   "outputs": [
    {
     "name": "stdout",
     "output_type": "stream",
     "text": [
      "[0 0]\n",
      "[0 0]\n",
      "[0 0]\n",
      "[0 0]\n",
      "[0 0]\n",
      "[0 0]\n",
      "[0 0]\n",
      "[1 1]\n",
      "[0 0]\n",
      "[1 0]\n",
      "[0 0]\n",
      "[0 0]\n",
      "[0 0]\n",
      "[0 0]\n",
      "[0 0]\n",
      "[1 0]\n",
      "[1 0]\n",
      "[0 0]\n",
      "[1 1]\n",
      "[0 0]\n",
      "[0 0]\n",
      "[1 1]\n",
      "[0 0]\n",
      "[1 1]\n",
      "[0 0]\n"
     ]
    }
   ],
   "execution_count": 13
  },
  {
   "cell_type": "markdown",
   "metadata": {
    "id": "h4Hwj34ziWQW"
   },
   "source": [
    "## Making the Confusion Matrix"
   ]
  },
  {
   "cell_type": "code",
   "metadata": {
    "id": "D6bpZwUiiXic",
    "outputId": "f5f62de0-ac04-4a60-d56e-4dfd458814bd",
    "executionInfo": {
     "status": "ok",
     "timestamp": 1726182786155,
     "user_tz": 240,
     "elapsed": 6,
     "user": {
      "displayName": "Chris Jaehnen",
      "userId": "09906998703988827501"
     }
    },
    "colab": {
     "base_uri": "https://localhost:8080/"
    },
    "ExecuteTime": {
     "end_time": "2025-07-08T00:03:33.806902Z",
     "start_time": "2025-07-08T00:03:33.804652Z"
    }
   },
   "source": [
    "from sklearn.metrics import confusion_matrix\n",
    "\n",
    "cm = confusion_matrix(y_test, y_pred)"
   ],
   "outputs": [],
   "execution_count": 14
  },
  {
   "metadata": {
    "ExecuteTime": {
     "end_time": "2025-07-08T00:03:33.844162Z",
     "start_time": "2025-07-08T00:03:33.835329Z"
    }
   },
   "cell_type": "code",
   "source": "print(cm)",
   "outputs": [
    {
     "name": "stdout",
     "output_type": "stream",
     "text": [
      "[[63  5]\n",
      " [ 4 28]]\n"
     ]
    }
   ],
   "execution_count": 15
  },
  {
   "metadata": {},
   "cell_type": "markdown",
   "source": [
    "Results:\n",
    "\n",
    "* $63$ true negatives\n",
    "* $5$ false positives\n",
    "* $4$ false negatives\n",
    "* $28$ true positives"
   ]
  },
  {
   "metadata": {},
   "cell_type": "markdown",
   "source": "## Compute Accuracy Score"
  },
  {
   "metadata": {
    "ExecuteTime": {
     "end_time": "2025-07-08T00:03:33.873826Z",
     "start_time": "2025-07-08T00:03:33.868237Z"
    }
   },
   "cell_type": "code",
   "source": [
    "from sklearn.metrics import accuracy_score\n",
    "\n",
    "accuracy_score(y_test, y_pred)"
   ],
   "outputs": [
    {
     "data": {
      "text/plain": [
       "0.91"
      ]
     },
     "execution_count": 16,
     "metadata": {},
     "output_type": "execute_result"
    }
   ],
   "execution_count": 16
  },
  {
   "metadata": {},
   "cell_type": "markdown",
   "source": [
    "Results:\n",
    "\n",
    "Model is $91\\%$ accurate."
   ]
  },
  {
   "cell_type": "markdown",
   "metadata": {
    "id": "6OMC_P0diaoD"
   },
   "source": "## Visualizing Training Set Results"
  },
  {
   "metadata": {
    "ExecuteTime": {
     "end_time": "2025-07-08T00:03:33.906086Z",
     "start_time": "2025-07-08T00:03:33.900005Z"
    }
   },
   "cell_type": "code",
   "source": [
    "from matplotlib.colors import ListedColormap\n",
    "from opengood.py_ml_plot import setup_classification_plot"
   ],
   "outputs": [
    {
     "name": "stdout",
     "output_type": "stream",
     "text": [
      "opengood.py_ml_plot imported\n"
     ]
    }
   ],
   "execution_count": 17
  },
  {
   "cell_type": "code",
   "metadata": {
    "id": "_NOjKvZRid5l",
    "outputId": "bcb34dac-98ba-4af9-a586-952e9bbe8e3f",
    "executionInfo": {
     "status": "ok",
     "timestamp": 1726182916212,
     "user_tz": 240,
     "elapsed": 130061,
     "user": {
      "displayName": "Chris Jaehnen",
      "userId": "09906998703988827501"
     }
    },
    "colab": {
     "base_uri": "https://localhost:8080/",
     "height": 527
    },
    "ExecuteTime": {
     "end_time": "2025-07-08T00:04:05.226991Z",
     "start_time": "2025-07-08T00:03:33.932027Z"
    }
   },
   "source": [
    "setup_classification_plot(\n",
    "    x=X_train,\n",
    "    y=y_train,\n",
    "    cmap=ListedColormap((\"salmon\", \"dodgerblue\")),\n",
    "    title=\"Random Forest Classification (Training Set)\",\n",
    "    x_label=\"Age\",\n",
    "    y_label=\"Estimated Salary\",\n",
    "    feature_scale=lambda x_set, y_set: (\n",
    "        sc.inverse_transform(x_set), y_set\n",
    "    ),\n",
    "    predict=lambda x1, x2: (\n",
    "        classifier.predict(\n",
    "            sc.transform(\n",
    "                np.array([x1.ravel(), x2.ravel()]).T)\n",
    "        ).reshape(x1.shape)\n",
    "    )\n",
    ")\n",
    "plt.show()"
   ],
   "outputs": [
    {
     "data": {
      "text/plain": [
       "<Figure size 640x480 with 1 Axes>"
      ],
      "image/png": "[encoded data removed]"
     },
     "metadata": {},
     "output_type": "display_data"
    }
   ],
   "execution_count": 18
  },
  {
   "cell_type": "markdown",
   "metadata": {
    "id": "SZ-j28aPihZx"
   },
   "source": "## Visualize Test Set Results"
  },
  {
   "cell_type": "code",
   "metadata": {
    "id": "qeTjz2vDilAC",
    "outputId": "de5e34d0-39c5-44b8-a6d7-4b5ba7cfc802",
    "executionInfo": {
     "status": "ok",
     "timestamp": 1726183036130,
     "user_tz": 240,
     "elapsed": 119920,
     "user": {
      "displayName": "Chris Jaehnen",
      "userId": "09906998703988827501"
     }
    },
    "colab": {
     "base_uri": "https://localhost:8080/",
     "height": 527
    },
    "ExecuteTime": {
     "end_time": "2025-07-08T00:04:36.560661Z",
     "start_time": "2025-07-08T00:04:05.243276Z"
    }
   },
   "source": [
    "setup_classification_plot(\n",
    "    x=X_test,\n",
    "    y=y_test,\n",
    "    cmap=ListedColormap((\"salmon\", \"dodgerblue\")),\n",
    "    title=\"Random Forest Classification (Test Set)\",\n",
    "    x_label=\"Age\",\n",
    "    y_label=\"Estimated Salary\",\n",
    "    feature_scale=lambda x_set, y_set: (\n",
    "        sc.inverse_transform(x_set), y_set\n",
    "    ),\n",
    "    predict=lambda x1, x2: (\n",
    "        classifier.predict(\n",
    "            sc.transform(\n",
    "                np.array([x1.ravel(), x2.ravel()]).T)\n",
    "        ).reshape(x1.shape)\n",
    "    )\n",
    ")\n",
    "plt.show()"
   ],
   "outputs": [
    {
     "data": {
      "text/plain": [
       "<Figure size 640x480 with 1 Axes>"
      ],
      "image/png": "[encoded data removed]"
     },
     "metadata": {},
     "output_type": "display_data"
    }
   ],
   "execution_count": 19
  },
  {
   "metadata": {},
   "cell_type": "markdown",
   "source": [
    "## Interpreting Results\n",
    "\n",
    "* The following items outline the 2D plots:\n",
    "\t* The red region represents 0 classifier (customer who did not buy the SUV)\n",
    "\t* The blue region represents 1 classifier (customer who bought the SUV)\n",
    "\t* Each data point represents one customer\n",
    "\t* Red data points = 0 classifier\n",
    "\t* Blue data points = 1 classifier\n",
    "* Correct prediction data points are where the data point color is the same as the region\n",
    "* Incorrect prediction data points are where the data point color is different from the region\n",
    "* Prediction boundary is the boundary between red and blue prediction regions\n",
    "\t* Where the classifier separates the two classes\n",
    "* **Random Forest classification model is a non-linear classifier since forests contain splits forming leaves**\n",
    "* The model caught most red data points in the red forest leaves and vice versa with blue data points"
   ]
  },
  {
   "metadata": {},
   "cell_type": "markdown",
   "source": "## Predict New Result"
  },
  {
   "metadata": {
    "ExecuteTime": {
     "end_time": "2025-07-08T00:04:36.578067Z",
     "start_time": "2025-07-08T00:04:36.574972Z"
    }
   },
   "cell_type": "code",
   "source": "print(classifier.predict(sc.transform([[30, 87000]])))",
   "outputs": [
    {
     "name": "stdout",
     "output_type": "stream",
     "text": [
      "[0]\n"
     ]
    }
   ],
   "execution_count": 20
  }
 ]
}
