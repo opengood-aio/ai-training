{
 "cells": [
  {
   "cell_type": "markdown",
   "metadata": {
    "id": "ncN025tppZ3J"
   },
   "source": [
    "# K-Nearest Neighbors (K-NN)"
   ]
  },
  {
   "metadata": {},
   "cell_type": "markdown",
   "source": [
    "## Dataset\n",
    "\n",
    "### Layout\n",
    "\n",
    "* Columns:\n",
    "\t* Age\n",
    "\t* EstimatedSalary\n",
    "\t* Purchased\n",
    "* Rows: 100s of observations\n",
    "\t* Each row represents an observation if a customer purchased older SUVs from the company\n",
    "\t\t* Features:\n",
    "\t\t\t* Age\n",
    "\t\t\t* Estimated Salary\n",
    "\t\t* Dependent variable:\n",
    "\t\t\t* Purchased\n",
    "\t\t\t\t* 0 = Not purchased\n",
    "\t\t\t\t* 1 = Purchased\n",
    "\n",
    "### Background\n",
    "\n",
    "* One is a data scientist working for one's favorite automobile company\n",
    "* The general manager of the company wants one to predict which previous customers will purchase the brand-new SUV just released by the company\n",
    "* Marketing team will post ads on social media targeting them at customers likely to purchase a new SUV\n",
    "\n",
    "## Goals\n",
    "\n",
    "* Build a K-NN model to predict if a customer purchases the new SUV"
   ]
  },
  {
   "cell_type": "markdown",
   "metadata": {
    "id": "kAphpluBpZ3M"
   },
   "source": "## Import Libraries"
  },
  {
   "cell_type": "code",
   "metadata": {
    "executionInfo": {
     "elapsed": 1692,
     "status": "ok",
     "timestamp": 1724893736119,
     "user": {
      "displayName": "Chris Jaehnen",
      "userId": "09906998703988827501"
     },
     "user_tz": 240
    },
    "id": "ukPk52D2pZ3N",
    "ExecuteTime": {
     "end_time": "2025-06-18T00:28:53.734583Z",
     "start_time": "2025-06-18T00:28:53.731267Z"
    }
   },
   "source": [
    "import numpy as np\n",
    "import matplotlib.pyplot as plt\n",
    "import pandas as pd"
   ],
   "outputs": [],
   "execution_count": 19
  },
  {
   "cell_type": "markdown",
   "metadata": {
    "id": "SIPYc-XapZ3O"
   },
   "source": "## Import Dataset"
  },
  {
   "cell_type": "code",
   "metadata": {
    "executionInfo": {
     "elapsed": 1267,
     "status": "ok",
     "timestamp": 1724893737383,
     "user": {
      "displayName": "Chris Jaehnen",
      "userId": "09906998703988827501"
     },
     "user_tz": 240
    },
    "id": "tsQ0h82CpZ3O",
    "ExecuteTime": {
     "end_time": "2025-06-18T00:28:53.749454Z",
     "start_time": "2025-06-18T00:28:53.745475Z"
    }
   },
   "source": [
    "dataset = pd.read_csv('Social_Network_Ads.csv')\n",
    "X = dataset.iloc[:, :-1].values\n",
    "y = dataset.iloc[:, -1].values"
   ],
   "outputs": [],
   "execution_count": 20
  },
  {
   "cell_type": "markdown",
   "metadata": {
    "id": "feIeH0XKpZ3O"
   },
   "source": "## Split Dataset into Training Set and Test Set"
  },
  {
   "cell_type": "code",
   "metadata": {
    "executionInfo": {
     "elapsed": 4695,
     "status": "ok",
     "timestamp": 1724893742075,
     "user": {
      "displayName": "Chris Jaehnen",
      "userId": "09906998703988827501"
     },
     "user_tz": 240
    },
    "id": "PqdXIZC7pZ3O",
    "ExecuteTime": {
     "end_time": "2025-06-18T00:28:53.770541Z",
     "start_time": "2025-06-18T00:28:53.767891Z"
    }
   },
   "source": [
    "from sklearn.model_selection import train_test_split\n",
    "\n",
    "X_train, X_test, y_train, y_test = train_test_split(X, y, test_size=0.25, random_state=0)"
   ],
   "outputs": [],
   "execution_count": 21
  },
  {
   "cell_type": "code",
   "metadata": {
    "colab": {
     "base_uri": "https://localhost:8080/"
    },
    "executionInfo": {
     "elapsed": 10,
     "status": "ok",
     "timestamp": 1724893742076,
     "user": {
      "displayName": "Chris Jaehnen",
      "userId": "09906998703988827501"
     },
     "user_tz": 240
    },
    "id": "g9K4doJepZ3P",
    "outputId": "baf00d28-7a0e-416f-9db4-ea9a0e90a581",
    "ExecuteTime": {
     "end_time": "2025-06-18T00:28:53.786236Z",
     "start_time": "2025-06-18T00:28:53.783498Z"
    }
   },
   "source": "print(*X_train[:25], sep='\\n')",
   "outputs": [
    {
     "name": "stdout",
     "output_type": "stream",
     "text": [
      "[   44 39000]\n",
      "[    32 120000]\n",
      "[   38 50000]\n",
      "[    32 135000]\n",
      "[   52 21000]\n",
      "[    53 104000]\n",
      "[   39 42000]\n",
      "[   38 61000]\n",
      "[   36 50000]\n",
      "[   36 63000]\n",
      "[   35 25000]\n",
      "[   35 50000]\n",
      "[   42 73000]\n",
      "[   47 49000]\n",
      "[   59 29000]\n",
      "[   49 65000]\n",
      "[    45 131000]\n",
      "[   31 89000]\n",
      "[   46 82000]\n",
      "[   47 51000]\n",
      "[   26 15000]\n",
      "[    60 102000]\n",
      "[    38 112000]\n",
      "[    40 107000]\n",
      "[   42 53000]\n"
     ]
    }
   ],
   "execution_count": 22
  },
  {
   "cell_type": "code",
   "metadata": {
    "colab": {
     "base_uri": "https://localhost:8080/"
    },
    "executionInfo": {
     "elapsed": 8,
     "status": "ok",
     "timestamp": 1724893742076,
     "user": {
      "displayName": "Chris Jaehnen",
      "userId": "09906998703988827501"
     },
     "user_tz": 240
    },
    "id": "WZY3ydnppZ3P",
    "outputId": "f466ad9e-2f34-4269-cf3a-28d63ce3eb31",
    "ExecuteTime": {
     "end_time": "2025-06-18T00:28:53.802383Z",
     "start_time": "2025-06-18T00:28:53.799522Z"
    }
   },
   "source": "print(*y_train[:25], sep='\\n')",
   "outputs": [
    {
     "name": "stdout",
     "output_type": "stream",
     "text": [
      "0\n",
      "1\n",
      "0\n",
      "1\n",
      "1\n",
      "1\n",
      "0\n",
      "0\n",
      "0\n",
      "0\n",
      "0\n",
      "0\n",
      "1\n",
      "1\n",
      "1\n",
      "0\n",
      "1\n",
      "0\n",
      "0\n",
      "1\n",
      "0\n",
      "1\n",
      "0\n",
      "1\n",
      "0\n"
     ]
    }
   ],
   "execution_count": 23
  },
  {
   "cell_type": "code",
   "metadata": {
    "colab": {
     "base_uri": "https://localhost:8080/"
    },
    "executionInfo": {
     "elapsed": 5,
     "status": "ok",
     "timestamp": 1724893742076,
     "user": {
      "displayName": "Chris Jaehnen",
      "userId": "09906998703988827501"
     },
     "user_tz": 240
    },
    "id": "fDPhhNJWpZ3P",
    "outputId": "f3a7f97f-e1fd-4650-833a-560bb6e967df",
    "ExecuteTime": {
     "end_time": "2025-06-18T00:28:53.822837Z",
     "start_time": "2025-06-18T00:28:53.820282Z"
    }
   },
   "source": "print(*X_test[:25], sep='\\n')",
   "outputs": [
    {
     "name": "stdout",
     "output_type": "stream",
     "text": [
      "[   30 87000]\n",
      "[   38 50000]\n",
      "[   35 75000]\n",
      "[   30 79000]\n",
      "[   35 50000]\n",
      "[   27 20000]\n",
      "[   31 15000]\n",
      "[    36 144000]\n",
      "[   18 68000]\n",
      "[   47 43000]\n",
      "[   30 49000]\n",
      "[   28 55000]\n",
      "[   37 55000]\n",
      "[   39 77000]\n",
      "[   20 86000]\n",
      "[    32 117000]\n",
      "[   37 77000]\n",
      "[   19 85000]\n",
      "[    55 130000]\n",
      "[   35 22000]\n",
      "[   35 47000]\n",
      "[    47 144000]\n",
      "[   41 51000]\n",
      "[    47 105000]\n",
      "[   23 28000]\n"
     ]
    }
   ],
   "execution_count": 24
  },
  {
   "cell_type": "code",
   "metadata": {
    "colab": {
     "base_uri": "https://localhost:8080/"
    },
    "executionInfo": {
     "elapsed": 320,
     "status": "ok",
     "timestamp": 1724893742393,
     "user": {
      "displayName": "Chris Jaehnen",
      "userId": "09906998703988827501"
     },
     "user_tz": 240
    },
    "id": "gL8GVp__pZ3Q",
    "outputId": "1c537fbd-b2fd-4398-8d33-cbc8e00c52db",
    "ExecuteTime": {
     "end_time": "2025-06-18T00:28:53.839587Z",
     "start_time": "2025-06-18T00:28:53.837174Z"
    }
   },
   "source": "print(*y_test[:25], sep='\\n')",
   "outputs": [
    {
     "name": "stdout",
     "output_type": "stream",
     "text": [
      "0\n",
      "0\n",
      "0\n",
      "0\n",
      "0\n",
      "0\n",
      "0\n",
      "1\n",
      "0\n",
      "0\n",
      "0\n",
      "0\n",
      "0\n",
      "0\n",
      "0\n",
      "0\n",
      "0\n",
      "0\n",
      "1\n",
      "0\n",
      "0\n",
      "1\n",
      "0\n",
      "1\n",
      "0\n"
     ]
    }
   ],
   "execution_count": 25
  },
  {
   "cell_type": "markdown",
   "metadata": {
    "id": "XWDFUMiIpZ3Q"
   },
   "source": [
    "## Feature Scaling"
   ]
  },
  {
   "cell_type": "code",
   "metadata": {
    "executionInfo": {
     "elapsed": 9,
     "status": "ok",
     "timestamp": 1724893742393,
     "user": {
      "displayName": "Chris Jaehnen",
      "userId": "09906998703988827501"
     },
     "user_tz": 240
    },
    "id": "zgiXXKzcpZ3Q",
    "ExecuteTime": {
     "end_time": "2025-06-18T00:28:53.855436Z",
     "start_time": "2025-06-18T00:28:53.852604Z"
    }
   },
   "source": [
    "from sklearn.preprocessing import StandardScaler\n",
    "\n",
    "sc = StandardScaler()\n",
    "X_train = sc.fit_transform(X_train)\n",
    "X_test = sc.transform(X_test)"
   ],
   "outputs": [],
   "execution_count": 26
  },
  {
   "cell_type": "code",
   "metadata": {
    "colab": {
     "base_uri": "https://localhost:8080/"
    },
    "executionInfo": {
     "elapsed": 9,
     "status": "ok",
     "timestamp": 1724893742393,
     "user": {
      "displayName": "Chris Jaehnen",
      "userId": "09906998703988827501"
     },
     "user_tz": 240
    },
    "id": "0towjKrwpZ3Q",
    "outputId": "80463455-dc7c-4b6b-c747-c68af961ab14",
    "ExecuteTime": {
     "end_time": "2025-06-18T00:28:53.879520Z",
     "start_time": "2025-06-18T00:28:53.876514Z"
    }
   },
   "source": "print(*X_train[:25], sep='\\n')",
   "outputs": [
    {
     "name": "stdout",
     "output_type": "stream",
     "text": [
      "[ 0.58164944 -0.88670699]\n",
      "[-0.60673761  1.46173768]\n",
      "[-0.01254409 -0.5677824 ]\n",
      "[-0.60673761  1.89663484]\n",
      "[ 1.37390747 -1.40858358]\n",
      "[1.47293972 0.99784738]\n",
      "[ 0.08648817 -0.79972756]\n",
      "[-0.01254409 -0.24885782]\n",
      "[-0.21060859 -0.5677824 ]\n",
      "[-0.21060859 -0.19087153]\n",
      "[-0.30964085 -1.29261101]\n",
      "[-0.30964085 -0.5677824 ]\n",
      "[0.38358493 0.09905991]\n",
      "[ 0.8787462  -0.59677555]\n",
      "[ 2.06713324 -1.17663843]\n",
      "[ 1.07681071 -0.13288524]\n",
      "[0.68068169 1.78066227]\n",
      "[-0.70576986  0.56295021]\n",
      "[0.77971394 0.35999821]\n",
      "[ 0.8787462  -0.53878926]\n",
      "[-1.20093113 -1.58254245]\n",
      "[2.1661655  0.93986109]\n",
      "[-0.01254409  1.22979253]\n",
      "[0.18552042 1.08482681]\n",
      "[ 0.38358493 -0.48080297]\n"
     ]
    }
   ],
   "execution_count": 27
  },
  {
   "cell_type": "code",
   "metadata": {
    "colab": {
     "base_uri": "https://localhost:8080/"
    },
    "executionInfo": {
     "elapsed": 6,
     "status": "ok",
     "timestamp": 1724893742393,
     "user": {
      "displayName": "Chris Jaehnen",
      "userId": "09906998703988827501"
     },
     "user_tz": 240
    },
    "id": "4yooJnALpZ3Q",
    "outputId": "4aa97f13-d4fe-45f3-bcca-aed822f92cc3",
    "ExecuteTime": {
     "end_time": "2025-06-18T00:28:53.903475Z",
     "start_time": "2025-06-18T00:28:53.900407Z"
    }
   },
   "source": "print(*X_test[:25], sep='\\n')",
   "outputs": [
    {
     "name": "stdout",
     "output_type": "stream",
     "text": [
      "[-0.80480212  0.50496393]\n",
      "[-0.01254409 -0.5677824 ]\n",
      "[-0.30964085  0.1570462 ]\n",
      "[-0.80480212  0.27301877]\n",
      "[-0.30964085 -0.5677824 ]\n",
      "[-1.10189888 -1.43757673]\n",
      "[-0.70576986 -1.58254245]\n",
      "[-0.21060859  2.15757314]\n",
      "[-1.99318916 -0.04590581]\n",
      "[ 0.8787462  -0.77073441]\n",
      "[-0.80480212 -0.59677555]\n",
      "[-1.00286662 -0.42281668]\n",
      "[-0.11157634 -0.42281668]\n",
      "[0.08648817 0.21503249]\n",
      "[-1.79512465  0.47597078]\n",
      "[-0.60673761  1.37475825]\n",
      "[-0.11157634  0.21503249]\n",
      "[-1.89415691  0.44697764]\n",
      "[1.67100423 1.75166912]\n",
      "[-0.30964085 -1.37959044]\n",
      "[-0.30964085 -0.65476184]\n",
      "[0.8787462  2.15757314]\n",
      "[ 0.28455268 -0.53878926]\n",
      "[0.8787462  1.02684052]\n",
      "[-1.49802789 -1.20563157]\n"
     ]
    }
   ],
   "execution_count": 28
  },
  {
   "cell_type": "markdown",
   "metadata": {
    "id": "0iPWVA9hpZ3Q"
   },
   "source": "## Train K-NN Model on Training Set"
  },
  {
   "cell_type": "code",
   "metadata": {
    "colab": {
     "base_uri": "https://localhost:8080/",
     "height": 74
    },
    "executionInfo": {
     "elapsed": 417,
     "status": "ok",
     "timestamp": 1724893743069,
     "user": {
      "displayName": "Chris Jaehnen",
      "userId": "09906998703988827501"
     },
     "user_tz": 240
    },
    "id": "NnJpzefKpZ3R",
    "outputId": "fe1f1f85-459c-41c5-ce76-137239e3dd7e",
    "ExecuteTime": {
     "end_time": "2025-06-18T00:28:53.924805Z",
     "start_time": "2025-06-18T00:28:53.921223Z"
    }
   },
   "source": [
    "from sklearn.neighbors import KNeighborsClassifier\n",
    "\n",
    "classifier = KNeighborsClassifier(n_neighbors=5, metric='minkowski', p=2)\n",
    "classifier.fit(X_train, y_train)"
   ],
   "outputs": [
    {
     "data": {
      "text/plain": [
       "KNeighborsClassifier()"
      ],
      "text/html": [
       "<style>#sk-container-id-2 {\n",
       "  /* Definition of color scheme common for light and dark mode */\n",
       "  --sklearn-color-text: #000;\n",
       "  --sklearn-color-text-muted: #666;\n",
       "  --sklearn-color-line: gray;\n",
       "  /* Definition of color scheme for unfitted estimators */\n",
       "  --sklearn-color-unfitted-level-0: #fff5e6;\n",
       "  --sklearn-color-unfitted-level-1: #f6e4d2;\n",
       "  --sklearn-color-unfitted-level-2: #ffe0b3;\n",
       "  --sklearn-color-unfitted-level-3: chocolate;\n",
       "  /* Definition of color scheme for fitted estimators */\n",
       "  --sklearn-color-fitted-level-0: #f0f8ff;\n",
       "  --sklearn-color-fitted-level-1: #d4ebff;\n",
       "  --sklearn-color-fitted-level-2: #b3dbfd;\n",
       "  --sklearn-color-fitted-level-3: cornflowerblue;\n",
       "\n",
       "  /* Specific color for light theme */\n",
       "  --sklearn-color-text-on-default-background: var(--sg-text-color, var(--theme-code-foreground, var(--jp-content-font-color1, black)));\n",
       "  --sklearn-color-background: var(--sg-background-color, var(--theme-background, var(--jp-layout-color0, white)));\n",
       "  --sklearn-color-border-box: var(--sg-text-color, var(--theme-code-foreground, var(--jp-content-font-color1, black)));\n",
       "  --sklearn-color-icon: #696969;\n",
       "\n",
       "  @media (prefers-color-scheme: dark) {\n",
       "    /* Redefinition of color scheme for dark theme */\n",
       "    --sklearn-color-text-on-default-background: var(--sg-text-color, var(--theme-code-foreground, var(--jp-content-font-color1, white)));\n",
       "    --sklearn-color-background: var(--sg-background-color, var(--theme-background, var(--jp-layout-color0, #111)));\n",
       "    --sklearn-color-border-box: var(--sg-text-color, var(--theme-code-foreground, var(--jp-content-font-color1, white)));\n",
       "    --sklearn-color-icon: #878787;\n",
       "  }\n",
       "}\n",
       "\n",
       "#sk-container-id-2 {\n",
       "  color: var(--sklearn-color-text);\n",
       "}\n",
       "\n",
       "#sk-container-id-2 pre {\n",
       "  padding: 0;\n",
       "}\n",
       "\n",
       "#sk-container-id-2 input.sk-hidden--visually {\n",
       "  border: 0;\n",
       "  clip: rect(1px 1px 1px 1px);\n",
       "  clip: rect(1px, 1px, 1px, 1px);\n",
       "  height: 1px;\n",
       "  margin: -1px;\n",
       "  overflow: hidden;\n",
       "  padding: 0;\n",
       "  position: absolute;\n",
       "  width: 1px;\n",
       "}\n",
       "\n",
       "#sk-container-id-2 div.sk-dashed-wrapped {\n",
       "  border: 1px dashed var(--sklearn-color-line);\n",
       "  margin: 0 0.4em 0.5em 0.4em;\n",
       "  box-sizing: border-box;\n",
       "  padding-bottom: 0.4em;\n",
       "  background-color: var(--sklearn-color-background);\n",
       "}\n",
       "\n",
       "#sk-container-id-2 div.sk-container {\n",
       "  /* jupyter's `normalize.less` sets `[hidden] { display: none; }`\n",
       "     but bootstrap.min.css set `[hidden] { display: none !important; }`\n",
       "     so we also need the `!important` here to be able to override the\n",
       "     default hidden behavior on the sphinx rendered scikit-learn.org.\n",
       "     See: https://github.com/scikit-learn/scikit-learn/issues/21755 */\n",
       "  display: inline-block !important;\n",
       "  position: relative;\n",
       "}\n",
       "\n",
       "#sk-container-id-2 div.sk-text-repr-fallback {\n",
       "  display: none;\n",
       "}\n",
       "\n",
       "div.sk-parallel-item,\n",
       "div.sk-serial,\n",
       "div.sk-item {\n",
       "  /* draw centered vertical line to link estimators */\n",
       "  background-image: linear-gradient(var(--sklearn-color-text-on-default-background), var(--sklearn-color-text-on-default-background));\n",
       "  background-size: 2px 100%;\n",
       "  background-repeat: no-repeat;\n",
       "  background-position: center center;\n",
       "}\n",
       "\n",
       "/* Parallel-specific style estimator block */\n",
       "\n",
       "#sk-container-id-2 div.sk-parallel-item::after {\n",
       "  content: \"\";\n",
       "  width: 100%;\n",
       "  border-bottom: 2px solid var(--sklearn-color-text-on-default-background);\n",
       "  flex-grow: 1;\n",
       "}\n",
       "\n",
       "#sk-container-id-2 div.sk-parallel {\n",
       "  display: flex;\n",
       "  align-items: stretch;\n",
       "  justify-content: center;\n",
       "  background-color: var(--sklearn-color-background);\n",
       "  position: relative;\n",
       "}\n",
       "\n",
       "#sk-container-id-2 div.sk-parallel-item {\n",
       "  display: flex;\n",
       "  flex-direction: column;\n",
       "}\n",
       "\n",
       "#sk-container-id-2 div.sk-parallel-item:first-child::after {\n",
       "  align-self: flex-end;\n",
       "  width: 50%;\n",
       "}\n",
       "\n",
       "#sk-container-id-2 div.sk-parallel-item:last-child::after {\n",
       "  align-self: flex-start;\n",
       "  width: 50%;\n",
       "}\n",
       "\n",
       "#sk-container-id-2 div.sk-parallel-item:only-child::after {\n",
       "  width: 0;\n",
       "}\n",
       "\n",
       "/* Serial-specific style estimator block */\n",
       "\n",
       "#sk-container-id-2 div.sk-serial {\n",
       "  display: flex;\n",
       "  flex-direction: column;\n",
       "  align-items: center;\n",
       "  background-color: var(--sklearn-color-background);\n",
       "  padding-right: 1em;\n",
       "  padding-left: 1em;\n",
       "}\n",
       "\n",
       "\n",
       "/* Toggleable style: style used for estimator/Pipeline/ColumnTransformer box that is\n",
       "clickable and can be expanded/collapsed.\n",
       "- Pipeline and ColumnTransformer use this feature and define the default style\n",
       "- Estimators will overwrite some part of the style using the `sk-estimator` class\n",
       "*/\n",
       "\n",
       "/* Pipeline and ColumnTransformer style (default) */\n",
       "\n",
       "#sk-container-id-2 div.sk-toggleable {\n",
       "  /* Default theme specific background. It is overwritten whether we have a\n",
       "  specific estimator or a Pipeline/ColumnTransformer */\n",
       "  background-color: var(--sklearn-color-background);\n",
       "}\n",
       "\n",
       "/* Toggleable label */\n",
       "#sk-container-id-2 label.sk-toggleable__label {\n",
       "  cursor: pointer;\n",
       "  display: flex;\n",
       "  width: 100%;\n",
       "  margin-bottom: 0;\n",
       "  padding: 0.5em;\n",
       "  box-sizing: border-box;\n",
       "  text-align: center;\n",
       "  align-items: start;\n",
       "  justify-content: space-between;\n",
       "  gap: 0.5em;\n",
       "}\n",
       "\n",
       "#sk-container-id-2 label.sk-toggleable__label .caption {\n",
       "  font-size: 0.6rem;\n",
       "  font-weight: lighter;\n",
       "  color: var(--sklearn-color-text-muted);\n",
       "}\n",
       "\n",
       "#sk-container-id-2 label.sk-toggleable__label-arrow:before {\n",
       "  /* Arrow on the left of the label */\n",
       "  content: \"▸\";\n",
       "  float: left;\n",
       "  margin-right: 0.25em;\n",
       "  color: var(--sklearn-color-icon);\n",
       "}\n",
       "\n",
       "#sk-container-id-2 label.sk-toggleable__label-arrow:hover:before {\n",
       "  color: var(--sklearn-color-text);\n",
       "}\n",
       "\n",
       "/* Toggleable content - dropdown */\n",
       "\n",
       "#sk-container-id-2 div.sk-toggleable__content {\n",
       "  max-height: 0;\n",
       "  max-width: 0;\n",
       "  overflow: hidden;\n",
       "  text-align: left;\n",
       "  /* unfitted */\n",
       "  background-color: var(--sklearn-color-unfitted-level-0);\n",
       "}\n",
       "\n",
       "#sk-container-id-2 div.sk-toggleable__content.fitted {\n",
       "  /* fitted */\n",
       "  background-color: var(--sklearn-color-fitted-level-0);\n",
       "}\n",
       "\n",
       "#sk-container-id-2 div.sk-toggleable__content pre {\n",
       "  margin: 0.2em;\n",
       "  border-radius: 0.25em;\n",
       "  color: var(--sklearn-color-text);\n",
       "  /* unfitted */\n",
       "  background-color: var(--sklearn-color-unfitted-level-0);\n",
       "}\n",
       "\n",
       "#sk-container-id-2 div.sk-toggleable__content.fitted pre {\n",
       "  /* unfitted */\n",
       "  background-color: var(--sklearn-color-fitted-level-0);\n",
       "}\n",
       "\n",
       "#sk-container-id-2 input.sk-toggleable__control:checked~div.sk-toggleable__content {\n",
       "  /* Expand drop-down */\n",
       "  max-height: 200px;\n",
       "  max-width: 100%;\n",
       "  overflow: auto;\n",
       "}\n",
       "\n",
       "#sk-container-id-2 input.sk-toggleable__control:checked~label.sk-toggleable__label-arrow:before {\n",
       "  content: \"▾\";\n",
       "}\n",
       "\n",
       "/* Pipeline/ColumnTransformer-specific style */\n",
       "\n",
       "#sk-container-id-2 div.sk-label input.sk-toggleable__control:checked~label.sk-toggleable__label {\n",
       "  color: var(--sklearn-color-text);\n",
       "  background-color: var(--sklearn-color-unfitted-level-2);\n",
       "}\n",
       "\n",
       "#sk-container-id-2 div.sk-label.fitted input.sk-toggleable__control:checked~label.sk-toggleable__label {\n",
       "  background-color: var(--sklearn-color-fitted-level-2);\n",
       "}\n",
       "\n",
       "/* Estimator-specific style */\n",
       "\n",
       "/* Colorize estimator box */\n",
       "#sk-container-id-2 div.sk-estimator input.sk-toggleable__control:checked~label.sk-toggleable__label {\n",
       "  /* unfitted */\n",
       "  background-color: var(--sklearn-color-unfitted-level-2);\n",
       "}\n",
       "\n",
       "#sk-container-id-2 div.sk-estimator.fitted input.sk-toggleable__control:checked~label.sk-toggleable__label {\n",
       "  /* fitted */\n",
       "  background-color: var(--sklearn-color-fitted-level-2);\n",
       "}\n",
       "\n",
       "#sk-container-id-2 div.sk-label label.sk-toggleable__label,\n",
       "#sk-container-id-2 div.sk-label label {\n",
       "  /* The background is the default theme color */\n",
       "  color: var(--sklearn-color-text-on-default-background);\n",
       "}\n",
       "\n",
       "/* On hover, darken the color of the background */\n",
       "#sk-container-id-2 div.sk-label:hover label.sk-toggleable__label {\n",
       "  color: var(--sklearn-color-text);\n",
       "  background-color: var(--sklearn-color-unfitted-level-2);\n",
       "}\n",
       "\n",
       "/* Label box, darken color on hover, fitted */\n",
       "#sk-container-id-2 div.sk-label.fitted:hover label.sk-toggleable__label.fitted {\n",
       "  color: var(--sklearn-color-text);\n",
       "  background-color: var(--sklearn-color-fitted-level-2);\n",
       "}\n",
       "\n",
       "/* Estimator label */\n",
       "\n",
       "#sk-container-id-2 div.sk-label label {\n",
       "  font-family: monospace;\n",
       "  font-weight: bold;\n",
       "  display: inline-block;\n",
       "  line-height: 1.2em;\n",
       "}\n",
       "\n",
       "#sk-container-id-2 div.sk-label-container {\n",
       "  text-align: center;\n",
       "}\n",
       "\n",
       "/* Estimator-specific */\n",
       "#sk-container-id-2 div.sk-estimator {\n",
       "  font-family: monospace;\n",
       "  border: 1px dotted var(--sklearn-color-border-box);\n",
       "  border-radius: 0.25em;\n",
       "  box-sizing: border-box;\n",
       "  margin-bottom: 0.5em;\n",
       "  /* unfitted */\n",
       "  background-color: var(--sklearn-color-unfitted-level-0);\n",
       "}\n",
       "\n",
       "#sk-container-id-2 div.sk-estimator.fitted {\n",
       "  /* fitted */\n",
       "  background-color: var(--sklearn-color-fitted-level-0);\n",
       "}\n",
       "\n",
       "/* on hover */\n",
       "#sk-container-id-2 div.sk-estimator:hover {\n",
       "  /* unfitted */\n",
       "  background-color: var(--sklearn-color-unfitted-level-2);\n",
       "}\n",
       "\n",
       "#sk-container-id-2 div.sk-estimator.fitted:hover {\n",
       "  /* fitted */\n",
       "  background-color: var(--sklearn-color-fitted-level-2);\n",
       "}\n",
       "\n",
       "/* Specification for estimator info (e.g. \"i\" and \"?\") */\n",
       "\n",
       "/* Common style for \"i\" and \"?\" */\n",
       "\n",
       ".sk-estimator-doc-link,\n",
       "a:link.sk-estimator-doc-link,\n",
       "a:visited.sk-estimator-doc-link {\n",
       "  float: right;\n",
       "  font-size: smaller;\n",
       "  line-height: 1em;\n",
       "  font-family: monospace;\n",
       "  background-color: var(--sklearn-color-background);\n",
       "  border-radius: 1em;\n",
       "  height: 1em;\n",
       "  width: 1em;\n",
       "  text-decoration: none !important;\n",
       "  margin-left: 0.5em;\n",
       "  text-align: center;\n",
       "  /* unfitted */\n",
       "  border: var(--sklearn-color-unfitted-level-1) 1pt solid;\n",
       "  color: var(--sklearn-color-unfitted-level-1);\n",
       "}\n",
       "\n",
       ".sk-estimator-doc-link.fitted,\n",
       "a:link.sk-estimator-doc-link.fitted,\n",
       "a:visited.sk-estimator-doc-link.fitted {\n",
       "  /* fitted */\n",
       "  border: var(--sklearn-color-fitted-level-1) 1pt solid;\n",
       "  color: var(--sklearn-color-fitted-level-1);\n",
       "}\n",
       "\n",
       "/* On hover */\n",
       "div.sk-estimator:hover .sk-estimator-doc-link:hover,\n",
       ".sk-estimator-doc-link:hover,\n",
       "div.sk-label-container:hover .sk-estimator-doc-link:hover,\n",
       ".sk-estimator-doc-link:hover {\n",
       "  /* unfitted */\n",
       "  background-color: var(--sklearn-color-unfitted-level-3);\n",
       "  color: var(--sklearn-color-background);\n",
       "  text-decoration: none;\n",
       "}\n",
       "\n",
       "div.sk-estimator.fitted:hover .sk-estimator-doc-link.fitted:hover,\n",
       ".sk-estimator-doc-link.fitted:hover,\n",
       "div.sk-label-container:hover .sk-estimator-doc-link.fitted:hover,\n",
       ".sk-estimator-doc-link.fitted:hover {\n",
       "  /* fitted */\n",
       "  background-color: var(--sklearn-color-fitted-level-3);\n",
       "  color: var(--sklearn-color-background);\n",
       "  text-decoration: none;\n",
       "}\n",
       "\n",
       "/* Span, style for the box shown on hovering the info icon */\n",
       ".sk-estimator-doc-link span {\n",
       "  display: none;\n",
       "  z-index: 9999;\n",
       "  position: relative;\n",
       "  font-weight: normal;\n",
       "  right: .2ex;\n",
       "  padding: .5ex;\n",
       "  margin: .5ex;\n",
       "  width: min-content;\n",
       "  min-width: 20ex;\n",
       "  max-width: 50ex;\n",
       "  color: var(--sklearn-color-text);\n",
       "  box-shadow: 2pt 2pt 4pt #999;\n",
       "  /* unfitted */\n",
       "  background: var(--sklearn-color-unfitted-level-0);\n",
       "  border: .5pt solid var(--sklearn-color-unfitted-level-3);\n",
       "}\n",
       "\n",
       ".sk-estimator-doc-link.fitted span {\n",
       "  /* fitted */\n",
       "  background: var(--sklearn-color-fitted-level-0);\n",
       "  border: var(--sklearn-color-fitted-level-3);\n",
       "}\n",
       "\n",
       ".sk-estimator-doc-link:hover span {\n",
       "  display: block;\n",
       "}\n",
       "\n",
       "/* \"?\"-specific style due to the `<a>` HTML tag */\n",
       "\n",
       "#sk-container-id-2 a.estimator_doc_link {\n",
       "  float: right;\n",
       "  font-size: 1rem;\n",
       "  line-height: 1em;\n",
       "  font-family: monospace;\n",
       "  background-color: var(--sklearn-color-background);\n",
       "  border-radius: 1rem;\n",
       "  height: 1rem;\n",
       "  width: 1rem;\n",
       "  text-decoration: none;\n",
       "  /* unfitted */\n",
       "  color: var(--sklearn-color-unfitted-level-1);\n",
       "  border: var(--sklearn-color-unfitted-level-1) 1pt solid;\n",
       "}\n",
       "\n",
       "#sk-container-id-2 a.estimator_doc_link.fitted {\n",
       "  /* fitted */\n",
       "  border: var(--sklearn-color-fitted-level-1) 1pt solid;\n",
       "  color: var(--sklearn-color-fitted-level-1);\n",
       "}\n",
       "\n",
       "/* On hover */\n",
       "#sk-container-id-2 a.estimator_doc_link:hover {\n",
       "  /* unfitted */\n",
       "  background-color: var(--sklearn-color-unfitted-level-3);\n",
       "  color: var(--sklearn-color-background);\n",
       "  text-decoration: none;\n",
       "}\n",
       "\n",
       "#sk-container-id-2 a.estimator_doc_link.fitted:hover {\n",
       "  /* fitted */\n",
       "  background-color: var(--sklearn-color-fitted-level-3);\n",
       "}\n",
       "</style><div id=\"sk-container-id-2\" class=\"sk-top-container\"><div class=\"sk-text-repr-fallback\"><pre>KNeighborsClassifier()</pre><b>In a Jupyter environment, please rerun this cell to show the HTML representation or trust the notebook. <br />On GitHub, the HTML representation is unable to render, please try loading this page with nbviewer.org.</b></div><div class=\"sk-container\" hidden><div class=\"sk-item\"><div class=\"sk-estimator fitted sk-toggleable\"><input class=\"sk-toggleable__control sk-hidden--visually\" id=\"sk-estimator-id-2\" type=\"checkbox\" checked><label for=\"sk-estimator-id-2\" class=\"sk-toggleable__label fitted sk-toggleable__label-arrow\"><div><div>KNeighborsClassifier</div></div><div><a class=\"sk-estimator-doc-link fitted\" rel=\"noreferrer\" target=\"_blank\" href=\"https://scikit-learn.org/1.6/modules/generated/sklearn.neighbors.KNeighborsClassifier.html\">?<span>Documentation for KNeighborsClassifier</span></a><span class=\"sk-estimator-doc-link fitted\">i<span>Fitted</span></span></div></label><div class=\"sk-toggleable__content fitted\"><pre>KNeighborsClassifier()</pre></div> </div></div></div></div>"
      ]
     },
     "execution_count": 29,
     "metadata": {},
     "output_type": "execute_result"
    }
   ],
   "execution_count": 29
  },
  {
   "cell_type": "markdown",
   "metadata": {
    "id": "nafIxYk7pZ3R"
   },
   "source": "## Predict Test Set Results"
  },
  {
   "metadata": {
    "ExecuteTime": {
     "end_time": "2025-06-18T00:28:53.957539Z",
     "start_time": "2025-06-18T00:28:53.951392Z"
    }
   },
   "cell_type": "code",
   "source": "y_pred = classifier.predict(X_test)",
   "outputs": [],
   "execution_count": 30
  },
  {
   "cell_type": "code",
   "metadata": {
    "colab": {
     "base_uri": "https://localhost:8080/"
    },
    "executionInfo": {
     "elapsed": 10,
     "status": "ok",
     "timestamp": 1724893743069,
     "user": {
      "displayName": "Chris Jaehnen",
      "userId": "09906998703988827501"
     },
     "user_tz": 240
    },
    "id": "suxI7pvqpZ3R",
    "outputId": "4fa74b72-2e5e-4227-cf85-e82c56050fce",
    "ExecuteTime": {
     "end_time": "2025-06-18T00:28:53.978663Z",
     "start_time": "2025-06-18T00:28:53.974823Z"
    }
   },
   "source": [
    "y_pred_actual = np.concatenate((y_pred.reshape(len(y_pred), 1), y_test.reshape(len(y_test), 1)), 1)\n",
    "print(*y_pred_actual[:25], sep='\\n')"
   ],
   "outputs": [
    {
     "name": "stdout",
     "output_type": "stream",
     "text": [
      "[0 0]\n",
      "[0 0]\n",
      "[0 0]\n",
      "[0 0]\n",
      "[0 0]\n",
      "[0 0]\n",
      "[0 0]\n",
      "[1 1]\n",
      "[0 0]\n",
      "[1 0]\n",
      "[0 0]\n",
      "[0 0]\n",
      "[0 0]\n",
      "[0 0]\n",
      "[0 0]\n",
      "[1 0]\n",
      "[0 0]\n",
      "[0 0]\n",
      "[1 1]\n",
      "[0 0]\n",
      "[0 0]\n",
      "[1 1]\n",
      "[0 0]\n",
      "[1 1]\n",
      "[0 0]\n"
     ]
    }
   ],
   "execution_count": 31
  },
  {
   "cell_type": "markdown",
   "metadata": {
    "id": "fiOSt2U8pZ3R"
   },
   "source": "## Make Confusion Matrix"
  },
  {
   "cell_type": "code",
   "metadata": {
    "colab": {
     "base_uri": "https://localhost:8080/"
    },
    "executionInfo": {
     "elapsed": 238,
     "status": "ok",
     "timestamp": 1724893743299,
     "user": {
      "displayName": "Chris Jaehnen",
      "userId": "09906998703988827501"
     },
     "user_tz": 240
    },
    "id": "wkoYr12mpZ3R",
    "outputId": "41aa4e0e-26d3-4078-ba86-3aafdf5a8883",
    "ExecuteTime": {
     "end_time": "2025-06-18T00:28:53.996932Z",
     "start_time": "2025-06-18T00:28:53.994125Z"
    }
   },
   "source": [
    "from sklearn.metrics import confusion_matrix, accuracy_score\n",
    "\n",
    "cm = confusion_matrix(y_test, y_pred)"
   ],
   "outputs": [],
   "execution_count": 32
  },
  {
   "metadata": {
    "ExecuteTime": {
     "end_time": "2025-06-18T00:28:54.014254Z",
     "start_time": "2025-06-18T00:28:54.012074Z"
    }
   },
   "cell_type": "code",
   "source": "print(cm)",
   "outputs": [
    {
     "name": "stdout",
     "output_type": "stream",
     "text": [
      "[[64  4]\n",
      " [ 3 29]]\n"
     ]
    }
   ],
   "execution_count": 33
  },
  {
   "metadata": {},
   "cell_type": "markdown",
   "source": [
    "Results:\n",
    "\n",
    "* $64$ true negatives\n",
    "* $4$ false positives\n",
    "* $3$ false negatives\n",
    "* $29$ true positives"
   ]
  },
  {
   "metadata": {},
   "cell_type": "markdown",
   "source": "## Compute Accuracy Score"
  },
  {
   "metadata": {
    "ExecuteTime": {
     "end_time": "2025-06-18T00:28:54.037875Z",
     "start_time": "2025-06-18T00:28:54.033230Z"
    }
   },
   "cell_type": "code",
   "source": [
    "from sklearn.metrics import accuracy_score\n",
    "\n",
    "accuracy_score(y_test, y_pred)"
   ],
   "outputs": [
    {
     "data": {
      "text/plain": [
       "0.93"
      ]
     },
     "execution_count": 34,
     "metadata": {},
     "output_type": "execute_result"
    }
   ],
   "execution_count": 34
  },
  {
   "metadata": {},
   "cell_type": "markdown",
   "source": [
    "Results:\n",
    "\n",
    "Model is $93\\%$ accurate."
   ]
  },
  {
   "cell_type": "markdown",
   "metadata": {
    "id": "xbG6WN_ypZ3S"
   },
   "source": "## Visualize Training Set Results"
  },
  {
   "metadata": {
    "ExecuteTime": {
     "end_time": "2025-06-18T00:28:54.075192Z",
     "start_time": "2025-06-18T00:28:54.069415Z"
    }
   },
   "cell_type": "code",
   "source": [
    "from matplotlib.colors import ListedColormap\n",
    "from opengood.py_ml_plot import display_classification_plot"
   ],
   "outputs": [
    {
     "name": "stdout",
     "output_type": "stream",
     "text": [
      "opengood.py_ml_plot imported\n"
     ]
    }
   ],
   "execution_count": 35
  },
  {
   "cell_type": "code",
   "metadata": {
    "colab": {
     "base_uri": "https://localhost:8080/"
    },
    "id": "dtb-7TYHpZ3S",
    "outputId": "7e6ccd71-ee57-4ccc-ec2c-a04932dda356",
    "ExecuteTime": {
     "end_time": "2025-06-18T00:30:48.694849Z",
     "start_time": "2025-06-18T00:28:54.099159Z"
    }
   },
   "source": [
    "display_classification_plot(X_train, y_train, sc, classifier, ListedColormap(('salmon', 'dodgerblue')),\n",
    "                            'K-NN (Training Set)', 'Age', 'Estimated Salary')"
   ],
   "outputs": [
    {
     "ename": "KeyboardInterrupt",
     "evalue": "",
     "output_type": "error",
     "traceback": [
      "\u001B[31m---------------------------------------------------------------------------\u001B[39m",
      "\u001B[31mKeyboardInterrupt\u001B[39m                         Traceback (most recent call last)",
      "\u001B[36mCell\u001B[39m\u001B[36m \u001B[39m\u001B[32mIn[36]\u001B[39m\u001B[32m, line 1\u001B[39m\n\u001B[32m----> \u001B[39m\u001B[32m1\u001B[39m \u001B[43mdisplay_classification_plot\u001B[49m\u001B[43m(\u001B[49m\u001B[43mX_train\u001B[49m\u001B[43m,\u001B[49m\u001B[43m \u001B[49m\u001B[43my_train\u001B[49m\u001B[43m,\u001B[49m\u001B[43m \u001B[49m\u001B[43msc\u001B[49m\u001B[43m,\u001B[49m\u001B[43m \u001B[49m\u001B[43mclassifier\u001B[49m\u001B[43m,\u001B[49m\u001B[43m \u001B[49m\u001B[43mListedColormap\u001B[49m\u001B[43m(\u001B[49m\u001B[43m(\u001B[49m\u001B[33;43m'\u001B[39;49m\u001B[33;43msalmon\u001B[39;49m\u001B[33;43m'\u001B[39;49m\u001B[43m,\u001B[49m\u001B[43m \u001B[49m\u001B[33;43m'\u001B[39;49m\u001B[33;43mdodgerblue\u001B[39;49m\u001B[33;43m'\u001B[39;49m\u001B[43m)\u001B[49m\u001B[43m)\u001B[49m\u001B[43m,\u001B[49m\n\u001B[32m      2\u001B[39m \u001B[43m                            \u001B[49m\u001B[33;43m'\u001B[39;49m\u001B[33;43mK-NN (Training Set)\u001B[39;49m\u001B[33;43m'\u001B[39;49m\u001B[43m,\u001B[49m\u001B[43m \u001B[49m\u001B[33;43m'\u001B[39;49m\u001B[33;43mAge\u001B[39;49m\u001B[33;43m'\u001B[39;49m\u001B[43m,\u001B[49m\u001B[43m \u001B[49m\u001B[33;43m'\u001B[39;49m\u001B[33;43mEstimated Salary\u001B[39;49m\u001B[33;43m'\u001B[39;49m\u001B[43m)\u001B[49m\n",
      "\u001B[36mFile \u001B[39m\u001B[32m~/workspace/opengood-aio/python/ai-training/.venv/lib/python3.13/site-packages/opengood/py_ml_plot/classification_plot.py:28\u001B[39m, in \u001B[36mdisplay_classification_plot\u001B[39m\u001B[34m(x, y, feature_scaler, classifier, cmap, title, x_label, y_label)\u001B[39m\n\u001B[32m     18\u001B[39m x_set, y_set = feature_scaler.inverse_transform(x), y\n\u001B[32m     19\u001B[39m x1, x2 = np.meshgrid(\n\u001B[32m     20\u001B[39m     np.arange(start=x_set[:, \u001B[32m0\u001B[39m].min() - \u001B[32m10\u001B[39m, stop=x_set[:, \u001B[32m0\u001B[39m].max() + \u001B[32m10\u001B[39m, step=\u001B[32m0.25\u001B[39m),\n\u001B[32m     21\u001B[39m     np.arange(\n\u001B[32m     22\u001B[39m         start=x_set[:, \u001B[32m1\u001B[39m].min() - \u001B[32m1000\u001B[39m, stop=x_set[:, \u001B[32m1\u001B[39m].max() + \u001B[32m1000\u001B[39m, step=\u001B[32m0.25\u001B[39m\n\u001B[32m     23\u001B[39m     ),\n\u001B[32m     24\u001B[39m )\n\u001B[32m     25\u001B[39m plt.contourf(\n\u001B[32m     26\u001B[39m     x1,\n\u001B[32m     27\u001B[39m     x2,\n\u001B[32m---> \u001B[39m\u001B[32m28\u001B[39m     \u001B[43mclassifier\u001B[49m\u001B[43m.\u001B[49m\u001B[43mpredict\u001B[49m\u001B[43m(\u001B[49m\n\u001B[32m     29\u001B[39m \u001B[43m        \u001B[49m\u001B[43mfeature_scaler\u001B[49m\u001B[43m.\u001B[49m\u001B[43mtransform\u001B[49m\u001B[43m(\u001B[49m\u001B[43mnp\u001B[49m\u001B[43m.\u001B[49m\u001B[43marray\u001B[49m\u001B[43m(\u001B[49m\u001B[43m[\u001B[49m\u001B[43mx1\u001B[49m\u001B[43m.\u001B[49m\u001B[43mravel\u001B[49m\u001B[43m(\u001B[49m\u001B[43m)\u001B[49m\u001B[43m,\u001B[49m\u001B[43m \u001B[49m\u001B[43mx2\u001B[49m\u001B[43m.\u001B[49m\u001B[43mravel\u001B[49m\u001B[43m(\u001B[49m\u001B[43m)\u001B[49m\u001B[43m]\u001B[49m\u001B[43m)\u001B[49m\u001B[43m.\u001B[49m\u001B[43mT\u001B[49m\u001B[43m)\u001B[49m\n\u001B[32m     30\u001B[39m \u001B[43m    \u001B[49m\u001B[43m)\u001B[49m.reshape(x1.shape),\n\u001B[32m     31\u001B[39m     alpha=\u001B[32m0.75\u001B[39m,\n\u001B[32m     32\u001B[39m     cmap=cmap,\n\u001B[32m     33\u001B[39m )\n\u001B[32m     34\u001B[39m plt.xlim(x1.min(), x1.max())\n\u001B[32m     35\u001B[39m plt.ylim(x2.min(), x2.max())\n",
      "\u001B[36mFile \u001B[39m\u001B[32m~/workspace/opengood-aio/python/ai-training/.venv/lib/python3.13/site-packages/sklearn/neighbors/_classification.py:298\u001B[39m, in \u001B[36mKNeighborsClassifier.predict\u001B[39m\u001B[34m(self, X)\u001B[39m\n\u001B[32m    296\u001B[39m \u001B[38;5;28;01mfor\u001B[39;00m k, classes_k \u001B[38;5;129;01min\u001B[39;00m \u001B[38;5;28menumerate\u001B[39m(classes_):\n\u001B[32m    297\u001B[39m     \u001B[38;5;28;01mif\u001B[39;00m weights \u001B[38;5;129;01mis\u001B[39;00m \u001B[38;5;28;01mNone\u001B[39;00m:\n\u001B[32m--> \u001B[39m\u001B[32m298\u001B[39m         mode, _ = \u001B[43m_mode\u001B[49m\u001B[43m(\u001B[49m\u001B[43m_y\u001B[49m\u001B[43m[\u001B[49m\u001B[43mneigh_ind\u001B[49m\u001B[43m,\u001B[49m\u001B[43m \u001B[49m\u001B[43mk\u001B[49m\u001B[43m]\u001B[49m\u001B[43m,\u001B[49m\u001B[43m \u001B[49m\u001B[43maxis\u001B[49m\u001B[43m=\u001B[49m\u001B[32;43m1\u001B[39;49m\u001B[43m)\u001B[49m\n\u001B[32m    299\u001B[39m     \u001B[38;5;28;01melse\u001B[39;00m:\n\u001B[32m    300\u001B[39m         mode, _ = weighted_mode(_y[neigh_ind, k], weights, axis=\u001B[32m1\u001B[39m)\n",
      "\u001B[36mFile \u001B[39m\u001B[32m~/workspace/opengood-aio/python/ai-training/.venv/lib/python3.13/site-packages/sklearn/utils/fixes.py:102\u001B[39m, in \u001B[36m_mode\u001B[39m\u001B[34m(a, axis)\u001B[39m\n\u001B[32m    100\u001B[39m \u001B[38;5;28;01mdef\u001B[39;00m\u001B[38;5;250m \u001B[39m\u001B[34m_mode\u001B[39m(a, axis=\u001B[32m0\u001B[39m):\n\u001B[32m    101\u001B[39m     \u001B[38;5;28;01mif\u001B[39;00m sp_version >= parse_version(\u001B[33m\"\u001B[39m\u001B[33m1.9.0\u001B[39m\u001B[33m\"\u001B[39m):\n\u001B[32m--> \u001B[39m\u001B[32m102\u001B[39m         mode = \u001B[43mscipy\u001B[49m\u001B[43m.\u001B[49m\u001B[43mstats\u001B[49m\u001B[43m.\u001B[49m\u001B[43mmode\u001B[49m\u001B[43m(\u001B[49m\u001B[43ma\u001B[49m\u001B[43m,\u001B[49m\u001B[43m \u001B[49m\u001B[43maxis\u001B[49m\u001B[43m=\u001B[49m\u001B[43maxis\u001B[49m\u001B[43m,\u001B[49m\u001B[43m \u001B[49m\u001B[43mkeepdims\u001B[49m\u001B[43m=\u001B[49m\u001B[38;5;28;43;01mTrue\u001B[39;49;00m\u001B[43m)\u001B[49m\n\u001B[32m    103\u001B[39m         \u001B[38;5;28;01mif\u001B[39;00m sp_version >= parse_version(\u001B[33m\"\u001B[39m\u001B[33m1.10.999\u001B[39m\u001B[33m\"\u001B[39m):\n\u001B[32m    104\u001B[39m             \u001B[38;5;66;03m# scipy.stats.mode has changed returned array shape with axis=None\u001B[39;00m\n\u001B[32m    105\u001B[39m             \u001B[38;5;66;03m# and keepdims=True, see https://github.com/scipy/scipy/pull/17561\u001B[39;00m\n\u001B[32m    106\u001B[39m             \u001B[38;5;28;01mif\u001B[39;00m axis \u001B[38;5;129;01mis\u001B[39;00m \u001B[38;5;28;01mNone\u001B[39;00m:\n",
      "\u001B[36mFile \u001B[39m\u001B[32m~/workspace/opengood-aio/python/ai-training/.venv/lib/python3.13/site-packages/scipy/stats/_axis_nan_policy.py:660\u001B[39m, in \u001B[36m_axis_nan_policy_factory.<locals>.axis_nan_policy_decorator.<locals>.axis_nan_policy_wrapper\u001B[39m\u001B[34m(***failed resolving arguments***)\u001B[39m\n\u001B[32m    657\u001B[39m         \u001B[38;5;28;01mreturn\u001B[39;00m result_to_tuple(hypotest_fun_out(*samples, **kwds), n_out)\n\u001B[32m    659\u001B[39m x = np.moveaxis(x, axis, \u001B[32m0\u001B[39m)\n\u001B[32m--> \u001B[39m\u001B[32m660\u001B[39m res = \u001B[43mnp\u001B[49m\u001B[43m.\u001B[49m\u001B[43mapply_along_axis\u001B[49m\u001B[43m(\u001B[49m\u001B[43mhypotest_fun\u001B[49m\u001B[43m,\u001B[49m\u001B[43m \u001B[49m\u001B[43maxis\u001B[49m\u001B[43m=\u001B[49m\u001B[32;43m0\u001B[39;49m\u001B[43m,\u001B[49m\u001B[43m \u001B[49m\u001B[43marr\u001B[49m\u001B[43m=\u001B[49m\u001B[43mx\u001B[49m\u001B[43m)\u001B[49m\n\u001B[32m    661\u001B[39m res = _add_reduced_axes(res, reduced_axes, keepdims)\n\u001B[32m    662\u001B[39m \u001B[38;5;28;01mreturn\u001B[39;00m tuple_to_result(*res)\n",
      "\u001B[36mFile \u001B[39m\u001B[32m~/workspace/opengood-aio/python/ai-training/.venv/lib/python3.13/site-packages/numpy/lib/_shape_base_impl.py:409\u001B[39m, in \u001B[36mapply_along_axis\u001B[39m\u001B[34m(func1d, axis, arr, *args, **kwargs)\u001B[39m\n\u001B[32m    407\u001B[39m buff[ind0] = res\n\u001B[32m    408\u001B[39m \u001B[38;5;28;01mfor\u001B[39;00m ind \u001B[38;5;129;01min\u001B[39;00m inds:\n\u001B[32m--> \u001B[39m\u001B[32m409\u001B[39m     buff[ind] = asanyarray(\u001B[43mfunc1d\u001B[49m\u001B[43m(\u001B[49m\u001B[43minarr_view\u001B[49m\u001B[43m[\u001B[49m\u001B[43mind\u001B[49m\u001B[43m]\u001B[49m\u001B[43m,\u001B[49m\u001B[43m \u001B[49m\u001B[43m*\u001B[49m\u001B[43margs\u001B[49m\u001B[43m,\u001B[49m\u001B[43m \u001B[49m\u001B[43m*\u001B[49m\u001B[43m*\u001B[49m\u001B[43mkwargs\u001B[49m\u001B[43m)\u001B[49m)\n\u001B[32m    411\u001B[39m res = transpose(buff, buff_permute)\n\u001B[32m    412\u001B[39m \u001B[38;5;28;01mreturn\u001B[39;00m conv.wrap(res)\n",
      "\u001B[36mFile \u001B[39m\u001B[32m~/workspace/opengood-aio/python/ai-training/.venv/lib/python3.13/site-packages/scipy/stats/_axis_nan_policy.py:657\u001B[39m, in \u001B[36m_axis_nan_policy_factory.<locals>.axis_nan_policy_decorator.<locals>.axis_nan_policy_wrapper.<locals>.hypotest_fun\u001B[39m\u001B[34m(x)\u001B[39m\n\u001B[32m    655\u001B[39m \u001B[38;5;28;01mif\u001B[39;00m is_too_small(samples, kwds):\n\u001B[32m    656\u001B[39m     \u001B[38;5;28;01mreturn\u001B[39;00m np.full(n_out, NaN)\n\u001B[32m--> \u001B[39m\u001B[32m657\u001B[39m \u001B[38;5;28;01mreturn\u001B[39;00m result_to_tuple(\u001B[43mhypotest_fun_out\u001B[49m\u001B[43m(\u001B[49m\u001B[43m*\u001B[49m\u001B[43msamples\u001B[49m\u001B[43m,\u001B[49m\u001B[43m \u001B[49m\u001B[43m*\u001B[49m\u001B[43m*\u001B[49m\u001B[43mkwds\u001B[49m\u001B[43m)\u001B[49m, n_out)\n",
      "\u001B[36mFile \u001B[39m\u001B[32m~/workspace/opengood-aio/python/ai-training/.venv/lib/python3.13/site-packages/scipy/stats/_stats_py.py:565\u001B[39m, in \u001B[36mmode\u001B[39m\u001B[34m(a, axis, nan_policy, keepdims)\u001B[39m\n\u001B[32m    562\u001B[39m     NaN = _get_nan(a)\n\u001B[32m    563\u001B[39m     \u001B[38;5;28;01mreturn\u001B[39;00m ModeResult(*np.array([NaN, \u001B[32m0\u001B[39m], dtype=NaN.dtype))\n\u001B[32m--> \u001B[39m\u001B[32m565\u001B[39m vals, cnts = \u001B[43mnp\u001B[49m\u001B[43m.\u001B[49m\u001B[43munique\u001B[49m\u001B[43m(\u001B[49m\u001B[43ma\u001B[49m\u001B[43m,\u001B[49m\u001B[43m \u001B[49m\u001B[43mreturn_counts\u001B[49m\u001B[43m=\u001B[49m\u001B[38;5;28;43;01mTrue\u001B[39;49;00m\u001B[43m)\u001B[49m\n\u001B[32m    566\u001B[39m modes, counts = vals[cnts.argmax()], cnts.max()\n\u001B[32m    567\u001B[39m \u001B[38;5;28;01mreturn\u001B[39;00m ModeResult(modes[()], counts[()])\n",
      "\u001B[36mFile \u001B[39m\u001B[32m~/workspace/opengood-aio/python/ai-training/.venv/lib/python3.13/site-packages/numpy/lib/_arraysetops_impl.py:286\u001B[39m, in \u001B[36munique\u001B[39m\u001B[34m(ar, return_index, return_inverse, return_counts, axis, equal_nan)\u001B[39m\n\u001B[32m    284\u001B[39m ar = np.asanyarray(ar)\n\u001B[32m    285\u001B[39m \u001B[38;5;28;01mif\u001B[39;00m axis \u001B[38;5;129;01mis\u001B[39;00m \u001B[38;5;28;01mNone\u001B[39;00m:\n\u001B[32m--> \u001B[39m\u001B[32m286\u001B[39m     ret = \u001B[43m_unique1d\u001B[49m\u001B[43m(\u001B[49m\u001B[43mar\u001B[49m\u001B[43m,\u001B[49m\u001B[43m \u001B[49m\u001B[43mreturn_index\u001B[49m\u001B[43m,\u001B[49m\u001B[43m \u001B[49m\u001B[43mreturn_inverse\u001B[49m\u001B[43m,\u001B[49m\u001B[43m \u001B[49m\u001B[43mreturn_counts\u001B[49m\u001B[43m,\u001B[49m\n\u001B[32m    287\u001B[39m \u001B[43m                    \u001B[49m\u001B[43mequal_nan\u001B[49m\u001B[43m=\u001B[49m\u001B[43mequal_nan\u001B[49m\u001B[43m,\u001B[49m\u001B[43m \u001B[49m\u001B[43minverse_shape\u001B[49m\u001B[43m=\u001B[49m\u001B[43mar\u001B[49m\u001B[43m.\u001B[49m\u001B[43mshape\u001B[49m\u001B[43m,\u001B[49m\u001B[43m \u001B[49m\u001B[43maxis\u001B[49m\u001B[43m=\u001B[49m\u001B[38;5;28;43;01mNone\u001B[39;49;00m\u001B[43m)\u001B[49m\n\u001B[32m    288\u001B[39m     \u001B[38;5;28;01mreturn\u001B[39;00m _unpack_tuple(ret)\n\u001B[32m    290\u001B[39m \u001B[38;5;66;03m# axis was specified and not None\u001B[39;00m\n",
      "\u001B[36mFile \u001B[39m\u001B[32m~/workspace/opengood-aio/python/ai-training/.venv/lib/python3.13/site-packages/numpy/lib/_arraysetops_impl.py:381\u001B[39m, in \u001B[36m_unique1d\u001B[39m\u001B[34m(ar, return_index, return_inverse, return_counts, equal_nan, inverse_shape, axis)\u001B[39m\n\u001B[32m    379\u001B[39m \u001B[38;5;28;01mif\u001B[39;00m return_counts:\n\u001B[32m    380\u001B[39m     idx = np.concatenate(np.nonzero(mask) + ([mask.size],))\n\u001B[32m--> \u001B[39m\u001B[32m381\u001B[39m     ret += (\u001B[43mnp\u001B[49m\u001B[43m.\u001B[49m\u001B[43mdiff\u001B[49m\u001B[43m(\u001B[49m\u001B[43midx\u001B[49m\u001B[43m)\u001B[49m,)\n\u001B[32m    382\u001B[39m \u001B[38;5;28;01mreturn\u001B[39;00m ret\n",
      "\u001B[36mFile \u001B[39m\u001B[32m~/workspace/opengood-aio/python/ai-training/.venv/lib/python3.13/site-packages/numpy/lib/_function_base_impl.py:1495\u001B[39m, in \u001B[36mdiff\u001B[39m\u001B[34m(a, n, axis, prepend, append)\u001B[39m\n\u001B[32m   1492\u001B[39m slice2 = \u001B[38;5;28mtuple\u001B[39m(slice2)\n\u001B[32m   1494\u001B[39m op = not_equal \u001B[38;5;28;01mif\u001B[39;00m a.dtype == np.bool \u001B[38;5;28;01melse\u001B[39;00m subtract\n\u001B[32m-> \u001B[39m\u001B[32m1495\u001B[39m \u001B[38;5;28;01mfor\u001B[39;00m _ \u001B[38;5;129;01min\u001B[39;00m \u001B[38;5;28;43mrange\u001B[39;49m\u001B[43m(\u001B[49m\u001B[43mn\u001B[49m\u001B[43m)\u001B[49m:\n\u001B[32m   1496\u001B[39m     a = op(a[slice1], a[slice2])\n\u001B[32m   1498\u001B[39m \u001B[38;5;28;01mreturn\u001B[39;00m a\n",
      "\u001B[31mKeyboardInterrupt\u001B[39m: "
     ]
    }
   ],
   "execution_count": 36
  },
  {
   "cell_type": "markdown",
   "metadata": {
    "id": "XY57_DHOpZ3S"
   },
   "source": "## Visualize Test Set Results"
  },
  {
   "cell_type": "code",
   "metadata": {
    "colab": {
     "background_save": true
    },
    "id": "DupUtKrwpZ3S",
    "ExecuteTime": {
     "end_time": "2025-06-18T00:30:48.717047Z",
     "start_time": "2025-06-18T00:25:55.223501Z"
    }
   },
   "source": [
    "display_classification_plot(X_test, y_test, sc, classifier, ListedColormap(('salmon', 'dodgerblue')),\n",
    "                            'K-NN (Test Set)', 'Age', 'Estimated Salary')"
   ],
   "outputs": [
    {
     "name": "stderr",
     "output_type": "stream",
     "text": [
      "/var/folders/12/tsb5ccqx5_32fy1lg_yqpddh0000gn/T/ipykernel_71532/3140891340.py:11: UserWarning: *c* argument looks like a single numeric RGB or RGBA sequence, which should be avoided as value-mapping will have precedence in case its length matches with *x* & *y*.  Please use the *color* keyword-argument or provide a 2D array with a single row if you intend to specify the same RGB or RGBA value for all points.\n",
      "  plt.scatter(X_set[y_set == j, 0], X_set[y_set == j, 1], c=ListedColormap(('salmon', 'dodgerblue'))(i), label=j)\n"
     ]
    },
    {
     "data": {
      "text/plain": [
       "<Figure size 640x480 with 1 Axes>"
      ],
      "image/png": "[encoded data removed]"
     },
     "metadata": {},
     "output_type": "display_data"
    }
   ],
   "execution_count": 18
  },
  {
   "metadata": {},
   "cell_type": "markdown",
   "source": [
    "## Interpreting Results\n",
    "\n",
    "* The following items outline the 2D plots:\n",
    "\t* The red region represents 0 classifier (customer who did not buy the SUV)\n",
    "\t* The blue region represents 1 classifier (customer who bought the SUV)\n",
    "\t* Each data point represents one customer\n",
    "\t* Red data points = 0 classifier\n",
    "\t* Blue data points = 1 classifier\n",
    "* Correct prediction data points are where data point color is the same as the region\n",
    "* Incorrect prediction data points are where data point color is different from the region\n",
    "* Prediction boundary is boundary between red and blue prediction regions\n",
    "\t* Where the classifier separates two classes\n",
    "* **Prediction curve of K-NN model is a curve because the model is a non-linear classifier**\n",
    "* Prediction curve catches most red data points in the red region"
   ]
  },
  {
   "metadata": {
    "id": "vqVcvkbOpZ3R"
   },
   "cell_type": "markdown",
   "source": "## Predict New Result"
  },
  {
   "metadata": {},
   "cell_type": "code",
   "outputs": [],
   "execution_count": null,
   "source": "print(classifier.predict(sc.transform([[30, 87000]])))"
  }
 ],
 "metadata": {
  "colab": {
   "name": "",
   "version": ""
  },
  "datalore": {
   "base_environment": "default",
   "computation_mode": "JUPYTER",
   "package_manager": "pip",
   "packages": [],
   "report_row_ids": [
    "zEqYpz1bNJX82QZZEkPrwW",
    "Qp2djTPDCjr1D9f0LiFZKh",
    "tRHYEYH8hlZdERSTBdgv3S",
    "w76dJmYpRfMh4YCssE0Sls",
    "lGjv0eE93kNooyxpmhWiG8",
    "kC7kRhcTgS4pgPcevYYASr",
    "6uxvgAXW61cB3Cn4EeAJ9d",
    "FBAmGhZ28A6PQoTeIgA3bt",
    "CYK6Jvz5av3bj8z99GlCoo",
    "1wvnXK4ogbsxb4mPB4o98u",
    "Sff9cSNnDtj0oLerXUbQ6D",
    "WBYdV1XWlvDWsMY8t0mZCl",
    "ATNZeDkAz4wS6zX9cJISV8",
    "DC7lEoSrYEe2ZauGTHR6Dr",
    "Qjq7Otmswm8nP8GSgkRrRG",
    "hmjtt1uJ7MDXFq2dXhVIn0",
    "3sGKa7FVo7AfII1W4v2fHm",
    "69LByTBYtIfRkZW8pkGjs0",
    "upkVLRPBAUc6hZ5QdBixTK",
    "6Fxg880YxjkCRcf7OMnOhx",
    "70IxZ5Q4pPofY8TN3r4Kcz",
    "8Atk8pbKrbrli9nyF6HVcs",
    "Bfuk4nKWQdNlv9wQB8KHfS",
    "UgB6NiJUpXtWlzsyRz6zIN",
    "AUeLv0EKQWv90iQ9y5swaL",
    "h9dveNLWEJyuj9WGxzXjiw",
    "niH4gwr0CAGeUlf6XwiQ9u"
   ],
   "version": 3
  },
  "kernelspec": {
   "display_name": "Python",
   "language": "python",
   "name": "python"
  }
 },
 "nbformat": 4,
 "nbformat_minor": 0
}
