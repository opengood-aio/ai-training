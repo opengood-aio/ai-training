{
 "nbformat": 4,
 "nbformat_minor": 0,
 "metadata": {
  "colab": {
   "name": "upper_confidence_bound.ipynb",
   "provenance": [],
   "collapsed_sections": [],
   "authorship_tag": "ABX9TyM070CpUDOaHkkIWHwMqelP"
  },
  "kernelspec": {
   "name": "python3",
   "display_name": "Python 3"
  }
 },
 "cells": [
  {
   "cell_type": "markdown",
   "metadata": {
    "id": "QJdrJJQUv3-k",
    "colab_type": "text"
   },
   "source": [
    "# Upper Confidence Bound (UCB)"
   ]
  },
  {
   "metadata": {},
   "cell_type": "markdown",
   "source": [
    "## Dataset\n",
    "\n",
    "### Layout\n",
    "\n",
    "* Columns:\n",
    "\t* Ads (10 columns total)\n",
    "* Rows: 100s of observations\n",
    "\t* Each row represents a round where a customer clicked on a particular ad\n",
    "\t    * 1 = customer clicked on ad\n",
    "        * 0 = customer did not click on ad\n",
    "\n",
    "### Background\n",
    "\n",
    "* One is a data scientist working for one's favorite automobile company\n",
    "* General manager of the company wants one to optimize the online advertising of the company's new SUV to determine the best ad among many ads in order to optimize the click-through rate (CTR) of customers clicking on the ad\n",
    "* Company's advertising team prepared ads with 10 different designs\n",
    "    * Each design correlates to a column in the dataset representing an ad\n",
    "* Company will show ads, one at a time, to customers when they connect to a Web page on the company's Website\n",
    "* Company will record whether a customer clicked on an ad\n",
    "* UCB algorithm will start with the first customer by showing a random ad and record if a customer clicked on the ad (yes = 1, no = 0)\n",
    "* UCB algorithm will show ads to subsequent customers and record if one clicked on the ad\n",
    "* This will be performed for ~10,000 users\n",
    "* Each ad in the dataset has a fixed conversion rate\n",
    "    * This is a required assumption of the UCB algorithm\n",
    "    * Over time, each ad will convert the same rate of users\n",
    "\n",
    "#### Important to Understand\n",
    "\n",
    "* In reality, users connect to a Web page one by one, and are successively shown ads\n",
    "* This happens in real-time and is a dynamic process\n",
    "* The data in the dataset was not collected as a static process over a controlled period of time\n",
    "* The only way to simulate this process in real-time is:\n",
    "    1. Real World\n",
    "        * Make 10 real ads right now\n",
    "        * Open Google Ad Words account\n",
    "        * Show ads to real users connecting to the Website in real-time\n",
    "        * Not an option as it is costly\n",
    "    2. Simulation\n",
    "        * Simulation is given by the dataset\n",
    "        * Each row represents a user shown an ad\n",
    "        * Each column represents 1 of the 10 ads shown\n",
    "        * The dataset is a simulation in the sense that each time a user connects to a Web page, it tells one, even if not known in reality, which ad the user of the row clicked on\n",
    "        * The dataset shows the different ads a user clicked on and ones a user did not\n",
    "        * Since one would not know which ads a user clicked on in reality, the simulation is the only way to run the UCB algorithm, if one is not running it in a real world advertising campaign\n",
    "\n",
    "### Goals\n",
    "\n",
    "* Build UCB model to determine the best ad that will optimize the number of customers clicking on it\n",
    "\n",
    "![UCB Algorithm](UCB_Algorithm.png)"
   ]
  },
  {
   "cell_type": "markdown",
   "metadata": {
    "id": "2XCjepjJwEv-",
    "colab_type": "text"
   },
   "source": "## Import Libraries"
  },
  {
   "cell_type": "code",
   "metadata": {
    "id": "l_mBkG3YwNTt",
    "colab_type": "code",
    "colab": {},
    "ExecuteTime": {
     "end_time": "2025-05-15T00:04:33.434485Z",
     "start_time": "2025-05-15T00:04:32.954001Z"
    }
   },
   "source": [
    "import numpy as np\n",
    "import matplotlib.pyplot as plt\n",
    "import pandas as pd"
   ],
   "outputs": [],
   "execution_count": 1
  },
  {
   "cell_type": "markdown",
   "metadata": {
    "id": "npqlXjaNwYTv",
    "colab_type": "text"
   },
   "source": "## Import Dataset"
  },
  {
   "cell_type": "code",
   "metadata": {
    "id": "HMJfUVLVwcFc",
    "colab_type": "code",
    "colab": {},
    "ExecuteTime": {
     "end_time": "2025-05-15T00:04:33.449002Z",
     "start_time": "2025-05-15T00:04:33.442995Z"
    }
   },
   "source": [
    "dataset = pd.read_csv('Ads_CTR_Optimisation.csv')"
   ],
   "outputs": [],
   "execution_count": 2
  },
  {
   "cell_type": "markdown",
   "metadata": {
    "id": "PaSbots_wfoB",
    "colab_type": "text"
   },
   "source": "## Implement UCB Algorithm"
  },
  {
   "metadata": {},
   "cell_type": "markdown",
   "source": "### Step 1"
  },
  {
   "metadata": {},
   "cell_type": "markdown",
   "source": "#### Initialize Variables"
  },
  {
   "metadata": {},
   "cell_type": "markdown",
   "source": [
    "* `N` is the number of rounds\n",
    "* `d` is the number of ads\n",
    "* `ads_selected` is the full list of ads selected over all rounds\n",
    "* `numbers_of_selections` (represents $N_i(n)$) is the number of ads $i$ selected up to round $n$\n",
    "* `sums_of_rewards` (represents $R_i(n)$) is the sum of rewards for ad $i$ up to round $n$\n",
    "* `total_reward` is the total sum of all sums of rewards over all rounds\n",
    "\n",
    "**Note:** Variables for $N_i(n)$ and $R_i(n)$ complete step 1 of the UCB algorithm."
   ]
  },
  {
   "cell_type": "code",
   "metadata": {
    "id": "V1K7jgDFwkRd",
    "colab_type": "code",
    "colab": {},
    "ExecuteTime": {
     "end_time": "2025-05-15T00:04:33.535749Z",
     "start_time": "2025-05-15T00:04:33.533543Z"
    }
   },
   "source": [
    "N = 10000\n",
    "d = 10\n",
    "ads_selected = []\n",
    "numbers_of_selections = [0] * d\n",
    "sums_of_rewards = [0] * d\n",
    "total_reward = 0"
   ],
   "outputs": [],
   "execution_count": 3
  },
  {
   "metadata": {},
   "cell_type": "markdown",
   "source": "### Step 2"
  },
  {
   "metadata": {},
   "cell_type": "markdown",
   "source": "#### Import Additional Libraries"
  },
  {
   "metadata": {
    "ExecuteTime": {
     "end_time": "2025-05-15T00:04:33.545951Z",
     "start_time": "2025-05-15T00:04:33.544118Z"
    }
   },
   "cell_type": "code",
   "source": "import math",
   "outputs": [],
   "execution_count": 4
  },
  {
   "metadata": {},
   "cell_type": "markdown",
   "source": "#### Initialize Additional Variables"
  },
  {
   "metadata": {},
   "cell_type": "markdown",
   "source": "* `infinity` is the value for a super high number used for the `upper_bound` in the 1st round to select the 1st ad"
  },
  {
   "metadata": {
    "ExecuteTime": {
     "end_time": "2025-05-15T00:04:33.555711Z",
     "start_time": "2025-05-15T00:04:33.553903Z"
    }
   },
   "cell_type": "code",
   "source": "infinity = 1e400",
   "outputs": [],
   "execution_count": 5
  },
  {
   "metadata": {},
   "cell_type": "markdown",
   "source": "#### For Loops and Formulas"
  },
  {
   "metadata": {},
   "cell_type": "markdown",
   "source": [
    "* `n` iterator variable represents round number\n",
    "* `ad` is the index of the currently selected ad for round `n`\n",
    "    * Is initialized to `0` to begin the UCB algorithm for round `n`\n",
    "* `max_upper_bound` is the maximum UCB\n",
    "    * UCB will be computed for each ad\n",
    "    * UCB of each ad will be compared to the max UCB\n",
    "    * Is initialized to `0` to begin the UCB algorithm for round `n`\n",
    "    * Is updated when a UCB is larger than the previous max UCB\n",
    "* `i` iterator variable represents ad number\n",
    "* `average_reward` (represents $\\hat{r}_i(n)$) is the average reward of ad $i$ up to round $n$\n",
    "* `delta_i` (represents $\\Delta_i(n)$) is the confidence interval at round $n$\n",
    "* `upper_bound` is the upper bound for ad $i$ at round $n$\n",
    "* If condition is required because there is no ad selection for the 1st round and one cannot divide by $0$ to get $\\hat{r}_i(n)$\n",
    "    * Initial `upper_bound` must be a super high number so it will be guaranteed to be selected in the 1st round\n",
    "\n",
    "**Note:** Variables for $\\hat{r}_i(n)$ and $\\Delta_i(n)$ complete step 2 of the UCB algorithm."
   ]
  },
  {
   "metadata": {},
   "cell_type": "markdown",
   "source": "### Step 3"
  },
  {
   "metadata": {},
   "cell_type": "markdown",
   "source": "#### Select Ads"
  },
  {
   "metadata": {},
   "cell_type": "markdown",
   "source": [
    "* If condition checks if the `upper_bound` is greater than the `max_upper_bound`\n",
    "    * If yes, `max_upper_bound` is assigned the value of `upper_bound`, becoming the new max upper bound\n",
    "* Assign `ad` selected to index `i`\n",
    "* `ad` (represents $UCB\\ \\hat{r}_i(n) + \\Delta_i(n)$) is the ad selected when it has the highest UCB\n",
    "    * Means when `upper_bound > max_upper_bound`\n",
    "* After the 1st 10 rounds, the control flow of the code will move into the 1st if condition and never go back into the else condition since all ads will have been selected once at that point\n",
    "* Append `ad` selected to `ads_selected` list\n",
    "* Update `numbers_of_selections` list at index of `ad`, for the ad selected, and increment it by 1\n",
    "* Update `sums_of_rewards` list at index of `ad`, for the ad selected, and increment by the reward value from the dataset at row `n` and column `ad`\n",
    "* Update `total_reward` incrementing it by the value of `reward` for ad selected\n",
    "\n",
    "**Note:** Variables for $UCB\\ \\hat{r}_i(n) + \\Delta_i(n)$ complete step 3 of the UCB algorithm."
   ]
  },
  {
   "metadata": {
    "ExecuteTime": {
     "end_time": "2025-05-15T00:04:33.623096Z",
     "start_time": "2025-05-15T00:04:33.564198Z"
    }
   },
   "cell_type": "code",
   "source": [
    "for n in range(0, N):\n",
    "    ad = 0\n",
    "    max_upper_bound = 0\n",
    "    for i in range(0, d):\n",
    "        if numbers_of_selections[i] > 0:\n",
    "            average_reward = sums_of_rewards[i] / numbers_of_selections[i]\n",
    "            delta_i = math.sqrt(3 / 2 * math.log(n + 1) / numbers_of_selections[i])\n",
    "            upper_bound = average_reward + delta_i\n",
    "        else:\n",
    "            upper_bound = infinity\n",
    "        if upper_bound > max_upper_bound:\n",
    "            max_upper_bound = upper_bound\n",
    "            ad = i\n",
    "    ads_selected.append(ad)\n",
    "    numbers_of_selections[ad] += 1\n",
    "    reward = dataset.values[n, ad]\n",
    "    sums_of_rewards[ad] = sums_of_rewards[ad] + reward\n",
    "    total_reward += reward"
   ],
   "outputs": [],
   "execution_count": 6
  },
  {
   "cell_type": "markdown",
   "metadata": {
    "id": "AXftWcjDwsYj",
    "colab_type": "text"
   },
   "source": "## Visualize Results"
  },
  {
   "metadata": {},
   "cell_type": "markdown",
   "source": [
    "* Plot histogram\n",
    "    * x-axis: Different ads (0-9 by index)\n",
    "    * y-axis: Number of times an ad was selected"
   ]
  },
  {
   "cell_type": "code",
   "metadata": {
    "id": "eVyD_EDXwtkK",
    "colab_type": "code",
    "outputId": "45843b84-4a0f-453f-be68-07cd203a72ae",
    "executionInfo": {
     "status": "ok",
     "timestamp": 1589542170224,
     "user_tz": -240,
     "elapsed": 1854,
     "user": {
      "displayName": "Hadelin de Ponteves",
      "photoUrl": "https://lh3.googleusercontent.com/a-/AOh14GhEuXdT7eQweUmRPW8_laJuPggSK6hfvpl5a6WBaA=s64",
      "userId": "15047218817161520419"
     }
    },
    "colab": {
     "base_uri": "https://localhost:8080/",
     "height": 295
    },
    "ExecuteTime": {
     "end_time": "2025-05-15T00:04:33.720472Z",
     "start_time": "2025-05-15T00:04:33.632187Z"
    }
   },
   "source": [
    "plt.hist(ads_selected)\n",
    "plt.title('Histogram of Ads Selections')\n",
    "plt.xlabel('Ads')\n",
    "plt.ylabel('Number of Times Each Ad was Selected')\n",
    "plt.show()"
   ],
   "outputs": [
    {
     "data": {
      "text/plain": [
       "<Figure size 640x480 with 1 Axes>"
      ],
      "image/png": "[encoded data removed]"
     },
     "metadata": {},
     "output_type": "display_data"
    }
   ],
   "execution_count": 7
  },
  {
   "metadata": {},
   "cell_type": "markdown",
   "source": "## Analyzing Results"
  },
  {
   "metadata": {},
   "cell_type": "markdown",
   "source": [
    "* Ad #5 (index 4) was selected the most\n",
    "* Means it had the highest CTR of all the ads\n",
    "* This ad had the best image of the SUV attracting the most customers\n",
    "\n",
    "*One needs to determine how many rounds it took the UCB algorithm to identify the ad with the highest CTR*\n",
    "\n",
    "* In order to determine this, one needs to change the number of rounds `N` to a lesser value to identify the highest CTR faster\n",
    "    * For example, $N = 5000$\n",
    "    * At this value, it was still able to identify the ad with the highest CTR\n",
    "    * It was still able to identify the ad with the highest CTR at:\n",
    "        * $N = 2500$\n",
    "        * $N = 1000$\n",
    "    * At $N = 500$, it was not able to identify the ad with the highest CTR\n",
    "    * This means 500 rounds is not enough to identify the ad with the highest CTR"
   ]
  }
 ]
}
