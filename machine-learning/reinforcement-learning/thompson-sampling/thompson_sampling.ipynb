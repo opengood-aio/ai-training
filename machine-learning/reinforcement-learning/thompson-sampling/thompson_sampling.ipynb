{
 "nbformat": 4,
 "nbformat_minor": 0,
 "metadata": {
  "colab": {
   "name": "thompson_sampling.ipynb",
   "provenance": [],
   "collapsed_sections": [],
   "authorship_tag": "ABX9TyOWlFPLsrbGkpUxpwTyQ3dX"
  },
  "kernelspec": {
   "name": "python3",
   "display_name": "Python 3"
  }
 },
 "cells": [
  {
   "cell_type": "markdown",
   "metadata": {
    "id": "vPKTIRAtx232",
    "colab_type": "text"
   },
   "source": [
    "# Thompson Sampling"
   ]
  },
  {
   "metadata": {},
   "cell_type": "markdown",
   "source": [
    "## Dataset\n",
    "\n",
    "### Layout\n",
    "\n",
    "* Columns:\n",
    "\t* Ads (10 columns total)\n",
    "* Rows: 100s of observations\n",
    "\t* Each row represents a round where a customer clicked on a particular ad\n",
    "\t    * 1 = customer clicked on ad\n",
    "        * 0 = customer did not click on ad\n",
    "\n",
    "### Background\n",
    "\n",
    "* One is a data scientist working for one's favorite automobile company\n",
    "* General manager of the company wants one to optimize the online advertising of the company's new SUV to determine the best ad among many ads in order to optimize the click-through rate (CTR) of customers clicking on the ad\n",
    "* Company's advertising team prepared ads with 10 different designs\n",
    "    * Each design correlates to a column in the dataset representing an ad\n",
    "* Company will show ads, one at a time, to customers when they connect to a Web page on the company's Website\n",
    "* Company will record whether a customer clicked on an ad\n",
    "* Thompson Sampling algorithm will start with the first customer by showing a random ad and record if a customer clicked on the ad (yes = 1, no = 0)\n",
    "* Thompson Sampling algorithm will show ads to subsequent customers and record if one clicked on the ad\n",
    "* This will be performed for ~10,000 users\n",
    "* Each ad in the dataset has a fixed conversion rate\n",
    "    * This is a required assumption of the Thompson Sampling algorithm\n",
    "    * Over time, each ad will convert the same rate of users\n",
    "\n",
    "#### Important to Understand\n",
    "\n",
    "* In reality, users connect to a Web page one by one, and are successively shown ads\n",
    "* This happens in real-time and is a dynamic process\n",
    "* The data in the dataset was not collected as a static process over a controlled period of time\n",
    "* The only way to simulate this process in real-time is:\n",
    "    1. Real World\n",
    "        * Make 10 real ads right now\n",
    "        * Open Google Ad Words account\n",
    "        * Show ads to real users connecting to the Website in real-time\n",
    "        * Not an option as it is costly\n",
    "    2. Simulation\n",
    "        * Simulation is given by the dataset\n",
    "        * Each row represents a user shown an ad\n",
    "        * Each column represents 1 of the 10 ads shown\n",
    "        * The dataset is a simulation in the sense that each time a user connects to a Web page, it tells one, even if not known in reality, which ad the user of the row clicked on\n",
    "        * The dataset shows the different ads a user clicked on and ones a user did not\n",
    "        * Since one would not know which ads a user clicked on in reality, the simulation is the only way to run the Thompson Sampling algorithm, if one is not running it in a real world advertising campaign\n",
    "\n",
    "### Goals\n",
    "\n",
    "* Build Thompson Sampling model to determine the best ad that will optimize the number of customers clicking on it\n",
    "* Find the ad with the highest CTR\n",
    "\n",
    "![Thompson Sampling Algorithm](Thompson_Sampling_Algorithm.png)"
   ]
  },
  {
   "cell_type": "markdown",
   "metadata": {
    "id": "PqPv9zpAx-EE",
    "colab_type": "text"
   },
   "source": "## Import Libraries"
  },
  {
   "cell_type": "code",
   "metadata": {
    "id": "lozuE-Fhx_QB",
    "colab_type": "code",
    "colab": {},
    "ExecuteTime": {
     "end_time": "2025-05-28T20:08:10.619478Z",
     "start_time": "2025-05-28T20:08:10.608222Z"
    }
   },
   "source": [
    "import numpy as np\n",
    "import matplotlib.pyplot as plt\n",
    "import pandas as pd"
   ],
   "outputs": [],
   "execution_count": 22
  },
  {
   "cell_type": "markdown",
   "metadata": {
    "id": "iqpVk5HhyGmO",
    "colab_type": "text"
   },
   "source": "## Import Dataset"
  },
  {
   "cell_type": "code",
   "metadata": {
    "id": "kY4zzW4hyNfA",
    "colab_type": "code",
    "colab": {},
    "ExecuteTime": {
     "end_time": "2025-05-28T20:08:10.641853Z",
     "start_time": "2025-05-28T20:08:10.636621Z"
    }
   },
   "source": "dataset = pd.read_csv('Ads_CTR_Optimisation.csv')",
   "outputs": [],
   "execution_count": 23
  },
  {
   "cell_type": "markdown",
   "metadata": {
    "id": "WqoXeWOYyQhB",
    "colab_type": "text"
   },
   "source": "## Implementing Thompson Sampling Algorithm"
  },
  {
   "metadata": {},
   "cell_type": "markdown",
   "source": "### Step 1"
  },
  {
   "metadata": {},
   "cell_type": "markdown",
   "source": "#### Initialize Variables"
  },
  {
   "metadata": {},
   "cell_type": "markdown",
   "source": [
    "* `N` is the number of rounds\n",
    "* `d` is the number of ads\n",
    "* `ads_selected` is the full list of ads selected over all rounds\n",
    "* `numbers_of_rewards_1` (represents $N^1_i(n)$) is the number of times ad $i$ got reward 1 up to round $n$\n",
    "* `numbers_of_rewards_0` (represents $N^0_i(n)$) is the number of times ad $i$ got reward 0 up to round $n$\n",
    "* `total_reward` is the total sum of all sums of rewards over all rounds\n",
    "\n",
    "**Note:** Variables for $N^1_i(n)$ and $N^0_i(n)$ complete step 1 of the Thompson Sampling algorithm."
   ]
  },
  {
   "cell_type": "code",
   "metadata": {
    "id": "PCiHv51pyUII",
    "colab_type": "code",
    "colab": {},
    "ExecuteTime": {
     "end_time": "2025-05-28T20:10:49.066876Z",
     "start_time": "2025-05-28T20:10:49.063383Z"
    }
   },
   "source": [
    "N = 10000\n",
    "d = 10\n",
    "ads_selected = []\n",
    "numbers_of_rewards_1 = [0] * d\n",
    "numbers_of_rewards_0 = [0] * d\n",
    "total_reward = 0"
   ],
   "outputs": [],
   "execution_count": 34
  },
  {
   "metadata": {},
   "cell_type": "markdown",
   "source": "### Step 2"
  },
  {
   "metadata": {},
   "cell_type": "markdown",
   "source": "#### Import Additional Libraries"
  },
  {
   "metadata": {},
   "cell_type": "markdown",
   "source": "* `random` is used for randomly selecting a value from each ad's `i` distribution for each round `n`"
  },
  {
   "metadata": {
    "ExecuteTime": {
     "end_time": "2025-05-28T20:08:10.664017Z",
     "start_time": "2025-05-28T20:08:10.662101Z"
    }
   },
   "cell_type": "code",
   "source": "import random",
   "outputs": [],
   "execution_count": 25
  },
  {
   "metadata": {},
   "cell_type": "markdown",
   "source": "#### For Loops and Formulas"
  },
  {
   "metadata": {},
   "cell_type": "markdown",
   "source": [
    "* `n` iterator variable represents round number\n",
    "* `ad` is the index of the currently selected ad for round `n`\n",
    "    * Is initialized to `0` to begin the Thompson Sampling algorithm for round `n`\n",
    "* `max_random` is the maximum random value selected from all the ads' distributions for round `n`\n",
    "    * Random distribution value will be selected for each ad\n",
    "    * Random value of each ad will be compared to the max random value\n",
    "    * Is initialized to `0` to begin the Thompson Sampling algorithm for round `n`\n",
    "    * Is updated when a random value is larger than the previous max random value\n",
    "* `i` iterator variable represents ad number\n",
    "* `random_beta` (represents $\\theta_i(n)$) is the random draw (value) taken from the beta (Bernoulli) distribution parameters $\\beta(N_i^1(n) + 1,\\ N_i^0(n) + 1)$ for round `n`\n",
    "\n",
    "**Note:** Variable for $\\theta_i(n)$ complete step 2 of the Thompson Sampling algorithm."
   ]
  },
  {
   "metadata": {},
   "cell_type": "markdown",
   "source": "### Step 3"
  },
  {
   "metadata": {},
   "cell_type": "markdown",
   "source": "#### Select Ads"
  },
  {
   "metadata": {},
   "cell_type": "markdown",
   "source": [
    "* If condition checks if the `random_beta` is greater than the `max_random`\n",
    "    * If yes, `max_random` is assigned the value of `random_beta`, becoming the new max random value\n",
    "* Assign `ad` selected to index `i`\n",
    "* `ad` is the ad selected when it has the highest random value\n",
    "    * Means when `random_beta > max_random`\n",
    "* Append `ad` selected to `ads_selected` list\n",
    "* Set `reward` using the reward value from the dataset at row `n` and column `ad` for ad selected\n",
    "* If condition checks if the `reward` equals $1$\n",
    "    * If yes, increment `numbers_of_rewards_1` by 1\n",
    "* If condition checks if the `reward` equals $0$\n",
    "    * If yes, increment `numbers_of_rewards_0` by 1\n",
    "* Update `total_reward` by incrementing it by the `reward` value"
   ]
  },
  {
   "metadata": {
    "ExecuteTime": {
     "end_time": "2025-05-28T20:10:51.772665Z",
     "start_time": "2025-05-28T20:10:51.576491Z"
    }
   },
   "cell_type": "code",
   "source": [
    "for n in range(0, N):\n",
    "    ad = 0\n",
    "    max_random = 0\n",
    "    for i in range(0, d):\n",
    "        random_beta = random.betavariate(numbers_of_rewards_1[i] + 1, numbers_of_rewards_0[i] + 1)\n",
    "        if random_beta > max_random:\n",
    "            max_random = random_beta\n",
    "            ad = i\n",
    "    ads_selected.append(ad)\n",
    "    reward = dataset.values[n, ad]\n",
    "    if reward == 1:\n",
    "        numbers_of_rewards_1[ad] += 1\n",
    "    else:\n",
    "        numbers_of_rewards_0[ad] += 1\n",
    "    total_reward += reward"
   ],
   "outputs": [],
   "execution_count": 35
  },
  {
   "cell_type": "markdown",
   "metadata": {
    "id": "tweWsgTHyXhv",
    "colab_type": "text"
   },
   "source": "## Visualize Results"
  },
  {
   "metadata": {},
   "cell_type": "markdown",
   "source": [
    "* Plot histogram\n",
    "    * x-axis: Different ads (0-9 by index)\n",
    "    * y-axis: Number of times an ad was selected"
   ]
  },
  {
   "cell_type": "code",
   "metadata": {
    "id": "k8DJmN06yak3",
    "colab_type": "code",
    "outputId": "82f5fc5a-b478-410e-eeb2-b09c4b72c979",
    "executionInfo": {
     "status": "ok",
     "timestamp": 1586416557302,
     "user_tz": -240,
     "elapsed": 2001,
     "user": {
      "displayName": "Hadelin de Ponteves",
      "photoUrl": "https://lh3.googleusercontent.com/a-/AOh14GhEuXdT7eQweUmRPW8_laJuPggSK6hfvpl5a6WBaA=s64",
      "userId": "15047218817161520419"
     }
    },
    "colab": {
     "base_uri": "https://localhost:8080/",
     "height": 295
    },
    "ExecuteTime": {
     "end_time": "2025-05-28T20:10:53.754184Z",
     "start_time": "2025-05-28T20:10:53.682140Z"
    }
   },
   "source": [
    "plt.hist(ads_selected)\n",
    "plt.title('Histogram of Ads Selections')\n",
    "plt.xlabel('Ads')\n",
    "plt.ylabel('Number of Times Each Ad was Selected')\n",
    "plt.show()"
   ],
   "outputs": [
    {
     "data": {
      "text/plain": [
       "<Figure size 640x480 with 1 Axes>"
      ],
      "image/png": "[encoded data removed]"
     },
     "metadata": {},
     "output_type": "display_data"
    }
   ],
   "execution_count": 36
  },
  {
   "metadata": {},
   "cell_type": "markdown",
   "source": "## Analyzing Results"
  },
  {
   "metadata": {},
   "cell_type": "markdown",
   "source": [
    "* Ad #5 (index 4) was selected the most\n",
    "* Means it had the highest CTR of all the ads\n",
    "* This ad had the best image of the SUV attracting the most customers\n",
    "\n",
    "*One needs to determine how many rounds it took the Thompson Sampling algorithm to identify the ad with the highest CTR*\n",
    "\n",
    "* In order to determine this, one needs to change the number of rounds `N` to a lesser value to identify the highest CTR faster\n",
    "    * For example, $N = 1000$\n",
    "    * At this value, it was still able to identify the ad with the highest CTR\n",
    "    * At $N = 500$, it was able to identify the ad with the highest CTR\n",
    "    * This means 500 rounds is enough to identify the ad with the highest CTR\n",
    "\n",
    "*Was the Thompson Sampling algorithm able to identify the ad with the highest CTR quicker than the UCB algorithm?*\n",
    "\n",
    "* Remember, UCB failed to identify the ad with the highest CTR in 500 rounds\n",
    "* Thompson Sampling was able to identify the ad with the highest CTR in 500 rounds, performing better than UCB\n",
    "* In general, Thompson Sampling will outperform UCB in terms of accuracy and computation speed"
   ]
  }
 ]
}
