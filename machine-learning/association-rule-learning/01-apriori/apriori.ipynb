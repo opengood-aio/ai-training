{
 "nbformat": 4,
 "nbformat_minor": 0,
 "metadata": {
  "colab": {
   "name": "apriori.ipynb",
   "provenance": [],
   "collapsed_sections": []
  },
  "kernelspec": {
   "name": "python3",
   "display_name": "Python 3 (ipykernel)",
   "language": "python"
  }
 },
 "cells": [
  {
   "cell_type": "markdown",
   "metadata": {
    "id": "1fziHl7Ar94J",
    "colab_type": "text"
   },
   "source": [
    "# Apriori"
   ]
  },
  {
   "metadata": {},
   "cell_type": "markdown",
   "source": [
    "## Dataset\n",
    "\n",
    "### Layout\n",
    "\n",
    "* Columns:\n",
    "    * Market store products (20 columns total)\n",
    "* Rows: 1000s of observations\n",
    "    * Each row represents a unique customer transaction of market products purchased\n",
    "\n",
    "### Background\n",
    "\n",
    "* Business owner of market store in French countryside town\n",
    "* Wants to optimize inventory and boost sales\n",
    "* Wants to offer new great deals to customers\n",
    "* Identify the best association rules of market products bought by customers\n",
    "* Deal is *buy this product, then get this product for free*\n",
    "* Hired data scientist to identify the best association rules of market products\n",
    "\n",
    "### Goals\n",
    "\n",
    "* Build Apriori association rule learning model to identify the best association rules of market products to maximize sales potential of customers buying one product and getting an associated product for free"
   ]
  },
  {
   "cell_type": "markdown",
   "metadata": {
    "id": "eiNwni1xsEgT",
    "colab_type": "text"
   },
   "source": "## Import Libraries"
  },
  {
   "cell_type": "code",
   "metadata": {
    "id": "DUF77Qr1vqyM",
    "colab_type": "code",
    "outputId": "c4c2d702-9e4b-414c-bb3e-caa543b487f0",
    "executionInfo": {
     "status": "ok",
     "timestamp": 1589289766171,
     "user_tz": -240,
     "elapsed": 14686,
     "user": {
      "displayName": "Hadelin de Ponteves",
      "photoUrl": "https://lh3.googleusercontent.com/a-/AOh14GhEuXdT7eQweUmRPW8_laJuPggSK6hfvpl5a6WBaA=s64",
      "userId": "15047218817161520419"
     }
    },
    "colab": {
     "base_uri": "https://localhost:8080/",
     "height": 34
    },
    "ExecuteTime": {
     "end_time": "2025-04-16T23:03:38.237347Z",
     "start_time": "2025-04-16T23:03:37.340197Z"
    }
   },
   "source": "!pip3 install apyori",
   "outputs": [
    {
     "name": "stdout",
     "output_type": "stream",
     "text": [
      "\u001B[1;31merror\u001B[0m: \u001B[1mexternally-managed-environment\u001B[0m\r\n",
      "\r\n",
      "\u001B[31m×\u001B[0m This environment is externally managed\r\n",
      "\u001B[31m╰─>\u001B[0m To install Python packages system-wide, try brew install\r\n",
      "\u001B[31m   \u001B[0m xyz, where xyz is the package you are trying to\r\n",
      "\u001B[31m   \u001B[0m install.\r\n",
      "\u001B[31m   \u001B[0m \r\n",
      "\u001B[31m   \u001B[0m If you wish to install a Python library that isn't in Homebrew,\r\n",
      "\u001B[31m   \u001B[0m use a virtual environment:\r\n",
      "\u001B[31m   \u001B[0m \r\n",
      "\u001B[31m   \u001B[0m python3 -m venv path/to/venv\r\n",
      "\u001B[31m   \u001B[0m source path/to/venv/bin/activate\r\n",
      "\u001B[31m   \u001B[0m python3 -m pip install xyz\r\n",
      "\u001B[31m   \u001B[0m \r\n",
      "\u001B[31m   \u001B[0m If you wish to install a Python application that isn't in Homebrew,\r\n",
      "\u001B[31m   \u001B[0m it may be easiest to use 'pipx install xyz', which will manage a\r\n",
      "\u001B[31m   \u001B[0m virtual environment for you. You can install pipx with\r\n",
      "\u001B[31m   \u001B[0m \r\n",
      "\u001B[31m   \u001B[0m brew install pipx\r\n",
      "\u001B[31m   \u001B[0m \r\n",
      "\u001B[31m   \u001B[0m You may restore the old behavior of pip by passing\r\n",
      "\u001B[31m   \u001B[0m the '--break-system-packages' flag to pip, or by adding\r\n",
      "\u001B[31m   \u001B[0m 'break-system-packages = true' to your pip.conf file. The latter\r\n",
      "\u001B[31m   \u001B[0m will permanently disable this error.\r\n",
      "\u001B[31m   \u001B[0m \r\n",
      "\u001B[31m   \u001B[0m If you disable this error, we STRONGLY recommend that you additionally\r\n",
      "\u001B[31m   \u001B[0m pass the '--user' flag to pip, or set 'user = true' in your pip.conf\r\n",
      "\u001B[31m   \u001B[0m file. Failure to do this can result in a broken Homebrew installation.\r\n",
      "\u001B[31m   \u001B[0m \r\n",
      "\u001B[31m   \u001B[0m Read more about this behavior here: <https://peps.python.org/pep-0668/>\r\n",
      "\r\n",
      "\u001B[1;35mnote\u001B[0m: If you believe this is a mistake, please contact your Python installation or OS distribution provider. You can override this, at the risk of breaking your Python installation or OS, by passing --break-system-packages.\r\n",
      "\u001B[1;36mhint\u001B[0m: See PEP 668 for the detailed specification.\r\n"
     ]
    }
   ],
   "execution_count": 1
  },
  {
   "cell_type": "code",
   "metadata": {
    "id": "UJfitBClsJlT",
    "colab_type": "code",
    "colab": {},
    "ExecuteTime": {
     "end_time": "2025-04-16T23:03:40.016634Z",
     "start_time": "2025-04-16T23:03:38.243952Z"
    }
   },
   "source": [
    "import numpy as np\n",
    "import matplotlib.pyplot as plt\n",
    "import pandas as pd"
   ],
   "outputs": [],
   "execution_count": 2
  },
  {
   "cell_type": "markdown",
   "metadata": {
    "id": "vLt-7XUKsXBd",
    "colab_type": "text"
   },
   "source": [
    "## Data Preprocessing"
   ]
  },
  {
   "metadata": {},
   "cell_type": "markdown",
   "source": [
    "* In the `read_csv` function from the Pandas library, the `header` parameter set to `None` ignores the default behavior where the function assumes the first row contains column names\n",
    "* Apyori library function expects the data format to be a list instead of a Pandas data frame\n",
    "    * Iterate through rows in the dataset and add each transaction to the list\n",
    "* Apyori library function also expects all values in a list to be of data type string\n",
    "* Since the dataset contains up to 20 values per list item, in order for the Apyori library to understand when an item has less than 20 values, empty values will be appended with not a number `nan`"
   ]
  },
  {
   "cell_type": "code",
   "metadata": {
    "id": "J_A-UFOAsaDf",
    "colab_type": "code",
    "colab": {},
    "ExecuteTime": {
     "end_time": "2025-04-16T23:03:40.226817Z",
     "start_time": "2025-04-16T23:03:40.081210Z"
    }
   },
   "source": [
    "dataset = pd.read_csv('Market_Basket_Optimization.csv', header=None)\n",
    "transactions = []\n",
    "for i in range(0, len(dataset)):\n",
    "    transactions.append([str(dataset.values[i, j]) for j in range(0, 20)])"
   ],
   "outputs": [],
   "execution_count": 3
  },
  {
   "metadata": {
    "ExecuteTime": {
     "end_time": "2025-04-16T23:03:55.580210Z",
     "start_time": "2025-04-16T23:03:55.577928Z"
    }
   },
   "cell_type": "code",
   "source": "print(*transactions[:10], sep='\\n')",
   "outputs": [
    {
     "name": "stdout",
     "output_type": "stream",
     "text": [
      "['shrimp', 'almonds', 'avocado', 'vegetables mix', 'green grapes', 'whole weat flour', 'yams', 'cottage cheese', 'energy drink', 'tomato juice', 'low fat yogurt', 'green tea', 'honey', 'salad', 'mineral water', 'salmon', 'antioxydant juice', 'frozen smoothie', 'spinach', 'olive oil']\n",
      "['burgers', 'meatballs', 'eggs', 'nan', 'nan', 'nan', 'nan', 'nan', 'nan', 'nan', 'nan', 'nan', 'nan', 'nan', 'nan', 'nan', 'nan', 'nan', 'nan', 'nan']\n",
      "['chutney', 'nan', 'nan', 'nan', 'nan', 'nan', 'nan', 'nan', 'nan', 'nan', 'nan', 'nan', 'nan', 'nan', 'nan', 'nan', 'nan', 'nan', 'nan', 'nan']\n",
      "['turkey', 'avocado', 'nan', 'nan', 'nan', 'nan', 'nan', 'nan', 'nan', 'nan', 'nan', 'nan', 'nan', 'nan', 'nan', 'nan', 'nan', 'nan', 'nan', 'nan']\n",
      "['mineral water', 'milk', 'energy bar', 'whole wheat rice', 'green tea', 'nan', 'nan', 'nan', 'nan', 'nan', 'nan', 'nan', 'nan', 'nan', 'nan', 'nan', 'nan', 'nan', 'nan', 'nan']\n",
      "['low fat yogurt', 'nan', 'nan', 'nan', 'nan', 'nan', 'nan', 'nan', 'nan', 'nan', 'nan', 'nan', 'nan', 'nan', 'nan', 'nan', 'nan', 'nan', 'nan', 'nan']\n",
      "['whole wheat pasta', 'french fries', 'nan', 'nan', 'nan', 'nan', 'nan', 'nan', 'nan', 'nan', 'nan', 'nan', 'nan', 'nan', 'nan', 'nan', 'nan', 'nan', 'nan', 'nan']\n",
      "['soup', 'light cream', 'shallot', 'nan', 'nan', 'nan', 'nan', 'nan', 'nan', 'nan', 'nan', 'nan', 'nan', 'nan', 'nan', 'nan', 'nan', 'nan', 'nan', 'nan']\n",
      "['frozen vegetables', 'spaghetti', 'green tea', 'nan', 'nan', 'nan', 'nan', 'nan', 'nan', 'nan', 'nan', 'nan', 'nan', 'nan', 'nan', 'nan', 'nan', 'nan', 'nan', 'nan']\n",
      "['french fries', 'nan', 'nan', 'nan', 'nan', 'nan', 'nan', 'nan', 'nan', 'nan', 'nan', 'nan', 'nan', 'nan', 'nan', 'nan', 'nan', 'nan', 'nan', 'nan']\n"
     ]
    }
   ],
   "execution_count": 12
  },
  {
   "cell_type": "markdown",
   "metadata": {
    "id": "1wYZdBd5sea_",
    "colab_type": "text"
   },
   "source": "## Train Apriori Model on Dataset"
  },
  {
   "metadata": {},
   "cell_type": "markdown",
   "source": [
    "* `apriori` function from Apyori library, not only trains the model, it also returns the association rules\n",
    "    * `transactions` parameter\n",
    "        * Expects a list of transactions\n",
    "    * `min_support` parameter\n",
    "        * Sets the minimum support value\n",
    "        * This value is determined by the business case\n",
    "        * For the market products business case, one decides the products must appear in $3$ transactions per day\n",
    "            * Products that only appear in 1-2 transactions per day are not considered to be frequent enough to build strong rules for the business case\n",
    "            * Since the business case considers transactions per week, one needs to calculate $3\\ transactions * 7\\ days$ to get $21$\n",
    "            * Total number of transactions is $7501$\n",
    "            * Support formula is:\n",
    "\n",
    "                $Support(T) = \\frac{\\#\\_transactions\\_containing\\_T}{\\#\\_transactions}$\n",
    "\n",
    "                $T = transaction$\n",
    "\n",
    "                $Support(T) = \\frac{21}{7501} = 0.003$\n",
    "            * This means the first product will appear in rules at least $0.3\\%$ of the time\n",
    "    * `min_confidence` parameter\n",
    "        * Sets the minimum confidence value\n",
    "        * Use rule of thumb\n",
    "            * Start with $0.8$, which is a default confidence value for a similar association rule learning function in R\n",
    "            * If no rules returned, divide by 2 to get $0.4$\n",
    "            * If no rules returned, divide by 2 to get $0.2$\n",
    "        * This means first and second products will appear in rules at least $20\\%$ of the time\n",
    "    * `min_lift` parameter\n",
    "        * Sets the minimum lift value\n",
    "        * Lift measures quality or relevance of a rule\n",
    "        * Use rule of thumb\n",
    "            * Start with $3$\n",
    "            * Increase by values of $3$ as needed\n",
    "            * Any value below $3$ makes rules not relevant\n",
    "    * `min_length` parameter\n",
    "        * Sets minimum length of items in a transaction\n",
    "        * This value is determined by the business case\n",
    "        * For market business case, this will be $2$\n",
    "    * `max_length` parameter\n",
    "        * Sets maximum length of items in a transaction\n",
    "        * This value is determined by the business case\n",
    "        * For market business case, this will be $2$"
   ]
  },
  {
   "cell_type": "code",
   "metadata": {
    "id": "YzIk4vXZsj5i",
    "colab_type": "code",
    "colab": {},
    "ExecuteTime": {
     "end_time": "2025-04-16T23:03:40.287823Z",
     "start_time": "2025-04-16T23:03:40.284769Z"
    }
   },
   "source": [
    "from apyori import apriori\n",
    "\n",
    "rules = apriori(transactions=transactions, min_support=0.003, min_confidence=0.2, min_lift=3, min_length=2,\n",
    "                max_length=2)"
   ],
   "outputs": [],
   "execution_count": 5
  },
  {
   "cell_type": "markdown",
   "metadata": {
    "id": "b176YNwWspiO",
    "colab_type": "text"
   },
   "source": "## Visualize Results"
  },
  {
   "metadata": {},
   "cell_type": "markdown",
   "source": [
    "### Put Rules Results into List\n",
    "\n",
    "* Put rules results into a list for display purposes via the `list` function"
   ]
  },
  {
   "cell_type": "code",
   "metadata": {
    "id": "kvF-sLc6ifhd",
    "colab_type": "code",
    "colab": {},
    "ExecuteTime": {
     "end_time": "2025-04-16T23:03:40.388583Z",
     "start_time": "2025-04-16T23:03:40.323168Z"
    }
   },
   "source": "results = list(rules)",
   "outputs": [],
   "execution_count": 6
  },
  {
   "metadata": {
    "id": "iO6bF_dImT-E",
    "colab_type": "text"
   },
   "cell_type": "markdown",
   "source": "### Display First Results Coming Directly from Output of Apriori Function"
  },
  {
   "metadata": {
    "ExecuteTime": {
     "end_time": "2025-04-16T23:03:40.397442Z",
     "start_time": "2025-04-16T23:03:40.393343Z"
    }
   },
   "cell_type": "code",
   "source": "results",
   "outputs": [
    {
     "data": {
      "text/plain": [
       "[RelationRecord(items=frozenset({'light cream', 'chicken'}), support=0.004532728969470737, ordered_statistics=[OrderedStatistic(items_base=frozenset({'light cream'}), items_add=frozenset({'chicken'}), confidence=0.29059829059829057, lift=4.84395061728395)]),\n",
       " RelationRecord(items=frozenset({'escalope', 'mushroom cream sauce'}), support=0.005732568990801226, ordered_statistics=[OrderedStatistic(items_base=frozenset({'mushroom cream sauce'}), items_add=frozenset({'escalope'}), confidence=0.3006993006993007, lift=3.790832696715049)]),\n",
       " RelationRecord(items=frozenset({'pasta', 'escalope'}), support=0.005865884548726837, ordered_statistics=[OrderedStatistic(items_base=frozenset({'pasta'}), items_add=frozenset({'escalope'}), confidence=0.3728813559322034, lift=4.700811850163794)]),\n",
       " RelationRecord(items=frozenset({'fromage blanc', 'honey'}), support=0.003332888948140248, ordered_statistics=[OrderedStatistic(items_base=frozenset({'fromage blanc'}), items_add=frozenset({'honey'}), confidence=0.2450980392156863, lift=5.164270764485569)]),\n",
       " RelationRecord(items=frozenset({'herb & pepper', 'ground beef'}), support=0.015997866951073192, ordered_statistics=[OrderedStatistic(items_base=frozenset({'herb & pepper'}), items_add=frozenset({'ground beef'}), confidence=0.3234501347708895, lift=3.2919938411349285)]),\n",
       " RelationRecord(items=frozenset({'tomato sauce', 'ground beef'}), support=0.005332622317024397, ordered_statistics=[OrderedStatistic(items_base=frozenset({'tomato sauce'}), items_add=frozenset({'ground beef'}), confidence=0.3773584905660377, lift=3.840659481324083)]),\n",
       " RelationRecord(items=frozenset({'olive oil', 'light cream'}), support=0.003199573390214638, ordered_statistics=[OrderedStatistic(items_base=frozenset({'light cream'}), items_add=frozenset({'olive oil'}), confidence=0.20512820512820515, lift=3.1147098515519573)]),\n",
       " RelationRecord(items=frozenset({'olive oil', 'whole wheat pasta'}), support=0.007998933475536596, ordered_statistics=[OrderedStatistic(items_base=frozenset({'whole wheat pasta'}), items_add=frozenset({'olive oil'}), confidence=0.2714932126696833, lift=4.122410097642296)]),\n",
       " RelationRecord(items=frozenset({'pasta', 'shrimp'}), support=0.005065991201173177, ordered_statistics=[OrderedStatistic(items_base=frozenset({'pasta'}), items_add=frozenset({'shrimp'}), confidence=0.3220338983050847, lift=4.506672147735896)])]"
      ]
     },
     "execution_count": 7,
     "metadata": {},
     "output_type": "execute_result"
    }
   ],
   "execution_count": 7
  },
  {
   "metadata": {},
   "cell_type": "markdown",
   "source": [
    "### Rules Results Analysis\n",
    "\n",
    "In rules results output, analyzing the first rule yields the following:\n",
    "\n",
    "* The first product is **light cream**, denoted by `items_base=frozenset({'light cream'})`\n",
    "* The second product is **chicken**, denoted by `items_add=frozenset({'chicken'})`\n",
    "* The rule is: *If a customer buys light cream, the customer also has a high chance to buy chicken*\n",
    "* High chance is measured by confidence `confidence=0.29`\n",
    "* This means if customers buy light cream, they will have a $29\\%$ chance of buying chicken\n",
    "* Lift is `lift=4.84`, meaning this rule's relevance is $4.84$ and all lift values for rules will be greater than $3$\n",
    "* Support is `support=0.0045`, meaning this product association will appear in $0.45\\%$ of transactions"
   ]
  },
  {
   "metadata": {},
   "cell_type": "markdown",
   "source": [
    "### Custom Function for Organizing Rules into Data Frame\n",
    "\n",
    "* `inspect` is a custom function that returns the rules organized into a Pandas data frame\n",
    "* Since it is a data frame, one can sort the rules by a descending column\n",
    "* `lhs` parameter\n",
    "    * Gets the value for left-hand side of a rule\n",
    "* `rhs` parameter\n",
    "    * Gets the value for right-hand side of a rule\n",
    "* `supports` parameter\n",
    "    * Gets the value for support of a rule\n",
    "* `confidences` parameter\n",
    "    * Gets the value for confidence of a rule\n",
    "* `lifts` parameter\n",
    "    * Gets the value for lift of a rule\n",
    "* Returns all values from parameters above as a list"
   ]
  },
  {
   "metadata": {
    "id": "eAD8Co4_l9IE",
    "colab_type": "code",
    "outputId": "d8523472-b36f-4020-c6fc-01ee3a0d8a86",
    "executionInfo": {
     "status": "ok",
     "timestamp": 1589289766173,
     "user_tz": -240,
     "elapsed": 14064,
     "user": {
      "displayName": "Hadelin de Ponteves",
      "photoUrl": "https://lh3.googleusercontent.com/a-/AOh14GhEuXdT7eQweUmRPW8_laJuPggSK6hfvpl5a6WBaA=s64",
      "userId": "15047218817161520419"
     }
    },
    "colab": {
     "base_uri": "https://localhost:8080/",
     "height": 191
    },
    "ExecuteTime": {
     "end_time": "2025-04-16T23:03:40.409164Z",
     "start_time": "2025-04-16T23:03:40.406342Z"
    }
   },
   "cell_type": "code",
   "source": [
    "def inspect(results):\n",
    "    lhs = [tuple(result[2][0][0])[0] for result in results]\n",
    "    rhs = [tuple(result[2][0][1])[0] for result in results]\n",
    "    supports = [result[1] for result in results]\n",
    "    confidences = [result[2][0][2] for result in results]\n",
    "    lifts = [result[2][0][3] for result in results]\n",
    "    return list(zip(lhs, rhs, supports, confidences, lifts))"
   ],
   "outputs": [],
   "execution_count": 8
  },
  {
   "metadata": {},
   "cell_type": "markdown",
   "source": "## Put Results into Well Organized Pandas Data Frame"
  },
  {
   "metadata": {},
   "cell_type": "markdown",
   "source": "* Creates a Pandas data frame the output of the `inspect` function with the column names specified"
  },
  {
   "metadata": {
    "ExecuteTime": {
     "end_time": "2025-04-16T23:03:40.428271Z",
     "start_time": "2025-04-16T23:03:40.425930Z"
    }
   },
   "cell_type": "code",
   "source": [
    "results_data_frame = pd.DataFrame(inspect(results),\n",
    "                                  columns=['Left Hand Side', 'Right Hand Side', 'Support', 'Confidence', 'Lift'])"
   ],
   "outputs": [],
   "execution_count": 9
  },
  {
   "cell_type": "markdown",
   "metadata": {
    "id": "Pfn-G1eAjjLz",
    "colab_type": "text"
   },
   "source": "### Display Results Unsorted"
  },
  {
   "metadata": {
    "id": "gyq7Poi0mMUe",
    "colab_type": "code",
    "colab": {},
    "ExecuteTime": {
     "end_time": "2025-04-16T23:03:40.443148Z",
     "start_time": "2025-04-16T23:03:40.435105Z"
    }
   },
   "cell_type": "code",
   "source": "results_data_frame",
   "outputs": [
    {
     "data": {
      "text/plain": [
       "         Left Hand Side Right Hand Side   Support  Confidence      Lift\n",
       "0           light cream         chicken  0.004533    0.290598  4.843951\n",
       "1  mushroom cream sauce        escalope  0.005733    0.300699  3.790833\n",
       "2                 pasta        escalope  0.005866    0.372881  4.700812\n",
       "3         fromage blanc           honey  0.003333    0.245098  5.164271\n",
       "4         herb & pepper     ground beef  0.015998    0.323450  3.291994\n",
       "5          tomato sauce     ground beef  0.005333    0.377358  3.840659\n",
       "6           light cream       olive oil  0.003200    0.205128  3.114710\n",
       "7     whole wheat pasta       olive oil  0.007999    0.271493  4.122410\n",
       "8                 pasta          shrimp  0.005066    0.322034  4.506672"
      ],
      "text/html": [
       "<div>\n",
       "<style scoped>\n",
       "    .dataframe tbody tr th:only-of-type {\n",
       "        vertical-align: middle;\n",
       "    }\n",
       "\n",
       "    .dataframe tbody tr th {\n",
       "        vertical-align: top;\n",
       "    }\n",
       "\n",
       "    .dataframe thead th {\n",
       "        text-align: right;\n",
       "    }\n",
       "</style>\n",
       "<table border=\"1\" class=\"dataframe\">\n",
       "  <thead>\n",
       "    <tr style=\"text-align: right;\">\n",
       "      <th></th>\n",
       "      <th>Left Hand Side</th>\n",
       "      <th>Right Hand Side</th>\n",
       "      <th>Support</th>\n",
       "      <th>Confidence</th>\n",
       "      <th>Lift</th>\n",
       "    </tr>\n",
       "  </thead>\n",
       "  <tbody>\n",
       "    <tr>\n",
       "      <th>0</th>\n",
       "      <td>light cream</td>\n",
       "      <td>chicken</td>\n",
       "      <td>0.004533</td>\n",
       "      <td>0.290598</td>\n",
       "      <td>4.843951</td>\n",
       "    </tr>\n",
       "    <tr>\n",
       "      <th>1</th>\n",
       "      <td>mushroom cream sauce</td>\n",
       "      <td>escalope</td>\n",
       "      <td>0.005733</td>\n",
       "      <td>0.300699</td>\n",
       "      <td>3.790833</td>\n",
       "    </tr>\n",
       "    <tr>\n",
       "      <th>2</th>\n",
       "      <td>pasta</td>\n",
       "      <td>escalope</td>\n",
       "      <td>0.005866</td>\n",
       "      <td>0.372881</td>\n",
       "      <td>4.700812</td>\n",
       "    </tr>\n",
       "    <tr>\n",
       "      <th>3</th>\n",
       "      <td>fromage blanc</td>\n",
       "      <td>honey</td>\n",
       "      <td>0.003333</td>\n",
       "      <td>0.245098</td>\n",
       "      <td>5.164271</td>\n",
       "    </tr>\n",
       "    <tr>\n",
       "      <th>4</th>\n",
       "      <td>herb &amp; pepper</td>\n",
       "      <td>ground beef</td>\n",
       "      <td>0.015998</td>\n",
       "      <td>0.323450</td>\n",
       "      <td>3.291994</td>\n",
       "    </tr>\n",
       "    <tr>\n",
       "      <th>5</th>\n",
       "      <td>tomato sauce</td>\n",
       "      <td>ground beef</td>\n",
       "      <td>0.005333</td>\n",
       "      <td>0.377358</td>\n",
       "      <td>3.840659</td>\n",
       "    </tr>\n",
       "    <tr>\n",
       "      <th>6</th>\n",
       "      <td>light cream</td>\n",
       "      <td>olive oil</td>\n",
       "      <td>0.003200</td>\n",
       "      <td>0.205128</td>\n",
       "      <td>3.114710</td>\n",
       "    </tr>\n",
       "    <tr>\n",
       "      <th>7</th>\n",
       "      <td>whole wheat pasta</td>\n",
       "      <td>olive oil</td>\n",
       "      <td>0.007999</td>\n",
       "      <td>0.271493</td>\n",
       "      <td>4.122410</td>\n",
       "    </tr>\n",
       "    <tr>\n",
       "      <th>8</th>\n",
       "      <td>pasta</td>\n",
       "      <td>shrimp</td>\n",
       "      <td>0.005066</td>\n",
       "      <td>0.322034</td>\n",
       "      <td>4.506672</td>\n",
       "    </tr>\n",
       "  </tbody>\n",
       "</table>\n",
       "</div>"
      ]
     },
     "execution_count": 10,
     "metadata": {},
     "output_type": "execute_result"
    }
   ],
   "execution_count": 10
  },
  {
   "cell_type": "markdown",
   "metadata": {
    "id": "IjrrlYW4jpTR",
    "colab_type": "text"
   },
   "source": "### Display Results Sorted by Descending Lifts"
  },
  {
   "metadata": {},
   "cell_type": "markdown",
   "source": "* `nlargest` function sorts column in descending order"
  },
  {
   "cell_type": "code",
   "metadata": {
    "id": "nI7DJXng-nxQ",
    "colab_type": "code",
    "outputId": "aac84e87-eb2a-4428-cf55-1c16d23ea3ed",
    "executionInfo": {
     "status": "ok",
     "timestamp": 1589289766174,
     "user_tz": -240,
     "elapsed": 13166,
     "user": {
      "displayName": "Hadelin de Ponteves",
      "photoUrl": "https://lh3.googleusercontent.com/a-/AOh14GhEuXdT7eQweUmRPW8_laJuPggSK6hfvpl5a6WBaA=s64",
      "userId": "15047218817161520419"
     }
    },
    "colab": {
     "base_uri": "https://localhost:8080/",
     "height": 326
    },
    "ExecuteTime": {
     "end_time": "2025-04-16T23:03:40.494059Z",
     "start_time": "2025-04-16T23:03:40.488308Z"
    }
   },
   "source": "results_data_frame.nlargest(n=10, columns=['Lift'])",
   "outputs": [
    {
     "data": {
      "text/plain": [
       "         Left Hand Side Right Hand Side   Support  Confidence      Lift\n",
       "3         fromage blanc           honey  0.003333    0.245098  5.164271\n",
       "0           light cream         chicken  0.004533    0.290598  4.843951\n",
       "2                 pasta        escalope  0.005866    0.372881  4.700812\n",
       "8                 pasta          shrimp  0.005066    0.322034  4.506672\n",
       "7     whole wheat pasta       olive oil  0.007999    0.271493  4.122410\n",
       "5          tomato sauce     ground beef  0.005333    0.377358  3.840659\n",
       "1  mushroom cream sauce        escalope  0.005733    0.300699  3.790833\n",
       "4         herb & pepper     ground beef  0.015998    0.323450  3.291994\n",
       "6           light cream       olive oil  0.003200    0.205128  3.114710"
      ],
      "text/html": [
       "<div>\n",
       "<style scoped>\n",
       "    .dataframe tbody tr th:only-of-type {\n",
       "        vertical-align: middle;\n",
       "    }\n",
       "\n",
       "    .dataframe tbody tr th {\n",
       "        vertical-align: top;\n",
       "    }\n",
       "\n",
       "    .dataframe thead th {\n",
       "        text-align: right;\n",
       "    }\n",
       "</style>\n",
       "<table border=\"1\" class=\"dataframe\">\n",
       "  <thead>\n",
       "    <tr style=\"text-align: right;\">\n",
       "      <th></th>\n",
       "      <th>Left Hand Side</th>\n",
       "      <th>Right Hand Side</th>\n",
       "      <th>Support</th>\n",
       "      <th>Confidence</th>\n",
       "      <th>Lift</th>\n",
       "    </tr>\n",
       "  </thead>\n",
       "  <tbody>\n",
       "    <tr>\n",
       "      <th>3</th>\n",
       "      <td>fromage blanc</td>\n",
       "      <td>honey</td>\n",
       "      <td>0.003333</td>\n",
       "      <td>0.245098</td>\n",
       "      <td>5.164271</td>\n",
       "    </tr>\n",
       "    <tr>\n",
       "      <th>0</th>\n",
       "      <td>light cream</td>\n",
       "      <td>chicken</td>\n",
       "      <td>0.004533</td>\n",
       "      <td>0.290598</td>\n",
       "      <td>4.843951</td>\n",
       "    </tr>\n",
       "    <tr>\n",
       "      <th>2</th>\n",
       "      <td>pasta</td>\n",
       "      <td>escalope</td>\n",
       "      <td>0.005866</td>\n",
       "      <td>0.372881</td>\n",
       "      <td>4.700812</td>\n",
       "    </tr>\n",
       "    <tr>\n",
       "      <th>8</th>\n",
       "      <td>pasta</td>\n",
       "      <td>shrimp</td>\n",
       "      <td>0.005066</td>\n",
       "      <td>0.322034</td>\n",
       "      <td>4.506672</td>\n",
       "    </tr>\n",
       "    <tr>\n",
       "      <th>7</th>\n",
       "      <td>whole wheat pasta</td>\n",
       "      <td>olive oil</td>\n",
       "      <td>0.007999</td>\n",
       "      <td>0.271493</td>\n",
       "      <td>4.122410</td>\n",
       "    </tr>\n",
       "    <tr>\n",
       "      <th>5</th>\n",
       "      <td>tomato sauce</td>\n",
       "      <td>ground beef</td>\n",
       "      <td>0.005333</td>\n",
       "      <td>0.377358</td>\n",
       "      <td>3.840659</td>\n",
       "    </tr>\n",
       "    <tr>\n",
       "      <th>1</th>\n",
       "      <td>mushroom cream sauce</td>\n",
       "      <td>escalope</td>\n",
       "      <td>0.005733</td>\n",
       "      <td>0.300699</td>\n",
       "      <td>3.790833</td>\n",
       "    </tr>\n",
       "    <tr>\n",
       "      <th>4</th>\n",
       "      <td>herb &amp; pepper</td>\n",
       "      <td>ground beef</td>\n",
       "      <td>0.015998</td>\n",
       "      <td>0.323450</td>\n",
       "      <td>3.291994</td>\n",
       "    </tr>\n",
       "    <tr>\n",
       "      <th>6</th>\n",
       "      <td>light cream</td>\n",
       "      <td>olive oil</td>\n",
       "      <td>0.003200</td>\n",
       "      <td>0.205128</td>\n",
       "      <td>3.114710</td>\n",
       "    </tr>\n",
       "  </tbody>\n",
       "</table>\n",
       "</div>"
      ]
     },
     "execution_count": 11,
     "metadata": {},
     "output_type": "execute_result"
    }
   ],
   "execution_count": 11
  },
  {
   "metadata": {},
   "cell_type": "markdown",
   "source": "## Analyzing Results"
  },
  {
   "metadata": {},
   "cell_type": "markdown",
   "source": [
    "* Rule with first product, **fromage blanc**, and second product, **honey**, is the strongest rule\n",
    "* Business owner of market could offer a sale for customers to buy fromage blanc and get honey for free"
   ]
  }
 ]
}
